{
 "cells": [
  {
   "cell_type": "code",
   "execution_count": 1,
   "id": "b7719c49",
   "metadata": {},
   "outputs": [
    {
     "name": "stderr",
     "output_type": "stream",
     "text": [
      "D:\\ANACONDA\\lib\\site-packages\\pandas\\core\\computation\\expressions.py:21: UserWarning: Pandas requires version '2.8.4' or newer of 'numexpr' (version '2.7.3' currently installed).\n",
      "  from pandas.core.computation.check import NUMEXPR_INSTALLED\n",
      "D:\\ANACONDA\\lib\\site-packages\\pandas\\core\\arrays\\masked.py:60: UserWarning: Pandas requires version '1.3.6' or newer of 'bottleneck' (version '1.3.2' currently installed).\n",
      "  from pandas.core import (\n"
     ]
    }
   ],
   "source": [
    "import pandas as pd\n",
    "adni_training=pd.read_csv(\"D:\\\\Research\\\\AD\\\\ADLLM\\\\ADNI process 9\\\\ADNI\\\\adni_thickness_Dec_17_training.csv\")\n",
    "habs_training=pd.read_csv(\"D:\\\\Research\\\\AD\\\\ADLLM\\\\ADNI process 9\\\\HABS-HD\\\\HABS-HD_thickness_Dec_17_training.csv\")\n",
    "pointer_training=pd.read_csv(\"D:\\\\Research\\\\AD\\\\ADLLM\\\\ADNI process 9\\\\POINTER\\\\pointer_thickess_Dec_18_training.csv\")\n",
    "adni_training=adni_training.fillna('NA')\n",
    "habs_training=habs_training.fillna('NA')\n",
    "pointer_training=pointer_training.fillna('NA')\n",
    "adni_baseline=pd.read_csv(\"D:\\\\Research\\\\AD\\\\ADLLM\\\\ADNI process 8\\\\baseline_covariates.csv\")"
   ]
  },
  {
   "cell_type": "code",
   "execution_count": 2,
   "id": "e21879b1",
   "metadata": {},
   "outputs": [
    {
     "name": "stderr",
     "output_type": "stream",
     "text": [
      "C:\\Users\\25110\\AppData\\Local\\Temp/ipykernel_7648/2352857478.py:23: FutureWarning: Downcasting behavior in `replace` is deprecated and will be removed in a future version. To retain the old behavior, explicitly call `result.infer_objects(copy=False)`. To opt-in to the future behavior, set `pd.set_option('future.no_silent_downcasting', True)`\n",
      "  adni_merged_testing= adni_merged_testing.replace(['Unknown', 'NA'], np.nan)\n"
     ]
    }
   ],
   "source": [
    "#adni_testing=pd.read_csv(\"D:\\\\Research\\\\AD\\\\ADLLM\\\\ADNI process 8\\\\dataset\\\\adni_testing_Sep24.csv\")\n",
    "adni_testing=pd.read_csv(\"D:\\\\Research\\\\AD\\\\ADLLM\\\\ADNI process 9\\\\ADNI\\\\adni_thickness_Dec_17_testing.csv\")\n",
    "adni_testing=adni_testing.fillna('NA')\n",
    "adni_baseline_filtered=adni_baseline[adni_baseline['RID'].isin(adni_testing['RID'])]\n",
    "adni_baseline_final=adni_baseline_filtered.drop(columns=['PTADBEG',\"APOE4_BIN\",\"VISCODE\",\"VISCODE2\",\"VISDATE\"])\n",
    "adni_testing_filtered=adni_testing[adni_testing[\"CENTILOIDS\"]!=\"NA\"]\n",
    "adni_testing_final=adni_testing_filtered.drop(columns=['abeta_SCANDATE',\"tau_SCANDATE\",\"VISCODE2\",\"VISDATE\",\"AMYLOID_STATUS\",\"AMYLOID_STATUS_COMPOSITE_REF\",\"ctx_entor/subcor\",\"meta/subcor\",\"Rate_of_Change\",\"CTX_ENTORHINAL_SUVR\",\"ERODED_SUBCORTICALWM_SUVR\",\"abeta_Age\",\"tau_Age\",\"Rate_of_Change_meta\",\"Rate_of_Change_ctx\",\"Visit time tau\",\"Rate_of_Change\",\"Visit time mmse\",\"Initial tau status meta\",\"Initial tau status ctx\",\"low_meta\",\"intermediate_meta\",\"high_meta\",\"very_high_meta\",\"low_ctx\",\"intermediate_ctx\",\"high_ctx\",\"very_high_ctx\",\"back_VISDATE\", \n",
    "                                         \"DX_EXAMDATE\",\"GDS_VISDATE\",\"Neuro_VISDATE\",\"NPIQ_VISDATE\",\"VS_VISDATE\",\"EXAMDATE\",\"AGE_BL\",\"PTGENDER\",\"PTEDUCAT\",\"PTETHCAT\",\"PTRACCAT\",\"PTMARRY\",\"APOE4\",\"DX\", 'META_TEMPORAL_SUVR','Rate_of_abeta_Change','Visit time mmse',\"APOE4\",\"DX\",\"SUBJECT\",\"SCANDATE\",\"zscore_abeta\",\"zscore_ptau\",\"zscore_total_tau\", \"zscore_meta_tau\",\"zscore_ctx_tau\",\"zscore_blood_abeta\",\"zscore_blood_tau\",\"zscore_blood_ptau\",\"Rate_of_Change_mPACCdigit_new\",\"Visit time mPACCdigit\",\"Rate_of_Change_MMSCORE_new\"\n",
    "])\n",
    "adni_merged_testing = pd.merge(adni_testing_final, adni_baseline_final, on='RID', how='left')\n",
    "diagnosis_map = {\n",
    "    'CN': 'Cognitive normal',\n",
    "    'MCI': 'Mildly cognitive impairment',\n",
    "    'Unknown Diagnosis': 'NA',\n",
    "    'Midly cognitive impairment': 'Mildly cognitive impairment',\n",
    "}\n",
    "adni_merged_testing['DIAGNOSIS'] = adni_merged_testing['DIAGNOSIS'].replace(diagnosis_map)\n",
    "adni_merged_testing['ABETA40'] = pd.to_numeric(adni_merged_testing['ABETA40'], errors='coerce')\n",
    "adni_merged_testing['ABETA42'] = pd.to_numeric(adni_merged_testing['ABETA42'], errors='coerce')\n",
    "adni_merged_testing['TAU'] = pd.to_numeric(adni_merged_testing['TAU'], errors='coerce')\n",
    "adni_merged_testing['PTAU'] = pd.to_numeric(adni_merged_testing['PTAU'], errors='coerce')\n",
    "import numpy as np\n",
    "adni_merged_testing= adni_merged_testing.replace(['Unknown', 'NA'], np.nan)\n"
   ]
  },
  {
   "cell_type": "code",
   "execution_count": 3,
   "id": "2e2650d7",
   "metadata": {},
   "outputs": [],
   "source": [
    "adni_training_filtered=adni_training[adni_training[\"CENTILOIDS\"]!=\"NA\"]"
   ]
  },
  {
   "cell_type": "code",
   "execution_count": 4,
   "id": "998d69e3",
   "metadata": {},
   "outputs": [],
   "source": [
    "adni_training_final=adni_training_filtered.drop(columns=['abeta_SCANDATE',\"tau_SCANDATE\",\"VISCODE\",\"VISCODE2\",\"VISDATE\",\"AMYLOID_STATUS\",\"AMYLOID_STATUS_COMPOSITE_REF\",\"ctx_entor/subcor\",\"meta/subcor\",\"Rate_of_Change\",\"CTX_ENTORHINAL_SUVR\",\"ERODED_SUBCORTICALWM_SUVR\",\"abeta_Age\",\"tau_Age\",\"Rate_of_Change_meta\",\"Rate_of_Change_ctx\",\"Visit time tau\",\"Rate_of_Change\",\"Visit time mmse\",\"Initial tau status meta\",\"Initial tau status ctx\",\"low_meta\",\"intermediate_meta\",\"high_meta\",\"very_high_meta\",\"low_ctx\",\"intermediate_ctx\",\"high_ctx\",\"very_high_ctx\",\"back_VISDATE\", \n",
    "                                         \"DX_EXAMDATE\",\"GDS_VISDATE\",\"Neuro_VISDATE\",\"NPIQ_VISDATE\",\"VS_VISDATE\",\"EXAMDATE\",\"AGE_BL\",\"PTGENDER\",\"PTEDUCAT\",\"PTETHCAT\",\"PTRACCAT\",\"PTMARRY\",\"APOE4\",\"DX\", 'META_TEMPORAL_SUVR','Rate_of_abeta_Change','Visit time mmse',\"APOE4\",\"DX\",\"SUBJECT\",\"SCANDATE\",\"zscore_abeta\",\"zscore_ptau\",\"zscore_total_tau\", \"zscore_meta_tau\",\"zscore_ctx_tau\",\"zscore_blood_abeta\",\"zscore_blood_tau\",\"zscore_blood_ptau\",\"Rate_of_Change_mPACCdigit_new\",\"Visit time mPACCdigit\",\"Rate_of_Change_MMSCORE_new\"\n",
    "])"
   ]
  },
  {
   "cell_type": "code",
   "execution_count": 5,
   "id": "0d54c0d1",
   "metadata": {},
   "outputs": [],
   "source": [
    "adni_baseline_filtered=adni_baseline[adni_baseline['RID'].isin(adni_training['RID'])]\n",
    "adni_baseline_final=adni_baseline_filtered.drop(columns=['PTADBEG',\"APOE4_BIN\",\"VISCODE\",\"VISCODE2\",\"VISDATE\"])\n",
    "adni_merged_df = pd.merge(adni_training_final, adni_baseline_final, on='RID', how='left')\n",
    "diagnosis_map = {\n",
    "    'CN': 'Cognitive normal',\n",
    "    'MCI': 'Mildly cognitive impairment',\n",
    "    'Unknown Diagnosis': 'NA',\n",
    "    'Midly cognitive impairment': 'Mildly cognitive impairment',\n",
    "}\n",
    "adni_merged_df['DIAGNOSIS'] = adni_merged_df['DIAGNOSIS'].replace(diagnosis_map)\n",
    "adni_merged_df['ABETA40'] = pd.to_numeric(adni_merged_df['ABETA40'], errors='coerce')\n",
    "adni_merged_df['TAU'] = pd.to_numeric(adni_merged_df['TAU'], errors='coerce')\n",
    "adni_merged_df['PTAU'] = pd.to_numeric(adni_merged_df['PTAU'], errors='coerce')\n",
    "adni_merged_df['ABETA42'] = pd.to_numeric(adni_merged_df['ABETA42'], errors='coerce')"
   ]
  },
  {
   "cell_type": "code",
   "execution_count": 6,
   "id": "a8ceb696",
   "metadata": {},
   "outputs": [
    {
     "name": "stderr",
     "output_type": "stream",
     "text": [
      "C:\\Users\\25110\\AppData\\Local\\Temp/ipykernel_7648/254203607.py:2: FutureWarning: Downcasting behavior in `replace` is deprecated and will be removed in a future version. To retain the old behavior, explicitly call `result.infer_objects(copy=False)`. To opt-in to the future behavior, set `pd.set_option('future.no_silent_downcasting', True)`\n",
      "  adni_merged_df= adni_merged_df.replace(['Unknown', 'NA'], np.nan)\n"
     ]
    }
   ],
   "source": [
    "import numpy as np\n",
    "adni_merged_df= adni_merged_df.replace(['Unknown', 'NA'], np.nan)"
   ]
  },
  {
   "cell_type": "code",
   "execution_count": 8,
   "id": "3a49a780",
   "metadata": {},
   "outputs": [],
   "source": [
    "adni_merged_df.to_csv(\"D:\\\\Research\\\\AD\\\\ADLLM\\\\ADNI process 9\\\\ADNI\\\\GB\\\\adni_merge_training.csv\",index=False)\n",
    "adni_merged_testing.to_csv(\"D:\\\\Research\\\\AD\\\\ADLLM\\\\ADNI process 9\\\\ADNI\\\\GB\\\\adni_merge_testing.csv\",index=False)"
   ]
  },
  {
   "cell_type": "code",
   "execution_count": 7,
   "id": "4bddc921",
   "metadata": {},
   "outputs": [
    {
     "name": "stderr",
     "output_type": "stream",
     "text": [
      "C:\\Users\\25110\\AppData\\Local\\Temp/ipykernel_7648/3025997625.py:3: FutureWarning: Downcasting behavior in `replace` is deprecated and will be removed in a future version. To retain the old behavior, explicitly call `result.infer_objects(copy=False)`. To opt-in to the future behavior, set `pd.set_option('future.no_silent_downcasting', True)`\n",
      "  habs_training.replace(\"NA\", np.nan, inplace=True)\n"
     ]
    }
   ],
   "source": [
    "import numpy as np\n",
    "habs_training=habs_training[habs_training[\"nearest_ab_centiloid\"]!=\"NA\"]\n",
    "habs_training.replace(\"NA\", np.nan, inplace=True)"
   ]
  },
  {
   "cell_type": "code",
   "execution_count": 8,
   "id": "69ccc222",
   "metadata": {},
   "outputs": [
    {
     "name": "stderr",
     "output_type": "stream",
     "text": [
      "C:\\Users\\25110\\AppData\\Local\\Temp/ipykernel_7648/3518647600.py:7: FutureWarning: Downcasting behavior in `replace` is deprecated and will be removed in a future version. To retain the old behavior, explicitly call `result.infer_objects(copy=False)`. To opt-in to the future behavior, set `pd.set_option('future.no_silent_downcasting', True)`\n",
      "  habs_df = habs_df.replace(['Unknown', 'NA'], np.nan)\n"
     ]
    }
   ],
   "source": [
    "drop_group_habs=[\"Visit_ID\", \"SUBJECT\",\"SCANDATE\",\"APOE4\",\"APOE2_carrier\",\"ID_Gender\",\"ID_MaritalStatus\",\"Race\",\"ID_Hispanic\",\"ID_Education_HighSchool\",\"ID_Education_Degree\",\"ID_Retire\",\"IMH_Alzheimers\",\"IMH_AlzheimersAge\",\"zscore_abeta\",\"zscore_tau\",\"zscore_total_tau\",\"SUBJECT\",\"TRACER\",\"SCANDATE\",\"MRIDATE\",\"age_at_scan\",\"META_TEMPORAL_SUVR\",\"MMSE_closest_ab\",\"MMSE\",\"MMSE_closest_tau\",\"DX_closest_ab\",\"DX_closest_tau\",\"BRAAK1_SUVR\",\"ABETA\",\"zscore_meta_tau\",\"zscore_ctx_tau\",\"zscore_blood_abeta\",\"zscore_blood_tau\",\"zscore_blood_ptau\",\"01_BrainSegNotVent\",\"zscore_LM2_A_Total_only_cog\",\"zscore_SEVLT_DR_Total_only_cog\",\"zscore_Digit_Symbol_Substitution_only_cog\",\"zscore_MMSE_Total_only_cog\",\"Rate_of_Change_PACC\",\"Visit time PACC\",\"Rate_of_Change_mmse\",\"Visit time mmse\",\"01_BrainSegNotVent\"]\n",
    "habs_baseline=pd.read_csv(\"D:\\\\Research\\\\AD\\\\ADLLM\\\\ADNI process 8\\\\baseline_covariates_habs_smoking.csv\")\n",
    "habs_baseline_filtered=habs_baseline[habs_baseline['Med_ID'].isin(habs_training['Med_ID'])]\n",
    "habs_baseline_final=habs_baseline_filtered.drop(columns=['ID_Education_HighSchool','ID_Education_Degree',\"Smoke_Currently\",\"Smoke_Ever\"])\n",
    "habs_training_final=habs_training.drop(columns=drop_group_habs)\n",
    "habs_df = pd.merge(habs_training_final, habs_baseline_final, on='Med_ID', how='left')\n",
    "habs_df = habs_df.replace(['Unknown', 'NA'], np.nan)\n"
   ]
  },
  {
   "cell_type": "code",
   "execution_count": 9,
   "id": "9d5ce666",
   "metadata": {},
   "outputs": [
    {
     "name": "stderr",
     "output_type": "stream",
     "text": [
      "C:\\Users\\25110\\AppData\\Local\\Temp/ipykernel_7648/2184740459.py:6: FutureWarning: Downcasting behavior in `replace` is deprecated and will be removed in a future version. To retain the old behavior, explicitly call `result.infer_objects(copy=False)`. To opt-in to the future behavior, set `pd.set_option('future.no_silent_downcasting', True)`\n",
      "  habs_testing.replace(\"NA\", np.nan, inplace=True)\n",
      "C:\\Users\\25110\\AppData\\Local\\Temp/ipykernel_7648/2184740459.py:15: FutureWarning: Downcasting behavior in `replace` is deprecated and will be removed in a future version. To retain the old behavior, explicitly call `result.infer_objects(copy=False)`. To opt-in to the future behavior, set `pd.set_option('future.no_silent_downcasting', True)`\n",
      "  habs_testing_df = habs_testing_df.replace(['Unknown', 'NA'], np.nan)\n"
     ]
    }
   ],
   "source": [
    "import numpy as np\n",
    "#habs_testing=pd.read_csv(\"D:\\\\Research\\\\AD\\\\ADLLM\\\\ADNI process 8\\\\dataset\\\\habs_testing_Sep24.csv\")\n",
    "habs_testing=pd.read_csv(\"D:\\\\Research\\\\AD\\\\ADLLM\\\\ADNI process 9\\\\HABS-HD\\\\HABS-HD_thickness_Dec_17_testing.csv\")\n",
    "habs_testing=habs_testing.fillna('NA')\n",
    "habs_testing=habs_testing[habs_testing[\"nearest_ab_centiloid\"]!=\"NA\"]\n",
    "habs_testing.replace(\"NA\", np.nan, inplace=True)\n",
    "\n",
    "\n",
    "\n",
    "habs_baseline=pd.read_csv(\"D:\\\\Research\\\\AD\\\\ADLLM\\\\ADNI process 8\\\\baseline_covariates_habs_smoking.csv\")\n",
    "habs_baseline_filtered=habs_baseline[habs_baseline['Med_ID'].isin(habs_testing['Med_ID'])]\n",
    "habs_baseline_final=habs_baseline_filtered.drop(columns=['ID_Education_HighSchool','ID_Education_Degree',\"Smoke_Currently\",\"Smoke_Ever\"])\n",
    "habs_testing_final=habs_testing.drop(columns=drop_group_habs)\n",
    "habs_testing_df = pd.merge(habs_testing_final, habs_baseline_final, on='Med_ID', how='left')\n",
    "habs_testing_df = habs_testing_df.replace(['Unknown', 'NA'], np.nan)"
   ]
  },
  {
   "cell_type": "code",
   "execution_count": 12,
   "id": "ef025226",
   "metadata": {},
   "outputs": [],
   "source": [
    "habs_df.to_csv(\"D:\\\\Research\\\\AD\\\\ADLLM\\\\ADNI process 9\\\\HABS-HD\\\\GB\\\\habs_merge_training.csv\",index=False)\n",
    "habs_testing_df.to_csv(\"D:\\\\Research\\\\AD\\\\ADLLM\\\\ADNI process 9\\\\HABS-HD\\\\GB\\\\habs_merge_testing.csv\",index=False)"
   ]
  },
  {
   "cell_type": "code",
   "execution_count": 10,
   "id": "4f24a576",
   "metadata": {},
   "outputs": [],
   "source": [
    "drop_group_pointer=[\"Visit_ID\",\"zscore_meta_tau\",\"zscore_ctx_tau\",\"MK6240_META_TEMPORAL_SUVR_1\",\"MK6240_CTX_ENTORHINAL_SUVR_1\",\"highbp130\",\"bp_lowering_med\",\"meds_for_diabetes\",\"TICS_unadj\",\"UCB_FRS\",\"FHS_risk_s\",\"g_cdr\",\"DCTClassification\"]"
   ]
  },
  {
   "cell_type": "code",
   "execution_count": 11,
   "id": "e9da8295",
   "metadata": {},
   "outputs": [
    {
     "name": "stderr",
     "output_type": "stream",
     "text": [
      "C:\\Users\\25110\\AppData\\Local\\Temp/ipykernel_7648/901240905.py:2: FutureWarning: Downcasting behavior in `replace` is deprecated and will be removed in a future version. To retain the old behavior, explicitly call `result.infer_objects(copy=False)`. To opt-in to the future behavior, set `pd.set_option('future.no_silent_downcasting', True)`\n",
      "  pointer_training.replace(\"NA\", np.nan, inplace=True)\n"
     ]
    }
   ],
   "source": [
    "pointer_training=pointer_training[pointer_training[\"FBB_CENTILOIDS_1\"]!=\"NA\"]\n",
    "pointer_training.replace(\"NA\", np.nan, inplace=True)\n",
    "\n",
    "pointer_training = pointer_training.replace(['Unknown', 'NA'], np.nan)\n",
    "pointer_training=pointer_training.drop(columns=drop_group_pointer)"
   ]
  },
  {
   "cell_type": "code",
   "execution_count": 15,
   "id": "158fcbd8",
   "metadata": {},
   "outputs": [],
   "source": [
    "pointer_training.to_csv(\"D:\\\\Research\\\\AD\\\\ADLLM\\\\ADNI process 9\\\\POINTER\\\\GB\\\\pointer_merge_training.csv\",index=False)"
   ]
  },
  {
   "cell_type": "code",
   "execution_count": 12,
   "id": "ffd73d3d",
   "metadata": {},
   "outputs": [],
   "source": [
    "pointer_testing=pd.read_csv(\"D:\\\\Research\\\\AD\\\\ADLLM\\\\ADNI process 9\\\\POINTER\\\\pointer_thickess_Dec_18_testing.csv\")\n",
    "pointer_testing=pointer_testing[pointer_testing[\"FBB_CENTILOIDS_1\"]!=\"NA\"]\n",
    "pointer_testing.replace(\"NA\", np.nan, inplace=True)\n",
    "pointer_testing = pointer_testing.replace(['Unknown', 'NA'], np.nan)\n",
    "pointer_testing=pointer_testing.drop(columns=drop_group_pointer)\n",
    "pointer_testing.to_csv(\"D:\\\\Research\\\\AD\\\\ADLLM\\\\ADNI process 9\\\\POINTER\\\\GB\\\\pointer_merge_testing.csv\",index=False)"
   ]
  },
  {
   "cell_type": "code",
   "execution_count": 13,
   "id": "ef4f62b7",
   "metadata": {},
   "outputs": [],
   "source": [
    "rename_name_adni = {\n",
    "                \"PTGENDER\":\"Gender\",\n",
    "                \"PTEDUCAT\":\"Education\",\n",
    "                \"PTETHCAT\":\"Ethnicity\",\n",
    "                \"PTRACCAT\":\"Race\",\n",
    "                \"PTMARRY\":\"Marrital status\",\n",
    "                \"PTHAND\":\"Hand\",\n",
    "                \"PTNOTRT\":\"Retired\",     \n",
    "                \"PTDOBYY\":\"Date of birth year\",\n",
    "                \"AGE_AD_ON_SET\":\"Age of AD on set\",\n",
    "                \"APOE2_BIN\":\"APOE2\",\n",
    "                \"APOE4_NUM\":\"APOE4\",\n",
    "                \"Age\":\"Age\",\n",
    "                \"Transformed_KEYMED\":\"Medication\",\n",
    "                'MMSCORE': 'Mini-Mental State Examination score',\n",
    "                'GDTOTAL': 'Geriatric Depression Scale',\n",
    "                'COPYSCOR': 'Clock Drawing Test score',\n",
    "                'NPISCORE': 'Neuropsychiatric Inventory Total Score',\n",
    "                'VSWEIGHT': 'Weight (in kg)',\n",
    "                'VSHEIGHT': 'Height (in cm)',\n",
    "                'VSBPSYS': 'Systolic blood pressure (mmHg)',\n",
    "                'VSBPDIA': 'Diastolic blood pressure (mmHg)',\n",
    "                'VSPULSE': 'Seated Pulse Rate (per minute)',\n",
    "                'VSRESP': 'Respirations (per minute)',\n",
    "                'VSTEMP': 'Temperature (in Celsius)',\n",
    "                \"ANARTERR\": \"American National Adult Reading Test Total Errors\",\n",
    "                \"NPISCORE\":\"Neuropsychiatric Inventory Total Score\",\n",
    "                'FDG': 'average FDG-PET of angular, temporal, and posterior cingulate',\n",
    "                \"ABETA40\":\"Amyloid beta 40 in Cerebrospinal Fluid (pg/mL)\", \n",
    "                \"ABETA42\":\"Amyloid beta 42 in Cerebrospinal Fluid (pg/mL)\", \n",
    "                \"PTAU\": \"Phosphorylated tau protein in Cerebrospinal Fluid (pg/mL)\",\n",
    "                \"TAU\": \"Tau protein concentration in Cerebrospinal Fluid (pg/mL)\",\n",
    "                'CDRSB': 'Clinical Dementia Rating Scale Sum of Boxes Scores',\n",
    "                'ADAS11': \"Alzheimer's Disease Assessment Scale (11 items)\",\n",
    "                'ADAS13': \"Alzheimer's Disease Assessment Scale (13 items)\",\n",
    "                'ADASQ4': 'Question 4 score in the 11-item test',\n",
    "                \"RAVLT_immediate\": \"Rey Auditory Verbal Learning Test (Immediate)\",\n",
    "                \"RAVLT_learning\": \"Rey Auditory Verbal Learning Test (Learning)\",\n",
    "                \"RAVLT_forgetting\": \"Rey Auditory Verbal Learning Test (Forgetting)\",\n",
    "                \"RAVLT_perc_forgetting\": \"Rey Auditory Verbal Learning Test (Percent forgetting)\",\n",
    "                \"LDELTOTAL\": \"Delayed Total Recall test\",\n",
    "                \"DIGITSCOR\": \"Digit Substitution test\",\n",
    "                \"TRABSCOR\": \"Trail Making Test Part B Time\",\n",
    "                \"FAQ\":\"Functional Assessment Questionnaire\",\n",
    "                \"MOCA\":\"Montreal Cognitive Assessment\",\n",
    "                \"mPACCdigit\":\"PACC score\",\n",
    "                \"EcogSPMem\":\"Everyday Cognition test (self-reported Memory)\",\n",
    "                \"EcogSPLang\":\"Everyday Cognition test (self-reported Language)\",\n",
    "                \"EcogSPVisspat\":\"Everyday Cognition test (self-reported Visuospatial Abilities)\",\n",
    "                \"EcogSPPlan\":\"Everyday Cognition test (self-reported Planning)\",\n",
    "                \"EcogSPOrgan\":\"Everyday Cognition test (self-reported Organization)\",\n",
    "                \"EcogSPDivatt\":\"Everyday Cognition test (self-reported Divided attention)\",\n",
    "                \"EcogSPTotal\":\"Everyday Cognition test (self-reported Total scores)\",\n",
    "                \"EcogPtMem\":\"Everyday Cognition test (partner-reported Memory)\",\n",
    "                \"EcogPtLang\":\"Everyday Cognition test (partner-reported Language)\",\n",
    "                \"EcogPtVisspat\":\"Everyday Cognition test (partner-reported Visuospatial Abilities)\",\n",
    "                \"EcogPtPlan\":\"Everyday Cognition test (partner-reported Planning)\",\n",
    "                \"EcogPtOrgan\":\"Everyday Cognition test (partner-reported Organization)\",\n",
    "                \"EcogPtDivatt\":\"Everyday Cognition test (partner-reported Divided attention)\",\n",
    "                \"EcogPtTotal\":\"Everyday Cognition test (partner-reported Total scores)\",\n",
    "                \"DIAGNOSIS\":\"Diagnosis\",\n",
    "                \"DXDEP\": \"Diagnosis of Depression\",\n",
    "                \"DXPARK\":\"Diagnosis of Parkinson's disease\",\n",
    "                \"vol_Left_Hippocampus\":\"Left_Hippocampus\",\n",
    "                \"vol_Right_Hippocampus\":\"Right_Hippocampus\",\n",
    "             \"vol_Left_Lateral_Ventricle\":\"Left_Lateral_Ventricle\",\n",
    "            \"vol_Right_Lateral_Ventricle\":\"Right_Lateral_Ventricle\",\n",
    "           \"Left_meta\":\"Left_meta\",\n",
    "                \"ICV\":\"Total intracranial\",\n",
    "    \"Thck_L_entorhinal\": \"Left_Entorhinal\",\n",
    "    \"Thck_R_entorhinal\":\"Right_Entorhinal\",\n",
    "    \"Thck_L_fusiform\": \"Left_Fusiform\",\n",
    "    \"Thck_R_fusiform\": \"Right_Fusiform\",\n",
    "    \"Thck_L_inferiorparietal\": \"Left Inferior Parietal\",\n",
    "    \"Thck_R_inferiorparietal\": \"Right Inferior Parietal\",\n",
    "    \"Thck_L_inferiortemporal\": \"Left Inferior Temporal\",\n",
    "    \"Thck_R_inferiortemporal\": \"Right Inferior Temporal\",\n",
    "    \"Thck_L_middletemporal\": \"Left Middle Temporal\",\n",
    "    \"Thck_R_middletemporal\": \"Right Middle Temporal\",\n",
    "    \"Thck_L_precuneus\": \"Left Precuneus\",\n",
    "    \"Thck_R_precuneus\": \"Right Precuneus\",\n",
    "    \"Thck_L_insula\": \"Left Insula\",\n",
    "    \"Thck_R_insula\": \"Right Insula\",\n",
    "     'Right_meta':\"Right_meta\"  \n",
    "}"
   ]
  },
  {
   "cell_type": "code",
   "execution_count": null,
   "id": "eb301fb4",
   "metadata": {},
   "outputs": [],
   "source": [
    "\n"
   ]
  },
  {
   "cell_type": "code",
   "execution_count": 14,
   "id": "c9112571",
   "metadata": {},
   "outputs": [],
   "source": [
    "rename_name_habs = {\n",
    "                \"Age\":\"Age\",\n",
    "                \"ID_Gender\":\"Gender\",\n",
    "                \"ID_MaritalStatus\":\"Marrital status\",\n",
    "                \"Race\":\"Race\",\n",
    "                \"Edu\":\"Education\",\n",
    "                \"ID_Retire\":\"Retired\",\n",
    "                \"ID_Hispanic\":\"Ethnicity\",\n",
    "                \"APOE4\":\"APOE4\",\n",
    "                \"APOE2_carrier\":\"APOE2\",\n",
    "                'MMSE_Total': 'Mini-Mental State Examination score',\n",
    "                'GDS_Total': 'Geriatric Depression Scale',\n",
    "                \"AMNART_Er\": \"American National Adult Reading Test Total Errors\",\n",
    "                \"DS_Total\": \"Digit Span total\",\n",
    "                \"LM2_B_Total\": \"Logical Memory II Version B delayed recall\",\n",
    "                \"LM2_A_Total\": \"Logical Memory II Version A delayed recall\",\n",
    "                'CDR_Sum': 'Clinical Dementia Rating Scale Sum of Boxes Scores',\n",
    "                \"CDX_Cog\":\"Diagnosis\",\n",
    "    \"nearest_ab_centiloid\":\"CENTILOIDS\",\n",
    "                \"r5_QTX_Plasma_Abeta40\":\"Amyloid beta 40 peptide in the blood plasma(pg/mL)\",\n",
    "                \"r5_QTX_Plasma_Abeta42\":\"Amyloid beta 42 peptide in the blood plasma(pg/mL)\",\n",
    "                \"r5_QTX_Plasma_pTau181\":\"Phosphorylated tau protein in the blood plasma(pg/mL)\",\n",
    "                \"r5_QTX_Plasma_Total_Tau\":\"Tau protein concentration in the blood plasma(pg/mL)\",\n",
    "                \"Digit_Symbol_Substitution\": \"Digit Substitution test\",\n",
    "                \"TIV_VOLUME\":\"Total intracranial\",\n",
    "                \"IMH_Depression\": \"Diagnosis of Depression\",\n",
    "                \"AUDIT_Total\":\"Audit Total\",\n",
    "                \"PACC_only_cog\":\"PACC score\",\n",
    "                \"IMH_Cancer\": \"Diagnosis of Cancer\",\n",
    "                \"IMH_Diabetes\":\"Diagnosis of diabetes\",\n",
    "                \"IMH_HighBP\":\"Diagnosis of High Blood Pressure\",\n",
    "                \"IMH_HighCholesterol\":\"Diagnosis of High Cholesterol\",\n",
    "                \"IMH_HeartAttack\":\"Diagnosis of Heart Attack\",\n",
    "                \"IMH_ThyroidDisease\":\"Diagnosis of Thyroid disease\",\n",
    "                \"IMH_KidneyDisease\":\"Diagnosis of Kidney disease\",\n",
    "                \"IMH_Stroke\":\"Diagnosis of Stroke\",\n",
    "                \"IMH_Anxiety\":\"Diagnosis of Anxiety\",\n",
    "                \"IMH_Osteoporosis\":\"Diagnosis of Osteoporosis\",\n",
    "                \"IMH_Arthritis\":\"Diagnosis of Arthritis\",\n",
    "                \"IMH_TBI\":\"Diagnosis of traumatic brain injury\",\n",
    "                \"SMC_Total\":\"Subjective memory complaints total\",\n",
    "                \"PED_Total\":\"Physician's Estimate of Duration total\",\n",
    "                \"SEVLT_T1_Total\":\"SEVLT Trial 1 total\",\n",
    "                \"SEVLT_T2_Total\":\"SEVLT Trial 2 total\",\n",
    "                \"SEVLT_T3_Total\":\"SEVLT Trial 3 total\",\n",
    "                \"SEVLT_T5_Total\":\"SEVLT Trial 5 total\",\n",
    "                \"SEVLT_T1235_Total\":\"SEVLT Trials 1-5 total\",\n",
    "                \"SEVLT_DR_Total\":\"SEVLT Trial Delayed Recall total score\",\n",
    "                \"LM1_AB_Total\":\"Logical Memory I Version A and B delayed recall\",\n",
    "                \"LM2_AB_Total\":\"Logical Memory II Version A and B delayed recall\",\n",
    "                \"Smoke_Currently\":\"Smoking\",\n",
    "                \"Smoke_Ever\":\"Smoking history\",\n",
    "                \"FAS_Total\": \"Grand Total of FAS Word\",\n",
    "                \"WAT_Correct\":\"WAT Number correct\",\n",
    "                \"Animal_Total\":\"Animal Naming Total Score\",\n",
    "                \"TOMM_Total\":\"Test of Memory Malingering\",\n",
    "                \"BW_Glucose\":\"Blood Work Glucose (mg/dL)\",\n",
    "                \"HI_Score\":\"Hachinski Ischemic Score\",\n",
    "  \"LEFT_HIPPOCAMPUS_VOLUME\":\"Left_Hippocampus\",\n",
    "                \"RIGHT_HIPPOCAMPUS_VOLUME\":\"Right_Hippocampus\",\n",
    "             \"LEFT_LATERAL_VENTRICLE_VOLUME\":\"Left_Lateral_Ventricle\",\n",
    "            \"RIGHT_LATERAL_VENTRICLE_VOLUME\":\"Right_Lateral_Ventricle\",\n",
    "           \"Left_meta\":\"Left_meta\", \n",
    "    \"THCK:L_ENTORHINAL_VOLUME\": \"Left_Entorhinal\",\n",
    "    \"THCK:R_ENTORHINAL_VOLUME\":\"Right_Entorhinal\",\n",
    "    \"THCK:L_FUSIFORM_VOLUME\": \"Left_Fusiform\",\n",
    "    \"THCK:R_FUSIFORM_VOLUME\": \"Right_Fusiform\",\n",
    "    \"THCK:L_INFERIORPARIETAL_VOLUME\": \"Left Inferior Parietal\",\n",
    "    \"THCK:R_INFERIORPARIETAL_VOLUME\": \"Right Inferior Parietal\",\n",
    "    \"THCK:L_INFERIORTEMPORAL_VOLUME\": \"Left Inferior Temporal\",\n",
    "    \"THCK:R_INFERIORTEMPORAL_VOLUME\": \"Right Inferior Temporal\",\n",
    "    \"THCK:L_MIDDLETEMPORAL_VOLUME\": \"Left Middle Temporal\",\n",
    "    \"THCK:R_MIDDLETEMPORAL_VOLUME\": \"Right Middle Temporal\",\n",
    "    \"THCK:L_PRECUNEUS_VOLUME\": \"Left Precuneus\",\n",
    "    \"THCK:R_PRECUNEUS_VOLUME\": \"Right Precuneus\",\n",
    "    \"THCK:L_INSULA_VOLUME\": \"Left Insula\",\n",
    "    \"THCK:R_INSULA_VOLUME\": \"Right Insula\",\n",
    "     'Right_meta':\"Right_meta\"  \n",
    "            }"
   ]
  },
  {
   "cell_type": "code",
   "execution_count": 15,
   "id": "8129719b",
   "metadata": {},
   "outputs": [],
   "source": [
    "full_column_name_pointer={\n",
    "                \"age\":\"Age\",\n",
    "                \"gender\":\"Gender\",\n",
    "                \"race_simple\":\"Race\",\n",
    "                \"raceEth\":\"Ethnicity\",\n",
    "                \"APOE2_BIN\":\"APOE2\",\n",
    "                \"APOE4_NUM\":\"APOE4\",\n",
    "                \"Edu_yrs\":\"Education\",\n",
    "                \"PersonOfColor\":\"Person of Color\",\n",
    "                \"weightavg_kg\": 'Weight (in kg)',\n",
    "                \"mindtotal\":\"MIND Diet Total Score\",\n",
    "                \"PSQI_Global_Score\":\"Pittsburgh Sleep Quality Index Global Score\",\n",
    "                \"ISI_score\":\"Insomnia Severity Index\",\n",
    "                \"FHS_risk\":\"Framingham Heart Study 10 year CVD Risk\",\n",
    "                \"bpavgsys\": 'Systolic blood pressure (mmHg)',\n",
    "                'bpavgdia': 'Diastolic blood pressure (mmHg)',\n",
    "                'bmi':\"Body Mass Index\",\n",
    "                \"hba1c\":\"HbA1c(%)\",\n",
    "                \"diabetes_type2\":\"Diagnosis of Type II diabetes\",\n",
    "                \"diabetes_status\":\"Diagnosis of diabetes\",\n",
    "                \"glucose\":\"Glucose level\",\n",
    "                \"TICS_adj\":\"Adjusted TICS score\",\n",
    "                \"CVD_bl\":\"Diagnosis of CVD\",\n",
    "                \"smokerChar\":\"Smoke history\",\n",
    "                \"animalstotcorrect\":\"Animal Naming Total Score\",\n",
    "                'mmsetotscore': 'Mini-Mental State Examination score',\n",
    "                'delayrecalltot': 'Delayed Total Recall test',\n",
    "                'cdr_scr_sum': 'Clinical Dementia Rating Scale Sum of Boxes Scores',\n",
    "                \"FCSRT_Free_Cued__96\":\"Free and Cued Selective Reminding Test\",\n",
    "                \"episodic_score_z\":\"Episodic Memory Domain Score\",\n",
    "                \"executive_score_z\":\"Executive Function Domain Score\",\n",
    "                \"processing_score_z\":\"Processing Speed Domain Score\",\n",
    "                \"global_composite_Z\":\"Global Composite Score (primary outcome)\",\n",
    "                \"FINGER_NTB_z\":\"FINGER NTB Score\",\n",
    "                \"PACC_5_z\":\"PACC-5 Score\",\n",
    "                \"freq_cog\":\"Frequency/week of cognitive activities\",\n",
    "                \"freq_social\":\"Frequency/week of social activities\",\n",
    "                \"gds_total\":\"Geriatric Mood Scale\",\n",
    "                \"chol\":\"Total Cholesterol (mg/dL)\",\n",
    "                \"UCB_ADNIPOINTER_PACC\":\"PACC score\",\n",
    "                \"CFI_ppt\":\"Cognitive Function Index (partner-reported)\",\n",
    "                \"CFI_sp\":\"Cognitive Function Index (self-reported)\",\n",
    "                \"DCTScore\":\"Clock Drawing Test score\",\n",
    "                \"ecog_sp_memory\":\"Everyday Cognition test (self-reported Memory)\",\n",
    "                \"ecog_sp_language\":\"Everyday Cognition test (self-reported Language)\",\n",
    "                \"ecog_sp_visuosp\":\"Everyday Cognition test (self-reported Visuospatial Abilities)\",\n",
    "                \"ecog_sp_planning\":\"Everyday Cognition test (self-reported Planning)\",\n",
    "                \"ecog_sp_organize\":\"Everyday Cognition test (self-reported Organization)\",\n",
    "                \"ecog_sp_attention\":\"Everyday Cognition test (self-reported Divided attention)\",\n",
    "                \"ecog_sp_total\":\"Everyday Cognition test (self-reported Total scores)\",\n",
    "                \"ecog_ppt_memory\":\"Everyday Cognition test (partner-reported Memory)\",\n",
    "                \"ecog_ppt_language\":\"Everyday Cognition test (partner-reported Language)\",\n",
    "                \"ecog_ppt_visuosp\":\"Everyday Cognition test (partner-reported Visuospatial Abilities)\",\n",
    "                \"ecog_ppt_planning\":\"Everyday Cognition test (partner-reported Planning)\",\n",
    "                \"ecog_ppt_organize\":\"Everyday Cognition test (partner-reported Organization)\",\n",
    "                \"ecog_ppt_attention\":\"Everyday Cognition test (partner-reported Divided attention)\",\n",
    "                \"ecog_ppt_total\":\"Everyday Cognition test (partner-reported Total scores)\",\n",
    "                \"medName\":\"Medication\",\n",
    "                \"heightavg_cm\":\"Height (in cm)\",\n",
    "                \"phys_func_comp\":\"Short Survey Physical Functioning Scale\",\n",
    "                \"phys_hlth_comp\":\"Short Survey Role Functioning/Physical Scale\",\n",
    "                \"emot_prob_comp\":\"Short Survey Role Functioning/Emotional Scale\",\n",
    "                \"ener_fati_comp\":\"Short Survey Energy/Fatigue Scale\",\n",
    "                \"emot_well_comp\":\"Short Survey Emotional Well-being Scale\",\n",
    "                \"soci_func_comp\":\"Short Survey Social Functioning Scale\",\n",
    "                \"pain_comp\":\"Short Survey Pain Scale\",\n",
    "                \"gen_hlth_comp\":\"Short Survey General Health Scale\",\n",
    "                \"hlth_chg_comp\":\"Short Survey Health Change Scale\",\n",
    "                \"tiv\":\"Total intracranial\",\n",
    "                \"CDX_Cog\":\"Diagnosis\",\n",
    "     'bl_occupation':\"Occupation\",\n",
    " 'bl_relationship':\"Marrital status\",\n",
    " 'bl_retired':\"Retired\",\n",
    " 'lowEdu':\"Low Education\",\n",
    "    \"FBB_CENTILOIDS_1\":\"CENTILOIDS\",\n",
    "           \"vol_Left_Hippocampus\":\"Left_Hippocampus\",\n",
    "                \"vol_Right_Hippocampus\":\"Right_Hippocampus\",\n",
    "             \"vol_Left_Lateral_Ventricle\":\"Left_Lateral_Ventricle\",\n",
    "            \"vol_Right_Lateral_Ventricle\":\"Right_Lateral_Ventricle\",\n",
    "           \"Left_meta\":\"Left_meta\",\n",
    "    \"Thck_L_entorhinal\": \"Left_Entorhinal\",\n",
    "    \"Thck_R_entorhinal\":\"Right_Entorhinal\",\n",
    "    \"Thck_L_fusiform\": \"Left_Fusiform\",\n",
    "    \"Thck_R_fusiform\": \"Right_Fusiform\",\n",
    "    \"Thck_L_inferiorparietal\": \"Left Inferior Parietal\",\n",
    "    \"Thck_R_inferiorparietal\": \"Right Inferior Parietal\",\n",
    "    \"Thck_L_inferiortemporal\": \"Left Inferior Temporal\",\n",
    "    \"Thck_R_inferiortemporal\": \"Right Inferior Temporal\",\n",
    "    \"Thck_L_middletemporal\": \"Left Middle Temporal\",\n",
    "    \"Thck_R_middletemporal\": \"Right Middle Temporal\",\n",
    "    \"Thck_L_precuneus\": \"Left Precuneus\",\n",
    "    \"Thck_R_precuneus\": \"Right Precuneus\",\n",
    "    \"Thck_L_insula\": \"Left Insula\",\n",
    "    \"Thck_R_insula\": \"Right Insula\",\n",
    "     'Right_meta':\"Right_meta\"  \n",
    "            }\n",
    "\n",
    "\n"
   ]
  },
  {
   "cell_type": "code",
   "execution_count": 16,
   "id": "7e244515",
   "metadata": {},
   "outputs": [],
   "source": [
    "A4_test=pd.read_csv(\"D:\\\\Research\\\\AD\\\\ADLLM\\\\ADNI process 9\\\\A4\\\\A4_thickness_Dec_17_validation.csv\")"
   ]
  },
  {
   "cell_type": "code",
   "execution_count": 17,
   "id": "fe243188",
   "metadata": {},
   "outputs": [
    {
     "name": "stderr",
     "output_type": "stream",
     "text": [
      "C:\\Users\\25110\\AppData\\Local\\Temp/ipykernel_7648/289698266.py:8: FutureWarning: Downcasting behavior in `replace` is deprecated and will be removed in a future version. To retain the old behavior, explicitly call `result.infer_objects(copy=False)`. To opt-in to the future behavior, set `pd.set_option('future.no_silent_downcasting', True)`\n",
      "  A4_test =A4_test.replace(['Unknown', 'NA'], np.nan)\n"
     ]
    }
   ],
   "source": [
    "drop_group_a4=[\"AGEYR\",\"APOEGN\",\"FCFREET1\",\"FCFREET2\",\"FCFREET3\",\"FCCUEDT1\",\"FCCUEDT2\",\"FCCUEDT3\",\"LIMMTOTAL\",\"SMOKE\",\"ALCOHOL\",\"CAFFEINE\",\"SUBUSE\",\"AEROBIC\",\"WALKING\",\"SLEEP\",\"SLEEPDAY\",\n",
    "\"PXHEADEY\",\"PXCARD\",\"PXPULM\",\"PXABDOM\",\"PXMUSCUL\",\"PXEDEMA\",\"PXSKIN\",\"PXOTHER\",\"NXGAIT\",\"NXMOTOR\",\"NXSENSOR\",\"NXTREMOR\",\"NXFINGER\",\"NXHEEL\",\"NXNERVE\",\"NXOTHER\",\n",
    "\"AGEYR\",\"APOEGN\",\"zscore_meta_tau\",\"zscore_ctx_tau\",\"braak1\",\"meta\",\"VISCODE\"\n",
    "]\n",
    "A4_test=A4_test.fillna('NA')\n",
    "A4_test=A4_test[A4_test[\"centiloid\"]!=\"NA\"]\n",
    "A4_test=A4_test.drop(columns=drop_group_a4)\n",
    "A4_test =A4_test.replace(['Unknown', 'NA'], np.nan)\n",
    "A4_test[\"DIAGNOSIS\"]=\"Cognitive normal\""
   ]
  },
  {
   "cell_type": "code",
   "execution_count": 18,
   "id": "249232b3",
   "metadata": {},
   "outputs": [],
   "source": [
    "rename_name_a4 = {\n",
    "                \"PTGENDER\":\"Gender\",\n",
    "                \"PTEDUCAT\":\"Education\",\n",
    "                \"PTETHNIC\":\"Ethnicity\",\n",
    "                \"PTRACE\":\"Race\",\n",
    "                \"PTMARRY\":\"Marrital status\",\n",
    "                \"PTNOTRT\":\"Retired\",     \n",
    "                \"APOE4\":\"APOE4\",\n",
    "                \"PTAGE\":\"Age\",\n",
    "                'MMSCORE': 'Mini-Mental State Examination score',\n",
    "                'VSWEIGHT': 'Weight (in kg)',\n",
    "                'VSHEIGHT': 'Height (in cm)',\n",
    "                'VSBPSYS': 'Systolic blood pressure (mmHg)',\n",
    "                'VSBPDIA': 'Diastolic blood pressure (mmHg)',\n",
    "                'VSPULSE': 'Seated Pulse Rate (per minute)',\n",
    "                'VSRESP': 'Respirations (per minute)',\n",
    "                'VSTEMP': 'Temperature (in Celsius)',\n",
    "                'CDSOB': 'Clinical Dementia Rating Scale Sum of Boxes Scores',\n",
    "                \"LDELTOTAL\": \"Delayed Total Recall test\",\n",
    "                \"DIGITTOTAL\": \"Digit Substitution test\",\n",
    "                \"DIAGNOSIS\":\"Diagnosis\",\n",
    "                \"tiv\":\"Total intracranial\",\n",
    "     \"vol:Left-Hippocampus\":\"Left_Hippocampus\",\n",
    "                \"vol:Right-Hippocampus\":\"Right_Hippocampus\",\n",
    "             \"vol:Left-Lateral-Ventricle\":\"Left_Lateral_Ventricle\",\n",
    "            \"vol:Right-Lateral-Ventricle\":\"Right_Lateral_Ventricle\",\n",
    "           \"Left_meta\":\"Left_meta\",\n",
    "    \"Thck:L_entorhinal\": \"Left_Entorhinal\",\n",
    "    \"Thck:R_entorhinal\":\"Right_Entorhinal\",\n",
    "    \"Thck:L_fusiform\": \"Left_Fusiform\",\n",
    "    \"Thck:R_fusiform\": \"Right_Fusiform\",\n",
    "    \"Thck:L_inferiorparietal\": \"Left Inferior Parietal\",\n",
    "    \"Thck:R_inferiorparietal\": \"Right Inferior Parietal\",\n",
    "    \"Thck:L_inferiortemporal\": \"Left Inferior Temporal\",\n",
    "    \"Thck:R_inferiortemporal\": \"Right Inferior Temporal\",\n",
    "    \"Thck:L_middletemporal\": \"Left Middle Temporal\",\n",
    "    \"Thck:R_middletemporal\": \"Right Middle Temporal\",\n",
    "    \"Thck:L_precuneus\": \"Left Precuneus\",\n",
    "    \"Thck:R_precuneus\": \"Right Precuneus\",\n",
    "    \"Thck:L_insula\": \"Left Insula\",\n",
    "    \"Thck:R_insula\": \"Right Insula\",\n",
    "     'Right_meta':\"Right_meta\"  \n",
    "   \n",
    "}\n",
    "\n",
    "\n",
    "A4_test = A4_test.rename(columns=rename_name_a4)"
   ]
  },
  {
   "cell_type": "code",
   "execution_count": 19,
   "id": "e876d005",
   "metadata": {},
   "outputs": [],
   "source": [
    "adni_merged_df = adni_merged_df.rename(columns=rename_name_adni)\n",
    "habs_df = habs_df.rename(columns=rename_name_habs)\n",
    "pointer_training = pointer_training.rename(columns=full_column_name_pointer)\n",
    "adni_merged_testing = adni_merged_testing.rename(columns=rename_name_adni)\n",
    "habs_testing_df=habs_testing_df.rename(columns=rename_name_habs)\n",
    "pointer_testing =pointer_testing.rename(columns=full_column_name_pointer)"
   ]
  },
  {
   "cell_type": "code",
   "execution_count": 20,
   "id": "abb573b2",
   "metadata": {},
   "outputs": [],
   "source": [
    "columns1 = set(adni_merged_df.columns)\n",
    "columns2 = set(habs_df.columns)\n",
    "columns3 = set(pointer_training.columns)\n",
    "common_columns = columns1.union(columns2).union(columns3)\n",
    "for col in common_columns:\n",
    "    if col not in adni_merged_df.columns:\n",
    "        adni_merged_df[col] = np.nan\n",
    "    if col not in habs_df.columns:\n",
    "        habs_df[col] = np.nan\n",
    "    if col not in pointer_training.columns:\n",
    "        pointer_training[col] = np.nan\n"
   ]
  },
  {
   "cell_type": "code",
   "execution_count": 21,
   "id": "9f7e9447",
   "metadata": {},
   "outputs": [],
   "source": [
    "combined_dataset = pd.concat([adni_merged_df, habs_df,pointer_training], axis=0)\n",
    "#combined_dataset.to_csv(\"D:\\\\Research\\\\AD\\\\ADLLM\\\\ADNI process 9\\\\GB\\\\Abeta_GB_combined_dataset_training.csv\",index=False)"
   ]
  },
  {
   "cell_type": "code",
   "execution_count": null,
   "id": "d5c26ef0",
   "metadata": {},
   "outputs": [],
   "source": []
  },
  {
   "cell_type": "markdown",
   "id": "7ebc51a4",
   "metadata": {},
   "source": [
    "## Starting Training"
   ]
  },
  {
   "cell_type": "code",
   "execution_count": 22,
   "id": "aae6d8b7",
   "metadata": {},
   "outputs": [
    {
     "name": "stderr",
     "output_type": "stream",
     "text": [
      "C:\\Users\\25110\\AppData\\Local\\Temp/ipykernel_7648/4152627655.py:1: DtypeWarning: Columns (6,77,111,116,119,146,151) have mixed types. Specify dtype option on import or set low_memory=False.\n",
      "  combined_dataset=pd.read_csv(\"D:\\\\Research\\\\AD\\\\ADLLM\\\\ADNI process 9\\\\GB\\\\Abeta_GB_combined_dataset_training.csv\")\n"
     ]
    }
   ],
   "source": [
    "combined_dataset=pd.read_csv(\"D:\\\\Research\\\\AD\\\\ADLLM\\\\ADNI process 9\\\\GB\\\\Abeta_GB_combined_dataset_training.csv\")\n"
   ]
  },
  {
   "cell_type": "code",
   "execution_count": 23,
   "id": "e991755a",
   "metadata": {},
   "outputs": [
    {
     "name": "stdout",
     "output_type": "stream",
     "text": [
      "Existing categorical columns: ['Medication', 'Diagnosis', 'Diagnosis of Depression', \"Diagnosis of Parkinson's disease\", 'Gender', 'Ethnicity', 'Race', 'Marrital status', 'Hand', 'Retired', 'Diagnosis of diabetes', 'Diagnosis of Osteoporosis', 'Diagnosis of Cancer', 'Diagnosis of Stroke', 'Diagnosis of Thyroid disease', 'Diagnosis of High Cholesterol', 'Smoke history', 'Person of Color', 'Diagnosis of Anxiety', 'Diagnosis of High Blood Pressure', 'Diagnosis of traumatic brain injury', 'Diagnosis of Type II diabetes', 'Occupation', 'Diagnosis of Heart Attack', 'Diagnosis of CVD', 'Diagnosis of Kidney disease', 'Diagnosis of Arthritis']\n",
      "                   Medication         Diagnosis Diagnosis of Depression  \\\n",
      "0                     unknown  Cognitive normal                 unknown   \n",
      "1               no medication  Cognitive normal  No depressive symptoms   \n",
      "2  Anti-depressant medication  Cognitive normal  No depressive symptoms   \n",
      "3               no medication  Cognitive normal  No depressive symptoms   \n",
      "4                     unknown  Cognitive normal                 unknown   \n",
      "\n",
      "  Diagnosis of Parkinson's disease  Gender               Ethnicity  \\\n",
      "0                          unknown  Female  Not Hispanic or Latino   \n",
      "1         No parkinsonism symptoms  Female  Not Hispanic or Latino   \n",
      "2         No parkinsonism symptoms  Female  Not Hispanic or Latino   \n",
      "3         No parkinsonism symptoms  Female  Not Hispanic or Latino   \n",
      "4                          unknown    Male  Not Hispanic or Latino   \n",
      "\n",
      "                        Race Marrital status   Hand  Retired  ...  \\\n",
      "0  Black or African American        Divorced  Right  Retired  ...   \n",
      "1  Black or African American        Divorced  Right  Retired  ...   \n",
      "2  Black or African American        Divorced  Right  Retired  ...   \n",
      "3  Black or African American        Divorced  Right  Retired  ...   \n",
      "4  Black or African American         Widowed  Right  Retired  ...   \n",
      "\n",
      "  Person of Color Diagnosis of Anxiety Diagnosis of High Blood Pressure  \\\n",
      "0         unknown              unknown                          unknown   \n",
      "1         unknown              unknown                          unknown   \n",
      "2         unknown              unknown                          unknown   \n",
      "3         unknown              unknown                          unknown   \n",
      "4         unknown              unknown                          unknown   \n",
      "\n",
      "  Diagnosis of traumatic brain injury Diagnosis of Type II diabetes  \\\n",
      "0                             unknown                       unknown   \n",
      "1                             unknown                       unknown   \n",
      "2                             unknown                       unknown   \n",
      "3                             unknown                       unknown   \n",
      "4                             unknown                       unknown   \n",
      "\n",
      "  Occupation Diagnosis of Heart Attack Diagnosis of CVD  \\\n",
      "0    unknown                   unknown          unknown   \n",
      "1    unknown                   unknown          unknown   \n",
      "2    unknown                   unknown          unknown   \n",
      "3    unknown                   unknown          unknown   \n",
      "4    unknown                   unknown          unknown   \n",
      "\n",
      "  Diagnosis of Kidney disease Diagnosis of Arthritis  \n",
      "0                     unknown                unknown  \n",
      "1                     unknown                unknown  \n",
      "2                     unknown                unknown  \n",
      "3                     unknown                unknown  \n",
      "4                     unknown                unknown  \n",
      "\n",
      "[5 rows x 27 columns]\n"
     ]
    }
   ],
   "source": [
    "import pandas as pd\n",
    "\n",
    "# Assuming combined_dataset is your DataFrame\n",
    "\n",
    "# List of categorical columns (some may not exist in the dataset)\n",
    "categorical_columns = ['Medication', 'Diagnosis', 'Diagnosis of Depression', \n",
    "                       'Diagnosis of Parkinson\\'s disease', \n",
    "                       'Gender', 'Ethnicity', 'Race', 'Marrital status', 'Hand', \n",
    "                       'Retired', 'Diagnosis of diabetes', 'Diagnosis of Osteoporosis', \n",
    "                       'Diagnosis of Cancer', 'Diagnosis of Stroke', \n",
    "                       'Diagnosis of Thyroid disease', 'Diagnosis of High Cholesterol', \n",
    "                      'Smoke history', 'Person of Color', \n",
    "                       'Diagnosis of Anxiety', 'Diagnosis of High Blood Pressure', \n",
    "                       'Diagnosis of traumatic brain injury', 'Diagnosis of Type II diabetes', \n",
    "                       'Occupation', 'Diagnosis of Heart Attack', 'Diagnosis of CVD', \n",
    "                       'Diagnosis of Kidney disease', 'Diagnosis of Arthritis']\n",
    "\n",
    "# Filter only columns that exist in the dataset\n",
    "existing_columns = [col for col in categorical_columns if col in combined_dataset.columns]\n",
    "\n",
    "# Debugging step: print the columns that exist in the dataset\n",
    "print(f\"Existing categorical columns: {existing_columns}\")\n",
    "\n",
    "# Use fillna directly on the subset of existing columns\n",
    "combined_dataset.loc[:, existing_columns] = combined_dataset[existing_columns].fillna('unknown')\n",
    "\n",
    "# Debugging step: Check if the changes were applied correctly\n",
    "print(combined_dataset[existing_columns].head())\n"
   ]
  },
  {
   "cell_type": "code",
   "execution_count": 24,
   "id": "fde43ad1",
   "metadata": {},
   "outputs": [],
   "source": [
    "combined_dataset[existing_columns].fillna('unknown')\n",
    "combined_dataset.fillna(-9999, inplace=True)"
   ]
  },
  {
   "cell_type": "code",
   "execution_count": 25,
   "id": "68533881",
   "metadata": {},
   "outputs": [],
   "source": [
    "import pandas as pd\n",
    "\n",
    "# Assume merged_df is already defined from previous steps\n",
    "\n",
    "# Define the bins and labels\n",
    "bins = [-float('inf'),20.0, 40, 60.0, float('inf')]\n",
    "labels = ['Negative', 'Weakly positive', 'Positive','Clearly positive']\n",
    "\n",
    "combined_dataset['CENTILOIDS_CATEGORY'] = pd.cut(combined_dataset['CENTILOIDS'], bins=bins, labels=labels)"
   ]
  },
  {
   "cell_type": "code",
   "execution_count": 26,
   "id": "659d1a27",
   "metadata": {},
   "outputs": [],
   "source": [
    "X = combined_dataset.drop(columns=['CENTILOIDS','CENTILOIDS_CATEGORY'], axis=1)\n",
    "y = combined_dataset.CENTILOIDS_CATEGORY\n",
    "\n",
    "from sklearn.model_selection import train_test_split\n",
    "X_train, X_validation, y_train, y_validation = train_test_split(X, y, train_size=0.9, random_state=42)\n"
   ]
  },
  {
   "cell_type": "code",
   "execution_count": 27,
   "id": "c96d6e14",
   "metadata": {},
   "outputs": [
    {
     "name": "stdout",
     "output_type": "stream",
     "text": [
      "Mini-Mental State Examination score         float64\n",
      "Age                                         float64\n",
      "Medication                                   object\n",
      "Diagnosis                                    object\n",
      "Diagnosis of Depression                      object\n",
      "                                             ...   \n",
      "Executive Function Domain Score             float64\n",
      "Audit Total                                 float64\n",
      "Low Education                               float64\n",
      "Smoking history                             float64\n",
      "Global Composite Score (primary outcome)    float64\n",
      "Length: 161, dtype: object\n"
     ]
    }
   ],
   "source": [
    "print(X.dtypes)\n",
    "\n",
    "categorical_features_indices = np.where(X.dtypes != float)[0]"
   ]
  },
  {
   "cell_type": "code",
   "execution_count": 28,
   "id": "d3912116",
   "metadata": {},
   "outputs": [
    {
     "data": {
      "text/plain": [
       "array([  2,   3,   4,   5,  71,  73,  74,  75,  76,  77,  82, 101, 103,\n",
       "       107, 108, 110, 115, 118, 126, 127, 131, 132, 140, 145, 147, 150,\n",
       "       154], dtype=int64)"
      ]
     },
     "execution_count": 28,
     "metadata": {},
     "output_type": "execute_result"
    }
   ],
   "source": [
    "categorical_features_indices"
   ]
  },
  {
   "cell_type": "code",
   "execution_count": 29,
   "id": "bdeae528",
   "metadata": {},
   "outputs": [],
   "source": [
    "from catboost import CatBoostClassifier, Pool, metrics, cv\n",
    "from sklearn.metrics import accuracy_score\n",
    "model_abeta = CatBoostClassifier(\n",
    "    custom_loss=[metrics.Accuracy()],\n",
    "    random_seed=10000,\n",
    "    logging_level='Silent',\n",
    "    iterations=200, \n",
    "    learning_rate=0.01\n",
    ")"
   ]
  },
  {
   "cell_type": "code",
   "execution_count": 30,
   "id": "6eb8f054",
   "metadata": {},
   "outputs": [
    {
     "data": {
      "application/vnd.jupyter.widget-view+json": {
       "model_id": "74bd8a3cc3e24453b1937219227888da",
       "version_major": 2,
       "version_minor": 0
      },
      "text/plain": [
       "MetricVisualizer(layout=Layout(align_self='stretch', height='500px'))"
      ]
     },
     "metadata": {},
     "output_type": "display_data"
    },
    {
     "data": {
      "text/plain": [
       "<catboost.core.CatBoostClassifier at 0x1d3ff096e20>"
      ]
     },
     "execution_count": 30,
     "metadata": {},
     "output_type": "execute_result"
    }
   ],
   "source": [
    "model_abeta.fit(\n",
    "    X_train, y_train,\n",
    "    cat_features=categorical_features_indices,\n",
    "    eval_set=(X_validation, y_validation),\n",
    "#     logging_level='Verbose',  # you can uncomment this for text output\n",
    "    plot=True\n",
    ")"
   ]
  },
  {
   "cell_type": "code",
   "execution_count": 31,
   "id": "a267131b",
   "metadata": {},
   "outputs": [],
   "source": [
    "import matplotlib.pyplot as plt\n",
    "# Calculate feature importance\n",
    "feature_importances = model_abeta.get_feature_importance(type='FeatureImportance') \n",
    "# Plot feature importance\n",
    "\n",
    "feature_names = model_abeta.feature_names_\n",
    "\n",
    "# Create a DataFrame for easy handling\n",
    "importance_df = pd.DataFrame({'Feature': feature_names, 'Abeta Importance': feature_importances})\n",
    "importance_df.to_csv(\"D:\\\\Research\\\\AD\\\\ADLLM\\\\ADNI process 9\\\\GB\\\\Feature_importance_abeta_gb.csv\",index=False)"
   ]
  },
  {
   "cell_type": "code",
   "execution_count": 32,
   "id": "a21df580",
   "metadata": {},
   "outputs": [
    {
     "name": "stdout",
     "output_type": "stream",
     "text": [
      "Existing categorical columns: ['Medication', 'Diagnosis', 'Diagnosis of Depression', \"Diagnosis of Parkinson's disease\", 'Gender', 'Ethnicity', 'Race', 'Marrital status', 'Hand', 'Retired']\n"
     ]
    }
   ],
   "source": [
    "existing_columns = [col for col in categorical_columns if col in adni_merged_testing.columns]\n",
    "\n",
    "# Debugging step: print the columns that exist in the dataset\n",
    "print(f\"Existing categorical columns: {existing_columns}\")"
   ]
  },
  {
   "cell_type": "code",
   "execution_count": 33,
   "id": "1542f6fd",
   "metadata": {},
   "outputs": [],
   "source": [
    "adni_merged_testing_new = adni_merged_testing[existing_columns].astype(object)"
   ]
  },
  {
   "cell_type": "code",
   "execution_count": 41,
   "id": "2111502b",
   "metadata": {},
   "outputs": [],
   "source": [
    "adni_merged_testing_new.fillna('unknown', inplace=True)\n",
    "columns_not_in_existing = np.setdiff1d(adni_merged_testing.columns, existing_columns)\n",
    "\n",
    "# Modify the DataFrame by replacing NaN with 'Unknown' in the columns not in existing_columns\n",
    "adni_merged_testing_continuous  = adni_merged_testing[columns_not_in_existing].fillna(-9999)\n",
    "\n",
    "# Concatenating row-wise (default axis=0)\n",
    "combined_df_adni = pd.concat([adni_merged_testing_continuous, adni_merged_testing_new], axis=1)\n",
    "\n",
    "combined_df_adni.to_csv(\"D:\\\\Research\\\\AD\\\\ADLLM\\\\ADNI process 9\\\\ADNI\\\\GB\\\\adni_testing_final.csv\",index=False)"
   ]
  },
  {
   "cell_type": "code",
   "execution_count": 34,
   "id": "71119f48",
   "metadata": {},
   "outputs": [],
   "source": [
    "combined_df_adni=pd.read_csv(\"D:\\\\Research\\\\AD\\\\ADLLM\\\\ADNI process 9\\\\ADNI\\\\GB\\\\adni_testing_final.csv\")"
   ]
  },
  {
   "cell_type": "code",
   "execution_count": 72,
   "id": "55712151",
   "metadata": {},
   "outputs": [],
   "source": [
    "import pandas as pd\n",
    "\n",
    "# Assume merged_df is already defined from previous steps\n",
    "\n",
    "# Define the bins and labels\n",
    "bins = [-float('inf'),20.0, 40, 60.0, float('inf')]\n",
    "labels = ['Negative', 'Weakly positive', 'Positive','Clearly positive']\n",
    "\n",
    "# Create a new column with the mapped values\n",
    "combined_df_adni['CENTILOIDS_CATEGORY'] = pd.cut(combined_df_adni['CENTILOIDS'], bins=bins, labels=labels)"
   ]
  },
  {
   "cell_type": "code",
   "execution_count": 73,
   "id": "b3daa378",
   "metadata": {},
   "outputs": [],
   "source": [
    "X_adni= combined_df_adni.drop(columns=['CENTILOIDS','CENTILOIDS_CATEGORY',\"RID\"], axis=1)\n",
    "y_adni = combined_df_adni.CENTILOIDS_CATEGORY"
   ]
  },
  {
   "cell_type": "code",
   "execution_count": 74,
   "id": "81afffcc",
   "metadata": {},
   "outputs": [],
   "source": [
    "model_features = X.columns"
   ]
  },
  {
   "cell_type": "code",
   "execution_count": 75,
   "id": "4ff08c99",
   "metadata": {},
   "outputs": [],
   "source": [
    "for feature in model_features:\n",
    "    if (feature not in  X_adni.columns) and (feature in categorical_columns) :\n",
    "        X_adni[feature] = \"unknown\"\n",
    "    elif (feature not in  X_adni.columns) and (feature not in categorical_columns) :\n",
    "        X_adni[feature] = -9999"
   ]
  },
  {
   "cell_type": "code",
   "execution_count": 76,
   "id": "1cea2fad",
   "metadata": {},
   "outputs": [],
   "source": [
    "X_adni= X_adni[model_features ]"
   ]
  },
  {
   "cell_type": "code",
   "execution_count": 77,
   "id": "e7b082b5",
   "metadata": {},
   "outputs": [],
   "source": [
    "predictions = model_abeta.predict(X_adni)\n",
    "predictions_probs = model_abeta.predict_proba(X_adni)"
   ]
  },
  {
   "cell_type": "code",
   "execution_count": 78,
   "id": "c562986e",
   "metadata": {},
   "outputs": [
    {
     "data": {
      "image/png": "[encoded data removed]",
      "text/plain": [
       "<Figure size 576x432 with 2 Axes>"
      ]
     },
     "metadata": {
      "needs_background": "light"
     },
     "output_type": "display_data"
    }
   ],
   "source": [
    "import numpy as np\n",
    "import matplotlib.pyplot as plt\n",
    "import seaborn as sns\n",
    "from sklearn.metrics import confusion_matrix, ConfusionMatrixDisplay\n",
    "\n",
    "# Example true labels and predictions\n",
    "y_true = y_adni\n",
    "y_pred =predictions\n",
    "\n",
    "\n",
    "\n",
    "desired_order = ['Clearly positive', 'Positive', 'Weakly positive', 'Negative']\n",
    "# Filter out 'Unknown' class from both true and predicted labels\n",
    "\n",
    "\n",
    "# Compute the confusion matrix\n",
    "cm = confusion_matrix(y_true, y_pred, labels=desired_order)\n",
    "\n",
    "# Create a heatmap to visualize the confusion matrix\n",
    "plt.figure(figsize=(8, 6))\n",
    "sns.heatmap(cm, annot=True, fmt='d', cmap='Blues', xticklabels=desired_order, yticklabels=desired_order)\n",
    "plt.xlabel('Predicted Labels')\n",
    "plt.ylabel('True Labels')\n",
    "plt.title('Confusion Matrix')\n",
    "plt.show()"
   ]
  },
  {
   "cell_type": "code",
   "execution_count": 50,
   "id": "ed3cc2cc",
   "metadata": {},
   "outputs": [
    {
     "data": {
      "text/plain": [
       "0.6176470588235294"
      ]
     },
     "execution_count": 50,
     "metadata": {},
     "output_type": "execute_result"
    }
   ],
   "source": [
    "189/306"
   ]
  },
  {
   "cell_type": "code",
   "execution_count": 42,
   "id": "25be6a4c",
   "metadata": {},
   "outputs": [
    {
     "name": "stdout",
     "output_type": "stream",
     "text": [
      "One-vs-Rest AUC for each class:\n",
      "Class Clearly positive vs Rest: 0.86395727881796\n",
      "Class Negative vs Rest: 0.8735566147473545\n",
      "Class Positive vs Rest: 0.6526575465350976\n",
      "Class Weakly positive vs Rest: 0.6401249521866633\n",
      "Overall One-vs-Rest AUC: 0.7575740980717689\n"
     ]
    }
   ],
   "source": [
    "from sklearn.preprocessing import LabelEncoder, OneHotEncoder\n",
    "from sklearn.metrics import roc_auc_score, precision_recall_fscore_support, roc_curve, auc\n",
    "from sklearn.preprocessing import label_binarize\n",
    "import numpy as np\n",
    "from sklearn.preprocessing import LabelEncoder, OneHotEncoder\n",
    "\n",
    "label_encoder = LabelEncoder()\n",
    "y_true_encoded = label_encoder.fit_transform(y_true)\n",
    "\n",
    "# Binarize the output\n",
    "one_hot_encoder = OneHotEncoder()\n",
    "y_true_binarized = one_hot_encoder.fit_transform(y_true_encoded.reshape(-1, 1)).toarray()\n",
    "class_weights = []\n",
    "auc_list=[]\n",
    "# Compute AUC for the one-vs-rest (ovr) method for all classes\n",
    "ovr_aucs = {}\n",
    "for i in range(y_true_binarized.shape[1]):\n",
    "    auc = roc_auc_score(list(np.array(y_true_binarized)[:, i]), list(np.array(predictions_probs)[:, i]))\n",
    "    ovr_aucs[f\"Class {label_encoder.classes_[i]} vs Rest\"] = auc\n",
    "    auc_list.append(auc)\n",
    "    class_weights.append(np.sum(y_true == label_encoder.classes_[i]))\n",
    "print(\"One-vs-Rest AUC for each class:\")\n",
    "for class_label, auc in ovr_aucs.items():\n",
    "    print(f\"{class_label}: {auc}\")\n",
    "\n",
    "# Overall One-vs-Rest AUC\n",
    "overall_ovr_auc = roc_auc_score(y_true_binarized,predictions_probs, multi_class='ovr')\n",
    "print(f\"Overall One-vs-Rest AUC: {overall_ovr_auc}\")"
   ]
  },
  {
   "cell_type": "code",
   "execution_count": 43,
   "id": "0dc3bd5d",
   "metadata": {},
   "outputs": [],
   "source": [
    "weighted_auc = np.average(auc_list, weights=class_weights)"
   ]
  },
  {
   "cell_type": "code",
   "execution_count": 44,
   "id": "79c6d516",
   "metadata": {},
   "outputs": [
    {
     "data": {
      "text/plain": [
       "0.8299482710700172"
      ]
     },
     "execution_count": 44,
     "metadata": {},
     "output_type": "execute_result"
    }
   ],
   "source": [
    "weighted_auc"
   ]
  },
  {
   "cell_type": "code",
   "execution_count": 45,
   "id": "e858cf88",
   "metadata": {},
   "outputs": [
    {
     "data": {
      "text/plain": [
       "0.6924101198402131"
      ]
     },
     "execution_count": 45,
     "metadata": {},
     "output_type": "execute_result"
    }
   ],
   "source": [
    "accuracy_score(y_true,predictions)"
   ]
  },
  {
   "cell_type": "code",
   "execution_count": 46,
   "id": "55c22ecf",
   "metadata": {},
   "outputs": [
    {
     "name": "stdout",
     "output_type": "stream",
     "text": [
      "Weighted Sensitivity: 0.6924\n",
      "Weighted Specificity: 0.7295\n"
     ]
    }
   ],
   "source": [
    "# 初始化敏感性和特异性的列表\n",
    "sensitivities = []\n",
    "specificities = []\n",
    "class_weights = []\n",
    "\n",
    "# 遍历每个类别计算敏感性和特异性\n",
    "for i in range(len(cm)):\n",
    "    TP = cm[i, i]\n",
    "    FN = np.sum(cm[i, :]) - TP\n",
    "    FP = np.sum(cm[:, i]) - TP\n",
    "    TN = np.sum(cm) - (TP + FN + FP)\n",
    "    \n",
    "    sensitivity = TP / (TP + FN) if (TP + FN) > 0 else 0\n",
    "    specificity = TN / (TN + FP) if (TN + FP) > 0 else 0\n",
    "    \n",
    "    sensitivities.append(sensitivity)\n",
    "    specificities.append(specificity)\n",
    "    \n",
    "    # 权重为该类别的真实样本数\n",
    "    class_weights.append(TP + FN)\n",
    "\n",
    "# 计算加权平均敏感性和特异性\n",
    "weighted_sensitivity = np.average(sensitivities, weights=class_weights)\n",
    "weighted_specificity = np.average(specificities, weights=class_weights)\n",
    "\n",
    "print(f\"Weighted Sensitivity: {weighted_sensitivity:.4f}\")\n",
    "print(f\"Weighted Specificity: {weighted_specificity:.4f}\")"
   ]
  },
  {
   "cell_type": "code",
   "execution_count": 56,
   "id": "36aac03f",
   "metadata": {},
   "outputs": [],
   "source": [
    "adni_prediction=pd.DataFrame({\"Truth\":list(y_true),\"Prediction\":list(predictions),\"Clearly positive\": list(np.array(predictions_probs)[:, 0]),\"Intermediate Negative\": list(np.array(predictions_probs)[:, 1]),\"Negative\": list(np.array(predictions_probs)[:, 2]),\"Weakly positive\": list(np.array(predictions_probs)[:, 3])})\n",
    "adni_prediction.to_csv(\"D:\\\\Research\\\\AD\\\\ADLLM\\\\ADNI process 9\\\\ADNI\\\\GB\\\\adni_testing_result.csv\",index=False)"
   ]
  },
  {
   "cell_type": "markdown",
   "id": "9ae10aac",
   "metadata": {},
   "source": [
    "## habs"
   ]
  },
  {
   "cell_type": "code",
   "execution_count": 47,
   "id": "740480f7",
   "metadata": {},
   "outputs": [
    {
     "data": {
      "text/html": [
       "<div>\n",
       "<style scoped>\n",
       "    .dataframe tbody tr th:only-of-type {\n",
       "        vertical-align: middle;\n",
       "    }\n",
       "\n",
       "    .dataframe tbody tr th {\n",
       "        vertical-align: top;\n",
       "    }\n",
       "\n",
       "    .dataframe thead th {\n",
       "        text-align: right;\n",
       "    }\n",
       "</style>\n",
       "<table border=\"1\" class=\"dataframe\">\n",
       "  <thead>\n",
       "    <tr style=\"text-align: right;\">\n",
       "      <th></th>\n",
       "      <th>Med_ID</th>\n",
       "      <th>Age</th>\n",
       "      <th>Diagnosis of Depression</th>\n",
       "      <th>Mini-Mental State Examination score</th>\n",
       "      <th>Digit Span total</th>\n",
       "      <th>Digit Substitution test</th>\n",
       "      <th>Geriatric Depression Scale</th>\n",
       "      <th>American National Adult Reading Test Total Errors</th>\n",
       "      <th>Logical Memory II Version B delayed recall</th>\n",
       "      <th>Logical Memory II Version A delayed recall</th>\n",
       "      <th>...</th>\n",
       "      <th>Right_meta</th>\n",
       "      <th>Gender</th>\n",
       "      <th>Marrital status</th>\n",
       "      <th>Race</th>\n",
       "      <th>Ethnicity</th>\n",
       "      <th>Retired</th>\n",
       "      <th>Education</th>\n",
       "      <th>IMH_AlzheimersAge</th>\n",
       "      <th>APOE4</th>\n",
       "      <th>APOE2</th>\n",
       "    </tr>\n",
       "  </thead>\n",
       "  <tbody>\n",
       "    <tr>\n",
       "      <th>0</th>\n",
       "      <td>4183</td>\n",
       "      <td>63</td>\n",
       "      <td>No depression</td>\n",
       "      <td>29</td>\n",
       "      <td>19.0</td>\n",
       "      <td>46.0</td>\n",
       "      <td>1.0</td>\n",
       "      <td>8.0</td>\n",
       "      <td>12</td>\n",
       "      <td>7</td>\n",
       "      <td>...</td>\n",
       "      <td>2.727</td>\n",
       "      <td>Male</td>\n",
       "      <td>Married</td>\n",
       "      <td>Black or African American</td>\n",
       "      <td>Not Hispanic or Latino</td>\n",
       "      <td>Not retired</td>\n",
       "      <td>16.0</td>\n",
       "      <td>NaN</td>\n",
       "      <td>NaN</td>\n",
       "      <td>NaN</td>\n",
       "    </tr>\n",
       "    <tr>\n",
       "      <th>1</th>\n",
       "      <td>4199</td>\n",
       "      <td>58</td>\n",
       "      <td>No depression</td>\n",
       "      <td>29</td>\n",
       "      <td>15.0</td>\n",
       "      <td>51.0</td>\n",
       "      <td>3.0</td>\n",
       "      <td>17.0</td>\n",
       "      <td>17</td>\n",
       "      <td>15</td>\n",
       "      <td>...</td>\n",
       "      <td>2.698</td>\n",
       "      <td>Female</td>\n",
       "      <td>Divorced</td>\n",
       "      <td>Black or African American</td>\n",
       "      <td>Not Hispanic or Latino</td>\n",
       "      <td>Not retired</td>\n",
       "      <td>16.0</td>\n",
       "      <td>NaN</td>\n",
       "      <td>NaN</td>\n",
       "      <td>NaN</td>\n",
       "    </tr>\n",
       "    <tr>\n",
       "      <th>2</th>\n",
       "      <td>4217</td>\n",
       "      <td>59</td>\n",
       "      <td>No depression</td>\n",
       "      <td>30</td>\n",
       "      <td>12.0</td>\n",
       "      <td>49.0</td>\n",
       "      <td>0.0</td>\n",
       "      <td>21.0</td>\n",
       "      <td>9</td>\n",
       "      <td>11</td>\n",
       "      <td>...</td>\n",
       "      <td>2.655</td>\n",
       "      <td>Male</td>\n",
       "      <td>Married</td>\n",
       "      <td>Black or African American</td>\n",
       "      <td>Not Hispanic or Latino</td>\n",
       "      <td>Not retired</td>\n",
       "      <td>14.0</td>\n",
       "      <td>NaN</td>\n",
       "      <td>NaN</td>\n",
       "      <td>NaN</td>\n",
       "    </tr>\n",
       "    <tr>\n",
       "      <th>3</th>\n",
       "      <td>4240</td>\n",
       "      <td>59</td>\n",
       "      <td>No depression</td>\n",
       "      <td>26</td>\n",
       "      <td>12.0</td>\n",
       "      <td>34.0</td>\n",
       "      <td>9.0</td>\n",
       "      <td>33.0</td>\n",
       "      <td>6</td>\n",
       "      <td>9</td>\n",
       "      <td>...</td>\n",
       "      <td>2.868</td>\n",
       "      <td>Female</td>\n",
       "      <td>Married</td>\n",
       "      <td>Black or African American</td>\n",
       "      <td>Not Hispanic or Latino</td>\n",
       "      <td>Not retired</td>\n",
       "      <td>14.0</td>\n",
       "      <td>NaN</td>\n",
       "      <td>NaN</td>\n",
       "      <td>NaN</td>\n",
       "    </tr>\n",
       "    <tr>\n",
       "      <th>4</th>\n",
       "      <td>4244</td>\n",
       "      <td>59</td>\n",
       "      <td>No depression</td>\n",
       "      <td>28</td>\n",
       "      <td>12.0</td>\n",
       "      <td>60.0</td>\n",
       "      <td>2.0</td>\n",
       "      <td>34.0</td>\n",
       "      <td>12</td>\n",
       "      <td>11</td>\n",
       "      <td>...</td>\n",
       "      <td>2.630</td>\n",
       "      <td>Male</td>\n",
       "      <td>Married</td>\n",
       "      <td>Black or African American</td>\n",
       "      <td>Not Hispanic or Latino</td>\n",
       "      <td>Not retired</td>\n",
       "      <td>12.0</td>\n",
       "      <td>NaN</td>\n",
       "      <td>NaN</td>\n",
       "      <td>NaN</td>\n",
       "    </tr>\n",
       "    <tr>\n",
       "      <th>...</th>\n",
       "      <td>...</td>\n",
       "      <td>...</td>\n",
       "      <td>...</td>\n",
       "      <td>...</td>\n",
       "      <td>...</td>\n",
       "      <td>...</td>\n",
       "      <td>...</td>\n",
       "      <td>...</td>\n",
       "      <td>...</td>\n",
       "      <td>...</td>\n",
       "      <td>...</td>\n",
       "      <td>...</td>\n",
       "      <td>...</td>\n",
       "      <td>...</td>\n",
       "      <td>...</td>\n",
       "      <td>...</td>\n",
       "      <td>...</td>\n",
       "      <td>...</td>\n",
       "      <td>...</td>\n",
       "      <td>...</td>\n",
       "      <td>...</td>\n",
       "    </tr>\n",
       "    <tr>\n",
       "      <th>437</th>\n",
       "      <td>9912</td>\n",
       "      <td>64</td>\n",
       "      <td>No depression</td>\n",
       "      <td>28</td>\n",
       "      <td>8.0</td>\n",
       "      <td>38.0</td>\n",
       "      <td>5.0</td>\n",
       "      <td>NaN</td>\n",
       "      <td>14</td>\n",
       "      <td>14</td>\n",
       "      <td>...</td>\n",
       "      <td>2.535</td>\n",
       "      <td>Female</td>\n",
       "      <td>Widowed</td>\n",
       "      <td>White</td>\n",
       "      <td>Hispanic or Latino</td>\n",
       "      <td>Not retired</td>\n",
       "      <td>12.0</td>\n",
       "      <td>NaN</td>\n",
       "      <td>NaN</td>\n",
       "      <td>NaN</td>\n",
       "    </tr>\n",
       "    <tr>\n",
       "      <th>438</th>\n",
       "      <td>9923</td>\n",
       "      <td>54</td>\n",
       "      <td>No depression</td>\n",
       "      <td>29</td>\n",
       "      <td>14.0</td>\n",
       "      <td>64.0</td>\n",
       "      <td>0.0</td>\n",
       "      <td>29.0</td>\n",
       "      <td>18</td>\n",
       "      <td>11</td>\n",
       "      <td>...</td>\n",
       "      <td>2.679</td>\n",
       "      <td>Female</td>\n",
       "      <td>Divorced</td>\n",
       "      <td>White</td>\n",
       "      <td>Hispanic or Latino</td>\n",
       "      <td>Not retired</td>\n",
       "      <td>12.0</td>\n",
       "      <td>NaN</td>\n",
       "      <td>NaN</td>\n",
       "      <td>NaN</td>\n",
       "    </tr>\n",
       "    <tr>\n",
       "      <th>439</th>\n",
       "      <td>9927</td>\n",
       "      <td>57</td>\n",
       "      <td>Depression</td>\n",
       "      <td>30</td>\n",
       "      <td>17.0</td>\n",
       "      <td>43.0</td>\n",
       "      <td>26.0</td>\n",
       "      <td>19.0</td>\n",
       "      <td>18</td>\n",
       "      <td>11</td>\n",
       "      <td>...</td>\n",
       "      <td>2.650</td>\n",
       "      <td>Female</td>\n",
       "      <td>Married</td>\n",
       "      <td>White</td>\n",
       "      <td>Hispanic or Latino</td>\n",
       "      <td>Not retired</td>\n",
       "      <td>9.0</td>\n",
       "      <td>NaN</td>\n",
       "      <td>NaN</td>\n",
       "      <td>NaN</td>\n",
       "    </tr>\n",
       "    <tr>\n",
       "      <th>440</th>\n",
       "      <td>9970</td>\n",
       "      <td>68</td>\n",
       "      <td>No depression</td>\n",
       "      <td>19</td>\n",
       "      <td>7.0</td>\n",
       "      <td>26.0</td>\n",
       "      <td>2.0</td>\n",
       "      <td>NaN</td>\n",
       "      <td>10</td>\n",
       "      <td>13</td>\n",
       "      <td>...</td>\n",
       "      <td>2.769</td>\n",
       "      <td>Female</td>\n",
       "      <td>Separated</td>\n",
       "      <td>White</td>\n",
       "      <td>Hispanic or Latino</td>\n",
       "      <td>Retired</td>\n",
       "      <td>3.0</td>\n",
       "      <td>NaN</td>\n",
       "      <td>NaN</td>\n",
       "      <td>NaN</td>\n",
       "    </tr>\n",
       "    <tr>\n",
       "      <th>441</th>\n",
       "      <td>9995</td>\n",
       "      <td>60</td>\n",
       "      <td>No depression</td>\n",
       "      <td>29</td>\n",
       "      <td>12.0</td>\n",
       "      <td>40.0</td>\n",
       "      <td>1.0</td>\n",
       "      <td>26.0</td>\n",
       "      <td>14</td>\n",
       "      <td>9</td>\n",
       "      <td>...</td>\n",
       "      <td>2.877</td>\n",
       "      <td>Female</td>\n",
       "      <td>Married</td>\n",
       "      <td>White</td>\n",
       "      <td>Hispanic or Latino</td>\n",
       "      <td>Not retired</td>\n",
       "      <td>11.0</td>\n",
       "      <td>NaN</td>\n",
       "      <td>NaN</td>\n",
       "      <td>NaN</td>\n",
       "    </tr>\n",
       "  </tbody>\n",
       "</table>\n",
       "<p>442 rows × 79 columns</p>\n",
       "</div>"
      ],
      "text/plain": [
       "     Med_ID  Age Diagnosis of Depression  Mini-Mental State Examination score  \\\n",
       "0      4183   63           No depression                                   29   \n",
       "1      4199   58           No depression                                   29   \n",
       "2      4217   59           No depression                                   30   \n",
       "3      4240   59           No depression                                   26   \n",
       "4      4244   59           No depression                                   28   \n",
       "..      ...  ...                     ...                                  ...   \n",
       "437    9912   64           No depression                                   28   \n",
       "438    9923   54           No depression                                   29   \n",
       "439    9927   57              Depression                                   30   \n",
       "440    9970   68           No depression                                   19   \n",
       "441    9995   60           No depression                                   29   \n",
       "\n",
       "     Digit Span total  Digit Substitution test  Geriatric Depression Scale  \\\n",
       "0                19.0                     46.0                         1.0   \n",
       "1                15.0                     51.0                         3.0   \n",
       "2                12.0                     49.0                         0.0   \n",
       "3                12.0                     34.0                         9.0   \n",
       "4                12.0                     60.0                         2.0   \n",
       "..                ...                      ...                         ...   \n",
       "437               8.0                     38.0                         5.0   \n",
       "438              14.0                     64.0                         0.0   \n",
       "439              17.0                     43.0                        26.0   \n",
       "440               7.0                     26.0                         2.0   \n",
       "441              12.0                     40.0                         1.0   \n",
       "\n",
       "     American National Adult Reading Test Total Errors  \\\n",
       "0                                                  8.0   \n",
       "1                                                 17.0   \n",
       "2                                                 21.0   \n",
       "3                                                 33.0   \n",
       "4                                                 34.0   \n",
       "..                                                 ...   \n",
       "437                                                NaN   \n",
       "438                                               29.0   \n",
       "439                                               19.0   \n",
       "440                                                NaN   \n",
       "441                                               26.0   \n",
       "\n",
       "     Logical Memory II Version B delayed recall  \\\n",
       "0                                            12   \n",
       "1                                            17   \n",
       "2                                             9   \n",
       "3                                             6   \n",
       "4                                            12   \n",
       "..                                          ...   \n",
       "437                                          14   \n",
       "438                                          18   \n",
       "439                                          18   \n",
       "440                                          10   \n",
       "441                                          14   \n",
       "\n",
       "     Logical Memory II Version A delayed recall  ...  Right_meta  Gender  \\\n",
       "0                                             7  ...       2.727    Male   \n",
       "1                                            15  ...       2.698  Female   \n",
       "2                                            11  ...       2.655    Male   \n",
       "3                                             9  ...       2.868  Female   \n",
       "4                                            11  ...       2.630    Male   \n",
       "..                                          ...  ...         ...     ...   \n",
       "437                                          14  ...       2.535  Female   \n",
       "438                                          11  ...       2.679  Female   \n",
       "439                                          11  ...       2.650  Female   \n",
       "440                                          13  ...       2.769  Female   \n",
       "441                                           9  ...       2.877  Female   \n",
       "\n",
       "     Marrital status                       Race               Ethnicity  \\\n",
       "0            Married  Black or African American  Not Hispanic or Latino   \n",
       "1           Divorced  Black or African American  Not Hispanic or Latino   \n",
       "2            Married  Black or African American  Not Hispanic or Latino   \n",
       "3            Married  Black or African American  Not Hispanic or Latino   \n",
       "4            Married  Black or African American  Not Hispanic or Latino   \n",
       "..               ...                        ...                     ...   \n",
       "437          Widowed                      White      Hispanic or Latino   \n",
       "438         Divorced                      White      Hispanic or Latino   \n",
       "439          Married                      White      Hispanic or Latino   \n",
       "440        Separated                      White      Hispanic or Latino   \n",
       "441          Married                      White      Hispanic or Latino   \n",
       "\n",
       "         Retired  Education  IMH_AlzheimersAge  APOE4  APOE2  \n",
       "0    Not retired       16.0                NaN    NaN    NaN  \n",
       "1    Not retired       16.0                NaN    NaN    NaN  \n",
       "2    Not retired       14.0                NaN    NaN    NaN  \n",
       "3    Not retired       14.0                NaN    NaN    NaN  \n",
       "4    Not retired       12.0                NaN    NaN    NaN  \n",
       "..           ...        ...                ...    ...    ...  \n",
       "437  Not retired       12.0                NaN    NaN    NaN  \n",
       "438  Not retired       12.0                NaN    NaN    NaN  \n",
       "439  Not retired        9.0                NaN    NaN    NaN  \n",
       "440      Retired        3.0                NaN    NaN    NaN  \n",
       "441  Not retired       11.0                NaN    NaN    NaN  \n",
       "\n",
       "[442 rows x 79 columns]"
      ]
     },
     "execution_count": 47,
     "metadata": {},
     "output_type": "execute_result"
    }
   ],
   "source": [
    "habs_testing_df"
   ]
  },
  {
   "cell_type": "code",
   "execution_count": 48,
   "id": "9ecf06d1",
   "metadata": {},
   "outputs": [
    {
     "name": "stdout",
     "output_type": "stream",
     "text": [
      "Existing categorical columns: ['Diagnosis', 'Diagnosis of Depression', 'Gender', 'Ethnicity', 'Race', 'Marrital status', 'Retired', 'Diagnosis of diabetes', 'Diagnosis of Osteoporosis', 'Diagnosis of Cancer', 'Diagnosis of Stroke', 'Diagnosis of Thyroid disease', 'Diagnosis of High Cholesterol', 'Diagnosis of Anxiety', 'Diagnosis of High Blood Pressure', 'Diagnosis of traumatic brain injury', 'Diagnosis of Heart Attack', 'Diagnosis of Kidney disease', 'Diagnosis of Arthritis']\n"
     ]
    }
   ],
   "source": [
    "existing_columns = [col for col in categorical_columns if col in habs_testing_df.columns]\n",
    "\n",
    "# Debugging step: print the columns that exist in the dataset\n",
    "print(f\"Existing categorical columns: {existing_columns}\")\n",
    "\n",
    "habs_testing_df_new= habs_testing_df[existing_columns].astype(object)\n",
    "habs_testing_df_new.fillna('unknown', inplace=True)\n",
    "columns_not_in_existing = np.setdiff1d(habs_testing_df.columns, existing_columns)\n",
    "\n",
    "# Modify the DataFrame by replacing NaN with 'Unknown' in the columns not in existing_columns\n",
    "habs_testing_df_continuous  =habs_testing_df[columns_not_in_existing].fillna(-9999)\n",
    "\n",
    "# Concatenating row-wise (default axis=0)\n",
    "combined_df_habs = pd.concat([habs_testing_df_continuous, habs_testing_df_new], axis=1)\n",
    "\n",
    "combined_df_habs.to_csv(\"D:\\\\Research\\\\AD\\\\ADLLM\\\\ADNI process 9\\\\HABS-HD\\\\GB\\\\habs_testing_final.csv\",index=False)"
   ]
  },
  {
   "cell_type": "code",
   "execution_count": 49,
   "id": "b8c93ef1",
   "metadata": {},
   "outputs": [],
   "source": [
    "import pandas as pd\n",
    "\n",
    "# Assume merged_df is already defined from previous steps\n",
    "\n",
    "# Define the bins and labels\n",
    "bins = [-float('inf'),20.0, 40, 60.0, float('inf')]\n",
    "labels = ['Negative', 'Weakly positive', 'Positive','Clearly positive']\n",
    "\n",
    "# Create a new column with the mapped values\n",
    "combined_df_habs['CENTILOIDS_CATEGORY'] = pd.cut(combined_df_habs['CENTILOIDS'], bins=bins, labels=labels)"
   ]
  },
  {
   "cell_type": "code",
   "execution_count": 50,
   "id": "c6cc0bca",
   "metadata": {},
   "outputs": [],
   "source": [
    "X_habs= combined_df_habs.drop(columns=['CENTILOIDS','CENTILOIDS_CATEGORY',\"Med_ID\"], axis=1)\n",
    "y_habs =combined_df_habs.CENTILOIDS_CATEGORY"
   ]
  },
  {
   "cell_type": "code",
   "execution_count": 51,
   "id": "ee17c937",
   "metadata": {},
   "outputs": [
    {
     "data": {
      "text/plain": [
       "CENTILOIDS_CATEGORY\n",
       "Negative            365\n",
       "Clearly positive     34\n",
       "Weakly positive      31\n",
       "Positive             12\n",
       "Name: count, dtype: int64"
      ]
     },
     "execution_count": 51,
     "metadata": {},
     "output_type": "execute_result"
    }
   ],
   "source": [
    "y_habs.value_counts()"
   ]
  },
  {
   "cell_type": "code",
   "execution_count": 52,
   "id": "83ffa454",
   "metadata": {},
   "outputs": [],
   "source": [
    "for feature in model_features:\n",
    "    if (feature not in  X_habs.columns) and (feature in categorical_columns) :\n",
    "        X_habs[feature] = \"unknown\"\n",
    "    elif (feature not in  X_habs.columns) and (feature not in categorical_columns) :\n",
    "        X_habs[feature] = -9999"
   ]
  },
  {
   "cell_type": "code",
   "execution_count": 53,
   "id": "ccf282f0",
   "metadata": {},
   "outputs": [],
   "source": [
    "X_habs= X_habs[model_features ]"
   ]
  },
  {
   "cell_type": "code",
   "execution_count": 54,
   "id": "0ce19d38",
   "metadata": {},
   "outputs": [],
   "source": [
    "predictions = model_abeta.predict(X_habs)\n",
    "predictions_probs = model_abeta.predict_proba(X_habs)"
   ]
  },
  {
   "cell_type": "code",
   "execution_count": 56,
   "id": "29acd18e",
   "metadata": {},
   "outputs": [
    {
     "data": {
      "image/png": "[encoded data removed]",
      "text/plain": [
       "<Figure size 576x432 with 2 Axes>"
      ]
     },
     "metadata": {
      "needs_background": "light"
     },
     "output_type": "display_data"
    }
   ],
   "source": [
    "import numpy as np\n",
    "import matplotlib.pyplot as plt\n",
    "import seaborn as sns\n",
    "from sklearn.metrics import confusion_matrix, ConfusionMatrixDisplay\n",
    "\n",
    "# Example true labels and predictions\n",
    "y_true = y_habs\n",
    "y_pred =predictions\n",
    "\n",
    "\n",
    "\n",
    "desired_order = ['Clearly positive', 'Positive', 'Weakly positive', 'Negative']\n",
    "# Filter out 'Unknown' class from both true and predicted labels\n",
    "\n",
    "\n",
    "# Compute the confusion matrix\n",
    "cm = confusion_matrix(y_true, y_pred, labels=desired_order)\n",
    "\n",
    "# Create a heatmap to visualize the confusion matrix\n",
    "plt.figure(figsize=(8, 6))\n",
    "sns.heatmap(cm, annot=True, fmt='d', cmap='Blues', xticklabels=desired_order, yticklabels=desired_order)\n",
    "plt.xlabel('Predicted Labels')\n",
    "plt.ylabel('True Labels')\n",
    "plt.title('Confusion Matrix')\n",
    "plt.show()"
   ]
  },
  {
   "cell_type": "code",
   "execution_count": 57,
   "id": "db3dafe9",
   "metadata": {},
   "outputs": [
    {
     "name": "stdout",
     "output_type": "stream",
     "text": [
      "One-vs-Rest AUC for each class:\n",
      "Class Clearly positive vs Rest: 0.7600922722029988\n",
      "Class Negative vs Rest: 0.7539939512542252\n",
      "Class Positive vs Rest: 0.6968992248062016\n",
      "Class Weakly positive vs Rest: 0.6807942861627816\n",
      "Overall One-vs-Rest AUC: 0.7229449336065518\n"
     ]
    }
   ],
   "source": [
    "from sklearn.preprocessing import LabelEncoder, OneHotEncoder\n",
    "from sklearn.metrics import roc_auc_score, precision_recall_fscore_support, roc_curve, auc\n",
    "from sklearn.preprocessing import label_binarize\n",
    "import numpy as np\n",
    "from sklearn.preprocessing import LabelEncoder, OneHotEncoder\n",
    "\n",
    "label_encoder = LabelEncoder()\n",
    "y_true_encoded = label_encoder.fit_transform(y_true)\n",
    "\n",
    "# Binarize the output\n",
    "one_hot_encoder = OneHotEncoder()\n",
    "y_true_binarized = one_hot_encoder.fit_transform(y_true_encoded.reshape(-1, 1)).toarray()\n",
    "class_weights = []\n",
    "auc_list=[]\n",
    "# Compute AUC for the one-vs-rest (ovr) method for all classes\n",
    "ovr_aucs = {}\n",
    "for i in range(y_true_binarized.shape[1]):\n",
    "    auc = roc_auc_score(list(np.array(y_true_binarized)[:, i]), list(np.array(predictions_probs)[:, i]))\n",
    "    ovr_aucs[f\"Class {label_encoder.classes_[i]} vs Rest\"] = auc\n",
    "    auc_list.append(auc)\n",
    "    class_weights.append(np.sum(y_true == label_encoder.classes_[i]))\n",
    "print(\"One-vs-Rest AUC for each class:\")\n",
    "for class_label, auc in ovr_aucs.items():\n",
    "    print(f\"{class_label}: {auc}\")\n",
    "\n",
    "# Overall One-vs-Rest AUC\n",
    "overall_ovr_auc = roc_auc_score(y_true_binarized,predictions_probs, multi_class='ovr')\n",
    "print(f\"Overall One-vs-Rest AUC: {overall_ovr_auc}\")"
   ]
  },
  {
   "cell_type": "code",
   "execution_count": 58,
   "id": "04fe2480",
   "metadata": {},
   "outputs": [],
   "source": [
    "weighted_auc = np.average(auc_list, weights=class_weights)"
   ]
  },
  {
   "cell_type": "code",
   "execution_count": 59,
   "id": "17126904",
   "metadata": {},
   "outputs": [
    {
     "data": {
      "text/plain": [
       "0.74777905663216"
      ]
     },
     "execution_count": 59,
     "metadata": {},
     "output_type": "execute_result"
    }
   ],
   "source": [
    "weighted_auc"
   ]
  },
  {
   "cell_type": "code",
   "execution_count": 60,
   "id": "78a0a0fb",
   "metadata": {},
   "outputs": [
    {
     "name": "stdout",
     "output_type": "stream",
     "text": [
      "Weighted Sensitivity: 0.8258\n",
      "Weighted Specificity: 0.1742\n"
     ]
    }
   ],
   "source": [
    "# 初始化敏感性和特异性的列表\n",
    "sensitivities = []\n",
    "specificities = []\n",
    "class_weights = []\n",
    "\n",
    "# 遍历每个类别计算敏感性和特异性\n",
    "for i in range(len(cm)):\n",
    "    TP = cm[i, i]\n",
    "    FN = np.sum(cm[i, :]) - TP\n",
    "    FP = np.sum(cm[:, i]) - TP\n",
    "    TN = np.sum(cm) - (TP + FN + FP)\n",
    "    \n",
    "    sensitivity = TP / (TP + FN) if (TP + FN) > 0 else 0\n",
    "    specificity = TN / (TN + FP) if (TN + FP) > 0 else 0\n",
    "    \n",
    "    sensitivities.append(sensitivity)\n",
    "    specificities.append(specificity)\n",
    "    \n",
    "    # 权重为该类别的真实样本数\n",
    "    class_weights.append(TP + FN)\n",
    "\n",
    "# 计算加权平均敏感性和特异性\n",
    "weighted_sensitivity = np.average(sensitivities, weights=class_weights)\n",
    "weighted_specificity = np.average(specificities, weights=class_weights)\n",
    "\n",
    "print(f\"Weighted Sensitivity: {weighted_sensitivity:.4f}\")\n",
    "print(f\"Weighted Specificity: {weighted_specificity:.4f}\")"
   ]
  },
  {
   "cell_type": "code",
   "execution_count": 70,
   "id": "7af8628e",
   "metadata": {},
   "outputs": [],
   "source": [
    "habs_prediction=pd.DataFrame({\"Truth\":list(y_true),\"Prediction\":list(predictions),\"Clearly positive\": list(np.array(predictions_probs)[:, 0]),\"Intermediate Negative\": list(np.array(predictions_probs)[:, 1]),\"Negative\": list(np.array(predictions_probs)[:, 2]),\"Weakly positive\": list(np.array(predictions_probs)[:, 3])})\n",
    "habs_prediction.to_csv(\"D:\\\\Research\\\\AD\\\\ADLLM\\\\ADNI process 9\\\\HABS-HD\\\\GB\\\\habs_testing_result.csv\",index=False)"
   ]
  },
  {
   "cell_type": "code",
   "execution_count": 61,
   "id": "43d0cea2",
   "metadata": {},
   "outputs": [
    {
     "name": "stdout",
     "output_type": "stream",
     "text": [
      "Existing categorical columns: ['Medication', 'Gender', 'Ethnicity', 'Race', 'Marrital status', 'Retired', 'Diagnosis of diabetes', 'Smoke history', 'Person of Color', 'Diagnosis of Type II diabetes', 'Occupation', 'Diagnosis of CVD']\n"
     ]
    }
   ],
   "source": [
    "existing_columns = [col for col in categorical_columns if col in pointer_testing.columns]\n",
    "\n",
    "# Debugging step: print the columns that exist in the dataset\n",
    "print(f\"Existing categorical columns: {existing_columns}\")"
   ]
  },
  {
   "cell_type": "code",
   "execution_count": 62,
   "id": "b766d334",
   "metadata": {},
   "outputs": [],
   "source": [
    "pointer_testing_new = pointer_testing[existing_columns].astype(object)"
   ]
  },
  {
   "cell_type": "code",
   "execution_count": 63,
   "id": "25980e48",
   "metadata": {},
   "outputs": [],
   "source": [
    "pointer_testing_new.fillna('unknown', inplace=True)"
   ]
  },
  {
   "cell_type": "code",
   "execution_count": 64,
   "id": "f3442fe6",
   "metadata": {},
   "outputs": [],
   "source": [
    "columns_not_in_existing = np.setdiff1d(pointer_testing.columns, existing_columns)\n",
    "\n",
    "# Modify the DataFrame by replacing NaN with 'Unknown' in the columns not in existing_columns\n",
    "pointer_testing_continuous  =pointer_testing[columns_not_in_existing].fillna(-9999)\n",
    "\n",
    "\n",
    "# Concatenating row-wise (default axis=0)\n",
    "combined_df_pointer = pd.concat([pointer_testing_continuous, pointer_testing_new], axis=1)\n",
    "#combined_df_pointer.to_csv(\"D:\\\\Research\\\\AD\\\\ADLLM\\\\ADNI process 9\\\\POINTER\\\\GB\\\\pointer_testing_final.csv\",index=False)"
   ]
  },
  {
   "cell_type": "code",
   "execution_count": 65,
   "id": "f85ee341",
   "metadata": {},
   "outputs": [],
   "source": [
    "import pandas as pd\n",
    "\n",
    "# Assume merged_df is already defined from previous steps\n",
    "\n",
    "# Define the bins and labels\n",
    "bins = [-float('inf'),20.0, 40, 60.0, float('inf')]\n",
    "labels = ['Negative', 'Weakly positive', 'Positive','Clearly positive']\n",
    "\n",
    "# Create a new column with the mapped values\n",
    "combined_df_pointer['CENTILOIDS_CATEGORY'] = pd.cut(combined_df_pointer['CENTILOIDS'], bins=bins, labels=labels)"
   ]
  },
  {
   "cell_type": "code",
   "execution_count": 91,
   "id": "2f6e1109",
   "metadata": {},
   "outputs": [
    {
     "data": {
      "text/html": [
       "<div>\n",
       "<style scoped>\n",
       "    .dataframe tbody tr th:only-of-type {\n",
       "        vertical-align: middle;\n",
       "    }\n",
       "\n",
       "    .dataframe tbody tr th {\n",
       "        vertical-align: top;\n",
       "    }\n",
       "\n",
       "    .dataframe thead th {\n",
       "        text-align: right;\n",
       "    }\n",
       "</style>\n",
       "<table border=\"1\" class=\"dataframe\">\n",
       "  <thead>\n",
       "    <tr style=\"text-align: right;\">\n",
       "      <th></th>\n",
       "      <th>APOE2</th>\n",
       "      <th>APOE4</th>\n",
       "      <th>Age</th>\n",
       "      <th>American National Adult Reading Test Total Errors</th>\n",
       "      <th>Amyloid beta 40 peptide in the blood plasma(pg/mL)</th>\n",
       "      <th>Amyloid beta 42 peptide in the blood plasma(pg/mL)</th>\n",
       "      <th>Animal Naming Total Score</th>\n",
       "      <th>Audit Total</th>\n",
       "      <th>Blood Work Glucose (mg/dL)</th>\n",
       "      <th>CENTILOIDS</th>\n",
       "      <th>...</th>\n",
       "      <th>Diagnosis of Stroke</th>\n",
       "      <th>Diagnosis of Thyroid disease</th>\n",
       "      <th>Diagnosis of High Cholesterol</th>\n",
       "      <th>Diagnosis of Anxiety</th>\n",
       "      <th>Diagnosis of High Blood Pressure</th>\n",
       "      <th>Diagnosis of traumatic brain injury</th>\n",
       "      <th>Diagnosis of Heart Attack</th>\n",
       "      <th>Diagnosis of Kidney disease</th>\n",
       "      <th>Diagnosis of Arthritis</th>\n",
       "      <th>CENTILOIDS_CATEGORY</th>\n",
       "    </tr>\n",
       "  </thead>\n",
       "  <tbody>\n",
       "    <tr>\n",
       "      <th>0</th>\n",
       "      <td>-9999.0</td>\n",
       "      <td>-9999.0</td>\n",
       "      <td>63</td>\n",
       "      <td>8.0</td>\n",
       "      <td>141.78</td>\n",
       "      <td>4.52</td>\n",
       "      <td>31</td>\n",
       "      <td>3</td>\n",
       "      <td>111.0</td>\n",
       "      <td>8.0</td>\n",
       "      <td>...</td>\n",
       "      <td>No stroke</td>\n",
       "      <td>No thyroid disease</td>\n",
       "      <td>No high cholesterol</td>\n",
       "      <td>No anxiety</td>\n",
       "      <td>High blood pressure</td>\n",
       "      <td>No traumatic brain injury</td>\n",
       "      <td>No heart attack</td>\n",
       "      <td>No kidney disease</td>\n",
       "      <td>No arthritis</td>\n",
       "      <td>Negative</td>\n",
       "    </tr>\n",
       "    <tr>\n",
       "      <th>1</th>\n",
       "      <td>-9999.0</td>\n",
       "      <td>-9999.0</td>\n",
       "      <td>58</td>\n",
       "      <td>17.0</td>\n",
       "      <td>163.50</td>\n",
       "      <td>4.61</td>\n",
       "      <td>17</td>\n",
       "      <td>2</td>\n",
       "      <td>175.0</td>\n",
       "      <td>3.0</td>\n",
       "      <td>...</td>\n",
       "      <td>No stroke</td>\n",
       "      <td>No thyroid disease</td>\n",
       "      <td>No high cholesterol</td>\n",
       "      <td>No anxiety</td>\n",
       "      <td>No high blood pressure</td>\n",
       "      <td>No traumatic brain injury</td>\n",
       "      <td>No heart attack</td>\n",
       "      <td>No kidney disease</td>\n",
       "      <td>No arthritis</td>\n",
       "      <td>Negative</td>\n",
       "    </tr>\n",
       "    <tr>\n",
       "      <th>2</th>\n",
       "      <td>-9999.0</td>\n",
       "      <td>-9999.0</td>\n",
       "      <td>59</td>\n",
       "      <td>21.0</td>\n",
       "      <td>161.96</td>\n",
       "      <td>6.44</td>\n",
       "      <td>27</td>\n",
       "      <td>7</td>\n",
       "      <td>118.0</td>\n",
       "      <td>-1.0</td>\n",
       "      <td>...</td>\n",
       "      <td>No stroke</td>\n",
       "      <td>No thyroid disease</td>\n",
       "      <td>High cholesterol</td>\n",
       "      <td>No anxiety</td>\n",
       "      <td>High blood pressure</td>\n",
       "      <td>No traumatic brain injury</td>\n",
       "      <td>No heart attack</td>\n",
       "      <td>No kidney disease</td>\n",
       "      <td>No arthritis</td>\n",
       "      <td>Negative</td>\n",
       "    </tr>\n",
       "    <tr>\n",
       "      <th>3</th>\n",
       "      <td>-9999.0</td>\n",
       "      <td>-9999.0</td>\n",
       "      <td>59</td>\n",
       "      <td>33.0</td>\n",
       "      <td>220.74</td>\n",
       "      <td>8.59</td>\n",
       "      <td>20</td>\n",
       "      <td>0</td>\n",
       "      <td>-9999.0</td>\n",
       "      <td>-6.0</td>\n",
       "      <td>...</td>\n",
       "      <td>No stroke</td>\n",
       "      <td>No thyroid disease</td>\n",
       "      <td>High cholesterol</td>\n",
       "      <td>No anxiety</td>\n",
       "      <td>High blood pressure</td>\n",
       "      <td>No traumatic brain injury</td>\n",
       "      <td>No heart attack</td>\n",
       "      <td>Kidney Disease</td>\n",
       "      <td>Arthritis</td>\n",
       "      <td>Negative</td>\n",
       "    </tr>\n",
       "    <tr>\n",
       "      <th>4</th>\n",
       "      <td>-9999.0</td>\n",
       "      <td>-9999.0</td>\n",
       "      <td>59</td>\n",
       "      <td>34.0</td>\n",
       "      <td>171.67</td>\n",
       "      <td>7.43</td>\n",
       "      <td>22</td>\n",
       "      <td>0</td>\n",
       "      <td>87.0</td>\n",
       "      <td>-8.0</td>\n",
       "      <td>...</td>\n",
       "      <td>No stroke</td>\n",
       "      <td>No thyroid disease</td>\n",
       "      <td>No high cholesterol</td>\n",
       "      <td>No anxiety</td>\n",
       "      <td>High blood pressure</td>\n",
       "      <td>No traumatic brain injury</td>\n",
       "      <td>No heart attack</td>\n",
       "      <td>No kidney disease</td>\n",
       "      <td>No arthritis</td>\n",
       "      <td>Negative</td>\n",
       "    </tr>\n",
       "    <tr>\n",
       "      <th>...</th>\n",
       "      <td>...</td>\n",
       "      <td>...</td>\n",
       "      <td>...</td>\n",
       "      <td>...</td>\n",
       "      <td>...</td>\n",
       "      <td>...</td>\n",
       "      <td>...</td>\n",
       "      <td>...</td>\n",
       "      <td>...</td>\n",
       "      <td>...</td>\n",
       "      <td>...</td>\n",
       "      <td>...</td>\n",
       "      <td>...</td>\n",
       "      <td>...</td>\n",
       "      <td>...</td>\n",
       "      <td>...</td>\n",
       "      <td>...</td>\n",
       "      <td>...</td>\n",
       "      <td>...</td>\n",
       "      <td>...</td>\n",
       "      <td>...</td>\n",
       "    </tr>\n",
       "    <tr>\n",
       "      <th>437</th>\n",
       "      <td>-9999.0</td>\n",
       "      <td>-9999.0</td>\n",
       "      <td>64</td>\n",
       "      <td>-9999.0</td>\n",
       "      <td>-9999.00</td>\n",
       "      <td>-9999.00</td>\n",
       "      <td>15</td>\n",
       "      <td>1</td>\n",
       "      <td>105.0</td>\n",
       "      <td>7.0</td>\n",
       "      <td>...</td>\n",
       "      <td>No stroke</td>\n",
       "      <td>Thyroid Disease</td>\n",
       "      <td>No high cholesterol</td>\n",
       "      <td>No anxiety</td>\n",
       "      <td>No high blood pressure</td>\n",
       "      <td>No traumatic brain injury</td>\n",
       "      <td>No heart attack</td>\n",
       "      <td>No kidney disease</td>\n",
       "      <td>Arthritis</td>\n",
       "      <td>Negative</td>\n",
       "    </tr>\n",
       "    <tr>\n",
       "      <th>438</th>\n",
       "      <td>-9999.0</td>\n",
       "      <td>-9999.0</td>\n",
       "      <td>54</td>\n",
       "      <td>29.0</td>\n",
       "      <td>-9999.00</td>\n",
       "      <td>-9999.00</td>\n",
       "      <td>21</td>\n",
       "      <td>1</td>\n",
       "      <td>107.0</td>\n",
       "      <td>-7.0</td>\n",
       "      <td>...</td>\n",
       "      <td>No stroke</td>\n",
       "      <td>Thyroid Disease</td>\n",
       "      <td>High cholesterol</td>\n",
       "      <td>No anxiety</td>\n",
       "      <td>High blood pressure</td>\n",
       "      <td>No traumatic brain injury</td>\n",
       "      <td>No heart attack</td>\n",
       "      <td>No kidney disease</td>\n",
       "      <td>No arthritis</td>\n",
       "      <td>Negative</td>\n",
       "    </tr>\n",
       "    <tr>\n",
       "      <th>439</th>\n",
       "      <td>-9999.0</td>\n",
       "      <td>-9999.0</td>\n",
       "      <td>57</td>\n",
       "      <td>19.0</td>\n",
       "      <td>-9999.00</td>\n",
       "      <td>-9999.00</td>\n",
       "      <td>18</td>\n",
       "      <td>1</td>\n",
       "      <td>123.0</td>\n",
       "      <td>2.0</td>\n",
       "      <td>...</td>\n",
       "      <td>No stroke</td>\n",
       "      <td>No thyroid disease</td>\n",
       "      <td>High cholesterol</td>\n",
       "      <td>Anxiety</td>\n",
       "      <td>High blood pressure</td>\n",
       "      <td>No traumatic brain injury</td>\n",
       "      <td>No heart attack</td>\n",
       "      <td>No kidney disease</td>\n",
       "      <td>No arthritis</td>\n",
       "      <td>Negative</td>\n",
       "    </tr>\n",
       "    <tr>\n",
       "      <th>440</th>\n",
       "      <td>-9999.0</td>\n",
       "      <td>-9999.0</td>\n",
       "      <td>68</td>\n",
       "      <td>-9999.0</td>\n",
       "      <td>-9999.00</td>\n",
       "      <td>-9999.00</td>\n",
       "      <td>12</td>\n",
       "      <td>0</td>\n",
       "      <td>155.0</td>\n",
       "      <td>51.0</td>\n",
       "      <td>...</td>\n",
       "      <td>No stroke</td>\n",
       "      <td>No thyroid disease</td>\n",
       "      <td>No high cholesterol</td>\n",
       "      <td>No anxiety</td>\n",
       "      <td>High blood pressure</td>\n",
       "      <td>No traumatic brain injury</td>\n",
       "      <td>No heart attack</td>\n",
       "      <td>No kidney disease</td>\n",
       "      <td>No arthritis</td>\n",
       "      <td>Positive</td>\n",
       "    </tr>\n",
       "    <tr>\n",
       "      <th>441</th>\n",
       "      <td>-9999.0</td>\n",
       "      <td>-9999.0</td>\n",
       "      <td>60</td>\n",
       "      <td>26.0</td>\n",
       "      <td>-9999.00</td>\n",
       "      <td>-9999.00</td>\n",
       "      <td>17</td>\n",
       "      <td>3</td>\n",
       "      <td>92.0</td>\n",
       "      <td>-5.0</td>\n",
       "      <td>...</td>\n",
       "      <td>No stroke</td>\n",
       "      <td>No thyroid disease</td>\n",
       "      <td>No high cholesterol</td>\n",
       "      <td>No anxiety</td>\n",
       "      <td>High blood pressure</td>\n",
       "      <td>No traumatic brain injury</td>\n",
       "      <td>No heart attack</td>\n",
       "      <td>No kidney disease</td>\n",
       "      <td>No arthritis</td>\n",
       "      <td>Negative</td>\n",
       "    </tr>\n",
       "  </tbody>\n",
       "</table>\n",
       "<p>442 rows × 80 columns</p>\n",
       "</div>"
      ],
      "text/plain": [
       "      APOE2   APOE4  Age  American National Adult Reading Test Total Errors  \\\n",
       "0   -9999.0 -9999.0   63                                                8.0   \n",
       "1   -9999.0 -9999.0   58                                               17.0   \n",
       "2   -9999.0 -9999.0   59                                               21.0   \n",
       "3   -9999.0 -9999.0   59                                               33.0   \n",
       "4   -9999.0 -9999.0   59                                               34.0   \n",
       "..      ...     ...  ...                                                ...   \n",
       "437 -9999.0 -9999.0   64                                            -9999.0   \n",
       "438 -9999.0 -9999.0   54                                               29.0   \n",
       "439 -9999.0 -9999.0   57                                               19.0   \n",
       "440 -9999.0 -9999.0   68                                            -9999.0   \n",
       "441 -9999.0 -9999.0   60                                               26.0   \n",
       "\n",
       "     Amyloid beta 40 peptide in the blood plasma(pg/mL)  \\\n",
       "0                                               141.78    \n",
       "1                                               163.50    \n",
       "2                                               161.96    \n",
       "3                                               220.74    \n",
       "4                                               171.67    \n",
       "..                                                 ...    \n",
       "437                                           -9999.00    \n",
       "438                                           -9999.00    \n",
       "439                                           -9999.00    \n",
       "440                                           -9999.00    \n",
       "441                                           -9999.00    \n",
       "\n",
       "     Amyloid beta 42 peptide in the blood plasma(pg/mL)  \\\n",
       "0                                                 4.52    \n",
       "1                                                 4.61    \n",
       "2                                                 6.44    \n",
       "3                                                 8.59    \n",
       "4                                                 7.43    \n",
       "..                                                 ...    \n",
       "437                                           -9999.00    \n",
       "438                                           -9999.00    \n",
       "439                                           -9999.00    \n",
       "440                                           -9999.00    \n",
       "441                                           -9999.00    \n",
       "\n",
       "     Animal Naming Total Score  Audit Total  Blood Work Glucose (mg/dL)  \\\n",
       "0                           31            3                       111.0   \n",
       "1                           17            2                       175.0   \n",
       "2                           27            7                       118.0   \n",
       "3                           20            0                     -9999.0   \n",
       "4                           22            0                        87.0   \n",
       "..                         ...          ...                         ...   \n",
       "437                         15            1                       105.0   \n",
       "438                         21            1                       107.0   \n",
       "439                         18            1                       123.0   \n",
       "440                         12            0                       155.0   \n",
       "441                         17            3                        92.0   \n",
       "\n",
       "     CENTILOIDS  ...  Diagnosis of Stroke  Diagnosis of Thyroid disease  \\\n",
       "0           8.0  ...            No stroke            No thyroid disease   \n",
       "1           3.0  ...            No stroke            No thyroid disease   \n",
       "2          -1.0  ...            No stroke            No thyroid disease   \n",
       "3          -6.0  ...            No stroke            No thyroid disease   \n",
       "4          -8.0  ...            No stroke            No thyroid disease   \n",
       "..          ...  ...                  ...                           ...   \n",
       "437         7.0  ...            No stroke               Thyroid Disease   \n",
       "438        -7.0  ...            No stroke               Thyroid Disease   \n",
       "439         2.0  ...            No stroke            No thyroid disease   \n",
       "440        51.0  ...            No stroke            No thyroid disease   \n",
       "441        -5.0  ...            No stroke            No thyroid disease   \n",
       "\n",
       "     Diagnosis of High Cholesterol  Diagnosis of Anxiety  \\\n",
       "0              No high cholesterol            No anxiety   \n",
       "1              No high cholesterol            No anxiety   \n",
       "2                 High cholesterol            No anxiety   \n",
       "3                 High cholesterol            No anxiety   \n",
       "4              No high cholesterol            No anxiety   \n",
       "..                             ...                   ...   \n",
       "437            No high cholesterol            No anxiety   \n",
       "438               High cholesterol            No anxiety   \n",
       "439               High cholesterol               Anxiety   \n",
       "440            No high cholesterol            No anxiety   \n",
       "441            No high cholesterol            No anxiety   \n",
       "\n",
       "     Diagnosis of High Blood Pressure  Diagnosis of traumatic brain injury  \\\n",
       "0                 High blood pressure            No traumatic brain injury   \n",
       "1              No high blood pressure            No traumatic brain injury   \n",
       "2                 High blood pressure            No traumatic brain injury   \n",
       "3                 High blood pressure            No traumatic brain injury   \n",
       "4                 High blood pressure            No traumatic brain injury   \n",
       "..                                ...                                  ...   \n",
       "437            No high blood pressure            No traumatic brain injury   \n",
       "438               High blood pressure            No traumatic brain injury   \n",
       "439               High blood pressure            No traumatic brain injury   \n",
       "440               High blood pressure            No traumatic brain injury   \n",
       "441               High blood pressure            No traumatic brain injury   \n",
       "\n",
       "     Diagnosis of Heart Attack  Diagnosis of Kidney disease  \\\n",
       "0              No heart attack            No kidney disease   \n",
       "1              No heart attack            No kidney disease   \n",
       "2              No heart attack            No kidney disease   \n",
       "3              No heart attack               Kidney Disease   \n",
       "4              No heart attack            No kidney disease   \n",
       "..                         ...                          ...   \n",
       "437            No heart attack            No kidney disease   \n",
       "438            No heart attack            No kidney disease   \n",
       "439            No heart attack            No kidney disease   \n",
       "440            No heart attack            No kidney disease   \n",
       "441            No heart attack            No kidney disease   \n",
       "\n",
       "     Diagnosis of Arthritis  CENTILOIDS_CATEGORY  \n",
       "0              No arthritis             Negative  \n",
       "1              No arthritis             Negative  \n",
       "2              No arthritis             Negative  \n",
       "3                 Arthritis             Negative  \n",
       "4              No arthritis             Negative  \n",
       "..                      ...                  ...  \n",
       "437               Arthritis             Negative  \n",
       "438            No arthritis             Negative  \n",
       "439            No arthritis             Negative  \n",
       "440            No arthritis             Positive  \n",
       "441            No arthritis             Negative  \n",
       "\n",
       "[442 rows x 80 columns]"
      ]
     },
     "execution_count": 91,
     "metadata": {},
     "output_type": "execute_result"
    }
   ],
   "source": [
    "combined_df_habs"
   ]
  },
  {
   "cell_type": "code",
   "execution_count": 66,
   "id": "66c87a07",
   "metadata": {},
   "outputs": [],
   "source": [
    "X_pointer=combined_df_pointer.drop(columns=['CENTILOIDS','CENTILOIDS_CATEGORY',\"PID\"], axis=1)\n",
    "y_pointer =combined_df_pointer.CENTILOIDS_CATEGORY"
   ]
  },
  {
   "cell_type": "code",
   "execution_count": 67,
   "id": "64bd1e41",
   "metadata": {},
   "outputs": [],
   "source": [
    "for feature in model_features:\n",
    "    if (feature not in  X_pointer.columns) and (feature in categorical_columns) :\n",
    "        X_pointer[feature] = \"unknown\"\n",
    "    elif (feature not in  X_pointer.columns) and (feature not in categorical_columns) :\n",
    "        X_pointer[feature] = -9999"
   ]
  },
  {
   "cell_type": "code",
   "execution_count": 68,
   "id": "aef82d93",
   "metadata": {},
   "outputs": [],
   "source": [
    "X_pointer= X_pointer[model_features ]"
   ]
  },
  {
   "cell_type": "code",
   "execution_count": 69,
   "id": "574bd2f9",
   "metadata": {},
   "outputs": [],
   "source": [
    "predictions = model_abeta.predict(X_pointer)\n",
    "predictions_probs = model_abeta.predict_proba(X_pointer)"
   ]
  },
  {
   "cell_type": "code",
   "execution_count": 71,
   "id": "d3b2caff",
   "metadata": {},
   "outputs": [
    {
     "data": {
      "image/png": "[encoded data removed]",
      "text/plain": [
       "<Figure size 576x432 with 2 Axes>"
      ]
     },
     "metadata": {
      "needs_background": "light"
     },
     "output_type": "display_data"
    }
   ],
   "source": [
    "import numpy as np\n",
    "import matplotlib.pyplot as plt\n",
    "import seaborn as sns\n",
    "from sklearn.metrics import confusion_matrix, ConfusionMatrixDisplay\n",
    "\n",
    "# Example true labels and predictions\n",
    "y_true = y_pointer\n",
    "y_pred =predictions\n",
    "\n",
    "\n",
    "\n",
    "desired_order = ['Clearly positive', 'Positive', 'Weakly positive', 'Negative']\n",
    "# Filter out 'Unknown' class from both true and predicted labels\n",
    "\n",
    "\n",
    "# Compute the confusion matrix\n",
    "cm = confusion_matrix(y_true, y_pred, labels=desired_order)\n",
    "\n",
    "# Create a heatmap to visualize the confusion matrix\n",
    "plt.figure(figsize=(8, 6))\n",
    "sns.heatmap(cm, annot=True, fmt='d', cmap='Blues', xticklabels=desired_order, yticklabels=desired_order)\n",
    "plt.xlabel('Predicted Labels')\n",
    "plt.ylabel('True Labels')\n",
    "plt.title('Confusion Matrix')\n",
    "plt.show()"
   ]
  },
  {
   "cell_type": "code",
   "execution_count": 81,
   "id": "8a692886",
   "metadata": {},
   "outputs": [
    {
     "name": "stdout",
     "output_type": "stream",
     "text": [
      "Weighted Sensitivity: 0.7500\n",
      "Weighted Specificity: 0.2500\n"
     ]
    }
   ],
   "source": [
    "# 初始化敏感性和特异性的列表\n",
    "sensitivities = []\n",
    "specificities = []\n",
    "class_weights = []\n",
    "\n",
    "# 遍历每个类别计算敏感性和特异性\n",
    "for i in range(len(cm)):\n",
    "    TP = cm[i, i]\n",
    "    FN = np.sum(cm[i, :]) - TP\n",
    "    FP = np.sum(cm[:, i]) - TP\n",
    "    TN = np.sum(cm) - (TP + FN + FP)\n",
    "    \n",
    "    sensitivity = TP / (TP + FN) if (TP + FN) > 0 else 0\n",
    "    specificity = TN / (TN + FP) if (TN + FP) > 0 else 0\n",
    "    \n",
    "    sensitivities.append(sensitivity)\n",
    "    specificities.append(specificity)\n",
    "    \n",
    "    # 权重为该类别的真实样本数\n",
    "    class_weights.append(TP + FN)\n",
    "\n",
    "# 计算加权平均敏感性和特异性\n",
    "weighted_sensitivity = np.average(sensitivities, weights=class_weights)\n",
    "weighted_specificity = np.average(specificities, weights=class_weights)\n",
    "\n",
    "print(f\"Weighted Sensitivity: {weighted_sensitivity:.4f}\")\n",
    "print(f\"Weighted Specificity: {weighted_specificity:.4f}\")"
   ]
  },
  {
   "cell_type": "code",
   "execution_count": 82,
   "id": "04075333",
   "metadata": {},
   "outputs": [
    {
     "name": "stdout",
     "output_type": "stream",
     "text": [
      "One-vs-Rest AUC for each class:\n",
      "Class Clearly positive vs Rest: 0.6851637764932563\n",
      "Class Intermediate negative vs Rest: 0.5959509552323923\n",
      "Class Negative vs Rest: 0.6720989889844575\n",
      "Class Weakly positive vs Rest: 0.6702619414483821\n",
      "Overall One-vs-Rest AUC: 0.655868915539622\n"
     ]
    }
   ],
   "source": [
    "from sklearn.preprocessing import LabelEncoder, OneHotEncoder\n",
    "from sklearn.metrics import roc_auc_score, precision_recall_fscore_support, roc_curve, auc\n",
    "from sklearn.preprocessing import label_binarize\n",
    "import numpy as np\n",
    "from sklearn.preprocessing import LabelEncoder, OneHotEncoder\n",
    "\n",
    "label_encoder = LabelEncoder()\n",
    "y_true_encoded = label_encoder.fit_transform(y_true)\n",
    "\n",
    "# Binarize the output\n",
    "one_hot_encoder = OneHotEncoder()\n",
    "y_true_binarized = one_hot_encoder.fit_transform(y_true_encoded.reshape(-1, 1)).toarray()\n",
    "class_weights = []\n",
    "auc_list=[]\n",
    "# Compute AUC for the one-vs-rest (ovr) method for all classes\n",
    "ovr_aucs = {}\n",
    "for i in range(y_true_binarized.shape[1]):\n",
    "    auc = roc_auc_score(list(np.array(y_true_binarized)[:, i]), list(np.array(predictions_probs)[:, i]))\n",
    "    ovr_aucs[f\"Class {label_encoder.classes_[i]} vs Rest\"] = auc\n",
    "    auc_list.append(auc)\n",
    "    class_weights.append(np.sum(y_true == label_encoder.classes_[i]))\n",
    "print(\"One-vs-Rest AUC for each class:\")\n",
    "for class_label, auc in ovr_aucs.items():\n",
    "    print(f\"{class_label}: {auc}\")\n",
    "\n",
    "# Overall One-vs-Rest AUC\n",
    "overall_ovr_auc = roc_auc_score(y_true_binarized,predictions_probs, multi_class='ovr')\n",
    "print(f\"Overall One-vs-Rest AUC: {overall_ovr_auc}\")"
   ]
  },
  {
   "cell_type": "code",
   "execution_count": 83,
   "id": "d0f93788",
   "metadata": {},
   "outputs": [],
   "source": [
    "weighted_auc = np.average(auc_list, weights=class_weights)"
   ]
  },
  {
   "cell_type": "code",
   "execution_count": 84,
   "id": "8f171bb3",
   "metadata": {},
   "outputs": [
    {
     "data": {
      "text/plain": [
       "0.6645280080320203"
      ]
     },
     "execution_count": 84,
     "metadata": {},
     "output_type": "execute_result"
    }
   ],
   "source": [
    "weighted_auc"
   ]
  },
  {
   "cell_type": "code",
   "execution_count": 85,
   "id": "4288b346",
   "metadata": {},
   "outputs": [],
   "source": [
    "pointer_prediction=pd.DataFrame({\"Truth\":list(y_true),\"Prediction\":list(predictions),\"Clearly positive\": list(np.array(predictions_probs)[:, 0]),\"Intermediate Negative\": list(np.array(predictions_probs)[:, 1]),\"Negative\": list(np.array(predictions_probs)[:, 2]),\"Weakly positive\": list(np.array(predictions_probs)[:, 3])})\n",
    "pointer_prediction.to_csv(\"D:\\\\Research\\\\AD\\\\ADLLM\\\\ADNI process 9\\\\POINTER\\\\GB\\\\pointer_testing_result.csv\",index=False)"
   ]
  },
  {
   "cell_type": "code",
   "execution_count": 84,
   "id": "13c82319",
   "metadata": {},
   "outputs": [
    {
     "name": "stdout",
     "output_type": "stream",
     "text": [
      "Existing categorical columns: ['Diagnosis', 'Gender', 'Ethnicity', 'Race', 'Marrital status', 'Retired']\n"
     ]
    }
   ],
   "source": [
    "existing_columns = [col for col in categorical_columns if col in A4_test.columns]\n",
    "\n",
    "# Debugging step: print the columns that exist in the dataset\n",
    "print(f\"Existing categorical columns: {existing_columns}\")\n",
    "A4_test_new= A4_test[existing_columns].astype(object)\n",
    "A4_test_new.fillna('unknown', inplace=True)\n",
    "columns_not_in_existing = np.setdiff1d(A4_test.columns, existing_columns)\n",
    "\n",
    "# Modify the DataFrame by replacing NaN with 'Unknown' in the columns not in existing_columns\n",
    "A4_test_continuous  =A4_test[columns_not_in_existing].fillna(-9999)\n",
    "\n",
    "# Concatenating row-wise (default axis=0)\n",
    "combined_df_A4 = pd.concat([A4_test_continuous, A4_test_new], axis=1)\n",
    "combined_df_A4.to_csv(\"D:\\\\Research\\\\AD\\\\ADLLM\\\\ADNI process 9\\\\A4\\\\GB\\\\A4_testing_final.csv\",index=False)\n",
    "import pandas as pd\n",
    "\n",
    "# Assume merged_df is already defined from previous steps\n",
    "\n",
    "# Define the bins and labels\n",
    "bins = [-float('inf'),20.0, 40, 60.0, float('inf')]\n",
    "labels = ['Negative', 'Weakly positive', 'Positive','Clearly positive']\n",
    "\n",
    "# Create a new column with the mapped values\n",
    "combined_df_A4 ['CENTILOIDS_CATEGORY'] = pd.cut(combined_df_A4 ['centiloid'], bins=bins, labels=labels)\n"
   ]
  },
  {
   "cell_type": "code",
   "execution_count": 85,
   "id": "bc191475",
   "metadata": {},
   "outputs": [],
   "source": [
    "X_A4=combined_df_A4 .drop(columns=['centiloid','CENTILOIDS_CATEGORY',\"BID\"], axis=1)\n",
    "y_A4 =combined_df_A4 .CENTILOIDS_CATEGORY"
   ]
  },
  {
   "cell_type": "code",
   "execution_count": 86,
   "id": "889d2a8a",
   "metadata": {},
   "outputs": [
    {
     "name": "stderr",
     "output_type": "stream",
     "text": [
      "C:\\Users\\25110\\AppData\\Local\\Temp/ipykernel_7648/2323672756.py:5: PerformanceWarning: DataFrame is highly fragmented.  This is usually the result of calling `frame.insert` many times, which has poor performance.  Consider joining all columns at once using pd.concat(axis=1) instead. To get a de-fragmented frame, use `newframe = frame.copy()`\n",
      "  X_A4 [feature] = -9999\n",
      "C:\\Users\\25110\\AppData\\Local\\Temp/ipykernel_7648/2323672756.py:5: PerformanceWarning: DataFrame is highly fragmented.  This is usually the result of calling `frame.insert` many times, which has poor performance.  Consider joining all columns at once using pd.concat(axis=1) instead. To get a de-fragmented frame, use `newframe = frame.copy()`\n",
      "  X_A4 [feature] = -9999\n",
      "C:\\Users\\25110\\AppData\\Local\\Temp/ipykernel_7648/2323672756.py:3: PerformanceWarning: DataFrame is highly fragmented.  This is usually the result of calling `frame.insert` many times, which has poor performance.  Consider joining all columns at once using pd.concat(axis=1) instead. To get a de-fragmented frame, use `newframe = frame.copy()`\n",
      "  X_A4 [feature] = \"unknown\"\n",
      "C:\\Users\\25110\\AppData\\Local\\Temp/ipykernel_7648/2323672756.py:5: PerformanceWarning: DataFrame is highly fragmented.  This is usually the result of calling `frame.insert` many times, which has poor performance.  Consider joining all columns at once using pd.concat(axis=1) instead. To get a de-fragmented frame, use `newframe = frame.copy()`\n",
      "  X_A4 [feature] = -9999\n",
      "C:\\Users\\25110\\AppData\\Local\\Temp/ipykernel_7648/2323672756.py:5: PerformanceWarning: DataFrame is highly fragmented.  This is usually the result of calling `frame.insert` many times, which has poor performance.  Consider joining all columns at once using pd.concat(axis=1) instead. To get a de-fragmented frame, use `newframe = frame.copy()`\n",
      "  X_A4 [feature] = -9999\n",
      "C:\\Users\\25110\\AppData\\Local\\Temp/ipykernel_7648/2323672756.py:5: PerformanceWarning: DataFrame is highly fragmented.  This is usually the result of calling `frame.insert` many times, which has poor performance.  Consider joining all columns at once using pd.concat(axis=1) instead. To get a de-fragmented frame, use `newframe = frame.copy()`\n",
      "  X_A4 [feature] = -9999\n",
      "C:\\Users\\25110\\AppData\\Local\\Temp/ipykernel_7648/2323672756.py:5: PerformanceWarning: DataFrame is highly fragmented.  This is usually the result of calling `frame.insert` many times, which has poor performance.  Consider joining all columns at once using pd.concat(axis=1) instead. To get a de-fragmented frame, use `newframe = frame.copy()`\n",
      "  X_A4 [feature] = -9999\n",
      "C:\\Users\\25110\\AppData\\Local\\Temp/ipykernel_7648/2323672756.py:3: PerformanceWarning: DataFrame is highly fragmented.  This is usually the result of calling `frame.insert` many times, which has poor performance.  Consider joining all columns at once using pd.concat(axis=1) instead. To get a de-fragmented frame, use `newframe = frame.copy()`\n",
      "  X_A4 [feature] = \"unknown\"\n",
      "C:\\Users\\25110\\AppData\\Local\\Temp/ipykernel_7648/2323672756.py:5: PerformanceWarning: DataFrame is highly fragmented.  This is usually the result of calling `frame.insert` many times, which has poor performance.  Consider joining all columns at once using pd.concat(axis=1) instead. To get a de-fragmented frame, use `newframe = frame.copy()`\n",
      "  X_A4 [feature] = -9999\n",
      "C:\\Users\\25110\\AppData\\Local\\Temp/ipykernel_7648/2323672756.py:3: PerformanceWarning: DataFrame is highly fragmented.  This is usually the result of calling `frame.insert` many times, which has poor performance.  Consider joining all columns at once using pd.concat(axis=1) instead. To get a de-fragmented frame, use `newframe = frame.copy()`\n",
      "  X_A4 [feature] = \"unknown\"\n",
      "C:\\Users\\25110\\AppData\\Local\\Temp/ipykernel_7648/2323672756.py:5: PerformanceWarning: DataFrame is highly fragmented.  This is usually the result of calling `frame.insert` many times, which has poor performance.  Consider joining all columns at once using pd.concat(axis=1) instead. To get a de-fragmented frame, use `newframe = frame.copy()`\n",
      "  X_A4 [feature] = -9999\n",
      "C:\\Users\\25110\\AppData\\Local\\Temp/ipykernel_7648/2323672756.py:5: PerformanceWarning: DataFrame is highly fragmented.  This is usually the result of calling `frame.insert` many times, which has poor performance.  Consider joining all columns at once using pd.concat(axis=1) instead. To get a de-fragmented frame, use `newframe = frame.copy()`\n",
      "  X_A4 [feature] = -9999\n",
      "C:\\Users\\25110\\AppData\\Local\\Temp/ipykernel_7648/2323672756.py:3: PerformanceWarning: DataFrame is highly fragmented.  This is usually the result of calling `frame.insert` many times, which has poor performance.  Consider joining all columns at once using pd.concat(axis=1) instead. To get a de-fragmented frame, use `newframe = frame.copy()`\n",
      "  X_A4 [feature] = \"unknown\"\n",
      "C:\\Users\\25110\\AppData\\Local\\Temp/ipykernel_7648/2323672756.py:5: PerformanceWarning: DataFrame is highly fragmented.  This is usually the result of calling `frame.insert` many times, which has poor performance.  Consider joining all columns at once using pd.concat(axis=1) instead. To get a de-fragmented frame, use `newframe = frame.copy()`\n",
      "  X_A4 [feature] = -9999\n",
      "C:\\Users\\25110\\AppData\\Local\\Temp/ipykernel_7648/2323672756.py:5: PerformanceWarning: DataFrame is highly fragmented.  This is usually the result of calling `frame.insert` many times, which has poor performance.  Consider joining all columns at once using pd.concat(axis=1) instead. To get a de-fragmented frame, use `newframe = frame.copy()`\n",
      "  X_A4 [feature] = -9999\n",
      "C:\\Users\\25110\\AppData\\Local\\Temp/ipykernel_7648/2323672756.py:5: PerformanceWarning: DataFrame is highly fragmented.  This is usually the result of calling `frame.insert` many times, which has poor performance.  Consider joining all columns at once using pd.concat(axis=1) instead. To get a de-fragmented frame, use `newframe = frame.copy()`\n",
      "  X_A4 [feature] = -9999\n",
      "C:\\Users\\25110\\AppData\\Local\\Temp/ipykernel_7648/2323672756.py:3: PerformanceWarning: DataFrame is highly fragmented.  This is usually the result of calling `frame.insert` many times, which has poor performance.  Consider joining all columns at once using pd.concat(axis=1) instead. To get a de-fragmented frame, use `newframe = frame.copy()`\n",
      "  X_A4 [feature] = \"unknown\"\n",
      "C:\\Users\\25110\\AppData\\Local\\Temp/ipykernel_7648/2323672756.py:5: PerformanceWarning: DataFrame is highly fragmented.  This is usually the result of calling `frame.insert` many times, which has poor performance.  Consider joining all columns at once using pd.concat(axis=1) instead. To get a de-fragmented frame, use `newframe = frame.copy()`\n",
      "  X_A4 [feature] = -9999\n",
      "C:\\Users\\25110\\AppData\\Local\\Temp/ipykernel_7648/2323672756.py:5: PerformanceWarning: DataFrame is highly fragmented.  This is usually the result of calling `frame.insert` many times, which has poor performance.  Consider joining all columns at once using pd.concat(axis=1) instead. To get a de-fragmented frame, use `newframe = frame.copy()`\n",
      "  X_A4 [feature] = -9999\n",
      "C:\\Users\\25110\\AppData\\Local\\Temp/ipykernel_7648/2323672756.py:5: PerformanceWarning: DataFrame is highly fragmented.  This is usually the result of calling `frame.insert` many times, which has poor performance.  Consider joining all columns at once using pd.concat(axis=1) instead. To get a de-fragmented frame, use `newframe = frame.copy()`\n",
      "  X_A4 [feature] = -9999\n",
      "C:\\Users\\25110\\AppData\\Local\\Temp/ipykernel_7648/2323672756.py:5: PerformanceWarning: DataFrame is highly fragmented.  This is usually the result of calling `frame.insert` many times, which has poor performance.  Consider joining all columns at once using pd.concat(axis=1) instead. To get a de-fragmented frame, use `newframe = frame.copy()`\n",
      "  X_A4 [feature] = -9999\n",
      "C:\\Users\\25110\\AppData\\Local\\Temp/ipykernel_7648/2323672756.py:5: PerformanceWarning: DataFrame is highly fragmented.  This is usually the result of calling `frame.insert` many times, which has poor performance.  Consider joining all columns at once using pd.concat(axis=1) instead. To get a de-fragmented frame, use `newframe = frame.copy()`\n",
      "  X_A4 [feature] = -9999\n",
      "C:\\Users\\25110\\AppData\\Local\\Temp/ipykernel_7648/2323672756.py:5: PerformanceWarning: DataFrame is highly fragmented.  This is usually the result of calling `frame.insert` many times, which has poor performance.  Consider joining all columns at once using pd.concat(axis=1) instead. To get a de-fragmented frame, use `newframe = frame.copy()`\n",
      "  X_A4 [feature] = -9999\n"
     ]
    }
   ],
   "source": [
    "for feature in model_features:\n",
    "    if (feature not in combined_df_A4 .columns) and (feature in categorical_columns) :\n",
    "        X_A4 [feature] = \"unknown\"\n",
    "    elif (feature not in  combined_df_A4 .columns) and (feature not in categorical_columns) :\n",
    "        X_A4 [feature] = -9999"
   ]
  },
  {
   "cell_type": "code",
   "execution_count": 87,
   "id": "0c18b884",
   "metadata": {},
   "outputs": [],
   "source": [
    "X_A4 = X_A4 [model_features ]"
   ]
  },
  {
   "cell_type": "code",
   "execution_count": 88,
   "id": "7856078d",
   "metadata": {},
   "outputs": [],
   "source": [
    "predictions = model_abeta.predict(X_A4 )\n",
    "predictions_probs = model_abeta.predict_proba(X_A4 )"
   ]
  },
  {
   "cell_type": "code",
   "execution_count": 89,
   "id": "0029930d",
   "metadata": {},
   "outputs": [
    {
     "data": {
      "image/png": "[encoded data removed]",
      "text/plain": [
       "<Figure size 576x432 with 2 Axes>"
      ]
     },
     "metadata": {
      "needs_background": "light"
     },
     "output_type": "display_data"
    }
   ],
   "source": [
    "import numpy as np\n",
    "import matplotlib.pyplot as plt\n",
    "import seaborn as sns\n",
    "from sklearn.metrics import confusion_matrix, ConfusionMatrixDisplay\n",
    "\n",
    "# Example true labels and predictions\n",
    "y_true = y_A4\n",
    "y_pred =predictions\n",
    "\n",
    "\n",
    "\n",
    "desired_order =  ['Clearly positive', 'Positive', 'Weakly positive', 'Negative']\n",
    "# Filter out 'Unknown' class from both true and predicted labels\n",
    "\n",
    "\n",
    "# Compute the confusion matrix\n",
    "cm = confusion_matrix(y_true, y_pred, labels=desired_order)\n",
    "\n",
    "# Create a heatmap to visualize the confusion matrix\n",
    "plt.figure(figsize=(8, 6))\n",
    "sns.heatmap(cm, annot=True, fmt='d', cmap='Blues', xticklabels=desired_order, yticklabels=desired_order)\n",
    "plt.xlabel('Predicted Labels')\n",
    "plt.ylabel('True Labels')\n",
    "plt.title('Confusion Matrix')\n",
    "plt.show()"
   ]
  },
  {
   "cell_type": "code",
   "execution_count": 92,
   "id": "1c76e532",
   "metadata": {},
   "outputs": [
    {
     "name": "stdout",
     "output_type": "stream",
     "text": [
      "Weighted Sensitivity: 0.2045\n",
      "Weighted Specificity: 0.8520\n"
     ]
    }
   ],
   "source": [
    "# 初始化敏感性和特异性的列表\n",
    "sensitivities = []\n",
    "specificities = []\n",
    "class_weights = []\n",
    "\n",
    "# 遍历每个类别计算敏感性和特异性\n",
    "for i in range(len(cm)):\n",
    "    TP = cm[i, i]\n",
    "    FN = np.sum(cm[i, :]) - TP\n",
    "    FP = np.sum(cm[:, i]) - TP\n",
    "    TN = np.sum(cm) - (TP + FN + FP)\n",
    "    \n",
    "    sensitivity = TP / (TP + FN) if (TP + FN) > 0 else 0\n",
    "    specificity = TN / (TN + FP) if (TN + FP) > 0 else 0\n",
    "    \n",
    "    sensitivities.append(sensitivity)\n",
    "    specificities.append(specificity)\n",
    "    \n",
    "    # 权重为该类别的真实样本数\n",
    "    class_weights.append(TP + FN)\n",
    "\n",
    "# 计算加权平均敏感性和特异性\n",
    "weighted_sensitivity = np.average(sensitivities, weights=class_weights)\n",
    "weighted_specificity = np.average(specificities, weights=class_weights)\n",
    "\n",
    "print(f\"Weighted Sensitivity: {weighted_sensitivity:.4f}\")\n",
    "print(f\"Weighted Specificity: {weighted_specificity:.4f}\")"
   ]
  },
  {
   "cell_type": "code",
   "execution_count": 93,
   "id": "450e47ab",
   "metadata": {},
   "outputs": [
    {
     "name": "stdout",
     "output_type": "stream",
     "text": [
      "One-vs-Rest AUC for each class:\n",
      "Class Clearly positive vs Rest: 0.7385276437219541\n",
      "Class Intermediate negative vs Rest: 0.39462948100588546\n",
      "Class Negative vs Rest: 0.7317290552584671\n",
      "Class Weakly positive vs Rest: 0.47558951465201466\n",
      "Overall One-vs-Rest AUC: 0.5851189236595803\n"
     ]
    }
   ],
   "source": [
    "from sklearn.preprocessing import LabelEncoder, OneHotEncoder\n",
    "from sklearn.metrics import roc_auc_score, precision_recall_fscore_support, roc_curve, auc\n",
    "from sklearn.preprocessing import label_binarize\n",
    "import numpy as np\n",
    "from sklearn.preprocessing import LabelEncoder, OneHotEncoder\n",
    "\n",
    "label_encoder = LabelEncoder()\n",
    "y_true_encoded = label_encoder.fit_transform(y_true)\n",
    "\n",
    "# Binarize the output\n",
    "one_hot_encoder = OneHotEncoder()\n",
    "y_true_binarized = one_hot_encoder.fit_transform(y_true_encoded.reshape(-1, 1)).toarray()\n",
    "class_weights = []\n",
    "auc_list=[]\n",
    "# Compute AUC for the one-vs-rest (ovr) method for all classes\n",
    "ovr_aucs = {}\n",
    "for i in range(y_true_binarized.shape[1]):\n",
    "    auc = roc_auc_score(list(np.array(y_true_binarized)[:, i]), list(np.array(predictions_probs)[:, i]))\n",
    "    ovr_aucs[f\"Class {label_encoder.classes_[i]} vs Rest\"] = auc\n",
    "    auc_list.append(auc)\n",
    "    class_weights.append(np.sum(y_true == label_encoder.classes_[i]))\n",
    "print(\"One-vs-Rest AUC for each class:\")\n",
    "for class_label, auc in ovr_aucs.items():\n",
    "    print(f\"{class_label}: {auc}\")\n",
    "\n",
    "# Overall One-vs-Rest AUC\n",
    "overall_ovr_auc = roc_auc_score(y_true_binarized,predictions_probs, multi_class='ovr')\n",
    "print(f\"Overall One-vs-Rest AUC: {overall_ovr_auc}\")"
   ]
  },
  {
   "cell_type": "code",
   "execution_count": 94,
   "id": "9faef117",
   "metadata": {},
   "outputs": [],
   "source": [
    "weighted_auc = np.average(auc_list, weights=class_weights)"
   ]
  },
  {
   "cell_type": "code",
   "execution_count": 95,
   "id": "33f6cbf3",
   "metadata": {},
   "outputs": [
    {
     "data": {
      "text/plain": [
       "0.6097055575173776"
      ]
     },
     "execution_count": 95,
     "metadata": {},
     "output_type": "execute_result"
    }
   ],
   "source": [
    "weighted_auc"
   ]
  },
  {
   "cell_type": "code",
   "execution_count": 96,
   "id": "90cbbfdb",
   "metadata": {},
   "outputs": [],
   "source": [
    "A4_prediction=pd.DataFrame({\"Truth\":list(y_true),\"Prediction\":list(predictions),\"Clearly positive\": list(np.array(predictions_probs)[:, 0]),\"Intermediate Negative\": list(np.array(predictions_probs)[:, 1]),\"Negative\": list(np.array(predictions_probs)[:, 2]),\"Weakly positive\": list(np.array(predictions_probs)[:, 3])})\n",
    "A4_prediction.to_csv(\"D:\\\\Research\\\\AD\\\\ADLLM\\\\ADNI process 9\\\\A4\\\\GB\\\\A4_testing_result_abeta.csv\",index=False)"
   ]
  },
  {
   "cell_type": "code",
   "execution_count": 97,
   "id": "fd9cd295",
   "metadata": {},
   "outputs": [
    {
     "data": {
      "text/plain": [
       "<catboost.core.CatBoostClassifier at 0x29c10058d60>"
      ]
     },
     "execution_count": 97,
     "metadata": {},
     "output_type": "execute_result"
    }
   ],
   "source": [
    "model_abeta"
   ]
  },
  {
   "cell_type": "markdown",
   "id": "79590e3d",
   "metadata": {},
   "source": [
    "## Incomplete"
   ]
  },
  {
   "cell_type": "code",
   "execution_count": 98,
   "id": "9e774c97",
   "metadata": {},
   "outputs": [],
   "source": [
    "\n",
    "X_adni_subset=X_adni[(X_adni['Amyloid beta 40 in Cerebrospinal Fluid (pg/mL)']!=-9999) | (X_adni[\"Amyloid beta 42 in Cerebrospinal Fluid (pg/mL)\"]!=-9999) | (X_adni[\"Tau protein concentration in Cerebrospinal Fluid (pg/mL)\"]!=-9999) |(X_adni[\"Phosphorylated tau protein in Cerebrospinal Fluid (pg/mL)\"]!=-9999)]\n",
    "y_adni_subset=y_adni[X_adni_subset.index]\n"
   ]
  },
  {
   "cell_type": "code",
   "execution_count": 99,
   "id": "10976183",
   "metadata": {},
   "outputs": [
    {
     "data": {
      "text/html": [
       "<div>\n",
       "<style scoped>\n",
       "    .dataframe tbody tr th:only-of-type {\n",
       "        vertical-align: middle;\n",
       "    }\n",
       "\n",
       "    .dataframe tbody tr th {\n",
       "        vertical-align: top;\n",
       "    }\n",
       "\n",
       "    .dataframe thead th {\n",
       "        text-align: right;\n",
       "    }\n",
       "</style>\n",
       "<table border=\"1\" class=\"dataframe\">\n",
       "  <thead>\n",
       "    <tr style=\"text-align: right;\">\n",
       "      <th></th>\n",
       "      <th>Mini-Mental State Examination score</th>\n",
       "      <th>Age</th>\n",
       "      <th>Medication</th>\n",
       "      <th>Diagnosis</th>\n",
       "      <th>Diagnosis of Depression</th>\n",
       "      <th>Diagnosis of Parkinson's disease</th>\n",
       "      <th>Geriatric Depression Scale</th>\n",
       "      <th>Clock Drawing Test score</th>\n",
       "      <th>American National Adult Reading Test Total Errors</th>\n",
       "      <th>Neuropsychiatric Inventory Total Score</th>\n",
       "      <th>...</th>\n",
       "      <th>Physician's Estimate of Duration total</th>\n",
       "      <th>Short Survey Pain Scale</th>\n",
       "      <th>Grand Total of FAS Word</th>\n",
       "      <th>Diagnosis of Anxiety</th>\n",
       "      <th>SEVLT Trial 5 total</th>\n",
       "      <th>Executive Function Domain Score</th>\n",
       "      <th>Audit Total</th>\n",
       "      <th>Low Education</th>\n",
       "      <th>Smoking history</th>\n",
       "      <th>Global Composite Score (primary outcome)</th>\n",
       "    </tr>\n",
       "  </thead>\n",
       "  <tbody>\n",
       "    <tr>\n",
       "      <th>0</th>\n",
       "      <td>30.0</td>\n",
       "      <td>73.2</td>\n",
       "      <td>unknown</td>\n",
       "      <td>Cognitive normal</td>\n",
       "      <td>unknown</td>\n",
       "      <td>unknown</td>\n",
       "      <td>2.0</td>\n",
       "      <td>-9999.0</td>\n",
       "      <td>-9999.0</td>\n",
       "      <td>-9999.0</td>\n",
       "      <td>...</td>\n",
       "      <td>-9999</td>\n",
       "      <td>-9999</td>\n",
       "      <td>-9999</td>\n",
       "      <td>unknown</td>\n",
       "      <td>-9999</td>\n",
       "      <td>-9999</td>\n",
       "      <td>-9999</td>\n",
       "      <td>-9999</td>\n",
       "      <td>-9999</td>\n",
       "      <td>-9999</td>\n",
       "    </tr>\n",
       "    <tr>\n",
       "      <th>1</th>\n",
       "      <td>26.0</td>\n",
       "      <td>80.2</td>\n",
       "      <td>Aricept | Anti-depressant medication</td>\n",
       "      <td>Mildly cognitive impairment</td>\n",
       "      <td>No depressive symptoms</td>\n",
       "      <td>No parkinsonism symptoms</td>\n",
       "      <td>1.0</td>\n",
       "      <td>5.0</td>\n",
       "      <td>-9999.0</td>\n",
       "      <td>-9999.0</td>\n",
       "      <td>...</td>\n",
       "      <td>-9999</td>\n",
       "      <td>-9999</td>\n",
       "      <td>-9999</td>\n",
       "      <td>unknown</td>\n",
       "      <td>-9999</td>\n",
       "      <td>-9999</td>\n",
       "      <td>-9999</td>\n",
       "      <td>-9999</td>\n",
       "      <td>-9999</td>\n",
       "      <td>-9999</td>\n",
       "    </tr>\n",
       "    <tr>\n",
       "      <th>2</th>\n",
       "      <td>24.0</td>\n",
       "      <td>82.3</td>\n",
       "      <td>Aricept | Anti-depressant medication</td>\n",
       "      <td>Dementia</td>\n",
       "      <td>No depressive symptoms</td>\n",
       "      <td>No parkinsonism symptoms</td>\n",
       "      <td>4.0</td>\n",
       "      <td>5.0</td>\n",
       "      <td>-9999.0</td>\n",
       "      <td>-9999.0</td>\n",
       "      <td>...</td>\n",
       "      <td>-9999</td>\n",
       "      <td>-9999</td>\n",
       "      <td>-9999</td>\n",
       "      <td>unknown</td>\n",
       "      <td>-9999</td>\n",
       "      <td>-9999</td>\n",
       "      <td>-9999</td>\n",
       "      <td>-9999</td>\n",
       "      <td>-9999</td>\n",
       "      <td>-9999</td>\n",
       "    </tr>\n",
       "    <tr>\n",
       "      <th>14</th>\n",
       "      <td>18.0</td>\n",
       "      <td>85.8</td>\n",
       "      <td>Namenda | Razadyne | Anti-depressant medicatio...</td>\n",
       "      <td>Dementia</td>\n",
       "      <td>No depressive symptoms</td>\n",
       "      <td>No parkinsonism symptoms</td>\n",
       "      <td>-9999.0</td>\n",
       "      <td>5.0</td>\n",
       "      <td>-9999.0</td>\n",
       "      <td>-9999.0</td>\n",
       "      <td>...</td>\n",
       "      <td>-9999</td>\n",
       "      <td>-9999</td>\n",
       "      <td>-9999</td>\n",
       "      <td>unknown</td>\n",
       "      <td>-9999</td>\n",
       "      <td>-9999</td>\n",
       "      <td>-9999</td>\n",
       "      <td>-9999</td>\n",
       "      <td>-9999</td>\n",
       "      <td>-9999</td>\n",
       "    </tr>\n",
       "    <tr>\n",
       "      <th>16</th>\n",
       "      <td>28.0</td>\n",
       "      <td>90.0</td>\n",
       "      <td>no medication</td>\n",
       "      <td>Cognitive normal</td>\n",
       "      <td>No depressive symptoms</td>\n",
       "      <td>No parkinsonism symptoms</td>\n",
       "      <td>1.0</td>\n",
       "      <td>4.0</td>\n",
       "      <td>-9999.0</td>\n",
       "      <td>-9999.0</td>\n",
       "      <td>...</td>\n",
       "      <td>-9999</td>\n",
       "      <td>-9999</td>\n",
       "      <td>-9999</td>\n",
       "      <td>unknown</td>\n",
       "      <td>-9999</td>\n",
       "      <td>-9999</td>\n",
       "      <td>-9999</td>\n",
       "      <td>-9999</td>\n",
       "      <td>-9999</td>\n",
       "      <td>-9999</td>\n",
       "    </tr>\n",
       "    <tr>\n",
       "      <th>...</th>\n",
       "      <td>...</td>\n",
       "      <td>...</td>\n",
       "      <td>...</td>\n",
       "      <td>...</td>\n",
       "      <td>...</td>\n",
       "      <td>...</td>\n",
       "      <td>...</td>\n",
       "      <td>...</td>\n",
       "      <td>...</td>\n",
       "      <td>...</td>\n",
       "      <td>...</td>\n",
       "      <td>...</td>\n",
       "      <td>...</td>\n",
       "      <td>...</td>\n",
       "      <td>...</td>\n",
       "      <td>...</td>\n",
       "      <td>...</td>\n",
       "      <td>...</td>\n",
       "      <td>...</td>\n",
       "      <td>...</td>\n",
       "      <td>...</td>\n",
       "    </tr>\n",
       "    <tr>\n",
       "      <th>721</th>\n",
       "      <td>29.0</td>\n",
       "      <td>61.6</td>\n",
       "      <td>no medication</td>\n",
       "      <td>Cognitive normal</td>\n",
       "      <td>No depressive symptoms</td>\n",
       "      <td>No parkinsonism symptoms</td>\n",
       "      <td>1.0</td>\n",
       "      <td>-9999.0</td>\n",
       "      <td>-9999.0</td>\n",
       "      <td>-9999.0</td>\n",
       "      <td>...</td>\n",
       "      <td>-9999</td>\n",
       "      <td>-9999</td>\n",
       "      <td>-9999</td>\n",
       "      <td>unknown</td>\n",
       "      <td>-9999</td>\n",
       "      <td>-9999</td>\n",
       "      <td>-9999</td>\n",
       "      <td>-9999</td>\n",
       "      <td>-9999</td>\n",
       "      <td>-9999</td>\n",
       "    </tr>\n",
       "    <tr>\n",
       "      <th>728</th>\n",
       "      <td>29.0</td>\n",
       "      <td>68.1</td>\n",
       "      <td>Anti-depressant medication | Other behavioral ...</td>\n",
       "      <td>Mildly cognitive impairment</td>\n",
       "      <td>No depressive symptoms</td>\n",
       "      <td>No parkinsonism symptoms</td>\n",
       "      <td>1.0</td>\n",
       "      <td>-9999.0</td>\n",
       "      <td>-9999.0</td>\n",
       "      <td>-9999.0</td>\n",
       "      <td>...</td>\n",
       "      <td>-9999</td>\n",
       "      <td>-9999</td>\n",
       "      <td>-9999</td>\n",
       "      <td>unknown</td>\n",
       "      <td>-9999</td>\n",
       "      <td>-9999</td>\n",
       "      <td>-9999</td>\n",
       "      <td>-9999</td>\n",
       "      <td>-9999</td>\n",
       "      <td>-9999</td>\n",
       "    </tr>\n",
       "    <tr>\n",
       "      <th>730</th>\n",
       "      <td>25.0</td>\n",
       "      <td>71.8</td>\n",
       "      <td>Aricept</td>\n",
       "      <td>Mildly cognitive impairment</td>\n",
       "      <td>No depressive symptoms</td>\n",
       "      <td>No parkinsonism symptoms</td>\n",
       "      <td>0.0</td>\n",
       "      <td>-9999.0</td>\n",
       "      <td>-9999.0</td>\n",
       "      <td>-9999.0</td>\n",
       "      <td>...</td>\n",
       "      <td>-9999</td>\n",
       "      <td>-9999</td>\n",
       "      <td>-9999</td>\n",
       "      <td>unknown</td>\n",
       "      <td>-9999</td>\n",
       "      <td>-9999</td>\n",
       "      <td>-9999</td>\n",
       "      <td>-9999</td>\n",
       "      <td>-9999</td>\n",
       "      <td>-9999</td>\n",
       "    </tr>\n",
       "    <tr>\n",
       "      <th>731</th>\n",
       "      <td>26.0</td>\n",
       "      <td>64.8</td>\n",
       "      <td>no medication</td>\n",
       "      <td>Cognitive normal</td>\n",
       "      <td>No depressive symptoms</td>\n",
       "      <td>No parkinsonism symptoms</td>\n",
       "      <td>1.0</td>\n",
       "      <td>-9999.0</td>\n",
       "      <td>-9999.0</td>\n",
       "      <td>-9999.0</td>\n",
       "      <td>...</td>\n",
       "      <td>-9999</td>\n",
       "      <td>-9999</td>\n",
       "      <td>-9999</td>\n",
       "      <td>unknown</td>\n",
       "      <td>-9999</td>\n",
       "      <td>-9999</td>\n",
       "      <td>-9999</td>\n",
       "      <td>-9999</td>\n",
       "      <td>-9999</td>\n",
       "      <td>-9999</td>\n",
       "    </tr>\n",
       "    <tr>\n",
       "      <th>735</th>\n",
       "      <td>30.0</td>\n",
       "      <td>67.3</td>\n",
       "      <td>no medication</td>\n",
       "      <td>Cognitive normal</td>\n",
       "      <td>No depressive symptoms</td>\n",
       "      <td>No parkinsonism symptoms</td>\n",
       "      <td>0.0</td>\n",
       "      <td>-9999.0</td>\n",
       "      <td>-9999.0</td>\n",
       "      <td>-9999.0</td>\n",
       "      <td>...</td>\n",
       "      <td>-9999</td>\n",
       "      <td>-9999</td>\n",
       "      <td>-9999</td>\n",
       "      <td>unknown</td>\n",
       "      <td>-9999</td>\n",
       "      <td>-9999</td>\n",
       "      <td>-9999</td>\n",
       "      <td>-9999</td>\n",
       "      <td>-9999</td>\n",
       "      <td>-9999</td>\n",
       "    </tr>\n",
       "  </tbody>\n",
       "</table>\n",
       "<p>254 rows × 161 columns</p>\n",
       "</div>"
      ],
      "text/plain": [
       "     Mini-Mental State Examination score   Age  \\\n",
       "0                                   30.0  73.2   \n",
       "1                                   26.0  80.2   \n",
       "2                                   24.0  82.3   \n",
       "14                                  18.0  85.8   \n",
       "16                                  28.0  90.0   \n",
       "..                                   ...   ...   \n",
       "721                                 29.0  61.6   \n",
       "728                                 29.0  68.1   \n",
       "730                                 25.0  71.8   \n",
       "731                                 26.0  64.8   \n",
       "735                                 30.0  67.3   \n",
       "\n",
       "                                            Medication  \\\n",
       "0                                              unknown   \n",
       "1                 Aricept | Anti-depressant medication   \n",
       "2                 Aricept | Anti-depressant medication   \n",
       "14   Namenda | Razadyne | Anti-depressant medicatio...   \n",
       "16                                       no medication   \n",
       "..                                                 ...   \n",
       "721                                      no medication   \n",
       "728  Anti-depressant medication | Other behavioral ...   \n",
       "730                                            Aricept   \n",
       "731                                      no medication   \n",
       "735                                      no medication   \n",
       "\n",
       "                       Diagnosis Diagnosis of Depression  \\\n",
       "0               Cognitive normal                 unknown   \n",
       "1    Mildly cognitive impairment  No depressive symptoms   \n",
       "2                       Dementia  No depressive symptoms   \n",
       "14                      Dementia  No depressive symptoms   \n",
       "16              Cognitive normal  No depressive symptoms   \n",
       "..                           ...                     ...   \n",
       "721             Cognitive normal  No depressive symptoms   \n",
       "728  Mildly cognitive impairment  No depressive symptoms   \n",
       "730  Mildly cognitive impairment  No depressive symptoms   \n",
       "731             Cognitive normal  No depressive symptoms   \n",
       "735             Cognitive normal  No depressive symptoms   \n",
       "\n",
       "    Diagnosis of Parkinson's disease  Geriatric Depression Scale  \\\n",
       "0                            unknown                         2.0   \n",
       "1           No parkinsonism symptoms                         1.0   \n",
       "2           No parkinsonism symptoms                         4.0   \n",
       "14          No parkinsonism symptoms                     -9999.0   \n",
       "16          No parkinsonism symptoms                         1.0   \n",
       "..                               ...                         ...   \n",
       "721         No parkinsonism symptoms                         1.0   \n",
       "728         No parkinsonism symptoms                         1.0   \n",
       "730         No parkinsonism symptoms                         0.0   \n",
       "731         No parkinsonism symptoms                         1.0   \n",
       "735         No parkinsonism symptoms                         0.0   \n",
       "\n",
       "     Clock Drawing Test score  \\\n",
       "0                     -9999.0   \n",
       "1                         5.0   \n",
       "2                         5.0   \n",
       "14                        5.0   \n",
       "16                        4.0   \n",
       "..                        ...   \n",
       "721                   -9999.0   \n",
       "728                   -9999.0   \n",
       "730                   -9999.0   \n",
       "731                   -9999.0   \n",
       "735                   -9999.0   \n",
       "\n",
       "     American National Adult Reading Test Total Errors  \\\n",
       "0                                              -9999.0   \n",
       "1                                              -9999.0   \n",
       "2                                              -9999.0   \n",
       "14                                             -9999.0   \n",
       "16                                             -9999.0   \n",
       "..                                                 ...   \n",
       "721                                            -9999.0   \n",
       "728                                            -9999.0   \n",
       "730                                            -9999.0   \n",
       "731                                            -9999.0   \n",
       "735                                            -9999.0   \n",
       "\n",
       "     Neuropsychiatric Inventory Total Score  ...  \\\n",
       "0                                   -9999.0  ...   \n",
       "1                                   -9999.0  ...   \n",
       "2                                   -9999.0  ...   \n",
       "14                                  -9999.0  ...   \n",
       "16                                  -9999.0  ...   \n",
       "..                                      ...  ...   \n",
       "721                                 -9999.0  ...   \n",
       "728                                 -9999.0  ...   \n",
       "730                                 -9999.0  ...   \n",
       "731                                 -9999.0  ...   \n",
       "735                                 -9999.0  ...   \n",
       "\n",
       "     Physician's Estimate of Duration total  Short Survey Pain Scale  \\\n",
       "0                                     -9999                    -9999   \n",
       "1                                     -9999                    -9999   \n",
       "2                                     -9999                    -9999   \n",
       "14                                    -9999                    -9999   \n",
       "16                                    -9999                    -9999   \n",
       "..                                      ...                      ...   \n",
       "721                                   -9999                    -9999   \n",
       "728                                   -9999                    -9999   \n",
       "730                                   -9999                    -9999   \n",
       "731                                   -9999                    -9999   \n",
       "735                                   -9999                    -9999   \n",
       "\n",
       "     Grand Total of FAS Word  Diagnosis of Anxiety  SEVLT Trial 5 total  \\\n",
       "0                      -9999               unknown                -9999   \n",
       "1                      -9999               unknown                -9999   \n",
       "2                      -9999               unknown                -9999   \n",
       "14                     -9999               unknown                -9999   \n",
       "16                     -9999               unknown                -9999   \n",
       "..                       ...                   ...                  ...   \n",
       "721                    -9999               unknown                -9999   \n",
       "728                    -9999               unknown                -9999   \n",
       "730                    -9999               unknown                -9999   \n",
       "731                    -9999               unknown                -9999   \n",
       "735                    -9999               unknown                -9999   \n",
       "\n",
       "     Executive Function Domain Score  Audit Total  Low Education  \\\n",
       "0                              -9999        -9999          -9999   \n",
       "1                              -9999        -9999          -9999   \n",
       "2                              -9999        -9999          -9999   \n",
       "14                             -9999        -9999          -9999   \n",
       "16                             -9999        -9999          -9999   \n",
       "..                               ...          ...            ...   \n",
       "721                            -9999        -9999          -9999   \n",
       "728                            -9999        -9999          -9999   \n",
       "730                            -9999        -9999          -9999   \n",
       "731                            -9999        -9999          -9999   \n",
       "735                            -9999        -9999          -9999   \n",
       "\n",
       "     Smoking history  Global Composite Score (primary outcome)  \n",
       "0              -9999                                     -9999  \n",
       "1              -9999                                     -9999  \n",
       "2              -9999                                     -9999  \n",
       "14             -9999                                     -9999  \n",
       "16             -9999                                     -9999  \n",
       "..               ...                                       ...  \n",
       "721            -9999                                     -9999  \n",
       "728            -9999                                     -9999  \n",
       "730            -9999                                     -9999  \n",
       "731            -9999                                     -9999  \n",
       "735            -9999                                     -9999  \n",
       "\n",
       "[254 rows x 161 columns]"
      ]
     },
     "execution_count": 99,
     "metadata": {},
     "output_type": "execute_result"
    }
   ],
   "source": [
    "X_adni_subset"
   ]
  },
  {
   "cell_type": "code",
   "execution_count": 100,
   "id": "fcf6d5ce",
   "metadata": {},
   "outputs": [],
   "source": [
    "predictions = model_abeta.predict(X_adni_subset)\n",
    "predictions_probs = model_abeta.predict_proba(X_adni_subset)\n"
   ]
  },
  {
   "cell_type": "code",
   "execution_count": 101,
   "id": "f050a761",
   "metadata": {},
   "outputs": [
    {
     "data": {
      "image/png": "[encoded data removed]",
      "text/plain": [
       "<Figure size 576x432 with 2 Axes>"
      ]
     },
     "metadata": {
      "needs_background": "light"
     },
     "output_type": "display_data"
    }
   ],
   "source": [
    "import numpy as np\n",
    "import matplotlib.pyplot as plt\n",
    "import seaborn as sns\n",
    "from sklearn.metrics import confusion_matrix, ConfusionMatrixDisplay\n",
    "\n",
    "# Example true labels and predictions\n",
    "y_true = y_adni_subset\n",
    "y_pred =predictions\n",
    "\n",
    "\n",
    "\n",
    "desired_order = ['Clearly positive','Weakly positive','Intermediate negative','Negative']\n",
    "# Filter out 'Unknown' class from both true and predicted labels\n",
    "\n",
    "\n",
    "# Compute the confusion matrix\n",
    "cm = confusion_matrix(y_true, y_pred, labels=desired_order)\n",
    "\n",
    "# Create a heatmap to visualize the confusion matrix\n",
    "plt.figure(figsize=(8, 6))\n",
    "sns.heatmap(cm, annot=True, fmt='d', cmap='Blues', xticklabels=desired_order, yticklabels=desired_order)\n",
    "plt.xlabel('Predicted Labels')\n",
    "plt.ylabel('True Labels')\n",
    "plt.title('Confusion Matrix')\n",
    "plt.show()"
   ]
  },
  {
   "cell_type": "code",
   "execution_count": 102,
   "id": "cfca8a76",
   "metadata": {},
   "outputs": [
    {
     "data": {
      "text/plain": [
       "0.7857142857142857"
      ]
     },
     "execution_count": 102,
     "metadata": {},
     "output_type": "execute_result"
    }
   ],
   "source": [
    "88/(88+24)"
   ]
  },
  {
   "cell_type": "code",
   "execution_count": 103,
   "id": "b1d997d7",
   "metadata": {},
   "outputs": [
    {
     "name": "stdout",
     "output_type": "stream",
     "text": [
      "Weighted Sensitivity: 0.7205\n",
      "Weighted Specificity: 0.8007\n"
     ]
    }
   ],
   "source": [
    "# 初始化敏感性和特异性的列表\n",
    "sensitivities = []\n",
    "specificities = []\n",
    "class_weights = []\n",
    "\n",
    "# 遍历每个类别计算敏感性和特异性\n",
    "for i in range(len(cm)):\n",
    "    TP = cm[i, i]\n",
    "    FN = np.sum(cm[i, :]) - TP\n",
    "    FP = np.sum(cm[:, i]) - TP\n",
    "    TN = np.sum(cm) - (TP + FN + FP)\n",
    "    \n",
    "    sensitivity = TP / (TP + FN) if (TP + FN) > 0 else 0\n",
    "    specificity = TN / (TN + FP) if (TN + FP) > 0 else 0\n",
    "    \n",
    "    sensitivities.append(sensitivity)\n",
    "    specificities.append(specificity)\n",
    "    \n",
    "    # 权重为该类别的真实样本数\n",
    "    class_weights.append(TP + FN)\n",
    "\n",
    "# 计算加权平均敏感性和特异性\n",
    "weighted_sensitivity = np.average(sensitivities, weights=class_weights)\n",
    "weighted_specificity = np.average(specificities, weights=class_weights)\n",
    "\n",
    "print(f\"Weighted Sensitivity: {weighted_sensitivity:.4f}\")\n",
    "print(f\"Weighted Specificity: {weighted_specificity:.4f}\")"
   ]
  },
  {
   "cell_type": "code",
   "execution_count": 104,
   "id": "1b9c678d",
   "metadata": {},
   "outputs": [
    {
     "name": "stdout",
     "output_type": "stream",
     "text": [
      "One-vs-Rest AUC for each class:\n",
      "Class Clearly positive vs Rest: 0.9225059584610147\n",
      "Class Intermediate negative vs Rest: 0.7069731800766282\n",
      "Class Negative vs Rest: 0.9420071549614008\n",
      "Class Weakly positive vs Rest: 0.6670431018257106\n",
      "Overall One-vs-Rest AUC: 0.8096323488311886\n"
     ]
    }
   ],
   "source": [
    "from sklearn.preprocessing import LabelEncoder, OneHotEncoder\n",
    "from sklearn.metrics import roc_auc_score, precision_recall_fscore_support, roc_curve, auc\n",
    "from sklearn.preprocessing import label_binarize\n",
    "import numpy as np\n",
    "from sklearn.preprocessing import LabelEncoder, OneHotEncoder\n",
    "\n",
    "label_encoder = LabelEncoder()\n",
    "y_true_encoded = label_encoder.fit_transform(y_true)\n",
    "\n",
    "# Binarize the output\n",
    "one_hot_encoder = OneHotEncoder()\n",
    "y_true_binarized = one_hot_encoder.fit_transform(y_true_encoded.reshape(-1, 1)).toarray()\n",
    "class_weights = []\n",
    "auc_list=[]\n",
    "# Compute AUC for the one-vs-rest (ovr) method for all classes\n",
    "ovr_aucs = {}\n",
    "for i in range(y_true_binarized.shape[1]):\n",
    "    auc = roc_auc_score(list(np.array(y_true_binarized)[:, i]), list(np.array(predictions_probs)[:, i]))\n",
    "    ovr_aucs[f\"Class {label_encoder.classes_[i]} vs Rest\"] = auc\n",
    "    auc_list.append(auc)\n",
    "    class_weights.append(np.sum(y_true == label_encoder.classes_[i]))\n",
    "print(\"One-vs-Rest AUC for each class:\")\n",
    "for class_label, auc in ovr_aucs.items():\n",
    "    print(f\"{class_label}: {auc}\")\n",
    "\n",
    "# Overall One-vs-Rest AUC\n",
    "overall_ovr_auc = roc_auc_score(y_true_binarized,predictions_probs, multi_class='ovr')\n",
    "print(f\"Overall One-vs-Rest AUC: {overall_ovr_auc}\")"
   ]
  },
  {
   "cell_type": "code",
   "execution_count": 105,
   "id": "834e05e1",
   "metadata": {},
   "outputs": [],
   "source": [
    "weighted_auc = np.average(auc_list, weights=class_weights)"
   ]
  },
  {
   "cell_type": "code",
   "execution_count": 106,
   "id": "d442112d",
   "metadata": {},
   "outputs": [
    {
     "data": {
      "text/plain": [
       "0.8834411510940241"
      ]
     },
     "execution_count": 106,
     "metadata": {},
     "output_type": "execute_result"
    }
   ],
   "source": [
    "weighted_auc"
   ]
  },
  {
   "cell_type": "code",
   "execution_count": 107,
   "id": "12245a6e",
   "metadata": {},
   "outputs": [],
   "source": [
    "adni_prediction=pd.DataFrame({\"Truth\":list(y_true),\"Prediction\":list(predictions),\"Clearly positive\": list(np.array(predictions_probs)[:, 0]),\"Intermediate Negative\": list(np.array(predictions_probs)[:, 1]),\"Negative\": list(np.array(predictions_probs)[:, 2]),\"Weakly positive\": list(np.array(predictions_probs)[:, 3])})\n",
    "adni_prediction.to_csv(\"D:\\\\Research\\\\AD\\\\ADLLM\\\\ADNI process 9\\\\ADNI\\\\GB\\\\adni_testing_result_complete.csv\",index=False)"
   ]
  },
  {
   "cell_type": "code",
   "execution_count": 108,
   "id": "f6ce635d",
   "metadata": {},
   "outputs": [
    {
     "name": "stderr",
     "output_type": "stream",
     "text": [
      "C:\\Users\\25110\\AppData\\Local\\Temp/ipykernel_5900/2873835460.py:1: SettingWithCopyWarning: \n",
      "A value is trying to be set on a copy of a slice from a DataFrame.\n",
      "Try using .loc[row_indexer,col_indexer] = value instead\n",
      "\n",
      "See the caveats in the documentation: https://pandas.pydata.org/pandas-docs/stable/user_guide/indexing.html#returning-a-view-versus-a-copy\n",
      "  X_adni_subset['Amyloid beta 40 in Cerebrospinal Fluid (pg/mL)']=-9999\n",
      "C:\\Users\\25110\\AppData\\Local\\Temp/ipykernel_5900/2873835460.py:2: SettingWithCopyWarning: \n",
      "A value is trying to be set on a copy of a slice from a DataFrame.\n",
      "Try using .loc[row_indexer,col_indexer] = value instead\n",
      "\n",
      "See the caveats in the documentation: https://pandas.pydata.org/pandas-docs/stable/user_guide/indexing.html#returning-a-view-versus-a-copy\n",
      "  X_adni_subset[\"Amyloid beta 42 in Cerebrospinal Fluid (pg/mL)\"]=-9999\n",
      "C:\\Users\\25110\\AppData\\Local\\Temp/ipykernel_5900/2873835460.py:3: SettingWithCopyWarning: \n",
      "A value is trying to be set on a copy of a slice from a DataFrame.\n",
      "Try using .loc[row_indexer,col_indexer] = value instead\n",
      "\n",
      "See the caveats in the documentation: https://pandas.pydata.org/pandas-docs/stable/user_guide/indexing.html#returning-a-view-versus-a-copy\n",
      "  X_adni_subset[\"Tau protein concentration in Cerebrospinal Fluid (pg/mL)\"]=-9999\n",
      "C:\\Users\\25110\\AppData\\Local\\Temp/ipykernel_5900/2873835460.py:4: SettingWithCopyWarning: \n",
      "A value is trying to be set on a copy of a slice from a DataFrame.\n",
      "Try using .loc[row_indexer,col_indexer] = value instead\n",
      "\n",
      "See the caveats in the documentation: https://pandas.pydata.org/pandas-docs/stable/user_guide/indexing.html#returning-a-view-versus-a-copy\n",
      "  X_adni_subset[\"Phosphorylated tau protein in Cerebrospinal Fluid (pg/mL)\"]=-9999\n"
     ]
    }
   ],
   "source": [
    "X_adni_subset['Amyloid beta 40 in Cerebrospinal Fluid (pg/mL)']=-9999\n",
    "X_adni_subset[\"Amyloid beta 42 in Cerebrospinal Fluid (pg/mL)\"]=-9999 \n",
    "X_adni_subset[\"Tau protein concentration in Cerebrospinal Fluid (pg/mL)\"]=-9999\n",
    "X_adni_subset[\"Phosphorylated tau protein in Cerebrospinal Fluid (pg/mL)\"]=-9999\n",
    "y_adni_subset=y_adni[X_adni_subset.index]"
   ]
  },
  {
   "cell_type": "code",
   "execution_count": 109,
   "id": "ee345bc6",
   "metadata": {},
   "outputs": [],
   "source": [
    "predictions = model_abeta.predict(X_adni_subset)\n",
    "predictions_probs = model_abeta.predict_proba(X_adni_subset)\n"
   ]
  },
  {
   "cell_type": "code",
   "execution_count": 110,
   "id": "fb854def",
   "metadata": {},
   "outputs": [
    {
     "data": {
      "image/png": "[encoded data removed]",
      "text/plain": [
       "<Figure size 576x432 with 2 Axes>"
      ]
     },
     "metadata": {
      "needs_background": "light"
     },
     "output_type": "display_data"
    }
   ],
   "source": [
    "import numpy as np\n",
    "import matplotlib.pyplot as plt\n",
    "import seaborn as sns\n",
    "from sklearn.metrics import confusion_matrix, ConfusionMatrixDisplay\n",
    "\n",
    "# Example true labels and predictions\n",
    "y_true = y_adni_subset\n",
    "y_pred =predictions\n",
    "\n",
    "\n",
    "\n",
    "desired_order = ['Clearly positive','Weakly positive','Intermediate negative','Negative']\n",
    "# Filter out 'Unknown' class from both true and predicted labels\n",
    "\n",
    "\n",
    "# Compute the confusion matrix\n",
    "cm = confusion_matrix(y_true, y_pred, labels=desired_order)\n",
    "\n",
    "# Create a heatmap to visualize the confusion matrix\n",
    "plt.figure(figsize=(8, 6))\n",
    "sns.heatmap(cm, annot=True, fmt='d', cmap='Blues', xticklabels=desired_order, yticklabels=desired_order)\n",
    "plt.xlabel('Predicted Labels')\n",
    "plt.ylabel('True Labels')\n",
    "plt.title('Confusion Matrix')\n",
    "plt.show()"
   ]
  },
  {
   "cell_type": "code",
   "execution_count": 111,
   "id": "cd8ceb7f",
   "metadata": {},
   "outputs": [
    {
     "data": {
      "text/plain": [
       "0.49107142857142855"
      ]
     },
     "execution_count": 111,
     "metadata": {},
     "output_type": "execute_result"
    }
   ],
   "source": [
    "(48+7)/(48+7+41+16)"
   ]
  },
  {
   "cell_type": "code",
   "execution_count": 112,
   "id": "77cffc54",
   "metadata": {},
   "outputs": [
    {
     "name": "stdout",
     "output_type": "stream",
     "text": [
      "Weighted Sensitivity: 0.6299\n",
      "Weighted Specificity: 0.7137\n"
     ]
    }
   ],
   "source": [
    "# 初始化敏感性和特异性的列表\n",
    "sensitivities = []\n",
    "specificities = []\n",
    "class_weights = []\n",
    "\n",
    "# 遍历每个类别计算敏感性和特异性\n",
    "for i in range(len(cm)):\n",
    "    TP = cm[i, i]\n",
    "    FN = np.sum(cm[i, :]) - TP\n",
    "    FP = np.sum(cm[:, i]) - TP\n",
    "    TN = np.sum(cm) - (TP + FN + FP)\n",
    "    \n",
    "    sensitivity = TP / (TP + FN) if (TP + FN) > 0 else 0\n",
    "    specificity = TN / (TN + FP) if (TN + FP) > 0 else 0\n",
    "    \n",
    "    sensitivities.append(sensitivity)\n",
    "    specificities.append(specificity)\n",
    "    \n",
    "    # 权重为该类别的真实样本数\n",
    "    class_weights.append(TP + FN)\n",
    "\n",
    "# 计算加权平均敏感性和特异性\n",
    "weighted_sensitivity = np.average(sensitivities, weights=class_weights)\n",
    "weighted_specificity = np.average(specificities, weights=class_weights)\n",
    "\n",
    "print(f\"Weighted Sensitivity: {weighted_sensitivity:.4f}\")\n",
    "print(f\"Weighted Specificity: {weighted_specificity:.4f}\")"
   ]
  },
  {
   "cell_type": "code",
   "execution_count": 113,
   "id": "7d2f207a",
   "metadata": {},
   "outputs": [
    {
     "name": "stdout",
     "output_type": "stream",
     "text": [
      "One-vs-Rest AUC for each class:\n",
      "Class Clearly positive vs Rest: 0.8627851549199864\n",
      "Class Intermediate negative vs Rest: 0.6226819923371647\n",
      "Class Negative vs Rest: 0.8348082595870207\n",
      "Class Weakly positive vs Rest: 0.5526068134763786\n",
      "Overall One-vs-Rest AUC: 0.7182205550801376\n"
     ]
    }
   ],
   "source": [
    "from sklearn.preprocessing import LabelEncoder, OneHotEncoder\n",
    "from sklearn.metrics import roc_auc_score, precision_recall_fscore_support, roc_curve, auc\n",
    "from sklearn.preprocessing import label_binarize\n",
    "import numpy as np\n",
    "from sklearn.preprocessing import LabelEncoder, OneHotEncoder\n",
    "\n",
    "label_encoder = LabelEncoder()\n",
    "y_true_encoded = label_encoder.fit_transform(y_true)\n",
    "\n",
    "# Binarize the output\n",
    "one_hot_encoder = OneHotEncoder()\n",
    "y_true_binarized = one_hot_encoder.fit_transform(y_true_encoded.reshape(-1, 1)).toarray()\n",
    "class_weights = []\n",
    "auc_list=[]\n",
    "# Compute AUC for the one-vs-rest (ovr) method for all classes\n",
    "ovr_aucs = {}\n",
    "for i in range(y_true_binarized.shape[1]):\n",
    "    auc = roc_auc_score(list(np.array(y_true_binarized)[:, i]), list(np.array(predictions_probs)[:, i]))\n",
    "    ovr_aucs[f\"Class {label_encoder.classes_[i]} vs Rest\"] = auc\n",
    "    auc_list.append(auc)\n",
    "    class_weights.append(np.sum(y_true == label_encoder.classes_[i]))\n",
    "print(\"One-vs-Rest AUC for each class:\")\n",
    "for class_label, auc in ovr_aucs.items():\n",
    "    print(f\"{class_label}: {auc}\")\n",
    "\n",
    "# Overall One-vs-Rest AUC\n",
    "overall_ovr_auc = roc_auc_score(y_true_binarized,predictions_probs, multi_class='ovr')\n",
    "print(f\"Overall One-vs-Rest AUC: {overall_ovr_auc}\")"
   ]
  },
  {
   "cell_type": "code",
   "execution_count": 114,
   "id": "be162433",
   "metadata": {},
   "outputs": [
    {
     "data": {
      "text/plain": [
       "0.7948383724761677"
      ]
     },
     "execution_count": 114,
     "metadata": {},
     "output_type": "execute_result"
    }
   ],
   "source": [
    "weighted_auc = np.average(auc_list, weights=class_weights)\n",
    "weighted_auc"
   ]
  },
  {
   "cell_type": "code",
   "execution_count": 115,
   "id": "a552d992",
   "metadata": {},
   "outputs": [],
   "source": [
    "adni_prediction=pd.DataFrame({\"Truth\":list(y_true),\"Prediction\":list(predictions),\"Clearly positive\": list(np.array(predictions_probs)[:, 0]),\"Intermediate Negative\": list(np.array(predictions_probs)[:, 1]),\"Negative\": list(np.array(predictions_probs)[:, 2]),\"Weakly positive\": list(np.array(predictions_probs)[:, 3])})\n",
    "adni_prediction.to_csv(\"D:\\\\Research\\\\AD\\\\ADLLM\\\\ADNI process 9\\\\ADNI\\\\GB\\\\adni_testing_result_incomplete.csv\",index=False)"
   ]
  },
  {
   "cell_type": "markdown",
   "id": "9a85ee15",
   "metadata": {},
   "source": [
    "## Incomplete HABS-HD"
   ]
  },
  {
   "cell_type": "code",
   "execution_count": 116,
   "id": "79ca8594",
   "metadata": {},
   "outputs": [],
   "source": [
    "\n",
    "\n",
    "X_habs_subset=X_habs[(X_habs['Amyloid beta 40 peptide in the blood plasma(pg/mL)']>0) | (X_habs[\"Amyloid beta 42 peptide in the blood plasma(pg/mL)\"]>0) | (X_habs[\"Tau protein concentration in the blood plasma(pg/mL)\"]>0) |(X_habs[\"Phosphorylated tau protein in the blood plasma(pg/mL)\"]>0)]\n",
    "y_habs_subset=y_habs[X_habs_subset.index]\n"
   ]
  },
  {
   "cell_type": "code",
   "execution_count": 117,
   "id": "e370940d",
   "metadata": {},
   "outputs": [],
   "source": [
    "predictions = model_abeta.predict(X_habs_subset)\n",
    "predictions_probs = model_abeta.predict_proba(X_habs_subset)\n"
   ]
  },
  {
   "cell_type": "code",
   "execution_count": 118,
   "id": "ce0f2abc",
   "metadata": {},
   "outputs": [
    {
     "data": {
      "image/png": "[encoded data removed]",
      "text/plain": [
       "<Figure size 576x432 with 2 Axes>"
      ]
     },
     "metadata": {
      "needs_background": "light"
     },
     "output_type": "display_data"
    }
   ],
   "source": [
    "import numpy as np\n",
    "import matplotlib.pyplot as plt\n",
    "import seaborn as sns\n",
    "from sklearn.metrics import confusion_matrix, ConfusionMatrixDisplay\n",
    "\n",
    "# Example true labels and predictions\n",
    "y_true = y_habs_subset\n",
    "y_pred =predictions\n",
    "\n",
    "\n",
    "\n",
    "desired_order = ['Clearly positive','Weakly positive','Intermediate negative','Negative']\n",
    "# Filter out 'Unknown' class from both true and predicted labels\n",
    "\n",
    "\n",
    "# Compute the confusion matrix\n",
    "cm = confusion_matrix(y_true, y_pred, labels=desired_order)\n",
    "\n",
    "# Create a heatmap to visualize the confusion matrix\n",
    "plt.figure(figsize=(8, 6))\n",
    "sns.heatmap(cm, annot=True, fmt='d', cmap='Blues', xticklabels=desired_order, yticklabels=desired_order)\n",
    "plt.xlabel('Predicted Labels')\n",
    "plt.ylabel('True Labels')\n",
    "plt.title('Confusion Matrix')\n",
    "plt.show()"
   ]
  },
  {
   "cell_type": "code",
   "execution_count": 119,
   "id": "925609dd",
   "metadata": {},
   "outputs": [
    {
     "name": "stdout",
     "output_type": "stream",
     "text": [
      "Weighted Sensitivity: 0.8880\n",
      "Weighted Specificity: 0.1120\n"
     ]
    }
   ],
   "source": [
    "# 初始化敏感性和特异性的列表\n",
    "sensitivities = []\n",
    "specificities = []\n",
    "class_weights = []\n",
    "\n",
    "# 遍历每个类别计算敏感性和特异性\n",
    "for i in range(len(cm)):\n",
    "    TP = cm[i, i]\n",
    "    FN = np.sum(cm[i, :]) - TP\n",
    "    FP = np.sum(cm[:, i]) - TP\n",
    "    TN = np.sum(cm) - (TP + FN + FP)\n",
    "    \n",
    "    sensitivity = TP / (TP + FN) if (TP + FN) > 0 else 0\n",
    "    specificity = TN / (TN + FP) if (TN + FP) > 0 else 0\n",
    "    \n",
    "    sensitivities.append(sensitivity)\n",
    "    specificities.append(specificity)\n",
    "    \n",
    "    # 权重为该类别的真实样本数\n",
    "    class_weights.append(TP + FN)\n",
    "\n",
    "# 计算加权平均敏感性和特异性\n",
    "weighted_sensitivity = np.average(sensitivities, weights=class_weights)\n",
    "weighted_specificity = np.average(specificities, weights=class_weights)\n",
    "\n",
    "print(f\"Weighted Sensitivity: {weighted_sensitivity:.4f}\")\n",
    "print(f\"Weighted Specificity: {weighted_specificity:.4f}\")"
   ]
  },
  {
   "cell_type": "code",
   "execution_count": 120,
   "id": "3983985e",
   "metadata": {},
   "outputs": [
    {
     "name": "stdout",
     "output_type": "stream",
     "text": [
      "One-vs-Rest AUC for each class:\n",
      "Class Clearly positive vs Rest: 0.8416666666666667\n",
      "Class Intermediate negative vs Rest: 0.7521008403361344\n",
      "Class Negative vs Rest: 0.8030888030888031\n",
      "Class Weakly positive vs Rest: 0.5491803278688525\n",
      "Overall One-vs-Rest AUC: 0.7365091594901143\n"
     ]
    }
   ],
   "source": [
    "from sklearn.preprocessing import LabelEncoder, OneHotEncoder\n",
    "from sklearn.metrics import roc_auc_score, precision_recall_fscore_support, roc_curve, auc\n",
    "from sklearn.preprocessing import label_binarize\n",
    "import numpy as np\n",
    "from sklearn.preprocessing import LabelEncoder, OneHotEncoder\n",
    "\n",
    "label_encoder = LabelEncoder()\n",
    "y_true_encoded = label_encoder.fit_transform(y_true)\n",
    "\n",
    "# Binarize the output\n",
    "one_hot_encoder = OneHotEncoder()\n",
    "y_true_binarized = one_hot_encoder.fit_transform(y_true_encoded.reshape(-1, 1)).toarray()\n",
    "class_weights = []\n",
    "auc_list=[]\n",
    "# Compute AUC for the one-vs-rest (ovr) method for all classes\n",
    "ovr_aucs = {}\n",
    "for i in range(y_true_binarized.shape[1]):\n",
    "    auc = roc_auc_score(list(np.array(y_true_binarized)[:, i]), list(np.array(predictions_probs)[:, i]))\n",
    "    ovr_aucs[f\"Class {label_encoder.classes_[i]} vs Rest\"] = auc\n",
    "    auc_list.append(auc)\n",
    "    class_weights.append(np.sum(y_true == label_encoder.classes_[i]))\n",
    "print(\"One-vs-Rest AUC for each class:\")\n",
    "for class_label, auc in ovr_aucs.items():\n",
    "    print(f\"{class_label}: {auc}\")\n",
    "\n",
    "# Overall One-vs-Rest AUC\n",
    "overall_ovr_auc = roc_auc_score(y_true_binarized,predictions_probs, multi_class='ovr')\n",
    "print(f\"Overall One-vs-Rest AUC: {overall_ovr_auc}\")"
   ]
  },
  {
   "cell_type": "code",
   "execution_count": 121,
   "id": "b9dc0033",
   "metadata": {},
   "outputs": [
    {
     "data": {
      "text/plain": [
       "0.7960906920145109"
      ]
     },
     "execution_count": 121,
     "metadata": {},
     "output_type": "execute_result"
    }
   ],
   "source": [
    "weighted_auc = np.average(auc_list, weights=class_weights)\n",
    "weighted_auc"
   ]
  },
  {
   "cell_type": "code",
   "execution_count": 122,
   "id": "d9874f13",
   "metadata": {},
   "outputs": [],
   "source": [
    "habs_prediction=pd.DataFrame({\"Truth\":list(y_true),\"Prediction\":list(predictions),\"Clearly positive\": list(np.array(predictions_probs)[:, 0]),\"Intermediate Negative\": list(np.array(predictions_probs)[:, 1]),\"Negative\": list(np.array(predictions_probs)[:, 2]),\"Weakly positive\": list(np.array(predictions_probs)[:, 3])})\n",
    "habs_prediction.to_csv(\"D:\\\\Research\\\\AD\\\\ADLLM\\\\ADNI process 9\\\\HABS-HD\\\\GB\\\\habs_testing_result_complete.csv\",index=False)"
   ]
  },
  {
   "cell_type": "code",
   "execution_count": 123,
   "id": "9ebc903c",
   "metadata": {},
   "outputs": [
    {
     "name": "stderr",
     "output_type": "stream",
     "text": [
      "C:\\Users\\25110\\AppData\\Local\\Temp/ipykernel_5900/3728062156.py:1: SettingWithCopyWarning: \n",
      "A value is trying to be set on a copy of a slice from a DataFrame.\n",
      "Try using .loc[row_indexer,col_indexer] = value instead\n",
      "\n",
      "See the caveats in the documentation: https://pandas.pydata.org/pandas-docs/stable/user_guide/indexing.html#returning-a-view-versus-a-copy\n",
      "  X_habs_subset['Amyloid beta 40 peptide in the blood plasma(pg/mL)']=-9999\n",
      "C:\\Users\\25110\\AppData\\Local\\Temp/ipykernel_5900/3728062156.py:2: SettingWithCopyWarning: \n",
      "A value is trying to be set on a copy of a slice from a DataFrame.\n",
      "Try using .loc[row_indexer,col_indexer] = value instead\n",
      "\n",
      "See the caveats in the documentation: https://pandas.pydata.org/pandas-docs/stable/user_guide/indexing.html#returning-a-view-versus-a-copy\n",
      "  X_habs_subset[\"Amyloid beta 42 peptide in the blood plasma(pg/mL)\"]=-9999\n",
      "C:\\Users\\25110\\AppData\\Local\\Temp/ipykernel_5900/3728062156.py:3: SettingWithCopyWarning: \n",
      "A value is trying to be set on a copy of a slice from a DataFrame.\n",
      "Try using .loc[row_indexer,col_indexer] = value instead\n",
      "\n",
      "See the caveats in the documentation: https://pandas.pydata.org/pandas-docs/stable/user_guide/indexing.html#returning-a-view-versus-a-copy\n",
      "  X_habs_subset[\"Tau protein concentration in the blood plasma(pg/mL)\"]=-9999\n",
      "C:\\Users\\25110\\AppData\\Local\\Temp/ipykernel_5900/3728062156.py:4: SettingWithCopyWarning: \n",
      "A value is trying to be set on a copy of a slice from a DataFrame.\n",
      "Try using .loc[row_indexer,col_indexer] = value instead\n",
      "\n",
      "See the caveats in the documentation: https://pandas.pydata.org/pandas-docs/stable/user_guide/indexing.html#returning-a-view-versus-a-copy\n",
      "  X_habs_subset[\"Phosphorylated tau protein in the blood plasma(pg/mL)\"]=-9999\n"
     ]
    }
   ],
   "source": [
    "X_habs_subset['Amyloid beta 40 peptide in the blood plasma(pg/mL)']=-9999\n",
    "X_habs_subset[\"Amyloid beta 42 peptide in the blood plasma(pg/mL)\"]=-9999 \n",
    "X_habs_subset[\"Tau protein concentration in the blood plasma(pg/mL)\"]=-9999\n",
    "X_habs_subset[\"Phosphorylated tau protein in the blood plasma(pg/mL)\"]=-9999\n"
   ]
  },
  {
   "cell_type": "code",
   "execution_count": 124,
   "id": "1c2e6664",
   "metadata": {},
   "outputs": [],
   "source": [
    "predictions = model_abeta.predict(X_habs_subset)\n",
    "predictions_probs = model_abeta.predict_proba(X_habs_subset)\n"
   ]
  },
  {
   "cell_type": "code",
   "execution_count": 125,
   "id": "21789b7f",
   "metadata": {},
   "outputs": [
    {
     "data": {
      "image/png": "[encoded data removed]",
      "text/plain": [
       "<Figure size 576x432 with 2 Axes>"
      ]
     },
     "metadata": {
      "needs_background": "light"
     },
     "output_type": "display_data"
    }
   ],
   "source": [
    "import numpy as np\n",
    "import matplotlib.pyplot as plt\n",
    "import seaborn as sns\n",
    "from sklearn.metrics import confusion_matrix, ConfusionMatrixDisplay\n",
    "\n",
    "# Example true labels and predictions\n",
    "y_true = y_habs_subset\n",
    "y_pred =predictions\n",
    "\n",
    "\n",
    "\n",
    "desired_order = ['Clearly positive','Weakly positive','Intermediate negative','Negative']\n",
    "# Filter out 'Unknown' class from both true and predicted labels\n",
    "\n",
    "\n",
    "# Compute the confusion matrix\n",
    "cm = confusion_matrix(y_true, y_pred, labels=desired_order)\n",
    "\n",
    "# Create a heatmap to visualize the confusion matrix\n",
    "plt.figure(figsize=(8, 6))\n",
    "sns.heatmap(cm, annot=True, fmt='d', cmap='Blues', xticklabels=desired_order, yticklabels=desired_order)\n",
    "plt.xlabel('Predicted Labels')\n",
    "plt.ylabel('True Labels')\n",
    "plt.title('Confusion Matrix')\n",
    "plt.show()"
   ]
  },
  {
   "cell_type": "code",
   "execution_count": 126,
   "id": "448eb00f",
   "metadata": {},
   "outputs": [
    {
     "name": "stdout",
     "output_type": "stream",
     "text": [
      "Weighted Sensitivity: 0.8880\n",
      "Weighted Specificity: 0.1120\n"
     ]
    }
   ],
   "source": [
    "# 初始化敏感性和特异性的列表\n",
    "sensitivities = []\n",
    "specificities = []\n",
    "class_weights = []\n",
    "\n",
    "# 遍历每个类别计算敏感性和特异性\n",
    "for i in range(len(cm)):\n",
    "    TP = cm[i, i]\n",
    "    FN = np.sum(cm[i, :]) - TP\n",
    "    FP = np.sum(cm[:, i]) - TP\n",
    "    TN = np.sum(cm) - (TP + FN + FP)\n",
    "    \n",
    "    sensitivity = TP / (TP + FN) if (TP + FN) > 0 else 0\n",
    "    specificity = TN / (TN + FP) if (TN + FP) > 0 else 0\n",
    "    \n",
    "    sensitivities.append(sensitivity)\n",
    "    specificities.append(specificity)\n",
    "    \n",
    "    # 权重为该类别的真实样本数\n",
    "    class_weights.append(TP + FN)\n",
    "\n",
    "# 计算加权平均敏感性和特异性\n",
    "weighted_sensitivity = np.average(sensitivities, weights=class_weights)\n",
    "weighted_specificity = np.average(specificities, weights=class_weights)\n",
    "\n",
    "print(f\"Weighted Sensitivity: {weighted_sensitivity:.4f}\")\n",
    "print(f\"Weighted Specificity: {weighted_specificity:.4f}\")"
   ]
  },
  {
   "cell_type": "code",
   "execution_count": 127,
   "id": "411c399d",
   "metadata": {},
   "outputs": [
    {
     "name": "stdout",
     "output_type": "stream",
     "text": [
      "One-vs-Rest AUC for each class:\n",
      "Class Clearly positive vs Rest: 0.8416666666666667\n",
      "Class Intermediate negative vs Rest: 0.7549019607843137\n",
      "Class Negative vs Rest: 0.8024453024453024\n",
      "Class Weakly positive vs Rest: 0.5491803278688525\n",
      "Overall One-vs-Rest AUC: 0.7370485644412839\n"
     ]
    }
   ],
   "source": [
    "from sklearn.preprocessing import LabelEncoder, OneHotEncoder\n",
    "from sklearn.metrics import roc_auc_score, precision_recall_fscore_support, roc_curve, auc\n",
    "from sklearn.preprocessing import label_binarize\n",
    "import numpy as np\n",
    "from sklearn.preprocessing import LabelEncoder, OneHotEncoder\n",
    "\n",
    "label_encoder = LabelEncoder()\n",
    "y_true_encoded = label_encoder.fit_transform(y_true)\n",
    "\n",
    "# Binarize the output\n",
    "one_hot_encoder = OneHotEncoder()\n",
    "y_true_binarized = one_hot_encoder.fit_transform(y_true_encoded.reshape(-1, 1)).toarray()\n",
    "class_weights = []\n",
    "auc_list=[]\n",
    "# Compute AUC for the one-vs-rest (ovr) method for all classes\n",
    "ovr_aucs = {}\n",
    "for i in range(y_true_binarized.shape[1]):\n",
    "    auc = roc_auc_score(list(np.array(y_true_binarized)[:, i]), list(np.array(predictions_probs)[:, i]))\n",
    "    ovr_aucs[f\"Class {label_encoder.classes_[i]} vs Rest\"] = auc\n",
    "    auc_list.append(auc)\n",
    "    class_weights.append(np.sum(y_true == label_encoder.classes_[i]))\n",
    "print(\"One-vs-Rest AUC for each class:\")\n",
    "for class_label, auc in ovr_aucs.items():\n",
    "    print(f\"{class_label}: {auc}\")\n",
    "\n",
    "# Overall One-vs-Rest AUC\n",
    "overall_ovr_auc = roc_auc_score(y_true_binarized,predictions_probs, multi_class='ovr')\n",
    "print(f\"Overall One-vs-Rest AUC: {overall_ovr_auc}\")"
   ]
  },
  {
   "cell_type": "code",
   "execution_count": 128,
   "id": "3bd53bff",
   "metadata": {},
   "outputs": [
    {
     "data": {
      "text/plain": [
       "0.7956537172245948"
      ]
     },
     "execution_count": 128,
     "metadata": {},
     "output_type": "execute_result"
    }
   ],
   "source": [
    "weighted_auc = np.average(auc_list, weights=class_weights)\n",
    "weighted_auc"
   ]
  },
  {
   "cell_type": "code",
   "execution_count": 129,
   "id": "daf3ec82",
   "metadata": {},
   "outputs": [],
   "source": [
    "habs_prediction=pd.DataFrame({\"Truth\":list(y_true),\"Prediction\":list(predictions),\"Clearly positive\": list(np.array(predictions_probs)[:, 0]),\"Intermediate Negative\": list(np.array(predictions_probs)[:, 1]),\"Negative\": list(np.array(predictions_probs)[:, 2]),\"Weakly positive\": list(np.array(predictions_probs)[:, 3])})\n",
    "habs_prediction.to_csv(\"D:\\\\Research\\\\AD\\\\ADLLM\\\\ADNI process 9\\\\HABS-HD\\\\GB\\\\habs_testing_result_incomplete.csv\",index=False)"
   ]
  },
  {
   "cell_type": "code",
   "execution_count": null,
   "id": "dc2fdc75",
   "metadata": {},
   "outputs": [],
   "source": []
  },
  {
   "cell_type": "code",
   "execution_count": null,
   "id": "7a460fa4",
   "metadata": {},
   "outputs": [],
   "source": []
  },
  {
   "cell_type": "code",
   "execution_count": null,
   "id": "1096f807",
   "metadata": {},
   "outputs": [],
   "source": []
  },
  {
   "cell_type": "code",
   "execution_count": null,
   "id": "63a11273",
   "metadata": {},
   "outputs": [],
   "source": []
  }
 ],
 "metadata": {
  "kernelspec": {
   "display_name": "Python 3 (ipykernel)",
   "language": "python",
   "name": "python3"
  },
  "language_info": {
   "codemirror_mode": {
    "name": "ipython",
    "version": 3
   },
   "file_extension": ".py",
   "mimetype": "text/x-python",
   "name": "python",
   "nbconvert_exporter": "python",
   "pygments_lexer": "ipython3",
   "version": "3.9.7"
  }
 },
 "nbformat": 4,
 "nbformat_minor": 5
}
