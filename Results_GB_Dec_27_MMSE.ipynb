{
 "cells": [
  {
   "cell_type": "code",
   "execution_count": 17,
   "id": "b7d203b4",
   "metadata": {},
   "outputs": [],
   "source": [
    "import pandas as pd\n",
    "adni_training=pd.read_csv(\"D:\\\\Research\\\\AD\\\\ADLLM\\\\ADNI process 9\\\\ADNI\\\\adni_thickness_Dec_17_training.csv\")\n",
    "habs_training=pd.read_csv(\"D:\\\\Research\\\\AD\\\\ADLLM\\\\ADNI process 9\\\\HABS-HD\\\\HABS-HD_thickness_Dec_17_training.csv\")\n",
    "pointer_training=pd.read_csv(\"D:\\\\Research\\\\AD\\\\ADLLM\\\\ADNI process 9\\\\POINTER\\\\pointer_thickess_Dec_18_training.csv\")\n",
    "adni_training=adni_training.fillna('NA')\n",
    "habs_training=habs_training.fillna('NA')\n",
    "pointer_training=pointer_training.fillna('NA')\n",
    "adni_baseline=pd.read_csv(\"D:\\\\Research\\\\AD\\\\ADLLM\\\\ADNI process 8\\\\baseline_covariates.csv\")\n",
    "adni_baseline_filtered=adni_baseline[adni_baseline['RID'].isin(adni_training['RID'])]\n",
    "adni_baseline_final=adni_baseline_filtered.drop(columns=['PTADBEG',\"APOE4_BIN\",\"VISCODE\",\"VISCODE2\",\"VISDATE\"])\n",
    "adni_training_filtered=adni_training[adni_training[\"Rate_of_Change_MMSCORE_new\"]!=\"NA\"]\n",
    "adni_training_final=adni_training_filtered.drop(columns=['abeta_SCANDATE',\"tau_SCANDATE\",\"VISCODE\",\"VISCODE2\",\"VISDATE\",\"AMYLOID_STATUS\",\"AMYLOID_STATUS_COMPOSITE_REF\",\"ctx_entor/subcor\",\"meta/subcor\",\"Rate_of_Change\",\"CTX_ENTORHINAL_SUVR\",\"ERODED_SUBCORTICALWM_SUVR\",\"abeta_Age\",\"tau_Age\",\"Rate_of_Change_meta\",\"Rate_of_Change_ctx\",\"Visit time tau\",\"Rate_of_Change\",\"Visit time mmse\",\"Initial tau status meta\",\"Initial tau status ctx\",\"low_meta\",\"intermediate_meta\",\"high_meta\",\"very_high_meta\",\"low_ctx\",\"intermediate_ctx\",\"high_ctx\",\"very_high_ctx\",\"back_VISDATE\", \n",
    "                                         \"DX_EXAMDATE\",\"GDS_VISDATE\",\"Neuro_VISDATE\",\"NPIQ_VISDATE\",\"VS_VISDATE\",\"EXAMDATE\",\"CENTILOIDS\",\"AGE_BL\",\"PTGENDER\",\"PTEDUCAT\",\"PTETHCAT\",\"PTRACCAT\",\"PTMARRY\",\"APOE4\",\"DX\", 'META_TEMPORAL_SUVR','Rate_of_abeta_Change','Visit time mmse',\"APOE4\",\"DX\",\"SUBJECT\",\"SCANDATE\",\"zscore_abeta\",\"zscore_ptau\",\"zscore_total_tau\", \"zscore_ctx_tau\",\"CTX_ENTORHINAL_SUVR\",\"zscore_blood_abeta\",\"zscore_blood_tau\",\"zscore_blood_ptau\",\"Rate_of_Change_mPACCdigit_new\",\"Visit time mPACCdigit\",\"zscore_meta_tau\"\n",
    "])"
   ]
  },
  {
   "cell_type": "code",
   "execution_count": 18,
   "id": "daace6a7",
   "metadata": {},
   "outputs": [
    {
     "name": "stderr",
     "output_type": "stream",
     "text": [
      "C:\\Users\\25110\\AppData\\Local\\Temp/ipykernel_20516/294352190.py:22: FutureWarning: Downcasting behavior in `replace` is deprecated and will be removed in a future version. To retain the old behavior, explicitly call `result.infer_objects(copy=False)`. To opt-in to the future behavior, set `pd.set_option('future.no_silent_downcasting', True)`\n",
      "  adni_merged_testing= adni_merged_testing.replace(['Unknown', 'NA'], np.nan)\n"
     ]
    }
   ],
   "source": [
    "adni_testing=pd.read_csv(\"D:\\\\Research\\\\AD\\\\ADLLM\\\\ADNI process 9\\\\ADNI\\\\adni_thickness_Dec_17_testing.csv\")\n",
    "adni_testing=adni_testing.fillna('NA')\n",
    "adni_baseline_filtered=adni_baseline[adni_baseline['RID'].isin(adni_testing['RID'])]\n",
    "adni_baseline_final=adni_baseline_filtered.drop(columns=['PTADBEG',\"APOE4_BIN\",\"VISCODE\",\"VISCODE2\",\"VISDATE\"])\n",
    "adni_testing_filtered=adni_testing[adni_testing[\"Rate_of_Change_MMSCORE_new\"]!=\"NA\"]\n",
    "adni_testing_final=adni_testing_filtered.drop(columns=['abeta_SCANDATE',\"tau_SCANDATE\",\"VISCODE\",\"VISCODE2\",\"VISDATE\",\"AMYLOID_STATUS\",\"AMYLOID_STATUS_COMPOSITE_REF\",\"ctx_entor/subcor\",\"meta/subcor\",\"Rate_of_Change\",\"CTX_ENTORHINAL_SUVR\",\"ERODED_SUBCORTICALWM_SUVR\",\"abeta_Age\",\"tau_Age\",\"Rate_of_Change_meta\",\"Rate_of_Change_ctx\",\"Visit time tau\",\"Rate_of_Change\",\"Visit time mmse\",\"Initial tau status meta\",\"Initial tau status ctx\",\"low_meta\",\"intermediate_meta\",\"high_meta\",\"very_high_meta\",\"low_ctx\",\"intermediate_ctx\",\"high_ctx\",\"very_high_ctx\",\"back_VISDATE\", \n",
    "                                         \"DX_EXAMDATE\",\"GDS_VISDATE\",\"Neuro_VISDATE\",\"NPIQ_VISDATE\",\"VS_VISDATE\",\"EXAMDATE\",\"CENTILOIDS\",\"AGE_BL\",\"PTGENDER\",\"PTEDUCAT\",\"PTETHCAT\",\"PTRACCAT\",\"PTMARRY\",\"APOE4\",\"DX\", 'META_TEMPORAL_SUVR','Rate_of_abeta_Change',\"zscore_meta_tau\",'Visit time mmse',\"APOE4\",\"DX\",\"SUBJECT\",\"SCANDATE\",\"zscore_abeta\",\"zscore_ptau\",\"zscore_total_tau\", \"zscore_ctx_tau\",\"CTX_ENTORHINAL_SUVR\",\"zscore_blood_abeta\",\"zscore_blood_tau\",\"zscore_blood_ptau\",\"Rate_of_Change_mPACCdigit_new\",\"Visit time mPACCdigit\"\n",
    "])\n",
    "adni_merged_testing = pd.merge(adni_testing_final, adni_baseline_final, on='RID', how='left')\n",
    "diagnosis_map = {\n",
    "    'CN': 'Cognitive normal',\n",
    "    'MCI': 'Mildly cognitive impairment',\n",
    "    'Unknown Diagnosis': 'NA',\n",
    "    'Midly cognitive impairment': 'Mildly cognitive impairment',\n",
    "}\n",
    "adni_merged_testing['DIAGNOSIS'] = adni_merged_testing['DIAGNOSIS'].replace(diagnosis_map)\n",
    "adni_merged_testing['ABETA40'] = pd.to_numeric(adni_merged_testing['ABETA40'], errors='coerce')\n",
    "adni_merged_testing['ABETA42'] = pd.to_numeric(adni_merged_testing['ABETA42'], errors='coerce')\n",
    "adni_merged_testing['TAU'] = pd.to_numeric(adni_merged_testing['TAU'], errors='coerce')\n",
    "adni_merged_testing['PTAU'] = pd.to_numeric(adni_merged_testing['PTAU'], errors='coerce')\n",
    "import numpy as np\n",
    "adni_merged_testing= adni_merged_testing.replace(['Unknown', 'NA'], np.nan)"
   ]
  },
  {
   "cell_type": "code",
   "execution_count": 19,
   "id": "54883f7e",
   "metadata": {},
   "outputs": [],
   "source": [
    "adni_merged_df = pd.merge(adni_training_final, adni_baseline_final, on='RID', how='left')"
   ]
  },
  {
   "cell_type": "code",
   "execution_count": 20,
   "id": "4f7d6ad5",
   "metadata": {},
   "outputs": [],
   "source": [
    "diagnosis_map = {\n",
    "    'CN': 'Cognitive normal',\n",
    "    'MCI': 'Mildly cognitive impairment',\n",
    "    'Unknown Diagnosis': 'NA',\n",
    "    'Midly cognitive impairment': 'Mildly cognitive impairment',\n",
    "}\n",
    "adni_merged_df['DIAGNOSIS'] = adni_merged_df['DIAGNOSIS'].replace(diagnosis_map)\n",
    "adni_merged_df['ABETA40'] = pd.to_numeric(adni_merged_df['ABETA40'], errors='coerce')\n",
    "adni_merged_df['ABETA42'] = pd.to_numeric(adni_merged_df['ABETA42'], errors='coerce')\n",
    "adni_merged_df['TAU'] = pd.to_numeric(adni_merged_df['TAU'], errors='coerce')\n",
    "adni_merged_df['PTAU'] = pd.to_numeric(adni_merged_df['PTAU'], errors='coerce')"
   ]
  },
  {
   "cell_type": "code",
   "execution_count": 21,
   "id": "41a0d91f",
   "metadata": {},
   "outputs": [
    {
     "name": "stderr",
     "output_type": "stream",
     "text": [
      "C:\\Users\\25110\\AppData\\Local\\Temp/ipykernel_20516/2305695614.py:2: FutureWarning: Downcasting behavior in `replace` is deprecated and will be removed in a future version. To retain the old behavior, explicitly call `result.infer_objects(copy=False)`. To opt-in to the future behavior, set `pd.set_option('future.no_silent_downcasting', True)`\n",
      "  adni_merged_df= adni_merged_df.replace(['Unknown', 'NA'], np.nan)\n"
     ]
    }
   ],
   "source": [
    "import numpy as np\n",
    "adni_merged_df= adni_merged_df.replace(['Unknown', 'NA'], np.nan)\n",
    "adni_merged_df.to_csv(\"D:\\\\Research\\\\AD\\\\ADLLM\\\\ADNI process 9\\\\ADNI\\\\GB\\\\adni_merge_training_mmse.csv\",index=False)"
   ]
  },
  {
   "cell_type": "code",
   "execution_count": 22,
   "id": "b42f8f75",
   "metadata": {},
   "outputs": [
    {
     "name": "stderr",
     "output_type": "stream",
     "text": [
      "C:\\Users\\25110\\AppData\\Local\\Temp/ipykernel_20516/2164402105.py:4: FutureWarning: Downcasting behavior in `replace` is deprecated and will be removed in a future version. To retain the old behavior, explicitly call `result.infer_objects(copy=False)`. To opt-in to the future behavior, set `pd.set_option('future.no_silent_downcasting', True)`\n",
      "  habs_training.replace(\"NA\", np.nan, inplace=True)\n"
     ]
    }
   ],
   "source": [
    "drop_group_habs=[\"Visit_ID\", \"SUBJECT\",\"SCANDATE\",\"APOE4\",\"APOE2_carrier\",\"ID_Gender\",\"ID_MaritalStatus\",\"Race\",\"ID_Hispanic\",\"ID_Education_HighSchool\",\"ID_Education_Degree\",\"ID_Retire\",\"IMH_Alzheimers\",\"IMH_AlzheimersAge\",\"zscore_abeta\",\"zscore_tau\",\"zscore_total_tau\",\"SUBJECT\",\"TRACER\",\"SCANDATE\",\"MRIDATE\",\"age_at_scan\",\"META_TEMPORAL_SUVR\",\"MMSE_closest_ab\",\"MMSE\",\"MMSE_closest_tau\",\"DX_closest_ab\",\"DX_closest_tau\",\"nearest_ab_centiloid\",\"ABETA\",\"zscore_ctx_tau\",\"BRAAK1_SUVR\",\"zscore_blood_abeta\",\"zscore_blood_tau\",\"zscore_blood_ptau\",\"01_BrainSegNotVent\",\"zscore_LM2_A_Total_only_cog\",\"zscore_SEVLT_DR_Total_only_cog\",\"zscore_Digit_Symbol_Substitution_only_cog\",\"zscore_MMSE_Total_only_cog\",\"Rate_of_Change_PACC\",\"Visit time PACC\",\"Visit time mmse\",\"01_BrainSegNotVent\",\"zscore_meta_tau\"]\n",
    "import numpy as np\n",
    "habs_training=habs_training[habs_training[\"Rate_of_Change_mmse\"]!=\"NA\"]\n",
    "habs_training.replace(\"NA\", np.nan, inplace=True)"
   ]
  },
  {
   "cell_type": "code",
   "execution_count": 23,
   "id": "5ff5da25",
   "metadata": {},
   "outputs": [
    {
     "name": "stderr",
     "output_type": "stream",
     "text": [
      "C:\\Users\\25110\\AppData\\Local\\Temp/ipykernel_20516/62161330.py:6: FutureWarning: Downcasting behavior in `replace` is deprecated and will be removed in a future version. To retain the old behavior, explicitly call `result.infer_objects(copy=False)`. To opt-in to the future behavior, set `pd.set_option('future.no_silent_downcasting', True)`\n",
      "  habs_df = habs_df.replace(['Unknown', 'NA'], np.nan)\n"
     ]
    }
   ],
   "source": [
    "habs_baseline=pd.read_csv(\"D:\\\\Research\\\\AD\\\\ADLLM\\\\ADNI process 8\\\\baseline_covariates_habs_smoking.csv\")\n",
    "habs_baseline_filtered=habs_baseline[habs_baseline['Med_ID'].isin(habs_training['Med_ID'])]\n",
    "habs_baseline_final=habs_baseline_filtered.drop(columns=['ID_Education_HighSchool','ID_Education_Degree',\"Smoke_Currently\",\"Smoke_Ever\"])\n",
    "habs_training_final=habs_training.drop(columns=drop_group_habs)\n",
    "habs_df = pd.merge(habs_training_final, habs_baseline_final, on='Med_ID', how='left')\n",
    "habs_df = habs_df.replace(['Unknown', 'NA'], np.nan)\n"
   ]
  },
  {
   "cell_type": "code",
   "execution_count": 24,
   "id": "9979b160",
   "metadata": {},
   "outputs": [
    {
     "name": "stderr",
     "output_type": "stream",
     "text": [
      "C:\\Users\\25110\\AppData\\Local\\Temp/ipykernel_20516/705561805.py:8: FutureWarning: Downcasting behavior in `replace` is deprecated and will be removed in a future version. To retain the old behavior, explicitly call `result.infer_objects(copy=False)`. To opt-in to the future behavior, set `pd.set_option('future.no_silent_downcasting', True)`\n",
      "  habs_testing.replace(\"NA\", np.nan, inplace=True)\n",
      "C:\\Users\\25110\\AppData\\Local\\Temp/ipykernel_20516/705561805.py:14: FutureWarning: Downcasting behavior in `replace` is deprecated and will be removed in a future version. To retain the old behavior, explicitly call `result.infer_objects(copy=False)`. To opt-in to the future behavior, set `pd.set_option('future.no_silent_downcasting', True)`\n",
      "  habs_testing_df = habs_testing_df.replace(['Unknown', 'NA'], np.nan)\n"
     ]
    }
   ],
   "source": [
    "import numpy as np\n",
    "#habs_testing=pd.read_csv(\"D:\\\\Research\\\\AD\\\\ADLLM\\\\ADNI process 8\\\\dataset\\\\habs_testing_Sep24.csv\")\n",
    "habs_testing=pd.read_csv(\"D:\\\\Research\\\\AD\\\\ADLLM\\\\ADNI process 9\\\\HABS-HD\\\\HABS-HD_thickness_Dec_17_testing.csv\")\n",
    "habs_testing=habs_testing.fillna('NA')\n",
    "\n",
    "\n",
    "habs_testing=habs_testing[habs_testing[\"Rate_of_Change_mmse\"]!=\"NA\"]\n",
    "habs_testing.replace(\"NA\", np.nan, inplace=True)\n",
    "habs_baseline=pd.read_csv(\"D:\\\\Research\\\\AD\\\\ADLLM\\\\ADNI process 8\\\\baseline_covariates_habs_smoking.csv\")\n",
    "habs_baseline_filtered=habs_baseline[habs_baseline['Med_ID'].isin(habs_testing['Med_ID'])]\n",
    "habs_baseline_final=habs_baseline_filtered.drop(columns=['ID_Education_HighSchool','ID_Education_Degree',\"Smoke_Currently\",\"Smoke_Ever\"])\n",
    "habs_testing_final=habs_testing.drop(columns=drop_group_habs)\n",
    "habs_testing_df = pd.merge(habs_testing_final, habs_baseline_final, on='Med_ID', how='left')\n",
    "habs_testing_df = habs_testing_df.replace(['Unknown', 'NA'], np.nan)"
   ]
  },
  {
   "cell_type": "code",
   "execution_count": 25,
   "id": "d166f69a",
   "metadata": {},
   "outputs": [],
   "source": [
    "habs_df.to_csv(\"D:\\\\Research\\\\AD\\\\ADLLM\\\\ADNI process 9\\\\HABS-HD\\\\GB\\habs_merge_training_mmse.csv\",index=False)\n",
    "habs_testing_df.to_csv(\"D:\\\\Research\\\\AD\\\\ADLLM\\\\ADNI process 9\\\\HABS-HD\\\\GB\\\\habs_merge_testing_mmse.csv\",index=False)"
   ]
  },
  {
   "cell_type": "code",
   "execution_count": 26,
   "id": "496c6392",
   "metadata": {},
   "outputs": [],
   "source": [
    "rename_name_adni = {\n",
    "                \"PTGENDER\":\"Gender\",\n",
    "                \"PTEDUCAT\":\"Education\",\n",
    "                \"PTETHCAT\":\"Ethnicity\",\n",
    "                \"PTRACCAT\":\"Race\",\n",
    "                \"PTMARRY\":\"Marrital status\",\n",
    "                \"PTHAND\":\"Hand\",\n",
    "                \"PTNOTRT\":\"Retired\",     \n",
    "                \"PTDOBYY\":\"Date of birth year\",\n",
    "                \"AGE_AD_ON_SET\":\"Age of AD on set\",\n",
    "                \"APOE2_BIN\":\"APOE2\",\n",
    "                \"APOE4_NUM\":\"APOE4\",\n",
    "                \"Age\":\"Age\",\n",
    "                \"Transformed_KEYMED\":\"Medication\",\n",
    "                'MMSCORE': 'Mini-Mental State Examination score',\n",
    "                'GDTOTAL': 'Geriatric Depression Scale',\n",
    "                'COPYSCOR': 'Clock Drawing Test score',\n",
    "                'NPISCORE': 'Neuropsychiatric Inventory Total Score',\n",
    "                'VSWEIGHT': 'Weight (in kg)',\n",
    "                'VSHEIGHT': 'Height (in cm)',\n",
    "                'VSBPSYS': 'Systolic blood pressure (mmHg)',\n",
    "                'VSBPDIA': 'Diastolic blood pressure (mmHg)',\n",
    "                'VSPULSE': 'Seated Pulse Rate (per minute)',\n",
    "                'VSRESP': 'Respirations (per minute)',\n",
    "                'VSTEMP': 'Temperature (in Celsius)',\n",
    "                \"ANARTERR\": \"American National Adult Reading Test Total Errors\",\n",
    "                \"NPISCORE\":\"Neuropsychiatric Inventory Total Score\",\n",
    "                'FDG': 'average FDG-PET of angular, temporal, and posterior cingulate',\n",
    "                \"ABETA40\":\"Amyloid beta 40 in Cerebrospinal Fluid (pg/mL)\", \n",
    "                \"ABETA42\":\"Amyloid beta 42 in Cerebrospinal Fluid (pg/mL)\", \n",
    "                \"PTAU\": \"Phosphorylated tau protein in Cerebrospinal Fluid (pg/mL)\",\n",
    "                \"TAU\": \"Tau protein concentration in Cerebrospinal Fluid (pg/mL)\",\n",
    "                'CDRSB': 'Clinical Dementia Rating Scale Sum of Boxes Scores',\n",
    "                'ADAS11': \"Alzheimer's Disease Assessment Scale (11 items)\",\n",
    "                'ADAS13': \"Alzheimer's Disease Assessment Scale (13 items)\",\n",
    "                'ADASQ4': 'Question 4 score in the 11-item test',\n",
    "                \"RAVLT_immediate\": \"Rey Auditory Verbal Learning Test (Immediate)\",\n",
    "                \"RAVLT_learning\": \"Rey Auditory Verbal Learning Test (Learning)\",\n",
    "                \"RAVLT_forgetting\": \"Rey Auditory Verbal Learning Test (Forgetting)\",\n",
    "                \"RAVLT_perc_forgetting\": \"Rey Auditory Verbal Learning Test (Percent forgetting)\",\n",
    "                \"LDELTOTAL\": \"Delayed Total Recall test\",\n",
    "                \"DIGITSCOR\": \"Digit Substitution test\",\n",
    "                \"TRABSCOR\": \"Trail Making Test Part B Time\",\n",
    "                \"FAQ\":\"Functional Assessment Questionnaire\",\n",
    "                \"MOCA\":\"Montreal Cognitive Assessment\",\n",
    "                \"mPACCdigit\":\"PACC score\",\n",
    "                \"EcogSPMem\":\"Everyday Cognition test (self-reported Memory)\",\n",
    "                \"EcogSPLang\":\"Everyday Cognition test (self-reported Language)\",\n",
    "                \"EcogSPVisspat\":\"Everyday Cognition test (self-reported Visuospatial Abilities)\",\n",
    "                \"EcogSPPlan\":\"Everyday Cognition test (self-reported Planning)\",\n",
    "                \"EcogSPOrgan\":\"Everyday Cognition test (self-reported Organization)\",\n",
    "                \"EcogSPDivatt\":\"Everyday Cognition test (self-reported Divided attention)\",\n",
    "                \"EcogSPTotal\":\"Everyday Cognition test (self-reported Total scores)\",\n",
    "                \"EcogPtMem\":\"Everyday Cognition test (partner-reported Memory)\",\n",
    "                \"EcogPtLang\":\"Everyday Cognition test (partner-reported Language)\",\n",
    "                \"EcogPtVisspat\":\"Everyday Cognition test (partner-reported Visuospatial Abilities)\",\n",
    "                \"EcogPtPlan\":\"Everyday Cognition test (partner-reported Planning)\",\n",
    "                \"EcogPtOrgan\":\"Everyday Cognition test (partner-reported Organization)\",\n",
    "                \"EcogPtDivatt\":\"Everyday Cognition test (partner-reported Divided attention)\",\n",
    "                \"EcogPtTotal\":\"Everyday Cognition test (partner-reported Total scores)\",\n",
    "                \"DIAGNOSIS\":\"Diagnosis\",\n",
    "        \"Rate_of_Change_MMSCORE_new\":\"MMSE rate\",\n",
    "                \"DXDEP\": \"Diagnosis of Depression\",\n",
    "                \"DXPARK\":\"Diagnosis of Parkinson's disease\",\n",
    "                \"vol_Left_Hippocampus\":\"Left_Hippocampus\",\n",
    "                \"vol_Right_Hippocampus\":\"Right_Hippocampus\",\n",
    "             \"vol_Left_Lateral_Ventricle\":\"Left_Lateral_Ventricle\",\n",
    "            \"vol_Right_Lateral_Ventricle\":\"Right_Lateral_Ventricle\",\n",
    "           \"Left_meta\":\"Left_meta\",\n",
    "                \"ICV\":\"Total intracranial\",\n",
    "    \"Thck_L_entorhinal\": \"Left_Entorhinal\",\n",
    "    \"Thck_R_entorhinal\":\"Right_Entorhinal\",\n",
    "    \"Thck_L_fusiform\": \"Left_Fusiform\",\n",
    "    \"Thck_R_fusiform\": \"Right_Fusiform\",\n",
    "    \"Thck_L_inferiorparietal\": \"Left Inferior Parietal\",\n",
    "    \"Thck_R_inferiorparietal\": \"Right Inferior Parietal\",\n",
    "    \"Thck_L_inferiortemporal\": \"Left Inferior Temporal\",\n",
    "    \"Thck_R_inferiortemporal\": \"Right Inferior Temporal\",\n",
    "    \"Thck_L_middletemporal\": \"Left Middle Temporal\",\n",
    "    \"Thck_R_middletemporal\": \"Right Middle Temporal\",\n",
    "    \"Thck_L_precuneus\": \"Left Precuneus\",\n",
    "    \"Thck_R_precuneus\": \"Right Precuneus\",\n",
    "    \"Thck_L_insula\": \"Left Insula\",\n",
    "    \"Thck_R_insula\": \"Right Insula\",\n",
    "     'Right_meta':\"Right_meta\"  \n",
    "}"
   ]
  },
  {
   "cell_type": "code",
   "execution_count": 27,
   "id": "16110392",
   "metadata": {},
   "outputs": [],
   "source": [
    "rename_name_habs = {\n",
    "                \"Age\":\"Age\",\n",
    "                \"ID_Gender\":\"Gender\",\n",
    "                \"ID_MaritalStatus\":\"Marrital status\",\n",
    "                \"Race\":\"Race\",\n",
    "                \"Edu\":\"Education\",\n",
    "                \"ID_Retire\":\"Retired\",\n",
    "                \"ID_Hispanic\":\"Ethnicity\",\n",
    "                \"APOE4\":\"APOE4\",\n",
    "                \"APOE2_carrier\":\"APOE2\",\n",
    "                'MMSE_Total': 'Mini-Mental State Examination score',\n",
    "                'GDS_Total': 'Geriatric Depression Scale',\n",
    "                \"AMNART_Er\": \"American National Adult Reading Test Total Errors\",\n",
    "                \"DS_Total\": \"Digit Span total\",\n",
    "                \"LM2_B_Total\": \"Logical Memory II Version B delayed recall\",\n",
    "                \"LM2_A_Total\": \"Logical Memory II Version A delayed recall\",\n",
    "                'CDR_Sum': 'Clinical Dementia Rating Scale Sum of Boxes Scores',\n",
    "                \"CDX_Cog\":\"Diagnosis\",\n",
    "    \"nearest_ab_centiloid\":\"CENTILOIDS\",\n",
    "                \"r5_QTX_Plasma_Abeta40\":\"Amyloid beta 40 peptide in the blood plasma(pg/mL)\",\n",
    "                \"r5_QTX_Plasma_Abeta42\":\"Amyloid beta 42 peptide in the blood plasma(pg/mL)\",\n",
    "                \"r5_QTX_Plasma_pTau181\":\"Phosphorylated tau protein in the blood plasma(pg/mL)\",\n",
    "                \"r5_QTX_Plasma_Total_Tau\":\"Tau protein concentration in the blood plasma(pg/mL)\",\n",
    "                \"Digit_Symbol_Substitution\": \"Digit Substitution test\",\n",
    "                \"TIV_VOLUME\":\"Total intracranial\",\n",
    "                \"IMH_Depression\": \"Diagnosis of Depression\",\n",
    "                \"AUDIT_Total\":\"Audit Total\",\n",
    "                \"PACC_only_cog\":\"PACC score\",\n",
    "                \"IMH_Cancer\": \"Diagnosis of Cancer\",\n",
    "                \"IMH_Diabetes\":\"Diagnosis of diabetes\",\n",
    "                \"IMH_HighBP\":\"Diagnosis of High Blood Pressure\",\n",
    "                \"IMH_HighCholesterol\":\"Diagnosis of High Cholesterol\",\n",
    "                \"IMH_HeartAttack\":\"Diagnosis of Heart Attack\",\n",
    "                \"IMH_ThyroidDisease\":\"Diagnosis of Thyroid disease\",\n",
    "                \"IMH_KidneyDisease\":\"Diagnosis of Kidney disease\",\n",
    "                \"IMH_Stroke\":\"Diagnosis of Stroke\",\n",
    "                \"IMH_Anxiety\":\"Diagnosis of Anxiety\",\n",
    "                \"IMH_Osteoporosis\":\"Diagnosis of Osteoporosis\",\n",
    "                \"IMH_Arthritis\":\"Diagnosis of Arthritis\",\n",
    "                \"IMH_TBI\":\"Diagnosis of traumatic brain injury\",\n",
    "                \"SMC_Total\":\"Subjective memory complaints total\",\n",
    "                \"PED_Total\":\"Physician's Estimate of Duration total\",\n",
    "                \"SEVLT_T1_Total\":\"SEVLT Trial 1 total\",\n",
    "                \"SEVLT_T2_Total\":\"SEVLT Trial 2 total\",\n",
    "                \"SEVLT_T3_Total\":\"SEVLT Trial 3 total\",\n",
    "                \"SEVLT_T5_Total\":\"SEVLT Trial 5 total\",\n",
    "                \"SEVLT_T1235_Total\":\"SEVLT Trials 1-5 total\",\n",
    "                \"SEVLT_DR_Total\":\"SEVLT Trial Delayed Recall total score\",\n",
    "                \"LM1_AB_Total\":\"Logical Memory I Version A and B delayed recall\",\n",
    "                \"LM2_AB_Total\":\"Logical Memory II Version A and B delayed recall\",\n",
    "                \"Smoke_Currently\":\"Smoking\",\n",
    "                \"Smoke_Ever\":\"Smoking history\",\n",
    "                \"FAS_Total\": \"Grand Total of FAS Word\",\n",
    "                \"WAT_Correct\":\"WAT Number correct\",\n",
    "                \"Animal_Total\":\"Animal Naming Total Score\",\n",
    "                \"TOMM_Total\":\"Test of Memory Malingering\",\n",
    "                \"BW_Glucose\":\"Blood Work Glucose (mg/dL)\",\n",
    "                \"HI_Score\":\"Hachinski Ischemic Score\",\n",
    "    \"Rate_of_Change_mmse\":\"MMSE rate\",\n",
    "  \"LEFT_HIPPOCAMPUS_VOLUME\":\"Left_Hippocampus\",\n",
    "                \"RIGHT_HIPPOCAMPUS_VOLUME\":\"Right_Hippocampus\",\n",
    "             \"LEFT_LATERAL_VENTRICLE_VOLUME\":\"Left_Lateral_Ventricle\",\n",
    "            \"RIGHT_LATERAL_VENTRICLE_VOLUME\":\"Right_Lateral_Ventricle\",\n",
    "           \"Left_meta\":\"Left_meta\", \n",
    "    \"THCK:L_ENTORHINAL_VOLUME\": \"Left_Entorhinal\",\n",
    "    \"THCK:R_ENTORHINAL_VOLUME\":\"Right_Entorhinal\",\n",
    "    \"THCK:L_FUSIFORM_VOLUME\": \"Left_Fusiform\",\n",
    "    \"THCK:R_FUSIFORM_VOLUME\": \"Right_Fusiform\",\n",
    "    \"THCK:L_INFERIORPARIETAL_VOLUME\": \"Left Inferior Parietal\",\n",
    "    \"THCK:R_INFERIORPARIETAL_VOLUME\": \"Right Inferior Parietal\",\n",
    "    \"THCK:L_INFERIORTEMPORAL_VOLUME\": \"Left Inferior Temporal\",\n",
    "    \"THCK:R_INFERIORTEMPORAL_VOLUME\": \"Right Inferior Temporal\",\n",
    "    \"THCK:L_MIDDLETEMPORAL_VOLUME\": \"Left Middle Temporal\",\n",
    "    \"THCK:R_MIDDLETEMPORAL_VOLUME\": \"Right Middle Temporal\",\n",
    "    \"THCK:L_PRECUNEUS_VOLUME\": \"Left Precuneus\",\n",
    "    \"THCK:R_PRECUNEUS_VOLUME\": \"Right Precuneus\",\n",
    "    \"THCK:L_INSULA_VOLUME\": \"Left Insula\",\n",
    "    \"THCK:R_INSULA_VOLUME\": \"Right Insula\",\n",
    "     'Right_meta':\"Right_meta\"  \n",
    "            }"
   ]
  },
  {
   "cell_type": "code",
   "execution_count": 28,
   "id": "8ca6132d",
   "metadata": {},
   "outputs": [],
   "source": [
    "full_column_name_pointer={\n",
    "                \"age\":\"Age\",\n",
    "                \"gender\":\"Gender\",\n",
    "                \"race_simple\":\"Race\",\n",
    "                \"raceEth\":\"Ethnicity\",\n",
    "                \"APOE2_BIN\":\"APOE2\",\n",
    "                \"APOE4_NUM\":\"APOE4\",\n",
    "                \"Edu_yrs\":\"Education\",\n",
    "                \"PersonOfColor\":\"Person of Color\",\n",
    "                \"weightavg_kg\": 'Weight (in kg)',\n",
    "                \"mindtotal\":\"MIND Diet Total Score\",\n",
    "                \"PSQI_Global_Score\":\"Pittsburgh Sleep Quality Index Global Score\",\n",
    "                \"ISI_score\":\"Insomnia Severity Index\",\n",
    "                \"FHS_risk\":\"Framingham Heart Study 10 year CVD Risk\",\n",
    "                \"bpavgsys\": 'Systolic blood pressure (mmHg)',\n",
    "                'bpavgdia': 'Diastolic blood pressure (mmHg)',\n",
    "                'bmi':\"Body Mass Index\",\n",
    "                \"hba1c\":\"HbA1c(%)\",\n",
    "                \"diabetes_type2\":\"Diagnosis of Type II diabetes\",\n",
    "                \"diabetes_status\":\"Diagnosis of diabetes\",\n",
    "                \"glucose\":\"Glucose level\",\n",
    "                \"TICS_adj\":\"Adjusted TICS score\",\n",
    "                \"CVD_bl\":\"Diagnosis of CVD\",\n",
    "                \"smokerChar\":\"Smoke history\",\n",
    "                \"animalstotcorrect\":\"Animal Naming Total Score\",\n",
    "                'mmsetotscore': 'Mini-Mental State Examination score',\n",
    "                'delayrecalltot': 'Delayed Total Recall test',\n",
    "                'cdr_scr_sum': 'Clinical Dementia Rating Scale Sum of Boxes Scores',\n",
    "                \"FCSRT_Free_Cued__96\":\"Free and Cued Selective Reminding Test\",\n",
    "                \"episodic_score_z\":\"Episodic Memory Domain Score\",\n",
    "                \"executive_score_z\":\"Executive Function Domain Score\",\n",
    "                \"processing_score_z\":\"Processing Speed Domain Score\",\n",
    "                \"global_composite_Z\":\"Global Composite Score (primary outcome)\",\n",
    "                \"FINGER_NTB_z\":\"FINGER NTB Score\",\n",
    "                \"PACC_5_z\":\"PACC-5 Score\",\n",
    "                \"freq_cog\":\"Frequency/week of cognitive activities\",\n",
    "                \"freq_social\":\"Frequency/week of social activities\",\n",
    "                \"gds_total\":\"Geriatric Mood Scale\",\n",
    "                \"chol\":\"Total Cholesterol (mg/dL)\",\n",
    "                \"UCB_ADNIPOINTER_PACC\":\"PACC score\",\n",
    "                \"CFI_ppt\":\"Cognitive Function Index (partner-reported)\",\n",
    "                \"CFI_sp\":\"Cognitive Function Index (self-reported)\",\n",
    "                \"DCTScore\":\"Clock Drawing Test score\",\n",
    "                \"ecog_sp_memory\":\"Everyday Cognition test (self-reported Memory)\",\n",
    "                \"ecog_sp_language\":\"Everyday Cognition test (self-reported Language)\",\n",
    "                \"ecog_sp_visuosp\":\"Everyday Cognition test (self-reported Visuospatial Abilities)\",\n",
    "                \"ecog_sp_planning\":\"Everyday Cognition test (self-reported Planning)\",\n",
    "                \"ecog_sp_organize\":\"Everyday Cognition test (self-reported Organization)\",\n",
    "                \"ecog_sp_attention\":\"Everyday Cognition test (self-reported Divided attention)\",\n",
    "                \"ecog_sp_total\":\"Everyday Cognition test (self-reported Total scores)\",\n",
    "                \"ecog_ppt_memory\":\"Everyday Cognition test (partner-reported Memory)\",\n",
    "                \"ecog_ppt_language\":\"Everyday Cognition test (partner-reported Language)\",\n",
    "                \"ecog_ppt_visuosp\":\"Everyday Cognition test (partner-reported Visuospatial Abilities)\",\n",
    "                \"ecog_ppt_planning\":\"Everyday Cognition test (partner-reported Planning)\",\n",
    "                \"ecog_ppt_organize\":\"Everyday Cognition test (partner-reported Organization)\",\n",
    "                \"ecog_ppt_attention\":\"Everyday Cognition test (partner-reported Divided attention)\",\n",
    "                \"ecog_ppt_total\":\"Everyday Cognition test (partner-reported Total scores)\",\n",
    "                \"medName\":\"Medication\",\n",
    "                \"heightavg_cm\":\"Height (in cm)\",\n",
    "                \"phys_func_comp\":\"Short Survey Physical Functioning Scale\",\n",
    "                \"phys_hlth_comp\":\"Short Survey Role Functioning/Physical Scale\",\n",
    "                \"emot_prob_comp\":\"Short Survey Role Functioning/Emotional Scale\",\n",
    "                \"ener_fati_comp\":\"Short Survey Energy/Fatigue Scale\",\n",
    "                \"emot_well_comp\":\"Short Survey Emotional Well-being Scale\",\n",
    "                \"soci_func_comp\":\"Short Survey Social Functioning Scale\",\n",
    "                \"pain_comp\":\"Short Survey Pain Scale\",\n",
    "                \"gen_hlth_comp\":\"Short Survey General Health Scale\",\n",
    "                \"hlth_chg_comp\":\"Short Survey Health Change Scale\",\n",
    "                \"tiv\":\"Total intracranial\",\n",
    "                \"CDX_Cog\":\"Diagnosis\",\n",
    "     'bl_occupation':\"Occupation\",\n",
    " 'bl_relationship':\"Marrital status\",\n",
    " 'bl_retired':\"Retired\",\n",
    " 'lowEdu':\"Low Education\",\n",
    "    \"FBB_CENTILOIDS_1\":\"CENTILOIDS\",\n",
    "           \"vol_Left_Hippocampus\":\"Left_Hippocampus\",\n",
    "                \"vol_Right_Hippocampus\":\"Right_Hippocampus\",\n",
    "             \"vol_Left_Lateral_Ventricle\":\"Left_Lateral_Ventricle\",\n",
    "            \"vol_Right_Lateral_Ventricle\":\"Right_Lateral_Ventricle\",\n",
    "           \"Left_meta\":\"Left_meta\",\n",
    "    \"Thck_L_entorhinal\": \"Left_Entorhinal\",\n",
    "    \"Thck_R_entorhinal\":\"Right_Entorhinal\",\n",
    "    \"Thck_L_fusiform\": \"Left_Fusiform\",\n",
    "    \"Thck_R_fusiform\": \"Right_Fusiform\",\n",
    "    \"Thck_L_inferiorparietal\": \"Left Inferior Parietal\",\n",
    "    \"Thck_R_inferiorparietal\": \"Right Inferior Parietal\",\n",
    "    \"Thck_L_inferiortemporal\": \"Left Inferior Temporal\",\n",
    "    \"Thck_R_inferiortemporal\": \"Right Inferior Temporal\",\n",
    "    \"Thck_L_middletemporal\": \"Left Middle Temporal\",\n",
    "    \"Thck_R_middletemporal\": \"Right Middle Temporal\",\n",
    "    \"Thck_L_precuneus\": \"Left Precuneus\",\n",
    "    \"Thck_R_precuneus\": \"Right Precuneus\",\n",
    "    \"Thck_L_insula\": \"Left Insula\",\n",
    "    \"Thck_R_insula\": \"Right Insula\",\n",
    "     'Right_meta':\"Right_meta\"  \n",
    "            }\n",
    "\n",
    "\n"
   ]
  },
  {
   "cell_type": "code",
   "execution_count": 29,
   "id": "ffe6e4f3",
   "metadata": {},
   "outputs": [],
   "source": [
    "adni_merged_df = adni_merged_df.rename(columns=rename_name_adni)\n",
    "habs_df = habs_df.rename(columns=rename_name_habs)\n",
    "\n",
    "\n",
    "adni_merged_testing = adni_merged_testing.rename(columns=rename_name_adni)\n",
    "habs_testing_df=habs_testing_df.rename(columns=rename_name_habs)\n",
    "\n",
    "columns1 = set(adni_merged_df.columns)\n",
    "columns2 = set(habs_df.columns)\n",
    "\n",
    "common_columns = columns1.union(columns2)\n",
    "\n",
    "for col in common_columns:\n",
    "    if col not in adni_merged_df.columns:\n",
    "        adni_merged_df[col] = np.nan\n",
    "    if col not in habs_df.columns:\n",
    "        habs_df[col] = np.nan\n",
    "#     if col not in pointer_training.columns:\n",
    "#         pointer_training[col] = np.nan\n",
    "\n",
    "combined_dataset = pd.concat([adni_merged_df, habs_df], axis=0)\n"
   ]
  },
  {
   "cell_type": "code",
   "execution_count": 30,
   "id": "fc5fc8a0",
   "metadata": {},
   "outputs": [
    {
     "name": "stdout",
     "output_type": "stream",
     "text": [
      "Existing categorical columns: ['Medication', 'Diagnosis', 'Diagnosis of Depression', \"Diagnosis of Parkinson's disease\", 'Gender', 'Ethnicity', 'Race', 'Hand', 'Retired', 'Diagnosis of diabetes', 'Diagnosis of Osteoporosis', 'Diagnosis of Cancer', 'Diagnosis of Stroke', 'Diagnosis of Thyroid disease', 'Diagnosis of High Cholesterol', 'Diagnosis of Anxiety', 'Diagnosis of High Blood Pressure', 'Diagnosis of traumatic brain injury', 'Diagnosis of Heart Attack', 'Diagnosis of Kidney disease', 'Diagnosis of Arthritis']\n",
      "      Medication         Diagnosis Diagnosis of Depression  \\\n",
      "0        unknown  Cognitive normal                 unknown   \n",
      "1        unknown  Cognitive normal                 unknown   \n",
      "2        unknown  Cognitive normal                 unknown   \n",
      "3  no medication  Cognitive normal                 unknown   \n",
      "4  no medication  Cognitive normal  No depressive symptoms   \n",
      "\n",
      "  Diagnosis of Parkinson's disease   Gender Ethnicity     Race     Hand  \\\n",
      "0                          unknown  unknown   unknown  unknown  unknown   \n",
      "1                          unknown  unknown   unknown  unknown  unknown   \n",
      "2                          unknown  unknown   unknown  unknown  unknown   \n",
      "3         No parkinsonism symptoms  unknown   unknown  unknown  unknown   \n",
      "4         No parkinsonism symptoms  unknown   unknown  unknown  unknown   \n",
      "\n",
      "   Retired Diagnosis of diabetes  ... Diagnosis of Cancer Diagnosis of Stroke  \\\n",
      "0  unknown               unknown  ...             unknown             unknown   \n",
      "1  unknown               unknown  ...             unknown             unknown   \n",
      "2  unknown               unknown  ...             unknown             unknown   \n",
      "3  unknown               unknown  ...             unknown             unknown   \n",
      "4  unknown               unknown  ...             unknown             unknown   \n",
      "\n",
      "  Diagnosis of Thyroid disease Diagnosis of High Cholesterol  \\\n",
      "0                      unknown                       unknown   \n",
      "1                      unknown                       unknown   \n",
      "2                      unknown                       unknown   \n",
      "3                      unknown                       unknown   \n",
      "4                      unknown                       unknown   \n",
      "\n",
      "  Diagnosis of Anxiety Diagnosis of High Blood Pressure  \\\n",
      "0              unknown                          unknown   \n",
      "1              unknown                          unknown   \n",
      "2              unknown                          unknown   \n",
      "3              unknown                          unknown   \n",
      "4              unknown                          unknown   \n",
      "\n",
      "  Diagnosis of traumatic brain injury Diagnosis of Heart Attack  \\\n",
      "0                             unknown                   unknown   \n",
      "1                             unknown                   unknown   \n",
      "2                             unknown                   unknown   \n",
      "3                             unknown                   unknown   \n",
      "4                             unknown                   unknown   \n",
      "\n",
      "  Diagnosis of Kidney disease Diagnosis of Arthritis  \n",
      "0                     unknown                unknown  \n",
      "1                     unknown                unknown  \n",
      "2                     unknown                unknown  \n",
      "3                     unknown                unknown  \n",
      "4                     unknown                unknown  \n",
      "\n",
      "[5 rows x 21 columns]\n"
     ]
    },
    {
     "name": "stderr",
     "output_type": "stream",
     "text": [
      "C:\\Users\\25110\\AppData\\Local\\Temp/ipykernel_20516/2101668830.py:25: FutureWarning: Setting an item of incompatible dtype is deprecated and will raise in a future error of pandas. Value '['unknown' 'unknown' 'unknown' ... 'unknown' 'unknown' 'unknown']' has dtype incompatible with float64, please explicitly cast to a compatible dtype first.\n",
      "  combined_dataset.loc[:, existing_columns] = combined_dataset[existing_columns].fillna('unknown')\n"
     ]
    }
   ],
   "source": [
    "\n",
    "import pandas as pd\n",
    "\n",
    "# Assuming combined_dataset is your DataFrame\n",
    "\n",
    "# List of categorical columns (some may not exist in the dataset)\n",
    "categorical_columns = ['Medication', 'Diagnosis', 'Diagnosis of Depression', \n",
    "                       'Diagnosis of Parkinson\\'s disease', \n",
    "                       'Gender', 'Ethnicity', 'Race', 'Marital status', 'Hand', \n",
    "                       'Retired', 'Diagnosis of diabetes', 'Diagnosis of Osteoporosis', \n",
    "                       'Diagnosis of Cancer', 'Diagnosis of Stroke', \n",
    "                       'Diagnosis of Thyroid disease', 'Diagnosis of High Cholesterol', \n",
    "                      'Smoke history', 'Person of Color', \n",
    "                       'Diagnosis of Anxiety', 'Diagnosis of High Blood Pressure', \n",
    "                       'Diagnosis of traumatic brain injury', 'Diagnosis of Type II diabetes', \n",
    "                       'Occupation', 'Diagnosis of Heart Attack', 'Diagnosis of CVD', \n",
    "                       'Diagnosis of Kidney disease', 'Diagnosis of Arthritis']\n",
    "\n",
    "# Filter only columns that exist in the dataset\n",
    "existing_columns = [col for col in categorical_columns if col in combined_dataset.columns]\n",
    "\n",
    "# Debugging step: print the columns that exist in the dataset\n",
    "print(f\"Existing categorical columns: {existing_columns}\")\n",
    "\n",
    "# Use fillna directly on the subset of existing columns\n",
    "combined_dataset.loc[:, existing_columns] = combined_dataset[existing_columns].fillna('unknown')\n",
    "\n",
    "# Debugging step: Check if the changes were applied correctly\n",
    "print(combined_dataset[existing_columns].head())\n",
    "combined_dataset.fillna(-9999, inplace=True)\n",
    "combined_dataset.to_csv(\"D:\\\\Research\\\\AD\\\\ADLLM\\\\ADNI process 9\\\\GB\\\\combined_dataset_training_mmse.csv\",index=False)"
   ]
  },
  {
   "cell_type": "code",
   "execution_count": 31,
   "id": "70343d6b",
   "metadata": {},
   "outputs": [
    {
     "name": "stderr",
     "output_type": "stream",
     "text": [
      "C:\\Users\\25110\\AppData\\Local\\Temp/ipykernel_20516/251463166.py:2: DtypeWarning: Columns (76) have mixed types. Specify dtype option on import or set low_memory=False.\n",
      "  combined_dataset=pd.read_csv(\"D:\\\\Research\\\\AD\\\\ADLLM\\\\ADNI process 9\\\\GB\\\\combined_dataset_training_mmse.csv\")\n"
     ]
    }
   ],
   "source": [
    "#combined_dataset.fillna(-9999, inplace=True)\n",
    "combined_dataset=pd.read_csv(\"D:\\\\Research\\\\AD\\\\ADLLM\\\\ADNI process 9\\\\GB\\\\combined_dataset_training_mmse.csv\")"
   ]
  },
  {
   "cell_type": "code",
   "execution_count": 32,
   "id": "73501632",
   "metadata": {},
   "outputs": [],
   "source": [
    "import pandas as pd\n",
    "\n",
    "# Assume merged_df is already defined from previous steps\n",
    "\n",
    "# Define the bins and labels\n",
    "bins = [-float('inf'),-0.767, -0.148, 0, float('inf')]\n",
    "labels = ['Fast','Moderate','Slow','Zero']\n",
    "combined_dataset['MMSE_CATEGORY'] = pd.cut(combined_dataset['MMSE rate'], bins=bins, labels=labels)"
   ]
  },
  {
   "cell_type": "code",
   "execution_count": 33,
   "id": "f4e6ad33",
   "metadata": {},
   "outputs": [],
   "source": [
    "X = combined_dataset.drop(columns=['MMSE rate','MMSE_CATEGORY'], axis=1)\n",
    "y = combined_dataset.MMSE_CATEGORY\n",
    "import numpy as np\n",
    "from sklearn.model_selection import train_test_split\n",
    "X_train, X_validation, y_train, y_validation = train_test_split(X, y, train_size=0.8, random_state=42)\n"
   ]
  },
  {
   "cell_type": "code",
   "execution_count": 34,
   "id": "8fa5e60f",
   "metadata": {},
   "outputs": [
    {
     "name": "stdout",
     "output_type": "stream",
     "text": [
      "Mini-Mental State Examination score      int64\n",
      "Age                                    float64\n",
      "Medication                              object\n",
      "Diagnosis                               object\n",
      "Diagnosis of Depression                 object\n",
      "                                        ...   \n",
      "Diagnosis of Kidney disease             object\n",
      "Diagnosis of Osteoporosis               object\n",
      "Hachinski Ischemic Score                 int64\n",
      "Diagnosis of diabetes                   object\n",
      "Blood Work Glucose (mg/dL)               int64\n",
      "Length: 121, dtype: object\n"
     ]
    }
   ],
   "source": [
    "print(X.dtypes)\n",
    "categorical_features_indices = np.where((X.dtypes != float) & (X.dtypes != int) & (X.dtypes != 'int64'))[0]\n"
   ]
  },
  {
   "cell_type": "code",
   "execution_count": 35,
   "id": "872a6cda",
   "metadata": {},
   "outputs": [
    {
     "data": {
      "text/plain": [
       "array([  2,   3,   4,   5,  71,  73,  74,  75,  76,  77,  83,  89,  90,\n",
       "        95,  97, 103, 112, 114, 115, 116, 117, 119], dtype=int64)"
      ]
     },
     "execution_count": 35,
     "metadata": {},
     "output_type": "execute_result"
    }
   ],
   "source": [
    "categorical_features_indices"
   ]
  },
  {
   "cell_type": "code",
   "execution_count": 36,
   "id": "4970e841",
   "metadata": {},
   "outputs": [],
   "source": [
    "from catboost import CatBoostClassifier, Pool, metrics, cv\n",
    "from sklearn.metrics import accuracy_score\n",
    "model_mmse = CatBoostClassifier(\n",
    "    custom_loss=[metrics.Accuracy()],\n",
    "    random_seed=10000,\n",
    "    logging_level='Silent',\n",
    "    iterations=200, \n",
    "    learning_rate=0.01\n",
    ")"
   ]
  },
  {
   "cell_type": "code",
   "execution_count": null,
   "id": "f1d62291",
   "metadata": {},
   "outputs": [],
   "source": []
  },
  {
   "cell_type": "code",
   "execution_count": 37,
   "id": "19c938fc",
   "metadata": {},
   "outputs": [
    {
     "data": {
      "application/vnd.jupyter.widget-view+json": {
       "model_id": "e43f3fa70e554378bbcf1175a13fb4e2",
       "version_major": 2,
       "version_minor": 0
      },
      "text/plain": [
       "MetricVisualizer(layout=Layout(align_self='stretch', height='500px'))"
      ]
     },
     "metadata": {},
     "output_type": "display_data"
    },
    {
     "data": {
      "text/plain": [
       "<catboost.core.CatBoostClassifier at 0x1d0014b9160>"
      ]
     },
     "execution_count": 37,
     "metadata": {},
     "output_type": "execute_result"
    }
   ],
   "source": [
    "model_mmse.fit(\n",
    "    X_train, y_train,\n",
    "    cat_features=categorical_features_indices,\n",
    "    eval_set=(X_validation, y_validation),\n",
    "#     logging_level='Verbose',  # you can uncomment this for text output\n",
    "    plot=True\n",
    ")"
   ]
  },
  {
   "cell_type": "code",
   "execution_count": 38,
   "id": "384d2cf8",
   "metadata": {},
   "outputs": [],
   "source": [
    "import matplotlib.pyplot as plt\n",
    "# Calculate feature importance\n",
    "feature_importances = model_mmse.get_feature_importance(type='FeatureImportance') \n",
    "# Plot feature importance\n",
    "\n",
    "feature_names = model_mmse.feature_names_\n",
    "\n",
    "# Create a DataFrame for easy handling\n",
    "importance_df = pd.DataFrame({'Feature': feature_names, 'MMSE Importance': feature_importances})\n",
    "importance_df.to_csv(\"D:\\\\Research\\\\AD\\\\ADLLM\\\\ADNI process 9\\\\GB\\\\Feature_importance_mmse_gb.csv\",index=False)"
   ]
  },
  {
   "cell_type": "code",
   "execution_count": 39,
   "id": "1dfc1355",
   "metadata": {},
   "outputs": [
    {
     "name": "stdout",
     "output_type": "stream",
     "text": [
      "Existing categorical columns: ['Medication', 'Diagnosis', 'Diagnosis of Depression', \"Diagnosis of Parkinson's disease\", 'Gender', 'Ethnicity', 'Race', 'Hand', 'Retired']\n"
     ]
    }
   ],
   "source": [
    "existing_columns = [col for col in categorical_columns if col in adni_merged_testing.columns]\n",
    "\n",
    "# Debugging step: print the columns that exist in the dataset\n",
    "print(f\"Existing categorical columns: {existing_columns}\")\n",
    "adni_merged_testing_new = adni_merged_testing[existing_columns].astype(object)\n",
    "adni_merged_testing_new.fillna('unknown', inplace=True)\n",
    "columns_not_in_existing = np.setdiff1d(adni_merged_testing.columns, existing_columns)\n",
    "\n",
    "# Modify the DataFrame by replacing NaN with 'Unknown' in the columns not in existing_columns\n",
    "adni_merged_testing_continuous  = adni_merged_testing[columns_not_in_existing].fillna(-9999)\n",
    "\n",
    "# Concatenating row-wise (default axis=0)\n",
    "combined_df_adni = pd.concat([adni_merged_testing_continuous, adni_merged_testing_new], axis=1)\n",
    "combined_df_adni.to_csv(\"D:\\\\Research\\\\AD\\\\ADLLM\\\\ADNI process 9\\\\ADNI\\\\GB\\\\adni_testing_final_mmse.csv\")"
   ]
  },
  {
   "cell_type": "code",
   "execution_count": 40,
   "id": "8c18c845",
   "metadata": {},
   "outputs": [],
   "source": [
    "import pandas as pd\n",
    "\n",
    "# Assume merged_df is already defined from previous steps\n",
    "\n",
    "# Define the bins and labels\n",
    "# Define the bins and labels\n",
    "bins = [-float('inf'),-0.767, -0.148, 0, float('inf')]\n",
    "labels = ['Fast','Moderate','Slow','Zero']\n",
    "\n",
    "combined_df_adni['MMSE_CATEGORY'] = pd.cut(combined_df_adni['MMSE rate'], bins=bins, labels=labels)"
   ]
  },
  {
   "cell_type": "code",
   "execution_count": 41,
   "id": "e6ad6b3e",
   "metadata": {},
   "outputs": [],
   "source": [
    "X_adni= combined_df_adni.drop(columns=['MMSE rate','MMSE_CATEGORY',\"RID\"], axis=1)\n",
    "y_adni = combined_df_adni.MMSE_CATEGORY"
   ]
  },
  {
   "cell_type": "code",
   "execution_count": 42,
   "id": "4a95db56",
   "metadata": {},
   "outputs": [],
   "source": [
    "model_features = X.columns"
   ]
  },
  {
   "cell_type": "code",
   "execution_count": 43,
   "id": "dc816e44",
   "metadata": {},
   "outputs": [],
   "source": [
    "for feature in model_features:\n",
    "    if (feature not in  X_adni.columns) and (feature in categorical_columns) :\n",
    "        X_adni[feature] = \"unknown\"\n",
    "    elif (feature not in  X_adni.columns) and (feature not in categorical_columns) :\n",
    "        X_adni[feature] = -9999"
   ]
  },
  {
   "cell_type": "code",
   "execution_count": 44,
   "id": "bee1fb92",
   "metadata": {},
   "outputs": [],
   "source": [
    "X_adni= X_adni[model_features ]"
   ]
  },
  {
   "cell_type": "code",
   "execution_count": 45,
   "id": "271c3528",
   "metadata": {},
   "outputs": [],
   "source": [
    "predictions = model_mmse.predict(X_adni)\n",
    "predictions_probs = model_mmse.predict_proba(X_adni)"
   ]
  },
  {
   "cell_type": "code",
   "execution_count": 46,
   "id": "0253c465",
   "metadata": {},
   "outputs": [
    {
     "data": {
      "image/png": "[encoded data removed]",
      "text/plain": [
       "<Figure size 576x432 with 2 Axes>"
      ]
     },
     "metadata": {
      "needs_background": "light"
     },
     "output_type": "display_data"
    }
   ],
   "source": [
    "import numpy as np\n",
    "import matplotlib.pyplot as plt\n",
    "import seaborn as sns\n",
    "from sklearn.metrics import confusion_matrix, ConfusionMatrixDisplay\n",
    "\n",
    "# Example true labels and predictions\n",
    "y_true = y_adni\n",
    "y_pred =predictions\n",
    "\n",
    "\n",
    "\n",
    "desired_order = ['Fast', 'Moderate','Slow', 'Zero']\n",
    "# Filter out 'Unknown' class from both true and predicted labels\n",
    "\n",
    "\n",
    "# Compute the confusion matrix\n",
    "cm = confusion_matrix(y_true, y_pred, labels=desired_order)\n",
    "\n",
    "# Create a heatmap to visualize the confusion matrix\n",
    "plt.figure(figsize=(8, 6))\n",
    "sns.heatmap(cm, annot=True, fmt='d', cmap='Blues', xticklabels=desired_order, yticklabels=desired_order)\n",
    "plt.xlabel('Predicted Labels')\n",
    "plt.ylabel('True Labels')\n",
    "plt.title('Confusion Matrix')\n",
    "plt.show()"
   ]
  },
  {
   "cell_type": "code",
   "execution_count": 47,
   "id": "398478f1",
   "metadata": {},
   "outputs": [
    {
     "name": "stdout",
     "output_type": "stream",
     "text": [
      "One-vs-Rest AUC for each class:\n",
      "Class Fast vs Rest: 0.8841213045034702\n",
      "Class Moderate vs Rest: 0.7045723812944625\n",
      "Class Slow vs Rest: 0.79350336513986\n",
      "Class Zero vs Rest: 0.6999259905173776\n",
      "Overall One-vs-Rest AUC: 0.7705307603637925\n"
     ]
    }
   ],
   "source": [
    "from sklearn.preprocessing import LabelEncoder, OneHotEncoder\n",
    "from sklearn.metrics import roc_auc_score, precision_recall_fscore_support, roc_curve, auc\n",
    "from sklearn.preprocessing import label_binarize\n",
    "import numpy as np\n",
    "from sklearn.preprocessing import LabelEncoder, OneHotEncoder\n",
    "\n",
    "label_encoder = LabelEncoder()\n",
    "y_true_encoded = label_encoder.fit_transform(y_true)\n",
    "\n",
    "# Binarize the output\n",
    "one_hot_encoder = OneHotEncoder()\n",
    "y_true_binarized = one_hot_encoder.fit_transform(y_true_encoded.reshape(-1, 1)).toarray()\n",
    "class_weights = []\n",
    "auc_list=[]\n",
    "# Compute AUC for the one-vs-rest (ovr) method for all classes\n",
    "ovr_aucs = {}\n",
    "for i in range(y_true_binarized.shape[1]):\n",
    "    auc = roc_auc_score(list(np.array(y_true_binarized)[:, i]), list(np.array(predictions_probs)[:, i]))\n",
    "    ovr_aucs[f\"Class {label_encoder.classes_[i]} vs Rest\"] = auc\n",
    "    auc_list.append(auc)\n",
    "    class_weights.append(np.sum(y_true == label_encoder.classes_[i]))\n",
    "print(\"One-vs-Rest AUC for each class:\")\n",
    "for class_label, auc in ovr_aucs.items():\n",
    "    print(f\"{class_label}: {auc}\")\n",
    "\n",
    "# Overall One-vs-Rest AUC\n",
    "overall_ovr_auc = roc_auc_score(y_true_binarized,predictions_probs, multi_class='ovr')\n",
    "print(f\"Overall One-vs-Rest AUC: {overall_ovr_auc}\")"
   ]
  },
  {
   "cell_type": "code",
   "execution_count": 48,
   "id": "548bd335",
   "metadata": {},
   "outputs": [],
   "source": [
    "weighted_auc = np.average(auc_list, weights=class_weights)"
   ]
  },
  {
   "cell_type": "code",
   "execution_count": 49,
   "id": "c8f1745c",
   "metadata": {},
   "outputs": [
    {
     "data": {
      "text/plain": [
       "0.7708307646042026"
      ]
     },
     "execution_count": 49,
     "metadata": {},
     "output_type": "execute_result"
    }
   ],
   "source": [
    "weighted_auc"
   ]
  },
  {
   "cell_type": "code",
   "execution_count": 50,
   "id": "1cff0b05",
   "metadata": {},
   "outputs": [
    {
     "name": "stdout",
     "output_type": "stream",
     "text": [
      "Weighted Sensitivity: 0.5159\n",
      "Weighted Specificity: 0.8240\n"
     ]
    }
   ],
   "source": [
    "# 初始化敏感性和特异性的列表\n",
    "sensitivities = []\n",
    "specificities = []\n",
    "class_weights = []\n",
    "\n",
    "# 遍历每个类别计算敏感性和特异性\n",
    "for i in range(len(cm)):\n",
    "    TP = cm[i, i]\n",
    "    FN = np.sum(cm[i, :]) - TP\n",
    "    FP = np.sum(cm[:, i]) - TP\n",
    "    TN = np.sum(cm) - (TP + FN + FP)\n",
    "    \n",
    "    sensitivity = TP / (TP + FN) if (TP + FN) > 0 else 0\n",
    "    specificity = TN / (TN + FP) if (TN + FP) > 0 else 0\n",
    "    \n",
    "    sensitivities.append(sensitivity)\n",
    "    specificities.append(specificity)\n",
    "    \n",
    "    # 权重为该类别的真实样本数\n",
    "    class_weights.append(TP + FN)\n",
    "\n",
    "# 计算加权平均敏感性和特异性\n",
    "weighted_sensitivity = np.average(sensitivities, weights=class_weights)\n",
    "weighted_specificity = np.average(specificities, weights=class_weights)\n",
    "\n",
    "print(f\"Weighted Sensitivity: {weighted_sensitivity:.4f}\")\n",
    "print(f\"Weighted Specificity: {weighted_specificity:.4f}\")"
   ]
  },
  {
   "cell_type": "code",
   "execution_count": 51,
   "id": "6da921f1",
   "metadata": {},
   "outputs": [],
   "source": [
    "adni_prediction=pd.DataFrame({\"Truth\":list(y_true),\"Prediction\":list(predictions),\"Fast\": list(np.array(predictions_probs)[:, 0]),\"Moderate\": list(np.array(predictions_probs)[:, 1]),\"Slow\": list(np.array(predictions_probs)[:, 2]),\"Zero\": list(np.array(predictions_probs)[:, 3])})\n",
    "adni_prediction.to_csv(\"D:\\\\Research\\\\AD\\\\ADLLM\\\\ADNI process 9\\\\ADNI\\\\GB\\\\adni_testing_result_mmse.csv\",index=False)"
   ]
  },
  {
   "cell_type": "code",
   "execution_count": 52,
   "id": "c2e0c69e",
   "metadata": {},
   "outputs": [
    {
     "name": "stdout",
     "output_type": "stream",
     "text": [
      "Existing categorical columns: ['Diagnosis', 'Diagnosis of Depression', 'Gender', 'Ethnicity', 'Race', 'Retired', 'Diagnosis of diabetes', 'Diagnosis of Osteoporosis', 'Diagnosis of Cancer', 'Diagnosis of Stroke', 'Diagnosis of Thyroid disease', 'Diagnosis of High Cholesterol', 'Diagnosis of Anxiety', 'Diagnosis of High Blood Pressure', 'Diagnosis of traumatic brain injury', 'Diagnosis of Heart Attack', 'Diagnosis of Kidney disease', 'Diagnosis of Arthritis']\n"
     ]
    }
   ],
   "source": [
    "existing_columns = [col for col in categorical_columns if col in habs_testing_df.columns]\n",
    "\n",
    "# Debugging step: print the columns that exist in the dataset\n",
    "print(f\"Existing categorical columns: {existing_columns}\")\n"
   ]
  },
  {
   "cell_type": "code",
   "execution_count": 53,
   "id": "fe5f12d1",
   "metadata": {},
   "outputs": [],
   "source": [
    "habs_testing_df_new= habs_testing_df[existing_columns].astype(object)"
   ]
  },
  {
   "cell_type": "code",
   "execution_count": 54,
   "id": "3874e5b3",
   "metadata": {},
   "outputs": [],
   "source": [
    "habs_testing_df_new.fillna('unknown', inplace=True)\n",
    "columns_not_in_existing = np.setdiff1d(habs_testing_df.columns, existing_columns)\n",
    "\n",
    "# Modify the DataFrame by replacing NaN with 'Unknown' in the columns not in existing_columns\n",
    "habs_testing_df_continuous  =habs_testing_df[columns_not_in_existing].fillna(-9999)\n",
    "\n",
    "\n",
    "# Concatenating row-wise (default axis=0)\n",
    "combined_df_habs = pd.concat([habs_testing_df_continuous, habs_testing_df_new], axis=1)\n",
    "import pandas as pd\n",
    "\n",
    "# Assume merged_df is already defined from previous steps\n",
    "\n",
    "# Define the bins and labels\n",
    "# Define the bins and labels\n",
    "bins = [-float('inf'),-0.767, -0.148, 0, float('inf')]\n",
    "labels = ['Fast','Moderate','Slow','Zero']\n",
    "\n",
    "\n",
    "combined_df_habs['MMSE_CATEGORY'] = pd.cut(combined_df_habs['MMSE rate'], bins=bins, labels=labels)\n",
    "combined_df_habs.to_csv(\"D:\\\\Research\\\\AD\\\\ADLLM\\\\ADNI process 9\\\\HABS-HD\\\\GB\\\\habs_testing_final_mmse.csv\")"
   ]
  },
  {
   "cell_type": "code",
   "execution_count": 55,
   "id": "9db29e4b",
   "metadata": {},
   "outputs": [],
   "source": [
    "X_habs= combined_df_habs.drop(columns=['MMSE rate','MMSE_CATEGORY',\"Med_ID\"], axis=1)\n",
    "y_habs =combined_df_habs.MMSE_CATEGORY\n",
    "model_features = X.columns\n",
    "for feature in model_features:\n",
    "    if (feature not in  X_habs.columns) and (feature in categorical_columns) :\n",
    "        X_habs[feature] = \"unknown\"\n",
    "    elif (feature not in  X_habs.columns) and (feature not in categorical_columns) :\n",
    "        X_habs[feature] = -9999\n",
    "X_habs= X_habs[model_features ]\n",
    "#X_habs.to_csv(\"D:\\\\Research\\\\AD\\\\ADLLM\\\\ADNI process 8\\\\dataset\\\\Gradient boosting\\\\habs_testing_final_mmse.csv\",index=False)"
   ]
  },
  {
   "cell_type": "code",
   "execution_count": 56,
   "id": "93315f1e",
   "metadata": {},
   "outputs": [],
   "source": [
    "predictions = model_mmse.predict(X_habs)\n",
    "predictions_probs = model_mmse.predict_proba(X_habs)"
   ]
  },
  {
   "cell_type": "code",
   "execution_count": 57,
   "id": "98bffcb5",
   "metadata": {},
   "outputs": [
    {
     "data": {
      "image/png": "[encoded data removed]",
      "text/plain": [
       "<Figure size 576x432 with 2 Axes>"
      ]
     },
     "metadata": {
      "needs_background": "light"
     },
     "output_type": "display_data"
    }
   ],
   "source": [
    "import numpy as np\n",
    "import matplotlib.pyplot as plt\n",
    "import seaborn as sns\n",
    "from sklearn.metrics import confusion_matrix, ConfusionMatrixDisplay\n",
    "\n",
    "# Example true labels and predictions\n",
    "y_true = y_habs\n",
    "y_pred =predictions\n",
    "\n",
    "\n",
    "\n",
    "desired_order =  ['Fast', 'Moderate','Slow', 'Zero']\n",
    "# Filter out 'Unknown' class from both true and predicted labels\n",
    "\n",
    "\n",
    "# Compute the confusion matrix\n",
    "cm = confusion_matrix(y_true, y_pred, labels=desired_order)\n",
    "\n",
    "# Create a heatmap to visualize the confusion matrix\n",
    "plt.figure(figsize=(8, 6))\n",
    "sns.heatmap(cm, annot=True, fmt='d', cmap='Blues', xticklabels=desired_order, yticklabels=desired_order)\n",
    "plt.xlabel('Predicted Labels')\n",
    "plt.ylabel('True Labels')\n",
    "plt.title('Confusion Matrix')\n",
    "plt.show()"
   ]
  },
  {
   "cell_type": "code",
   "execution_count": 58,
   "id": "af55d728",
   "metadata": {},
   "outputs": [
    {
     "name": "stdout",
     "output_type": "stream",
     "text": [
      "One-vs-Rest AUC for each class:\n",
      "Class Fast vs Rest: 0.753019877675841\n",
      "Class Moderate vs Rest: 0.570400359874044\n",
      "Class Slow vs Rest: 0.6271298538247692\n",
      "Class Zero vs Rest: 0.582334366411321\n",
      "Overall One-vs-Rest AUC: 0.6332211144464939\n"
     ]
    }
   ],
   "source": [
    "from sklearn.preprocessing import LabelEncoder, OneHotEncoder\n",
    "from sklearn.metrics import roc_auc_score, precision_recall_fscore_support, roc_curve, auc\n",
    "from sklearn.preprocessing import label_binarize\n",
    "import numpy as np\n",
    "from sklearn.preprocessing import LabelEncoder, OneHotEncoder\n",
    "\n",
    "label_encoder = LabelEncoder()\n",
    "y_true_encoded = label_encoder.fit_transform(y_true)\n",
    "\n",
    "# Binarize the output\n",
    "one_hot_encoder = OneHotEncoder()\n",
    "y_true_binarized = one_hot_encoder.fit_transform(y_true_encoded.reshape(-1, 1)).toarray()\n",
    "class_weights = []\n",
    "auc_list=[]\n",
    "# Compute AUC for the one-vs-rest (ovr) method for all classes\n",
    "ovr_aucs = {}\n",
    "for i in range(y_true_binarized.shape[1]):\n",
    "    auc = roc_auc_score(list(np.array(y_true_binarized)[:, i]), list(np.array(predictions_probs)[:, i]))\n",
    "    ovr_aucs[f\"Class {label_encoder.classes_[i]} vs Rest\"] = auc\n",
    "    auc_list.append(auc)\n",
    "    class_weights.append(np.sum(y_true == label_encoder.classes_[i]))\n",
    "print(\"One-vs-Rest AUC for each class:\")\n",
    "for class_label, auc in ovr_aucs.items():\n",
    "    print(f\"{class_label}: {auc}\")\n",
    "\n",
    "# Overall One-vs-Rest AUC\n",
    "overall_ovr_auc = roc_auc_score(y_true_binarized,predictions_probs, multi_class='ovr')\n",
    "print(f\"Overall One-vs-Rest AUC: {overall_ovr_auc}\")"
   ]
  },
  {
   "cell_type": "code",
   "execution_count": 59,
   "id": "2645aa12",
   "metadata": {},
   "outputs": [],
   "source": [
    "weighted_auc = np.average(auc_list, weights=class_weights)"
   ]
  },
  {
   "cell_type": "code",
   "execution_count": 60,
   "id": "ea7ad1c6",
   "metadata": {},
   "outputs": [
    {
     "data": {
      "text/plain": [
       "0.6095244532516106"
      ]
     },
     "execution_count": 60,
     "metadata": {},
     "output_type": "execute_result"
    }
   ],
   "source": [
    "weighted_auc "
   ]
  },
  {
   "cell_type": "code",
   "execution_count": 61,
   "id": "6d9eaab4",
   "metadata": {},
   "outputs": [
    {
     "name": "stdout",
     "output_type": "stream",
     "text": [
      "Weighted Sensitivity: 0.3367\n",
      "Weighted Specificity: 0.7413\n"
     ]
    }
   ],
   "source": [
    "# 初始化敏感性和特异性的列表\n",
    "sensitivities = []\n",
    "specificities = []\n",
    "class_weights = []\n",
    "\n",
    "# 遍历每个类别计算敏感性和特异性\n",
    "for i in range(len(cm)):\n",
    "    TP = cm[i, i]\n",
    "    FN = np.sum(cm[i, :]) - TP\n",
    "    FP = np.sum(cm[:, i]) - TP\n",
    "    TN = np.sum(cm) - (TP + FN + FP)\n",
    "    \n",
    "    sensitivity = TP / (TP + FN) if (TP + FN) > 0 else 0\n",
    "    specificity = TN / (TN + FP) if (TN + FP) > 0 else 0\n",
    "    \n",
    "    sensitivities.append(sensitivity)\n",
    "    specificities.append(specificity)\n",
    "    \n",
    "    # 权重为该类别的真实样本数\n",
    "    class_weights.append(TP + FN)\n",
    "\n",
    "# 计算加权平均敏感性和特异性\n",
    "weighted_sensitivity = np.average(sensitivities, weights=class_weights)\n",
    "weighted_specificity = np.average(specificities, weights=class_weights)\n",
    "\n",
    "print(f\"Weighted Sensitivity: {weighted_sensitivity:.4f}\")\n",
    "print(f\"Weighted Specificity: {weighted_specificity:.4f}\")"
   ]
  },
  {
   "cell_type": "code",
   "execution_count": 62,
   "id": "c5310cfa",
   "metadata": {},
   "outputs": [],
   "source": [
    "habs_prediction=pd.DataFrame({\"Truth\":list(y_true),\"Prediction\":list(predictions),\"Fast\": list(np.array(predictions_probs)[:, 0]),\"Moderate\": list(np.array(predictions_probs)[:, 1]),\"Slow\": list(np.array(predictions_probs)[:, 2]),\"Zero\": list(np.array(predictions_probs)[:, 3])})\n",
    "habs_prediction.to_csv(\"D:\\\\Research\\\\AD\\\\ADLLM\\\\ADNI process 9\\\\HABS-HD\\\\GB\\\\habs_testing_result_mmse.csv\",index=False)"
   ]
  },
  {
   "cell_type": "code",
   "execution_count": null,
   "id": "f1ab2c1e",
   "metadata": {},
   "outputs": [],
   "source": []
  }
 ],
 "metadata": {
  "kernelspec": {
   "display_name": "Python 3 (ipykernel)",
   "language": "python",
   "name": "python3"
  },
  "language_info": {
   "codemirror_mode": {
    "name": "ipython",
    "version": 3
   },
   "file_extension": ".py",
   "mimetype": "text/x-python",
   "name": "python",
   "nbconvert_exporter": "python",
   "pygments_lexer": "ipython3",
   "version": "3.9.7"
  }
 },
 "nbformat": 4,
 "nbformat_minor": 5
}
