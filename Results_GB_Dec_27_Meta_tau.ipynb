{
 "cells": [
  {
   "cell_type": "code",
   "execution_count": 1,
   "id": "5b0154ba",
   "metadata": {},
   "outputs": [
    {
     "name": "stderr",
     "output_type": "stream",
     "text": [
      "D:\\ANACONDA\\lib\\site-packages\\pandas\\core\\computation\\expressions.py:21: UserWarning: Pandas requires version '2.8.4' or newer of 'numexpr' (version '2.7.3' currently installed).\n",
      "  from pandas.core.computation.check import NUMEXPR_INSTALLED\n",
      "D:\\ANACONDA\\lib\\site-packages\\pandas\\core\\arrays\\masked.py:60: UserWarning: Pandas requires version '1.3.6' or newer of 'bottleneck' (version '1.3.2' currently installed).\n",
      "  from pandas.core import (\n"
     ]
    }
   ],
   "source": [
    "import pandas as pd\n",
    "adni_training=pd.read_csv(\"D:\\\\Research\\\\AD\\\\ADLLM\\\\ADNI process 9\\\\ADNI\\\\adni_thickness_Dec_17_training.csv\")\n",
    "habs_training=pd.read_csv(\"D:\\\\Research\\\\AD\\\\ADLLM\\\\ADNI process 9\\\\HABS-HD\\\\HABS-HD_thickness_Dec_17_training.csv\")\n",
    "pointer_training=pd.read_csv(\"D:\\\\Research\\\\AD\\\\ADLLM\\\\ADNI process 9\\\\POINTER\\\\pointer_thickess_Dec_18_training.csv\")\n",
    "adni_training=adni_training.fillna('NA')\n",
    "habs_training=habs_training.fillna('NA')\n",
    "pointer_training=pointer_training.fillna('NA')\n",
    "\n",
    "adni_baseline=pd.read_csv(\"D:\\\\Research\\\\AD\\\\ADLLM\\\\ADNI process 8\\\\baseline_covariates.csv\")\n",
    "adni_baseline_filtered=adni_baseline[adni_baseline['RID'].isin(adni_training['RID'])]\n",
    "adni_baseline_final=adni_baseline_filtered.drop(columns=['PTADBEG',\"APOE4_BIN\",\"VISCODE\",\"VISCODE2\",\"VISDATE\"])\n",
    "adni_training_filtered=adni_training[adni_training[\"zscore_meta_tau\"]!=\"NA\"]\n",
    "adni_training_final=adni_training_filtered.drop(columns=['abeta_SCANDATE',\"tau_SCANDATE\",\"VISCODE\",\"VISCODE2\",\"VISDATE\",\"AMYLOID_STATUS\",\"AMYLOID_STATUS_COMPOSITE_REF\",\"ctx_entor/subcor\",\"meta/subcor\",\"Rate_of_Change\",\"CTX_ENTORHINAL_SUVR\",\"ERODED_SUBCORTICALWM_SUVR\",\"abeta_Age\",\"tau_Age\",\"Rate_of_Change_meta\",\"Rate_of_Change_ctx\",\"Visit time tau\",\"Rate_of_Change\",\"Visit time mmse\",\"Initial tau status meta\",\"Initial tau status ctx\",\"low_meta\",\"intermediate_meta\",\"high_meta\",\"very_high_meta\",\"low_ctx\",\"intermediate_ctx\",\"high_ctx\",\"very_high_ctx\",\"back_VISDATE\", \n",
    "                                         \"DX_EXAMDATE\",\"GDS_VISDATE\",\"Neuro_VISDATE\",\"NPIQ_VISDATE\",\"VS_VISDATE\",\"EXAMDATE\",\"CENTILOIDS\",\"AGE_BL\",\"PTGENDER\",\"PTEDUCAT\",\"PTETHCAT\",\"PTRACCAT\",\"PTMARRY\",\"APOE4\",\"DX\", 'META_TEMPORAL_SUVR','Rate_of_abeta_Change','Visit time mmse',\"APOE4\",\"DX\",\"SUBJECT\",\"SCANDATE\",\"zscore_abeta\",\"zscore_ptau\",\"zscore_total_tau\", \"zscore_ctx_tau\",\"CTX_ENTORHINAL_SUVR\",\"zscore_blood_abeta\",\"zscore_blood_tau\",\"zscore_blood_ptau\",\"Rate_of_Change_mPACCdigit_new\",\"Visit time mPACCdigit\",\"Rate_of_Change_MMSCORE_new\"\n",
    "])"
   ]
  },
  {
   "cell_type": "code",
   "execution_count": 2,
   "id": "687fa0de",
   "metadata": {},
   "outputs": [
    {
     "name": "stderr",
     "output_type": "stream",
     "text": [
      "C:\\Users\\25110\\AppData\\Local\\Temp/ipykernel_8032/3762864926.py:23: FutureWarning: Downcasting behavior in `replace` is deprecated and will be removed in a future version. To retain the old behavior, explicitly call `result.infer_objects(copy=False)`. To opt-in to the future behavior, set `pd.set_option('future.no_silent_downcasting', True)`\n",
      "  adni_merged_testing= adni_merged_testing.replace(['Unknown', 'NA'], np.nan)\n"
     ]
    }
   ],
   "source": [
    "#adni_testing=pd.read_csv(\"D:\\\\Research\\\\AD\\\\ADLLM\\\\ADNI process 8\\\\dataset\\\\adni_testing_Sep24.csv\")\n",
    "adni_testing=pd.read_csv(\"D:\\\\Research\\\\AD\\\\ADLLM\\\\ADNI process 9\\\\ADNI\\\\adni_thickness_Dec_17_testing.csv\")\n",
    "adni_testing=adni_testing.fillna('NA')\n",
    "adni_baseline_filtered=adni_baseline[adni_baseline['RID'].isin(adni_testing['RID'])]\n",
    "adni_baseline_final=adni_baseline_filtered.drop(columns=['PTADBEG',\"APOE4_BIN\",\"VISCODE\",\"VISCODE2\",\"VISDATE\"])\n",
    "adni_testing_filtered=adni_testing[adni_testing[\"zscore_meta_tau\"]!=\"NA\"]\n",
    "adni_testing_final=adni_testing_filtered.drop(columns=['abeta_SCANDATE',\"tau_SCANDATE\",\"VISCODE2\",\"VISDATE\",\"AMYLOID_STATUS\",\"AMYLOID_STATUS_COMPOSITE_REF\",\"ctx_entor/subcor\",\"meta/subcor\",\"Rate_of_Change\",\"CTX_ENTORHINAL_SUVR\",\"ERODED_SUBCORTICALWM_SUVR\",\"abeta_Age\",\"tau_Age\",\"Rate_of_Change_meta\",\"Rate_of_Change_ctx\",\"Visit time tau\",\"Rate_of_Change\",\"Visit time mmse\",\"Initial tau status meta\",\"Initial tau status ctx\",\"low_meta\",\"intermediate_meta\",\"high_meta\",\"very_high_meta\",\"low_ctx\",\"intermediate_ctx\",\"high_ctx\",\"very_high_ctx\",\"back_VISDATE\", \n",
    "                                         \"DX_EXAMDATE\",\"GDS_VISDATE\",\"Neuro_VISDATE\",\"NPIQ_VISDATE\",\"VS_VISDATE\",\"EXAMDATE\",\"AGE_BL\",\"PTGENDER\",\"PTEDUCAT\",\"PTETHCAT\",\"PTRACCAT\",\"PTMARRY\",\"APOE4\",\"DX\", 'META_TEMPORAL_SUVR','Rate_of_abeta_Change','Visit time mmse',\"APOE4\",\"DX\",\"SUBJECT\",\"SCANDATE\",\"zscore_abeta\",\"zscore_ptau\",\"zscore_total_tau\", \"CENTILOIDS\",\"zscore_ctx_tau\",\"zscore_blood_abeta\",\"zscore_blood_tau\",\"zscore_blood_ptau\",\"Rate_of_Change_mPACCdigit_new\",\"Visit time mPACCdigit\",\"Rate_of_Change_MMSCORE_new\"\n",
    "])\n",
    "adni_merged_testing = pd.merge(adni_testing_final, adni_baseline_final, on='RID', how='left')\n",
    "diagnosis_map = {\n",
    "    'CN': 'Cognitive normal',\n",
    "    'MCI': 'Mildly cognitive impairment',\n",
    "    'Unknown Diagnosis': 'NA',\n",
    "    'Midly cognitive impairment': 'Mildly cognitive impairment',\n",
    "}\n",
    "adni_merged_testing['DIAGNOSIS'] = adni_merged_testing['DIAGNOSIS'].replace(diagnosis_map)\n",
    "adni_merged_testing['ABETA40'] = pd.to_numeric(adni_merged_testing['ABETA40'], errors='coerce')\n",
    "adni_merged_testing['ABETA42'] = pd.to_numeric(adni_merged_testing['ABETA42'], errors='coerce')\n",
    "adni_merged_testing['TAU'] = pd.to_numeric(adni_merged_testing['TAU'], errors='coerce')\n",
    "adni_merged_testing['PTAU'] = pd.to_numeric(adni_merged_testing['PTAU'], errors='coerce')\n",
    "import numpy as np\n",
    "adni_merged_testing= adni_merged_testing.replace(['Unknown', 'NA'], np.nan)\n"
   ]
  },
  {
   "cell_type": "code",
   "execution_count": 3,
   "id": "d800637c",
   "metadata": {},
   "outputs": [],
   "source": [
    "adni_merged_df = pd.merge(adni_training_final, adni_baseline_final, on='RID', how='left')\n",
    "diagnosis_map = {\n",
    "    'CN': 'Cognitive normal',\n",
    "    'MCI': 'Mildly cognitive impairment',\n",
    "    'Unknown Diagnosis': 'NA',\n",
    "    'Midly cognitive impairment': 'Mildly cognitive impairment',\n",
    "}\n",
    "adni_merged_df['DIAGNOSIS'] = adni_merged_df['DIAGNOSIS'].replace(diagnosis_map)\n",
    "adni_merged_df['ABETA40'] = pd.to_numeric(adni_merged_df['ABETA40'], errors='coerce')\n",
    "adni_merged_df['ABETA42'] = pd.to_numeric(adni_merged_df['ABETA42'], errors='coerce')\n",
    "adni_merged_df['TAU'] = pd.to_numeric(adni_merged_df['TAU'], errors='coerce')\n",
    "adni_merged_df['PTAU'] = pd.to_numeric(adni_merged_df['PTAU'], errors='coerce')"
   ]
  },
  {
   "cell_type": "code",
   "execution_count": 4,
   "id": "c0c98581",
   "metadata": {},
   "outputs": [
    {
     "name": "stderr",
     "output_type": "stream",
     "text": [
      "C:\\Users\\25110\\AppData\\Local\\Temp/ipykernel_8032/3519561138.py:2: FutureWarning: Downcasting behavior in `replace` is deprecated and will be removed in a future version. To retain the old behavior, explicitly call `result.infer_objects(copy=False)`. To opt-in to the future behavior, set `pd.set_option('future.no_silent_downcasting', True)`\n",
      "  adni_merged_df= adni_merged_df.replace(['Unknown', 'NA'], np.nan)\n"
     ]
    }
   ],
   "source": [
    "import numpy as np\n",
    "adni_merged_df= adni_merged_df.replace(['Unknown', 'NA'], np.nan)\n",
    "adni_merged_df.to_csv(\"D:\\\\Research\\\\AD\\\\ADLLM\\\\ADNI process 9\\\\ADNI\\\\GB\\\\adni_merge_training_meta_tau.csv\",index=False)"
   ]
  },
  {
   "cell_type": "code",
   "execution_count": 5,
   "id": "9b587b64",
   "metadata": {},
   "outputs": [],
   "source": [
    "adni_merged_testing.to_csv(\"D:\\\\Research\\\\AD\\\\ADLLM\\\\ADNI process 9\\\\ADNI\\\\GB\\\\adni_merge_testing_meta_tau.csv\",index=False)"
   ]
  },
  {
   "cell_type": "code",
   "execution_count": 6,
   "id": "38f717a0",
   "metadata": {},
   "outputs": [
    {
     "name": "stderr",
     "output_type": "stream",
     "text": [
      "C:\\Users\\25110\\AppData\\Local\\Temp/ipykernel_8032/1611630661.py:4: FutureWarning: Downcasting behavior in `replace` is deprecated and will be removed in a future version. To retain the old behavior, explicitly call `result.infer_objects(copy=False)`. To opt-in to the future behavior, set `pd.set_option('future.no_silent_downcasting', True)`\n",
      "  habs_training.replace(\"NA\", np.nan, inplace=True)\n"
     ]
    }
   ],
   "source": [
    "drop_group_habs=[\"Visit_ID\", \"SUBJECT\",\"SCANDATE\",\"APOE4\",\"APOE2_carrier\",\"ID_Gender\",\"ID_MaritalStatus\",\"Race\",\"ID_Hispanic\",\"ID_Education_HighSchool\",\"ID_Education_Degree\",\"ID_Retire\",\"IMH_Alzheimers\",\"IMH_AlzheimersAge\",\"zscore_abeta\",\"zscore_tau\",\"zscore_total_tau\",\"SUBJECT\",\"TRACER\",\"SCANDATE\",\"MRIDATE\",\"age_at_scan\",\"META_TEMPORAL_SUVR\",\"MMSE_closest_ab\",\"MMSE\",\"MMSE_closest_tau\",\"DX_closest_ab\",\"DX_closest_tau\",\"nearest_ab_centiloid\",\"ABETA\",\"zscore_ctx_tau\",\"BRAAK1_SUVR\",\"zscore_blood_abeta\",\"zscore_blood_tau\",\"zscore_blood_ptau\",\"01_BrainSegNotVent\",\"zscore_LM2_A_Total_only_cog\",\"zscore_SEVLT_DR_Total_only_cog\",\"zscore_Digit_Symbol_Substitution_only_cog\",\"zscore_MMSE_Total_only_cog\",\"Rate_of_Change_PACC\",\"Visit time PACC\",\"Rate_of_Change_mmse\",\"Visit time mmse\",\"01_BrainSegNotVent\"]\n",
    "import numpy as np\n",
    "habs_training=habs_training[habs_training[\"zscore_meta_tau\"]!=\"NA\"]\n",
    "habs_training.replace(\"NA\", np.nan, inplace=True)\n"
   ]
  },
  {
   "cell_type": "code",
   "execution_count": 7,
   "id": "8b5e6729",
   "metadata": {},
   "outputs": [
    {
     "name": "stderr",
     "output_type": "stream",
     "text": [
      "C:\\Users\\25110\\AppData\\Local\\Temp/ipykernel_8032/62161330.py:6: FutureWarning: Downcasting behavior in `replace` is deprecated and will be removed in a future version. To retain the old behavior, explicitly call `result.infer_objects(copy=False)`. To opt-in to the future behavior, set `pd.set_option('future.no_silent_downcasting', True)`\n",
      "  habs_df = habs_df.replace(['Unknown', 'NA'], np.nan)\n"
     ]
    }
   ],
   "source": [
    "habs_baseline=pd.read_csv(\"D:\\\\Research\\\\AD\\\\ADLLM\\\\ADNI process 8\\\\baseline_covariates_habs_smoking.csv\")\n",
    "habs_baseline_filtered=habs_baseline[habs_baseline['Med_ID'].isin(habs_training['Med_ID'])]\n",
    "habs_baseline_final=habs_baseline_filtered.drop(columns=['ID_Education_HighSchool','ID_Education_Degree',\"Smoke_Currently\",\"Smoke_Ever\"])\n",
    "habs_training_final=habs_training.drop(columns=drop_group_habs)\n",
    "habs_df = pd.merge(habs_training_final, habs_baseline_final, on='Med_ID', how='left')\n",
    "habs_df = habs_df.replace(['Unknown', 'NA'], np.nan)\n"
   ]
  },
  {
   "cell_type": "code",
   "execution_count": 8,
   "id": "3f1949f0",
   "metadata": {},
   "outputs": [
    {
     "name": "stderr",
     "output_type": "stream",
     "text": [
      "C:\\Users\\25110\\AppData\\Local\\Temp/ipykernel_8032/3367521071.py:6: FutureWarning: Downcasting behavior in `replace` is deprecated and will be removed in a future version. To retain the old behavior, explicitly call `result.infer_objects(copy=False)`. To opt-in to the future behavior, set `pd.set_option('future.no_silent_downcasting', True)`\n",
      "  habs_testing.replace(\"NA\", np.nan, inplace=True)\n",
      "C:\\Users\\25110\\AppData\\Local\\Temp/ipykernel_8032/3367521071.py:13: FutureWarning: Downcasting behavior in `replace` is deprecated and will be removed in a future version. To retain the old behavior, explicitly call `result.infer_objects(copy=False)`. To opt-in to the future behavior, set `pd.set_option('future.no_silent_downcasting', True)`\n",
      "  habs_testing_df = habs_testing_df.replace(['Unknown', 'NA'], np.nan)\n"
     ]
    }
   ],
   "source": [
    "import numpy as np\n",
    "#habs_testing=pd.read_csv(\"D:\\\\Research\\\\AD\\\\ADLLM\\\\ADNI process 8\\\\dataset\\\\habs_testing_Sep24.csv\")\n",
    "habs_testing=pd.read_csv(\"D:\\\\Research\\\\AD\\\\ADLLM\\\\ADNI process 9\\\\HABS-HD\\\\HABS-HD_thickness_Dec_17_testing.csv\")\n",
    "habs_testing=habs_testing.fillna('NA')\n",
    "habs_testing=habs_testing[habs_testing[\"zscore_meta_tau\"]!=\"NA\"]\n",
    "habs_testing.replace(\"NA\", np.nan, inplace=True)\n",
    "\n",
    "habs_baseline=pd.read_csv(\"D:\\\\Research\\\\AD\\\\ADLLM\\\\ADNI process 8\\\\baseline_covariates_habs_smoking.csv\")\n",
    "habs_baseline_filtered=habs_baseline[habs_baseline['Med_ID'].isin(habs_testing['Med_ID'])]\n",
    "habs_baseline_final=habs_baseline_filtered.drop(columns=['ID_Education_HighSchool','ID_Education_Degree',\"Smoke_Currently\",\"Smoke_Ever\"])\n",
    "habs_testing_final=habs_testing.drop(columns=drop_group_habs)\n",
    "habs_testing_df = pd.merge(habs_testing_final, habs_baseline_final, on='Med_ID', how='left')\n",
    "habs_testing_df = habs_testing_df.replace(['Unknown', 'NA'], np.nan)\n"
   ]
  },
  {
   "cell_type": "code",
   "execution_count": 9,
   "id": "f0b40b3e",
   "metadata": {},
   "outputs": [],
   "source": [
    "habs_df.to_csv(\"D:\\\\Research\\\\AD\\\\ADLLM\\\\ADNI process 9\\\\HABS-HD\\\\GB\\\\habs_merge_training_meta_tau.csv\",index=False)\n",
    "habs_testing_df.to_csv(\"D:\\\\Research\\\\AD\\\\ADLLM\\\\ADNI process 9\\\\HABS-HD\\\\GB\\\\habs_merge_testing_meta_tau.csv\",index=False)"
   ]
  },
  {
   "cell_type": "code",
   "execution_count": 10,
   "id": "7b4ad23b",
   "metadata": {},
   "outputs": [],
   "source": [
    "drop_group_pointer=[\"Visit_ID\",\"zscore_ctx_tau\",\"MK6240_CTX_ENTORHINAL_SUVR_1\",\"MK6240_META_TEMPORAL_SUVR_1\",\"FBB_CENTILOIDS_1\",\"highbp130\",\"bp_lowering_med\",\"meds_for_diabetes\",\"TICS_unadj\",\"UCB_FRS\",\"FHS_risk_s\",\"g_cdr\",\"DCTClassification\"]"
   ]
  },
  {
   "cell_type": "code",
   "execution_count": 11,
   "id": "af30b71a",
   "metadata": {},
   "outputs": [
    {
     "name": "stderr",
     "output_type": "stream",
     "text": [
      "C:\\Users\\25110\\AppData\\Local\\Temp/ipykernel_8032/2376573792.py:2: FutureWarning: Downcasting behavior in `replace` is deprecated and will be removed in a future version. To retain the old behavior, explicitly call `result.infer_objects(copy=False)`. To opt-in to the future behavior, set `pd.set_option('future.no_silent_downcasting', True)`\n",
      "  pointer_training.replace(\"NA\", np.nan, inplace=True)\n",
      "C:\\Users\\25110\\AppData\\Local\\Temp/ipykernel_8032/2376573792.py:3: FutureWarning: Downcasting behavior in `replace` is deprecated and will be removed in a future version. To retain the old behavior, explicitly call `result.infer_objects(copy=False)`. To opt-in to the future behavior, set `pd.set_option('future.no_silent_downcasting', True)`\n",
      "  pointer_training = pointer_training.replace(['Unknown', 'NA'], np.nan)\n"
     ]
    }
   ],
   "source": [
    "pointer_training=pointer_training[pointer_training[\"zscore_meta_tau\"]!=\"NA\"]\n",
    "pointer_training.replace(\"NA\", np.nan, inplace=True)\n",
    "pointer_training = pointer_training.replace(['Unknown', 'NA'], np.nan)\n",
    "pointer_training=pointer_training.drop(columns=drop_group_pointer)"
   ]
  },
  {
   "cell_type": "code",
   "execution_count": 12,
   "id": "6df4675a",
   "metadata": {},
   "outputs": [],
   "source": [
    "pointer_training.to_csv(\"D:\\\\Research\\\\AD\\\\ADLLM\\\\ADNI process 9\\\\POINTER\\\\GB\\\\pointer_merge_training_meta_tau.csv\",index=False)"
   ]
  },
  {
   "cell_type": "code",
   "execution_count": 13,
   "id": "6e957b62",
   "metadata": {},
   "outputs": [],
   "source": [
    "pointer_testing=pd.read_csv(\"D:\\\\Research\\\\AD\\\\ADLLM\\\\ADNI process 9\\\\POINTER\\\\pointer_thickess_Dec_18_testing.csv\")\n",
    "pointer_testing=pointer_testing[pointer_testing[\"FBB_CENTILOIDS_1\"]!=\"NA\"]\n",
    "pointer_testing.replace(\"NA\", np.nan, inplace=True)\n",
    "pointer_testing = pointer_testing.replace(['Unknown', 'NA'], np.nan)\n",
    "pointer_testing=pointer_testing.drop(columns=drop_group_pointer)\n",
    "pointer_testing.to_csv(\"D:\\\\Research\\\\AD\\\\ADLLM\\\\ADNI process 9\\\\POINTER\\\\GB\\\\pointer_merge_testing_meta_tau.csv\",index=False)"
   ]
  },
  {
   "cell_type": "code",
   "execution_count": 14,
   "id": "2aaa313a",
   "metadata": {},
   "outputs": [],
   "source": [
    "rename_name_adni = {\n",
    "                \"PTGENDER\":\"Gender\",\n",
    "                \"PTEDUCAT\":\"Education\",\n",
    "                \"PTETHCAT\":\"Ethnicity\",\n",
    "                \"PTRACCAT\":\"Race\",\n",
    "                \"PTMARRY\":\"Marrital status\",\n",
    "                \"PTHAND\":\"Hand\",\n",
    "                \"PTNOTRT\":\"Retired\",     \n",
    "                \"PTDOBYY\":\"Date of birth year\",\n",
    "                \"AGE_AD_ON_SET\":\"Age of AD on set\",\n",
    "                \"APOE2_BIN\":\"APOE2\",\n",
    "                \"APOE4_NUM\":\"APOE4\",\n",
    "                \"Age\":\"Age\",\n",
    "                \"Transformed_KEYMED\":\"Medication\",\n",
    "                'MMSCORE': 'Mini-Mental State Examination score',\n",
    "                'GDTOTAL': 'Geriatric Depression Scale',\n",
    "                'COPYSCOR': 'Clock Drawing Test score',\n",
    "                'NPISCORE': 'Neuropsychiatric Inventory Total Score',\n",
    "                'VSWEIGHT': 'Weight (in kg)',\n",
    "                'VSHEIGHT': 'Height (in cm)',\n",
    "                'VSBPSYS': 'Systolic blood pressure (mmHg)',\n",
    "                'VSBPDIA': 'Diastolic blood pressure (mmHg)',\n",
    "                'VSPULSE': 'Seated Pulse Rate (per minute)',\n",
    "                'VSRESP': 'Respirations (per minute)',\n",
    "                'VSTEMP': 'Temperature (in Celsius)',\n",
    "                \"ANARTERR\": \"American National Adult Reading Test Total Errors\",\n",
    "                \"NPISCORE\":\"Neuropsychiatric Inventory Total Score\",\n",
    "                'FDG': 'average FDG-PET of angular, temporal, and posterior cingulate',\n",
    "                \"ABETA40\":\"Amyloid beta 40 in Cerebrospinal Fluid (pg/mL)\", \n",
    "                \"ABETA42\":\"Amyloid beta 42 in Cerebrospinal Fluid (pg/mL)\", \n",
    "                \"PTAU\": \"Phosphorylated tau protein in Cerebrospinal Fluid (pg/mL)\",\n",
    "                \"TAU\": \"Tau protein concentration in Cerebrospinal Fluid (pg/mL)\",\n",
    "                'CDRSB': 'Clinical Dementia Rating Scale Sum of Boxes Scores',\n",
    "                'ADAS11': \"Alzheimer's Disease Assessment Scale (11 items)\",\n",
    "                'ADAS13': \"Alzheimer's Disease Assessment Scale (13 items)\",\n",
    "                'ADASQ4': 'Question 4 score in the 11-item test',\n",
    "                \"RAVLT_immediate\": \"Rey Auditory Verbal Learning Test (Immediate)\",\n",
    "                \"RAVLT_learning\": \"Rey Auditory Verbal Learning Test (Learning)\",\n",
    "                \"RAVLT_forgetting\": \"Rey Auditory Verbal Learning Test (Forgetting)\",\n",
    "                \"RAVLT_perc_forgetting\": \"Rey Auditory Verbal Learning Test (Percent forgetting)\",\n",
    "                \"LDELTOTAL\": \"Delayed Total Recall test\",\n",
    "                \"DIGITSCOR\": \"Digit Substitution test\",\n",
    "                \"TRABSCOR\": \"Trail Making Test Part B Time\",\n",
    "                \"FAQ\":\"Functional Assessment Questionnaire\",\n",
    "                \"MOCA\":\"Montreal Cognitive Assessment\",\n",
    "                \"mPACCdigit\":\"PACC score\",\n",
    "                \"EcogSPMem\":\"Everyday Cognition test (self-reported Memory)\",\n",
    "                \"EcogSPLang\":\"Everyday Cognition test (self-reported Language)\",\n",
    "                \"EcogSPVisspat\":\"Everyday Cognition test (self-reported Visuospatial Abilities)\",\n",
    "                \"EcogSPPlan\":\"Everyday Cognition test (self-reported Planning)\",\n",
    "                \"EcogSPOrgan\":\"Everyday Cognition test (self-reported Organization)\",\n",
    "                \"EcogSPDivatt\":\"Everyday Cognition test (self-reported Divided attention)\",\n",
    "                \"EcogSPTotal\":\"Everyday Cognition test (self-reported Total scores)\",\n",
    "                \"EcogPtMem\":\"Everyday Cognition test (partner-reported Memory)\",\n",
    "                \"EcogPtLang\":\"Everyday Cognition test (partner-reported Language)\",\n",
    "                \"EcogPtVisspat\":\"Everyday Cognition test (partner-reported Visuospatial Abilities)\",\n",
    "                \"EcogPtPlan\":\"Everyday Cognition test (partner-reported Planning)\",\n",
    "                \"EcogPtOrgan\":\"Everyday Cognition test (partner-reported Organization)\",\n",
    "                \"EcogPtDivatt\":\"Everyday Cognition test (partner-reported Divided attention)\",\n",
    "                \"EcogPtTotal\":\"Everyday Cognition test (partner-reported Total scores)\",\n",
    "                \"DIAGNOSIS\":\"Diagnosis\",\n",
    "                \"DXDEP\": \"Diagnosis of Depression\",\n",
    "                \"DXPARK\":\"Diagnosis of Parkinson's disease\",\n",
    "                \"vol_Left_Hippocampus\":\"Left_Hippocampus\",\n",
    "                \"vol_Right_Hippocampus\":\"Right_Hippocampus\",\n",
    "             \"vol_Left_Lateral_Ventricle\":\"Left_Lateral_Ventricle\",\n",
    "            \"vol_Right_Lateral_Ventricle\":\"Right_Lateral_Ventricle\",\n",
    "           \"Left_meta\":\"Left_meta\",\n",
    "                \"ICV\":\"Total intracranial\",\n",
    "    \"Thck_L_entorhinal\": \"Left_Entorhinal\",\n",
    "    \"Thck_R_entorhinal\":\"Right_Entorhinal\",\n",
    "    \"Thck_L_fusiform\": \"Left_Fusiform\",\n",
    "    \"Thck_R_fusiform\": \"Right_Fusiform\",\n",
    "    \"Thck_L_inferiorparietal\": \"Left Inferior Parietal\",\n",
    "    \"Thck_R_inferiorparietal\": \"Right Inferior Parietal\",\n",
    "    \"Thck_L_inferiortemporal\": \"Left Inferior Temporal\",\n",
    "    \"Thck_R_inferiortemporal\": \"Right Inferior Temporal\",\n",
    "    \"Thck_L_middletemporal\": \"Left Middle Temporal\",\n",
    "    \"Thck_R_middletemporal\": \"Right Middle Temporal\",\n",
    "    \"Thck_L_precuneus\": \"Left Precuneus\",\n",
    "    \"Thck_R_precuneus\": \"Right Precuneus\",\n",
    "    \"Thck_L_insula\": \"Left Insula\",\n",
    "    \"Thck_R_insula\": \"Right Insula\",\n",
    "     'Right_meta':\"Right_meta\"  \n",
    "}"
   ]
  },
  {
   "cell_type": "code",
   "execution_count": 15,
   "id": "4469f026",
   "metadata": {},
   "outputs": [],
   "source": [
    "rename_name_habs = {\n",
    "                \"Age\":\"Age\",\n",
    "                \"ID_Gender\":\"Gender\",\n",
    "                \"ID_MaritalStatus\":\"Marrital status\",\n",
    "                \"Race\":\"Race\",\n",
    "                \"Edu\":\"Education\",\n",
    "                \"ID_Retire\":\"Retired\",\n",
    "                \"ID_Hispanic\":\"Ethnicity\",\n",
    "                \"APOE4\":\"APOE4\",\n",
    "                \"APOE2_carrier\":\"APOE2\",\n",
    "                'MMSE_Total': 'Mini-Mental State Examination score',\n",
    "                'GDS_Total': 'Geriatric Depression Scale',\n",
    "                \"AMNART_Er\": \"American National Adult Reading Test Total Errors\",\n",
    "                \"DS_Total\": \"Digit Span total\",\n",
    "                \"LM2_B_Total\": \"Logical Memory II Version B delayed recall\",\n",
    "                \"LM2_A_Total\": \"Logical Memory II Version A delayed recall\",\n",
    "                'CDR_Sum': 'Clinical Dementia Rating Scale Sum of Boxes Scores',\n",
    "                \"CDX_Cog\":\"Diagnosis\",\n",
    "    \"nearest_ab_centiloid\":\"CENTILOIDS\",\n",
    "                \"r5_QTX_Plasma_Abeta40\":\"Amyloid beta 40 peptide in the blood plasma(pg/mL)\",\n",
    "                \"r5_QTX_Plasma_Abeta42\":\"Amyloid beta 42 peptide in the blood plasma(pg/mL)\",\n",
    "                \"r5_QTX_Plasma_pTau181\":\"Phosphorylated tau protein in the blood plasma(pg/mL)\",\n",
    "                \"r5_QTX_Plasma_Total_Tau\":\"Tau protein concentration in the blood plasma(pg/mL)\",\n",
    "                \"Digit_Symbol_Substitution\": \"Digit Substitution test\",\n",
    "                \"TIV_VOLUME\":\"Total intracranial\",\n",
    "                \"IMH_Depression\": \"Diagnosis of Depression\",\n",
    "                \"AUDIT_Total\":\"Audit Total\",\n",
    "                \"PACC_only_cog\":\"PACC score\",\n",
    "                \"IMH_Cancer\": \"Diagnosis of Cancer\",\n",
    "                \"IMH_Diabetes\":\"Diagnosis of diabetes\",\n",
    "                \"IMH_HighBP\":\"Diagnosis of High Blood Pressure\",\n",
    "                \"IMH_HighCholesterol\":\"Diagnosis of High Cholesterol\",\n",
    "                \"IMH_HeartAttack\":\"Diagnosis of Heart Attack\",\n",
    "                \"IMH_ThyroidDisease\":\"Diagnosis of Thyroid disease\",\n",
    "                \"IMH_KidneyDisease\":\"Diagnosis of Kidney disease\",\n",
    "                \"IMH_Stroke\":\"Diagnosis of Stroke\",\n",
    "                \"IMH_Anxiety\":\"Diagnosis of Anxiety\",\n",
    "                \"IMH_Osteoporosis\":\"Diagnosis of Osteoporosis\",\n",
    "                \"IMH_Arthritis\":\"Diagnosis of Arthritis\",\n",
    "                \"IMH_TBI\":\"Diagnosis of traumatic brain injury\",\n",
    "                \"SMC_Total\":\"Subjective memory complaints total\",\n",
    "                \"PED_Total\":\"Physician's Estimate of Duration total\",\n",
    "                \"SEVLT_T1_Total\":\"SEVLT Trial 1 total\",\n",
    "                \"SEVLT_T2_Total\":\"SEVLT Trial 2 total\",\n",
    "                \"SEVLT_T3_Total\":\"SEVLT Trial 3 total\",\n",
    "                \"SEVLT_T5_Total\":\"SEVLT Trial 5 total\",\n",
    "                \"SEVLT_T1235_Total\":\"SEVLT Trials 1-5 total\",\n",
    "                \"SEVLT_DR_Total\":\"SEVLT Trial Delayed Recall total score\",\n",
    "                \"LM1_AB_Total\":\"Logical Memory I Version A and B delayed recall\",\n",
    "                \"LM2_AB_Total\":\"Logical Memory II Version A and B delayed recall\",\n",
    "                \"Smoke_Currently\":\"Smoking\",\n",
    "                \"Smoke_Ever\":\"Smoking history\",\n",
    "                \"FAS_Total\": \"Grand Total of FAS Word\",\n",
    "                \"WAT_Correct\":\"WAT Number correct\",\n",
    "                \"Animal_Total\":\"Animal Naming Total Score\",\n",
    "                \"TOMM_Total\":\"Test of Memory Malingering\",\n",
    "                \"BW_Glucose\":\"Blood Work Glucose (mg/dL)\",\n",
    "                \"HI_Score\":\"Hachinski Ischemic Score\",\n",
    "  \"LEFT_HIPPOCAMPUS_VOLUME\":\"Left_Hippocampus\",\n",
    "                \"RIGHT_HIPPOCAMPUS_VOLUME\":\"Right_Hippocampus\",\n",
    "             \"LEFT_LATERAL_VENTRICLE_VOLUME\":\"Left_Lateral_Ventricle\",\n",
    "            \"RIGHT_LATERAL_VENTRICLE_VOLUME\":\"Right_Lateral_Ventricle\",\n",
    "           \"Left_meta\":\"Left_meta\", \n",
    "    \"THCK:L_ENTORHINAL_VOLUME\": \"Left_Entorhinal\",\n",
    "    \"THCK:R_ENTORHINAL_VOLUME\":\"Right_Entorhinal\",\n",
    "    \"THCK:L_FUSIFORM_VOLUME\": \"Left_Fusiform\",\n",
    "    \"THCK:R_FUSIFORM_VOLUME\": \"Right_Fusiform\",\n",
    "    \"THCK:L_INFERIORPARIETAL_VOLUME\": \"Left Inferior Parietal\",\n",
    "    \"THCK:R_INFERIORPARIETAL_VOLUME\": \"Right Inferior Parietal\",\n",
    "    \"THCK:L_INFERIORTEMPORAL_VOLUME\": \"Left Inferior Temporal\",\n",
    "    \"THCK:R_INFERIORTEMPORAL_VOLUME\": \"Right Inferior Temporal\",\n",
    "    \"THCK:L_MIDDLETEMPORAL_VOLUME\": \"Left Middle Temporal\",\n",
    "    \"THCK:R_MIDDLETEMPORAL_VOLUME\": \"Right Middle Temporal\",\n",
    "    \"THCK:L_PRECUNEUS_VOLUME\": \"Left Precuneus\",\n",
    "    \"THCK:R_PRECUNEUS_VOLUME\": \"Right Precuneus\",\n",
    "    \"THCK:L_INSULA_VOLUME\": \"Left Insula\",\n",
    "    \"THCK:R_INSULA_VOLUME\": \"Right Insula\",\n",
    "     'Right_meta':\"Right_meta\"  \n",
    "            }"
   ]
  },
  {
   "cell_type": "code",
   "execution_count": 16,
   "id": "fd579288",
   "metadata": {},
   "outputs": [],
   "source": [
    "full_column_name_pointer={\n",
    "                \"age\":\"Age\",\n",
    "                \"gender\":\"Gender\",\n",
    "                \"race_simple\":\"Race\",\n",
    "                \"raceEth\":\"Ethnicity\",\n",
    "                \"APOE2_BIN\":\"APOE2\",\n",
    "                \"APOE4_NUM\":\"APOE4\",\n",
    "                \"Edu_yrs\":\"Education\",\n",
    "                \"PersonOfColor\":\"Person of Color\",\n",
    "                \"weightavg_kg\": 'Weight (in kg)',\n",
    "                \"mindtotal\":\"MIND Diet Total Score\",\n",
    "                \"PSQI_Global_Score\":\"Pittsburgh Sleep Quality Index Global Score\",\n",
    "                \"ISI_score\":\"Insomnia Severity Index\",\n",
    "                \"FHS_risk\":\"Framingham Heart Study 10 year CVD Risk\",\n",
    "                \"bpavgsys\": 'Systolic blood pressure (mmHg)',\n",
    "                'bpavgdia': 'Diastolic blood pressure (mmHg)',\n",
    "                'bmi':\"Body Mass Index\",\n",
    "                \"hba1c\":\"HbA1c(%)\",\n",
    "                \"diabetes_type2\":\"Diagnosis of Type II diabetes\",\n",
    "                \"diabetes_status\":\"Diagnosis of diabetes\",\n",
    "                \"glucose\":\"Glucose level\",\n",
    "                \"TICS_adj\":\"Adjusted TICS score\",\n",
    "                \"CVD_bl\":\"Diagnosis of CVD\",\n",
    "                \"smokerChar\":\"Smoke history\",\n",
    "                \"animalstotcorrect\":\"Animal Naming Total Score\",\n",
    "                'mmsetotscore': 'Mini-Mental State Examination score',\n",
    "                'delayrecalltot': 'Delayed Total Recall test',\n",
    "                'cdr_scr_sum': 'Clinical Dementia Rating Scale Sum of Boxes Scores',\n",
    "                \"FCSRT_Free_Cued__96\":\"Free and Cued Selective Reminding Test\",\n",
    "                \"episodic_score_z\":\"Episodic Memory Domain Score\",\n",
    "                \"executive_score_z\":\"Executive Function Domain Score\",\n",
    "                \"processing_score_z\":\"Processing Speed Domain Score\",\n",
    "                \"global_composite_Z\":\"Global Composite Score (primary outcome)\",\n",
    "                \"FINGER_NTB_z\":\"FINGER NTB Score\",\n",
    "                \"PACC_5_z\":\"PACC-5 Score\",\n",
    "                \"freq_cog\":\"Frequency/week of cognitive activities\",\n",
    "                \"freq_social\":\"Frequency/week of social activities\",\n",
    "                \"gds_total\":\"Geriatric Mood Scale\",\n",
    "                \"chol\":\"Total Cholesterol (mg/dL)\",\n",
    "                \"UCB_ADNIPOINTER_PACC\":\"PACC score\",\n",
    "                \"CFI_ppt\":\"Cognitive Function Index (partner-reported)\",\n",
    "                \"CFI_sp\":\"Cognitive Function Index (self-reported)\",\n",
    "                \"DCTScore\":\"Clock Drawing Test score\",\n",
    "                \"ecog_sp_memory\":\"Everyday Cognition test (self-reported Memory)\",\n",
    "                \"ecog_sp_language\":\"Everyday Cognition test (self-reported Language)\",\n",
    "                \"ecog_sp_visuosp\":\"Everyday Cognition test (self-reported Visuospatial Abilities)\",\n",
    "                \"ecog_sp_planning\":\"Everyday Cognition test (self-reported Planning)\",\n",
    "                \"ecog_sp_organize\":\"Everyday Cognition test (self-reported Organization)\",\n",
    "                \"ecog_sp_attention\":\"Everyday Cognition test (self-reported Divided attention)\",\n",
    "                \"ecog_sp_total\":\"Everyday Cognition test (self-reported Total scores)\",\n",
    "                \"ecog_ppt_memory\":\"Everyday Cognition test (partner-reported Memory)\",\n",
    "                \"ecog_ppt_language\":\"Everyday Cognition test (partner-reported Language)\",\n",
    "                \"ecog_ppt_visuosp\":\"Everyday Cognition test (partner-reported Visuospatial Abilities)\",\n",
    "                \"ecog_ppt_planning\":\"Everyday Cognition test (partner-reported Planning)\",\n",
    "                \"ecog_ppt_organize\":\"Everyday Cognition test (partner-reported Organization)\",\n",
    "                \"ecog_ppt_attention\":\"Everyday Cognition test (partner-reported Divided attention)\",\n",
    "                \"ecog_ppt_total\":\"Everyday Cognition test (partner-reported Total scores)\",\n",
    "                \"medName\":\"Medication\",\n",
    "                \"heightavg_cm\":\"Height (in cm)\",\n",
    "                \"phys_func_comp\":\"Short Survey Physical Functioning Scale\",\n",
    "                \"phys_hlth_comp\":\"Short Survey Role Functioning/Physical Scale\",\n",
    "                \"emot_prob_comp\":\"Short Survey Role Functioning/Emotional Scale\",\n",
    "                \"ener_fati_comp\":\"Short Survey Energy/Fatigue Scale\",\n",
    "                \"emot_well_comp\":\"Short Survey Emotional Well-being Scale\",\n",
    "                \"soci_func_comp\":\"Short Survey Social Functioning Scale\",\n",
    "                \"pain_comp\":\"Short Survey Pain Scale\",\n",
    "                \"gen_hlth_comp\":\"Short Survey General Health Scale\",\n",
    "                \"hlth_chg_comp\":\"Short Survey Health Change Scale\",\n",
    "                \"tiv\":\"Total intracranial\",\n",
    "                \"CDX_Cog\":\"Diagnosis\",\n",
    "     'bl_occupation':\"Occupation\",\n",
    " 'bl_relationship':\"Marrital status\",\n",
    " 'bl_retired':\"Retired\",\n",
    " 'lowEdu':\"Low Education\",\n",
    "    \"FBB_CENTILOIDS_1\":\"CENTILOIDS\",\n",
    "           \"vol_Left_Hippocampus\":\"Left_Hippocampus\",\n",
    "                \"vol_Right_Hippocampus\":\"Right_Hippocampus\",\n",
    "             \"vol_Left_Lateral_Ventricle\":\"Left_Lateral_Ventricle\",\n",
    "            \"vol_Right_Lateral_Ventricle\":\"Right_Lateral_Ventricle\",\n",
    "           \"Left_meta\":\"Left_meta\",\n",
    "    \"Thck_L_entorhinal\": \"Left_Entorhinal\",\n",
    "    \"Thck_R_entorhinal\":\"Right_Entorhinal\",\n",
    "    \"Thck_L_fusiform\": \"Left_Fusiform\",\n",
    "    \"Thck_R_fusiform\": \"Right_Fusiform\",\n",
    "    \"Thck_L_inferiorparietal\": \"Left Inferior Parietal\",\n",
    "    \"Thck_R_inferiorparietal\": \"Right Inferior Parietal\",\n",
    "    \"Thck_L_inferiortemporal\": \"Left Inferior Temporal\",\n",
    "    \"Thck_R_inferiortemporal\": \"Right Inferior Temporal\",\n",
    "    \"Thck_L_middletemporal\": \"Left Middle Temporal\",\n",
    "    \"Thck_R_middletemporal\": \"Right Middle Temporal\",\n",
    "    \"Thck_L_precuneus\": \"Left Precuneus\",\n",
    "    \"Thck_R_precuneus\": \"Right Precuneus\",\n",
    "    \"Thck_L_insula\": \"Left Insula\",\n",
    "    \"Thck_R_insula\": \"Right Insula\",\n",
    "     'Right_meta':\"Right_meta\"  \n",
    "            }\n",
    "\n",
    "\n"
   ]
  },
  {
   "cell_type": "code",
   "execution_count": 17,
   "id": "7ad5419a",
   "metadata": {},
   "outputs": [],
   "source": [
    "adni_merged_df = adni_merged_df.rename(columns=rename_name_adni)\n",
    "habs_df = habs_df.rename(columns=rename_name_habs)\n",
    "pointer_training = pointer_training.rename(columns=full_column_name_pointer)\n",
    "\n",
    "adni_merged_testing = adni_merged_testing.rename(columns=rename_name_adni)\n",
    "habs_testing_df=habs_testing_df.rename(columns=rename_name_habs)\n",
    "pointer_testing =pointer_testing.rename(columns=full_column_name_pointer)\n",
    "columns1 = set(adni_merged_df.columns)\n",
    "columns2 = set(habs_df.columns)\n",
    "columns3 = set(pointer_training.columns)\n",
    "common_columns = columns1.union(columns2).union(columns3)\n",
    "\n",
    "for col in common_columns:\n",
    "    if col not in adni_merged_df.columns:\n",
    "        adni_merged_df[col] = np.nan\n",
    "    if col not in habs_df.columns:\n",
    "        habs_df[col] = np.nan\n",
    "    if col not in pointer_training.columns:\n",
    "        pointer_training[col] = np.nan\n",
    "\n",
    "combined_dataset = pd.concat([adni_merged_df, habs_df,pointer_training], axis=0)\n",
    "combined_dataset.to_csv(\"D:\\\\Research\\\\AD\\\\ADLLM\\\\ADNI process 9\\\\GB\\\\combined_dataset_training_meta_tau.csv\",index=False)"
   ]
  },
  {
   "cell_type": "code",
   "execution_count": 27,
   "id": "55f49cf2",
   "metadata": {},
   "outputs": [],
   "source": [
    "combined_dataset=pd.read_csv(\"D:\\\\Research\\\\AD\\\\ADLLM\\\\ADNI process 9\\\\GB\\\\combined_dataset_training_meta_tau.csv\")"
   ]
  },
  {
   "cell_type": "code",
   "execution_count": 75,
   "id": "8c9c8c55",
   "metadata": {},
   "outputs": [],
   "source": [
    "A4_test=pd.read_csv(\"D:\\\\Research\\\\AD\\\\ADLLM\\\\ADNI process 9\\\\A4\\\\A4_thickness_Dec_17_validation.csv\")"
   ]
  },
  {
   "cell_type": "code",
   "execution_count": 76,
   "id": "37dafb66",
   "metadata": {},
   "outputs": [
    {
     "name": "stdout",
     "output_type": "stream",
     "text": [
      "Existing categorical columns: ['Medication', 'Diagnosis', 'Diagnosis of Depression', \"Diagnosis of Parkinson's disease\", 'Gender', 'Ethnicity', 'Race', 'Marrital status', 'Hand', 'Retired', 'Diagnosis of diabetes', 'Diagnosis of Osteoporosis', 'Diagnosis of Cancer', 'Diagnosis of Stroke', 'Diagnosis of Thyroid disease', 'Diagnosis of High Cholesterol', 'Smoke history', 'Person of Color', 'Diagnosis of Anxiety', 'Diagnosis of High Blood Pressure', 'Diagnosis of traumatic brain injury', 'Diagnosis of Type II diabetes', 'Occupation', 'Diagnosis of Heart Attack', 'Diagnosis of CVD', 'Diagnosis of Kidney disease', 'Diagnosis of Arthritis']\n",
      "      Medication                    Diagnosis Diagnosis of Depression  \\\n",
      "0  no medication             Cognitive normal  No depressive symptoms   \n",
      "1  no medication             Cognitive normal  No depressive symptoms   \n",
      "2  no medication             Cognitive normal  No depressive symptoms   \n",
      "3  no medication  Mildly cognitive impairment  No depressive symptoms   \n",
      "4  no medication  Mildly cognitive impairment  No depressive symptoms   \n",
      "\n",
      "  Diagnosis of Parkinson's disease   Gender Ethnicity     Race  \\\n",
      "0         No parkinsonism symptoms  unknown   unknown  unknown   \n",
      "1         No parkinsonism symptoms  unknown   unknown  unknown   \n",
      "2         No parkinsonism symptoms  unknown   unknown  unknown   \n",
      "3         No parkinsonism symptoms  unknown   unknown  unknown   \n",
      "4         No parkinsonism symptoms  unknown   unknown  unknown   \n",
      "\n",
      "  Marrital status     Hand  Retired  ... Person of Color Diagnosis of Anxiety  \\\n",
      "0         unknown  unknown  unknown  ...         unknown              unknown   \n",
      "1         unknown  unknown  unknown  ...         unknown              unknown   \n",
      "2         unknown  unknown  unknown  ...         unknown              unknown   \n",
      "3         unknown  unknown  unknown  ...         unknown              unknown   \n",
      "4         unknown  unknown  unknown  ...         unknown              unknown   \n",
      "\n",
      "  Diagnosis of High Blood Pressure Diagnosis of traumatic brain injury  \\\n",
      "0                          unknown                             unknown   \n",
      "1                          unknown                             unknown   \n",
      "2                          unknown                             unknown   \n",
      "3                          unknown                             unknown   \n",
      "4                          unknown                             unknown   \n",
      "\n",
      "  Diagnosis of Type II diabetes Occupation Diagnosis of Heart Attack  \\\n",
      "0                       unknown    unknown                   unknown   \n",
      "1                       unknown    unknown                   unknown   \n",
      "2                       unknown    unknown                   unknown   \n",
      "3                       unknown    unknown                   unknown   \n",
      "4                       unknown    unknown                   unknown   \n",
      "\n",
      "  Diagnosis of CVD Diagnosis of Kidney disease Diagnosis of Arthritis  \n",
      "0          unknown                     unknown                unknown  \n",
      "1          unknown                     unknown                unknown  \n",
      "2          unknown                     unknown                unknown  \n",
      "3          unknown                     unknown                unknown  \n",
      "4          unknown                     unknown                unknown  \n",
      "\n",
      "[5 rows x 27 columns]\n"
     ]
    }
   ],
   "source": [
    "import pandas as pd\n",
    "\n",
    "# Assuming combined_dataset is your DataFrame\n",
    "\n",
    "# List of categorical columns (some may not exist in the dataset)\n",
    "categorical_columns = ['Medication', 'Diagnosis', 'Diagnosis of Depression', \n",
    "                       'Diagnosis of Parkinson\\'s disease', \n",
    "                       'Gender', 'Ethnicity', 'Race', 'Marrital status', 'Hand', \n",
    "                       'Retired', 'Diagnosis of diabetes', 'Diagnosis of Osteoporosis', \n",
    "                       'Diagnosis of Cancer', 'Diagnosis of Stroke', \n",
    "                       'Diagnosis of Thyroid disease', 'Diagnosis of High Cholesterol', \n",
    "                      'Smoke history', 'Person of Color', \n",
    "                       'Diagnosis of Anxiety', 'Diagnosis of High Blood Pressure', \n",
    "                       'Diagnosis of traumatic brain injury', 'Diagnosis of Type II diabetes', \n",
    "                       'Occupation', 'Diagnosis of Heart Attack', 'Diagnosis of CVD', \n",
    "                       'Diagnosis of Kidney disease', 'Diagnosis of Arthritis']\n",
    "\n",
    "# Filter only columns that exist in the dataset\n",
    "existing_columns = [col for col in categorical_columns if col in combined_dataset.columns]\n",
    "\n",
    "# Debugging step: print the columns that exist in the dataset\n",
    "print(f\"Existing categorical columns: {existing_columns}\")\n",
    "\n",
    "# Use fillna directly on the subset of existing columns\n",
    "combined_dataset.loc[:, existing_columns] = combined_dataset[existing_columns].fillna('unknown')\n",
    "\n",
    "# Debugging step: Check if the changes were applied correctly\n",
    "print(combined_dataset[existing_columns].head())\n"
   ]
  },
  {
   "cell_type": "code",
   "execution_count": 30,
   "id": "84e5b6ff",
   "metadata": {},
   "outputs": [],
   "source": [
    "combined_dataset.fillna(-9999, inplace=True)"
   ]
  },
  {
   "cell_type": "code",
   "execution_count": 31,
   "id": "7ecca309",
   "metadata": {},
   "outputs": [],
   "source": [
    "import pandas as pd\n",
    "\n",
    "# Assume merged_df is already defined from previous steps\n",
    "\n",
    "# Define the bins and labels\n",
    "bins = [-float('inf'),-0.412928709, 0.19369568, 1.03469779, float('inf')]\n",
    "labels = ['Very low', 'Low', 'High','Super high']\n",
    "combined_dataset['Meta_TAU_CATEGORY'] = pd.cut(combined_dataset['zscore_meta_tau'], bins=bins, labels=labels)"
   ]
  },
  {
   "cell_type": "code",
   "execution_count": 32,
   "id": "e8fed102",
   "metadata": {},
   "outputs": [],
   "source": [
    "X = combined_dataset.drop(columns=['zscore_meta_tau','Meta_TAU_CATEGORY'], axis=1)\n",
    "y = combined_dataset.Meta_TAU_CATEGORY\n",
    "\n",
    "from sklearn.model_selection import train_test_split\n",
    "X_train, X_validation, y_train, y_validation = train_test_split(X, y, train_size=0.8, random_state=42)\n"
   ]
  },
  {
   "cell_type": "code",
   "execution_count": 33,
   "id": "e8d3e467",
   "metadata": {},
   "outputs": [
    {
     "name": "stdout",
     "output_type": "stream",
     "text": [
      "RID                                                     float64\n",
      "Mini-Mental State Examination score                     float64\n",
      "Age                                                     float64\n",
      "Medication                                               object\n",
      "Diagnosis                                                object\n",
      "                                                         ...   \n",
      "memoryloss_sibling                                      float64\n",
      "Smoke history                                            object\n",
      "Frequency/week of cognitive activities                  float64\n",
      "Logical Memory II Version B delayed recall              float64\n",
      "Tau protein concentration in the blood plasma(pg/mL)    float64\n",
      "Length: 162, dtype: object\n"
     ]
    }
   ],
   "source": [
    "print(X.dtypes)\n",
    "categorical_features_indices = np.where((X.dtypes != float) & (X.dtypes != int) & (X.dtypes != 'int64'))[0]\n"
   ]
  },
  {
   "cell_type": "code",
   "execution_count": 34,
   "id": "c9c2631c",
   "metadata": {},
   "outputs": [
    {
     "data": {
      "text/plain": [
       "array([  3,   4,   5,   6,  72,  74,  75,  76,  77,  78,  85,  91,  94,\n",
       "        96, 109, 112, 113, 115, 119, 121, 123, 128, 130, 133, 136, 149,\n",
       "       158], dtype=int64)"
      ]
     },
     "execution_count": 34,
     "metadata": {},
     "output_type": "execute_result"
    }
   ],
   "source": [
    "categorical_features_indices"
   ]
  },
  {
   "cell_type": "code",
   "execution_count": 35,
   "id": "1fbc7b02",
   "metadata": {},
   "outputs": [],
   "source": [
    "from catboost import CatBoostClassifier, Pool, metrics, cv\n",
    "from sklearn.metrics import accuracy_score\n",
    "model_tau = CatBoostClassifier(\n",
    "    custom_loss=[metrics.Accuracy()],\n",
    "    random_seed=10000,\n",
    "    logging_level='Silent',\n",
    "    iterations=200, \n",
    "    learning_rate=0.01\n",
    ")"
   ]
  },
  {
   "cell_type": "code",
   "execution_count": 36,
   "id": "2e18ffb2",
   "metadata": {},
   "outputs": [
    {
     "data": {
      "application/vnd.jupyter.widget-view+json": {
       "model_id": "ee34f8431a274579a51a5a7c747b7f2a",
       "version_major": 2,
       "version_minor": 0
      },
      "text/plain": [
       "MetricVisualizer(layout=Layout(align_self='stretch', height='500px'))"
      ]
     },
     "metadata": {},
     "output_type": "display_data"
    },
    {
     "data": {
      "text/plain": [
       "<catboost.core.CatBoostClassifier at 0x1660fbb65b0>"
      ]
     },
     "execution_count": 36,
     "metadata": {},
     "output_type": "execute_result"
    }
   ],
   "source": [
    "model_tau.fit(\n",
    "    X_train, y_train,\n",
    "    cat_features=categorical_features_indices,\n",
    "    eval_set=(X_validation, y_validation),\n",
    "#     logging_level='Verbose',  # you can uncomment this for text output\n",
    "    plot=True\n",
    ")"
   ]
  },
  {
   "cell_type": "code",
   "execution_count": 37,
   "id": "dde25d11",
   "metadata": {},
   "outputs": [],
   "source": [
    "import matplotlib.pyplot as plt\n",
    "# Calculate feature importance\n",
    "feature_importances = model_tau.get_feature_importance(type='FeatureImportance') \n",
    "# Plot feature importance\n",
    "\n",
    "feature_names = model_tau.feature_names_\n",
    "\n",
    "# Create a DataFrame for easy handling\n",
    "importance_df = pd.DataFrame({'Feature': feature_names, 'Meta tau Importance': feature_importances})\n",
    "importance_df.to_csv(\"D:\\\\Research\\\\AD\\\\ADLLM\\\\ADNI process 9\\\\GB\\\\Feature_importance_meta_tau_gb.csv\",index=False)"
   ]
  },
  {
   "cell_type": "code",
   "execution_count": 38,
   "id": "d37c252e",
   "metadata": {},
   "outputs": [
    {
     "name": "stdout",
     "output_type": "stream",
     "text": [
      "Existing categorical columns: ['Medication', 'Diagnosis', 'Diagnosis of Depression', \"Diagnosis of Parkinson's disease\", 'Gender', 'Ethnicity', 'Race', 'Marrital status', 'Hand', 'Retired']\n"
     ]
    }
   ],
   "source": [
    "existing_columns = [col for col in categorical_columns if col in adni_merged_testing.columns]\n",
    "\n",
    "# Debugging step: print the columns that exist in the dataset\n",
    "print(f\"Existing categorical columns: {existing_columns}\")\n",
    "adni_merged_testing_new = adni_merged_testing[existing_columns].astype(object)\n",
    "adni_merged_testing_new.fillna('unknown', inplace=True)\n",
    "columns_not_in_existing = np.setdiff1d(adni_merged_testing.columns, existing_columns)\n",
    "\n",
    "# Modify the DataFrame by replacing NaN with 'Unknown' in the columns not in existing_columns\n",
    "adni_merged_testing_continuous  = adni_merged_testing[columns_not_in_existing].fillna(-9999)\n",
    "\n",
    "# Concatenating row-wise (default axis=0)\n",
    "combined_df_adni = pd.concat([adni_merged_testing_continuous, adni_merged_testing_new], axis=1)\n",
    "combined_df_adni.to_csv(\"D:\\\\Research\\\\AD\\\\ADLLM\\\\ADNI process 9\\\\ADNI\\\\GB\\\\adni_testing_final_meta_tau.csv\")"
   ]
  },
  {
   "cell_type": "code",
   "execution_count": 39,
   "id": "c3f1f7a4",
   "metadata": {},
   "outputs": [],
   "source": [
    "import pandas as pd\n",
    "\n",
    "# Assume merged_df is already defined from previous steps\n",
    "\n",
    "# Define the bins and labels\n",
    "# Define the bins and labels\n",
    "bins = [-float('inf'),-0.412928709, 0.19369568, 1.03469779, float('inf')]\n",
    "labels = ['Very low', 'Low', 'High','Super high']\n",
    "\n",
    "combined_df_adni['Meta_TAU_CATEGORY'] = pd.cut(combined_df_adni['zscore_meta_tau'], bins=bins, labels=labels)"
   ]
  },
  {
   "cell_type": "code",
   "execution_count": 40,
   "id": "37677f6d",
   "metadata": {},
   "outputs": [],
   "source": [
    "X_adni= combined_df_adni.drop(columns=['zscore_meta_tau','Meta_TAU_CATEGORY',\"RID\"], axis=1)\n",
    "y_adni = combined_df_adni.Meta_TAU_CATEGORY"
   ]
  },
  {
   "cell_type": "code",
   "execution_count": 41,
   "id": "315cf1bc",
   "metadata": {},
   "outputs": [],
   "source": [
    "model_features = X.columns"
   ]
  },
  {
   "cell_type": "code",
   "execution_count": 42,
   "id": "f7b270ff",
   "metadata": {},
   "outputs": [],
   "source": [
    "for feature in model_features:\n",
    "    if (feature not in  X_adni.columns) and (feature in categorical_columns) :\n",
    "        X_adni[feature] = \"unknown\"\n",
    "    elif (feature not in  X_adni.columns) and (feature not in categorical_columns) :\n",
    "        X_adni[feature] = -9999"
   ]
  },
  {
   "cell_type": "code",
   "execution_count": 43,
   "id": "e3fbda95",
   "metadata": {},
   "outputs": [],
   "source": [
    "X_adni= X_adni[model_features ]"
   ]
  },
  {
   "cell_type": "code",
   "execution_count": 44,
   "id": "17849c9a",
   "metadata": {},
   "outputs": [],
   "source": [
    "predictions = model_tau.predict(X_adni)\n",
    "predictions_probs = model_tau.predict_proba(X_adni)"
   ]
  },
  {
   "cell_type": "code",
   "execution_count": 45,
   "id": "5819b2c6",
   "metadata": {},
   "outputs": [
    {
     "data": {
      "image/png": "[encoded data removed]",
      "text/plain": [
       "<Figure size 576x432 with 2 Axes>"
      ]
     },
     "metadata": {
      "needs_background": "light"
     },
     "output_type": "display_data"
    }
   ],
   "source": [
    "import numpy as np\n",
    "import matplotlib.pyplot as plt\n",
    "import seaborn as sns\n",
    "from sklearn.metrics import confusion_matrix, ConfusionMatrixDisplay\n",
    "\n",
    "# Example true labels and predictions\n",
    "y_true = y_adni\n",
    "y_pred =predictions\n",
    "\n",
    "\n",
    "\n",
    "desired_order = ['Very low', 'Low', 'High','Super high']\n",
    "# Filter out 'Unknown' class from both true and predicted labels\n",
    "\n",
    "\n",
    "# Compute the confusion matrix\n",
    "cm = confusion_matrix(y_true, y_pred, labels=desired_order)\n",
    "\n",
    "# Create a heatmap to visualize the confusion matrix\n",
    "plt.figure(figsize=(8, 6))\n",
    "sns.heatmap(cm, annot=True, fmt='d', cmap='Blues', xticklabels=desired_order, yticklabels=desired_order)\n",
    "\n",
    "plt.xlabel('Predicted Labels')\n",
    "plt.ylabel('True Labels')\n",
    "plt.title('Confusion Matrix')\n",
    "plt.show()"
   ]
  },
  {
   "cell_type": "code",
   "execution_count": 46,
   "id": "04d67d63",
   "metadata": {},
   "outputs": [
    {
     "name": "stdout",
     "output_type": "stream",
     "text": [
      "One-vs-Rest AUC for each class:\n",
      "Class High vs Rest: 0.5972639414914457\n",
      "Class Low vs Rest: 0.6997904818916492\n",
      "Class Super high vs Rest: 0.7919418474997856\n",
      "Class Very low vs Rest: 0.6491071428571429\n",
      "Overall One-vs-Rest AUC: 0.6845258534350058\n"
     ]
    }
   ],
   "source": [
    "from sklearn.preprocessing import LabelEncoder, OneHotEncoder\n",
    "from sklearn.metrics import roc_auc_score, precision_recall_fscore_support, roc_curve, auc\n",
    "from sklearn.preprocessing import label_binarize\n",
    "import numpy as np\n",
    "from sklearn.preprocessing import LabelEncoder, OneHotEncoder\n",
    "\n",
    "label_encoder = LabelEncoder()\n",
    "y_true_encoded = label_encoder.fit_transform(y_true)\n",
    "\n",
    "# Binarize the output\n",
    "one_hot_encoder = OneHotEncoder()\n",
    "y_true_binarized = one_hot_encoder.fit_transform(y_true_encoded.reshape(-1, 1)).toarray()\n",
    "class_weights = []\n",
    "auc_list=[]\n",
    "# Compute AUC for the one-vs-rest (ovr) method for all classes\n",
    "ovr_aucs = {}\n",
    "for i in range(y_true_binarized.shape[1]):\n",
    "    auc = roc_auc_score(list(np.array(y_true_binarized)[:, i]), list(np.array(predictions_probs)[:, i]))\n",
    "    ovr_aucs[f\"Class {label_encoder.classes_[i]} vs Rest\"] = auc\n",
    "    auc_list.append(auc)\n",
    "    class_weights.append(np.sum(y_true == label_encoder.classes_[i]))\n",
    "print(\"One-vs-Rest AUC for each class:\")\n",
    "for class_label, auc in ovr_aucs.items():\n",
    "    print(f\"{class_label}: {auc}\")\n",
    "\n",
    "# Overall One-vs-Rest AUC\n",
    "overall_ovr_auc = roc_auc_score(y_true_binarized,predictions_probs, multi_class='ovr')\n",
    "print(f\"Overall One-vs-Rest AUC: {overall_ovr_auc}\")"
   ]
  },
  {
   "cell_type": "code",
   "execution_count": 47,
   "id": "8c4699e6",
   "metadata": {},
   "outputs": [],
   "source": [
    "weighted_auc = np.average(auc_list, weights=class_weights)"
   ]
  },
  {
   "cell_type": "code",
   "execution_count": 48,
   "id": "e08f0422",
   "metadata": {},
   "outputs": [
    {
     "data": {
      "text/plain": [
       "0.707788700958461"
      ]
     },
     "execution_count": 48,
     "metadata": {},
     "output_type": "execute_result"
    }
   ],
   "source": [
    "weighted_auc"
   ]
  },
  {
   "cell_type": "code",
   "execution_count": 49,
   "id": "2e77633c",
   "metadata": {},
   "outputs": [
    {
     "name": "stdout",
     "output_type": "stream",
     "text": [
      "Weighted Sensitivity: 0.4142\n",
      "Weighted Specificity: 0.7617\n"
     ]
    }
   ],
   "source": [
    "# 初始化敏感性和特异性的列表\n",
    "sensitivities = []\n",
    "specificities = []\n",
    "class_weights = []\n",
    "\n",
    "# 遍历每个类别计算敏感性和特异性\n",
    "for i in range(len(cm)):\n",
    "    TP = cm[i, i]\n",
    "    FN = np.sum(cm[i, :]) - TP\n",
    "    FP = np.sum(cm[:, i]) - TP\n",
    "    TN = np.sum(cm) - (TP + FN + FP)\n",
    "    \n",
    "    sensitivity = TP / (TP + FN) if (TP + FN) > 0 else 0\n",
    "    specificity = TN / (TN + FP) if (TN + FP) > 0 else 0\n",
    "    \n",
    "    sensitivities.append(sensitivity)\n",
    "    specificities.append(specificity)\n",
    "    \n",
    "    # 权重为该类别的真实样本数\n",
    "    class_weights.append(TP + FN)\n",
    "\n",
    "# 计算加权平均敏感性和特异性\n",
    "weighted_sensitivity = np.average(sensitivities, weights=class_weights)\n",
    "weighted_specificity = np.average(specificities, weights=class_weights)\n",
    "\n",
    "print(f\"Weighted Sensitivity: {weighted_sensitivity:.4f}\")\n",
    "print(f\"Weighted Specificity: {weighted_specificity:.4f}\")"
   ]
  },
  {
   "cell_type": "code",
   "execution_count": 50,
   "id": "1ca7955b",
   "metadata": {},
   "outputs": [],
   "source": [
    "adni_prediction=pd.DataFrame({\"Truth\":list(y_true),\"Prediction\":list(predictions),\"High\": list(np.array(predictions_probs)[:, 0]),\"Low\": list(np.array(predictions_probs)[:, 1]),\"Super high\": list(np.array(predictions_probs)[:, 2]),\"Very low\": list(np.array(predictions_probs)[:, 3])})\n",
    "adni_prediction.to_csv(\"D:\\\\Research\\\\AD\\\\ADLLM\\\\ADNI process 9\\\\ADNI\\\\GB\\\\adni_testing_result_meta_tau.csv\",index=False)"
   ]
  },
  {
   "cell_type": "code",
   "execution_count": 51,
   "id": "2aa7f696",
   "metadata": {},
   "outputs": [
    {
     "name": "stdout",
     "output_type": "stream",
     "text": [
      "Existing categorical columns: ['Diagnosis', 'Diagnosis of Depression', 'Gender', 'Ethnicity', 'Race', 'Marrital status', 'Retired', 'Diagnosis of diabetes', 'Diagnosis of Osteoporosis', 'Diagnosis of Cancer', 'Diagnosis of Stroke', 'Diagnosis of Thyroid disease', 'Diagnosis of High Cholesterol', 'Diagnosis of Anxiety', 'Diagnosis of High Blood Pressure', 'Diagnosis of traumatic brain injury', 'Diagnosis of Heart Attack', 'Diagnosis of Kidney disease', 'Diagnosis of Arthritis']\n"
     ]
    }
   ],
   "source": [
    "existing_columns = [col for col in categorical_columns if col in habs_testing_df.columns]\n",
    "\n",
    "# Debugging step: print the columns that exist in the dataset\n",
    "print(f\"Existing categorical columns: {existing_columns}\")\n"
   ]
  },
  {
   "cell_type": "code",
   "execution_count": 52,
   "id": "7b997590",
   "metadata": {},
   "outputs": [],
   "source": [
    "habs_testing_df_new= habs_testing_df[existing_columns].astype(object)\n",
    "habs_testing_df_new.fillna('unknown', inplace=True)\n",
    "columns_not_in_existing = np.setdiff1d(habs_testing_df.columns, existing_columns)\n",
    "\n",
    "# Modify the DataFrame by replacing NaN with 'Unknown' in the columns not in existing_columns\n",
    "habs_testing_df_continuous  =habs_testing_df[columns_not_in_existing].fillna(-9999)\n",
    "\n",
    "\n",
    "# Concatenating row-wise (default axis=0)\n",
    "combined_df_habs = pd.concat([habs_testing_df_continuous, habs_testing_df_new], axis=1)\n",
    "import pandas as pd\n",
    "\n",
    "# Assume merged_df is already defined from previous steps\n",
    "\n",
    "# Define the bins and labels\n",
    "# Define the bins and labels\n",
    "# Define the bins and labels\n",
    "bins = [-float('inf'),-0.412928709, 0.19369568, 1.03469779, float('inf')]\n",
    "labels = ['Very low', 'Low', 'High','Super high']\n",
    "\n",
    "\n",
    "combined_df_habs['Meta_TAU_CATEGORY'] = pd.cut(combined_df_habs['zscore_meta_tau'], bins=bins, labels=labels)\n",
    "combined_df_habs.to_csv(\"D:\\\\Research\\\\AD\\\\ADLLM\\\\ADNI process 9\\\\HABS-HD\\\\GB\\\\habs_testing_final_meta_tau.csv\",index=False)"
   ]
  },
  {
   "cell_type": "code",
   "execution_count": 53,
   "id": "27728456",
   "metadata": {},
   "outputs": [],
   "source": [
    "X_habs= combined_df_habs.drop(columns=['zscore_meta_tau','Meta_TAU_CATEGORY',\"Med_ID\"], axis=1)\n",
    "y_habs =combined_df_habs.Meta_TAU_CATEGORY"
   ]
  },
  {
   "cell_type": "code",
   "execution_count": 54,
   "id": "52f92782",
   "metadata": {},
   "outputs": [],
   "source": [
    "model_features = X.columns\n",
    "for feature in model_features:\n",
    "    if (feature not in  X_habs.columns) and (feature in categorical_columns) :\n",
    "        X_habs[feature] = \"unknown\"\n",
    "    elif (feature not in  X_habs.columns) and (feature not in categorical_columns) :\n",
    "        X_habs[feature] = -9999\n",
    "X_habs= X_habs[model_features ]\n",
    "#X_habs.to_csv(\"D:\\\\Research\\\\AD\\\\ADLLM\\\\ADNI process 8\\\\dataset\\\\Gradient boosting\\\\habs_testing_final_meta_tau.csv\",index=False)"
   ]
  },
  {
   "cell_type": "code",
   "execution_count": 55,
   "id": "1c67454f",
   "metadata": {},
   "outputs": [],
   "source": [
    "predictions = model_tau.predict(X_habs)\n",
    "predictions_probs = model_tau.predict_proba(X_habs)"
   ]
  },
  {
   "cell_type": "code",
   "execution_count": 56,
   "id": "ad00a6e7",
   "metadata": {},
   "outputs": [
    {
     "data": {
      "image/png": "[encoded data removed]",
      "text/plain": [
       "<Figure size 576x432 with 2 Axes>"
      ]
     },
     "metadata": {
      "needs_background": "light"
     },
     "output_type": "display_data"
    }
   ],
   "source": [
    "import numpy as np\n",
    "import matplotlib.pyplot as plt\n",
    "import seaborn as sns\n",
    "from sklearn.metrics import confusion_matrix, ConfusionMatrixDisplay\n",
    "\n",
    "# Example true labels and predictions\n",
    "y_true = y_habs\n",
    "y_pred =predictions\n",
    "\n",
    "\n",
    "\n",
    "desired_order = ['Very low', 'Low','High','Super high']\n",
    "# Filter out 'Unknown' class from both true and predicted labels\n",
    "\n",
    "\n",
    "# Compute the confusion matrix\n",
    "cm = confusion_matrix(y_true, y_pred, labels=desired_order)\n",
    "\n",
    "# Create a heatmap to visualize the confusion matrix\n",
    "plt.figure(figsize=(8, 6))\n",
    "sns.heatmap(cm, annot=True, fmt='d', cmap='Blues', xticklabels=desired_order, yticklabels=desired_order)\n",
    "plt.xlabel('Predicted Labels')\n",
    "plt.ylabel('True Labels')\n",
    "plt.title('Confusion Matrix')\n",
    "plt.show()"
   ]
  },
  {
   "cell_type": "code",
   "execution_count": 57,
   "id": "f02734ff",
   "metadata": {},
   "outputs": [
    {
     "name": "stdout",
     "output_type": "stream",
     "text": [
      "One-vs-Rest AUC for each class:\n",
      "Class High vs Rest: 0.5296043466146558\n",
      "Class Low vs Rest: 0.5648623853211009\n",
      "Class Super high vs Rest: 0.6824324324324323\n",
      "Class Very low vs Rest: 0.5802521008403362\n",
      "Overall One-vs-Rest AUC: 0.5892878163021313\n"
     ]
    }
   ],
   "source": [
    "from sklearn.preprocessing import LabelEncoder, OneHotEncoder\n",
    "from sklearn.metrics import roc_auc_score, precision_recall_fscore_support, roc_curve, auc\n",
    "from sklearn.preprocessing import label_binarize\n",
    "import numpy as np\n",
    "from sklearn.preprocessing import LabelEncoder, OneHotEncoder\n",
    "\n",
    "label_encoder = LabelEncoder()\n",
    "y_true_encoded = label_encoder.fit_transform(y_true)\n",
    "\n",
    "# Binarize the output\n",
    "one_hot_encoder = OneHotEncoder()\n",
    "y_true_binarized = one_hot_encoder.fit_transform(y_true_encoded.reshape(-1, 1)).toarray()\n",
    "class_weights = []\n",
    "auc_list=[]\n",
    "# Compute AUC for the one-vs-rest (ovr) method for all classes\n",
    "ovr_aucs = {}\n",
    "for i in range(y_true_binarized.shape[1]):\n",
    "    auc = roc_auc_score(list(np.array(y_true_binarized)[:, i]), list(np.array(predictions_probs)[:, i]))\n",
    "    ovr_aucs[f\"Class {label_encoder.classes_[i]} vs Rest\"] = auc\n",
    "    auc_list.append(auc)\n",
    "    class_weights.append(np.sum(y_true == label_encoder.classes_[i]))\n",
    "print(\"One-vs-Rest AUC for each class:\")\n",
    "for class_label, auc in ovr_aucs.items():\n",
    "    print(f\"{class_label}: {auc}\")\n",
    "\n",
    "# Overall One-vs-Rest AUC\n",
    "overall_ovr_auc = roc_auc_score(y_true_binarized,predictions_probs, multi_class='ovr')\n",
    "print(f\"Overall One-vs-Rest AUC: {overall_ovr_auc}\")"
   ]
  },
  {
   "cell_type": "code",
   "execution_count": 58,
   "id": "ec8db677",
   "metadata": {},
   "outputs": [],
   "source": [
    "weighted_auc = np.average(auc_list, weights=class_weights)"
   ]
  },
  {
   "cell_type": "code",
   "execution_count": 59,
   "id": "abb0ebdb",
   "metadata": {},
   "outputs": [
    {
     "data": {
      "text/plain": [
       "0.5809344727230761"
      ]
     },
     "execution_count": 59,
     "metadata": {},
     "output_type": "execute_result"
    }
   ],
   "source": [
    "weighted_auc"
   ]
  },
  {
   "cell_type": "code",
   "execution_count": 60,
   "id": "9cc4de50",
   "metadata": {},
   "outputs": [
    {
     "name": "stdout",
     "output_type": "stream",
     "text": [
      "Weighted Sensitivity: 0.3545\n",
      "Weighted Specificity: 0.6949\n"
     ]
    }
   ],
   "source": [
    "# 初始化敏感性和特异性的列表\n",
    "sensitivities = []\n",
    "specificities = []\n",
    "class_weights = []\n",
    "\n",
    "# 遍历每个类别计算敏感性和特异性\n",
    "for i in range(len(cm)):\n",
    "    TP = cm[i, i]\n",
    "    FN = np.sum(cm[i, :]) - TP\n",
    "    FP = np.sum(cm[:, i]) - TP\n",
    "    TN = np.sum(cm) - (TP + FN + FP)\n",
    "    \n",
    "    sensitivity = TP / (TP + FN) if (TP + FN) > 0 else 0\n",
    "    specificity = TN / (TN + FP) if (TN + FP) > 0 else 0\n",
    "    \n",
    "    sensitivities.append(sensitivity)\n",
    "    specificities.append(specificity)\n",
    "    \n",
    "    # 权重为该类别的真实样本数\n",
    "    class_weights.append(TP + FN)\n",
    "\n",
    "# 计算加权平均敏感性和特异性\n",
    "weighted_sensitivity = np.average(sensitivities, weights=class_weights)\n",
    "weighted_specificity = np.average(specificities, weights=class_weights)\n",
    "\n",
    "print(f\"Weighted Sensitivity: {weighted_sensitivity:.4f}\")\n",
    "print(f\"Weighted Specificity: {weighted_specificity:.4f}\")"
   ]
  },
  {
   "cell_type": "code",
   "execution_count": 61,
   "id": "c6a6a007",
   "metadata": {},
   "outputs": [],
   "source": [
    "habs_prediction=pd.DataFrame({\"Truth\":list(y_true),\"Prediction\":list(predictions),\"High\": list(np.array(predictions_probs)[:, 0]),\"Low\": list(np.array(predictions_probs)[:, 1]),\"Super high\": list(np.array(predictions_probs)[:, 2]),\"Very low\": list(np.array(predictions_probs)[:, 3])})\n",
    "habs_prediction.to_csv(\"D:\\\\Research\\\\AD\\\\ADLLM\\\\ADNI process 9\\\\HABS-HD\\\\GB\\\\habs_testing_result_meta_tau.csv\",index=False)"
   ]
  },
  {
   "cell_type": "code",
   "execution_count": 62,
   "id": "bc281400",
   "metadata": {},
   "outputs": [
    {
     "name": "stdout",
     "output_type": "stream",
     "text": [
      "Existing categorical columns: ['Medication', 'Gender', 'Ethnicity', 'Race', 'Marrital status', 'Retired', 'Diagnosis of diabetes', 'Smoke history', 'Person of Color', 'Diagnosis of Type II diabetes', 'Occupation', 'Diagnosis of CVD']\n"
     ]
    }
   ],
   "source": [
    "existing_columns = [col for col in categorical_columns if col in pointer_testing.columns]\n",
    "\n",
    "# Debugging step: print the columns that exist in the dataset\n",
    "print(f\"Existing categorical columns: {existing_columns}\")"
   ]
  },
  {
   "cell_type": "code",
   "execution_count": 63,
   "id": "b45dfd9b",
   "metadata": {},
   "outputs": [],
   "source": [
    "pointer_testing_new = pointer_testing[existing_columns].astype(object)\n",
    "pointer_testing_new.fillna('unknown', inplace=True)\n",
    "columns_not_in_existing = np.setdiff1d(pointer_testing.columns, existing_columns)\n",
    "\n",
    "# Modify the DataFrame by replacing NaN with 'Unknown' in the columns not in existing_columns\n",
    "pointer_testing_continuous  =pointer_testing[columns_not_in_existing].fillna(-9999)\n",
    "\n",
    "\n",
    "# Concatenating row-wise (default axis=0)\n",
    "combined_df_pointer = pd.concat([pointer_testing_continuous, pointer_testing_new], axis=1)\n",
    "\n",
    "combined_df_pointer.to_csv(\"D:\\\\Research\\\\AD\\\\ADLLM\\\\ADNI process 9\\\\POINTER\\\\GB\\\\pointer_testing_final_meta_tau.csv\",index=False)"
   ]
  },
  {
   "cell_type": "code",
   "execution_count": 64,
   "id": "ecdabccf",
   "metadata": {},
   "outputs": [],
   "source": [
    "bins = [-float('inf'),-0.412928709, 0.19369568, 1.03469779, float('inf')]\n",
    "labels = ['Very low', 'Low', 'High','Super high']\n",
    "\n",
    "combined_df_pointer['Meta_TAU_CATEGORY'] = pd.cut(combined_df_pointer['zscore_meta_tau'], bins=bins, labels=labels)\n"
   ]
  },
  {
   "cell_type": "code",
   "execution_count": 65,
   "id": "c8d8df21",
   "metadata": {},
   "outputs": [],
   "source": [
    "X_pointer=combined_df_pointer.drop(columns=['zscore_meta_tau','Meta_TAU_CATEGORY',\"PID\"], axis=1)\n",
    "y_pointer =combined_df_pointer.Meta_TAU_CATEGORY"
   ]
  },
  {
   "cell_type": "code",
   "execution_count": 66,
   "id": "80ec8b2a",
   "metadata": {},
   "outputs": [],
   "source": [
    "for feature in model_features:\n",
    "    if (feature not in  X_pointer.columns) and (feature in categorical_columns) :\n",
    "        X_pointer[feature] = \"unknown\"\n",
    "    elif (feature not in  X_pointer.columns) and (feature not in categorical_columns) :\n",
    "        X_pointer[feature] = -9999"
   ]
  },
  {
   "cell_type": "code",
   "execution_count": 67,
   "id": "1d4ee53f",
   "metadata": {},
   "outputs": [],
   "source": [
    "X_pointer= X_pointer[model_features ]\n",
    "predictions = model_tau.predict(X_pointer)\n",
    "predictions_probs = model_tau.predict_proba(X_pointer)\n"
   ]
  },
  {
   "cell_type": "code",
   "execution_count": 68,
   "id": "411e1814",
   "metadata": {},
   "outputs": [
    {
     "data": {
      "image/png": "[encoded data removed]",
      "text/plain": [
       "<Figure size 576x432 with 2 Axes>"
      ]
     },
     "metadata": {
      "needs_background": "light"
     },
     "output_type": "display_data"
    }
   ],
   "source": [
    "import numpy as np\n",
    "import matplotlib.pyplot as plt\n",
    "import seaborn as sns\n",
    "from sklearn.metrics import confusion_matrix, ConfusionMatrixDisplay\n",
    "\n",
    "# Example true labels and predictions\n",
    "y_true = y_pointer\n",
    "y_pred =predictions\n",
    "\n",
    "\n",
    "\n",
    "desired_order = ['Very low', 'Low', 'High','Super high']\n",
    "# Filter out 'Unknown' class from both true and predicted labels\n",
    "\n",
    "\n",
    "# Compute the confusion matrix\n",
    "cm = confusion_matrix(y_true, y_pred, labels=desired_order)\n",
    "\n",
    "# Create a heatmap to visualize the confusion matrix\n",
    "plt.figure(figsize=(8, 6))\n",
    "sns.heatmap(cm, annot=True, fmt='d', cmap='Blues', xticklabels=desired_order, yticklabels=desired_order)\n",
    "plt.xlabel('Predicted Labels')\n",
    "plt.ylabel('True Labels')\n",
    "plt.title('Confusion Matrix')\n",
    "plt.show()"
   ]
  },
  {
   "cell_type": "code",
   "execution_count": 69,
   "id": "f8a5b6c3",
   "metadata": {},
   "outputs": [
    {
     "name": "stdout",
     "output_type": "stream",
     "text": [
      "Weighted Sensitivity: 0.2766\n",
      "Weighted Specificity: 0.6934\n"
     ]
    }
   ],
   "source": [
    "# 初始化敏感性和特异性的列表\n",
    "sensitivities = []\n",
    "specificities = []\n",
    "class_weights = []\n",
    "\n",
    "# 遍历每个类别计算敏感性和特异性\n",
    "for i in range(len(cm)):\n",
    "    TP = cm[i, i]\n",
    "    FN = np.sum(cm[i, :]) - TP\n",
    "    FP = np.sum(cm[:, i]) - TP\n",
    "    TN = np.sum(cm) - (TP + FN + FP)\n",
    "    \n",
    "    sensitivity = TP / (TP + FN) if (TP + FN) > 0 else 0\n",
    "    specificity = TN / (TN + FP) if (TN + FP) > 0 else 0\n",
    "    \n",
    "    sensitivities.append(sensitivity)\n",
    "    specificities.append(specificity)\n",
    "    \n",
    "    # 权重为该类别的真实样本数\n",
    "    class_weights.append(TP + FN)\n",
    "\n",
    "# 计算加权平均敏感性和特异性\n",
    "weighted_sensitivity = np.average(sensitivities, weights=class_weights)\n",
    "weighted_specificity = np.average(specificities, weights=class_weights)\n",
    "\n",
    "print(f\"Weighted Sensitivity: {weighted_sensitivity:.4f}\")\n",
    "print(f\"Weighted Specificity: {weighted_specificity:.4f}\")"
   ]
  },
  {
   "cell_type": "code",
   "execution_count": 70,
   "id": "24925975",
   "metadata": {},
   "outputs": [
    {
     "name": "stdout",
     "output_type": "stream",
     "text": [
      "One-vs-Rest AUC for each class:\n",
      "Class High vs Rest: 0.5569377990430622\n",
      "Class Low vs Rest: 0.4617559523809524\n",
      "Class Super high vs Rest: 0.43013392857142857\n",
      "Class Very low vs Rest: 0.49029061202624885\n",
      "Overall One-vs-Rest AUC: 0.484779573005423\n"
     ]
    }
   ],
   "source": [
    "from sklearn.preprocessing import LabelEncoder, OneHotEncoder\n",
    "from sklearn.metrics import roc_auc_score, precision_recall_fscore_support, roc_curve, auc\n",
    "from sklearn.preprocessing import label_binarize\n",
    "import numpy as np\n",
    "from sklearn.preprocessing import LabelEncoder, OneHotEncoder\n",
    "\n",
    "label_encoder = LabelEncoder()\n",
    "y_true_encoded = label_encoder.fit_transform(y_true)\n",
    "\n",
    "# Binarize the output\n",
    "one_hot_encoder = OneHotEncoder()\n",
    "y_true_binarized = one_hot_encoder.fit_transform(y_true_encoded.reshape(-1, 1)).toarray()\n",
    "class_weights = []\n",
    "auc_list=[]\n",
    "# Compute AUC for the one-vs-rest (ovr) method for all classes\n",
    "ovr_aucs = {}\n",
    "for i in range(y_true_binarized.shape[1]):\n",
    "    auc = roc_auc_score(list(np.array(y_true_binarized)[:, i]), list(np.array(predictions_probs)[:, i]))\n",
    "    ovr_aucs[f\"Class {label_encoder.classes_[i]} vs Rest\"] = auc\n",
    "    auc_list.append(auc)\n",
    "    class_weights.append(np.sum(y_true == label_encoder.classes_[i]))\n",
    "print(\"One-vs-Rest AUC for each class:\")\n",
    "for class_label, auc in ovr_aucs.items():\n",
    "    print(f\"{class_label}: {auc}\")\n",
    "\n",
    "# Overall One-vs-Rest AUC\n",
    "overall_ovr_auc = roc_auc_score(y_true_binarized,predictions_probs, multi_class='ovr')\n",
    "print(f\"Overall One-vs-Rest AUC: {overall_ovr_auc}\")"
   ]
  },
  {
   "cell_type": "code",
   "execution_count": 71,
   "id": "8884d74f",
   "metadata": {},
   "outputs": [],
   "source": [
    "weighted_auc = np.average(auc_list, weights=class_weights)"
   ]
  },
  {
   "cell_type": "code",
   "execution_count": 72,
   "id": "853410c8",
   "metadata": {},
   "outputs": [
    {
     "data": {
      "text/plain": [
       "0.49354350822952303"
      ]
     },
     "execution_count": 72,
     "metadata": {},
     "output_type": "execute_result"
    }
   ],
   "source": [
    "weighted_auc"
   ]
  },
  {
   "cell_type": "code",
   "execution_count": 73,
   "id": "3c2ad8ea",
   "metadata": {},
   "outputs": [],
   "source": [
    "pointer_prediction=pd.DataFrame({\"Truth\":list(y_true),\"Prediction\":list(predictions),\"High\": list(np.array(predictions_probs)[:, 0]),\"Low\": list(np.array(predictions_probs)[:, 1]),\"Super high\": list(np.array(predictions_probs)[:, 2]),\"Very low\": list(np.array(predictions_probs)[:, 3])})\n",
    "pointer_prediction.to_csv(\"D:\\\\Research\\\\AD\\\\ADLLM\\\\ADNI process 9\\\\POINTER\\\\GB\\\\pointer_testing_result_meta_tau.csv\",index=False)"
   ]
  },
  {
   "cell_type": "code",
   "execution_count": 77,
   "id": "6864f8a0",
   "metadata": {},
   "outputs": [
    {
     "name": "stderr",
     "output_type": "stream",
     "text": [
      "C:\\Users\\25110\\AppData\\Local\\Temp/ipykernel_8032/2179313957.py:8: FutureWarning: Downcasting behavior in `replace` is deprecated and will be removed in a future version. To retain the old behavior, explicitly call `result.infer_objects(copy=False)`. To opt-in to the future behavior, set `pd.set_option('future.no_silent_downcasting', True)`\n",
      "  A4_test =A4_test.replace(['Unknown', 'NA'], np.nan)\n"
     ]
    }
   ],
   "source": [
    "drop_group_a4=[\"AGEYR\",\"APOEGN\",\"FCFREET1\",\"FCFREET2\",\"FCFREET3\",\"FCCUEDT1\",\"FCCUEDT2\",\"FCCUEDT3\",\"LIMMTOTAL\",\"SMOKE\",\"ALCOHOL\",\"CAFFEINE\",\"SUBUSE\",\"AEROBIC\",\"WALKING\",\"SLEEP\",\"SLEEPDAY\",\n",
    "\"PXHEADEY\",\"PXCARD\",\"PXPULM\",\"PXABDOM\",\"PXMUSCUL\",\"PXEDEMA\",\"PXSKIN\",\"PXOTHER\",\"NXGAIT\",\"NXMOTOR\",\"NXSENSOR\",\"NXTREMOR\",\"NXFINGER\",\"NXHEEL\",\"NXNERVE\",\"NXOTHER\",\n",
    "\"AGEYR\",\"APOEGN\",\"zscore_ctx_tau\",\"centiloid\",\"braak1\",\"meta\",\"VISCODE\"\n",
    "]\n",
    "A4_test=A4_test.fillna('NA')\n",
    "A4_test=A4_test[A4_test[\"zscore_meta_tau\"]!=\"NA\"]\n",
    "A4_test=A4_test.drop(columns=drop_group_a4)\n",
    "A4_test =A4_test.replace(['Unknown', 'NA'], np.nan)\n",
    "A4_test[\"DIAGNOSIS\"]=\"Cognitive normal\"\n",
    "rename_name_a4 = {\n",
    "                \"PTGENDER\":\"Gender\",\n",
    "                \"PTEDUCAT\":\"Education\",\n",
    "                \"PTETHNIC\":\"Ethnicity\",\n",
    "                \"PTRACE\":\"Race\",\n",
    "                \"PTMARRY\":\"Marrital status\",\n",
    "                \"PTNOTRT\":\"Retired\",     \n",
    "                \"APOE4\":\"APOE4\",\n",
    "                \"PTAGE\":\"Age\",\n",
    "                'MMSCORE': 'Mini-Mental State Examination score',\n",
    "                'VSWEIGHT': 'Weight (in kg)',\n",
    "                'VSHEIGHT': 'Height (in cm)',\n",
    "                'VSBPSYS': 'Systolic blood pressure (mmHg)',\n",
    "                'VSBPDIA': 'Diastolic blood pressure (mmHg)',\n",
    "                'VSPULSE': 'Seated Pulse Rate (per minute)',\n",
    "                'VSRESP': 'Respirations (per minute)',\n",
    "                'VSTEMP': 'Temperature (in Celsius)',\n",
    "                'CDSOB': 'Clinical Dementia Rating Scale Sum of Boxes Scores',\n",
    "                \"LDELTOTAL\": \"Delayed Total Recall test\",\n",
    "                \"DIGITTOTAL\": \"Digit Substitution test\",\n",
    "                \"DIAGNOSIS\":\"Diagnosis\",\n",
    "                \"tiv\":\"Total intracranial\",\n",
    "     \"vol:Left-Hippocampus\":\"Left_Hippocampus\",\n",
    "                \"vol:Right-Hippocampus\":\"Right_Hippocampus\",\n",
    "             \"vol:Left-Lateral-Ventricle\":\"Left_Lateral_Ventricle\",\n",
    "            \"vol:Right-Lateral-Ventricle\":\"Right_Lateral_Ventricle\",\n",
    "           \"Left_meta\":\"Left_meta\",\n",
    "    \"Thck:L_entorhinal\": \"Left_Entorhinal\",\n",
    "    \"Thck:R_entorhinal\":\"Right_Entorhinal\",\n",
    "    \"Thck:L_fusiform\": \"Left_Fusiform\",\n",
    "    \"Thck:R_fusiform\": \"Right_Fusiform\",\n",
    "    \"Thck:L_inferiorparietal\": \"Left Inferior Parietal\",\n",
    "    \"Thck:R_inferiorparietal\": \"Right Inferior Parietal\",\n",
    "    \"Thck:L_inferiortemporal\": \"Left Inferior Temporal\",\n",
    "    \"Thck:R_inferiortemporal\": \"Right Inferior Temporal\",\n",
    "    \"Thck:L_middletemporal\": \"Left Middle Temporal\",\n",
    "    \"Thck:R_middletemporal\": \"Right Middle Temporal\",\n",
    "    \"Thck:L_precuneus\": \"Left Precuneus\",\n",
    "    \"Thck:R_precuneus\": \"Right Precuneus\",\n",
    "    \"Thck:L_insula\": \"Left Insula\",\n",
    "    \"Thck:R_insula\": \"Right Insula\",\n",
    "     'Right_meta':\"Right_meta\"  \n",
    "   \n",
    "}\n",
    "\n",
    "\n",
    "A4_test = A4_test.rename(columns=rename_name_a4)\n"
   ]
  },
  {
   "cell_type": "code",
   "execution_count": 78,
   "id": "0a66da94",
   "metadata": {},
   "outputs": [
    {
     "name": "stdout",
     "output_type": "stream",
     "text": [
      "Existing categorical columns: ['Diagnosis', 'Gender', 'Ethnicity', 'Race', 'Marrital status', 'Retired']\n"
     ]
    }
   ],
   "source": [
    "existing_columns = [col for col in categorical_columns if col in A4_test.columns]\n",
    "\n",
    "# Debugging step: print the columns that exist in the dataset\n",
    "print(f\"Existing categorical columns: {existing_columns}\")\n",
    "A4_test_new= A4_test[existing_columns].astype(object)\n",
    "A4_test_new.fillna('unknown', inplace=True)\n",
    "columns_not_in_existing = np.setdiff1d(A4_test.columns, existing_columns)\n",
    "\n",
    "# Modify the DataFrame by replacing NaN with 'Unknown' in the columns not in existing_columns\n",
    "A4_test_continuous  =A4_test[columns_not_in_existing].fillna(-9999)\n",
    "\n",
    "# Concatenating row-wise (default axis=0)\n",
    "combined_df_A4 = pd.concat([A4_test_continuous, A4_test_new], axis=1)\n",
    "\n",
    "import pandas as pd\n",
    "\n",
    "# Assume merged_df is already defined from previous steps\n",
    "\n",
    "bins = [-float('inf'),-0.412928709, 0.19369568, 1.03469779, float('inf')]\n",
    "labels = ['Very low', 'Low', 'High','Super high']\n",
    "\n",
    "combined_df_A4['Meta_TAU_CATEGORY'] = pd.cut(combined_df_A4['zscore_meta_tau'], bins=bins, labels=labels)\n",
    "\n",
    "\n",
    "X_A4=combined_df_A4 .drop(columns=['zscore_meta_tau','Meta_TAU_CATEGORY',\"BID\"], axis=1)\n",
    "y_A4 =combined_df_A4 .Meta_TAU_CATEGORY"
   ]
  },
  {
   "cell_type": "code",
   "execution_count": 79,
   "id": "049170a4",
   "metadata": {},
   "outputs": [
    {
     "name": "stderr",
     "output_type": "stream",
     "text": [
      "C:\\Users\\25110\\AppData\\Local\\Temp/ipykernel_8032/3577163773.py:6: PerformanceWarning: DataFrame is highly fragmented.  This is usually the result of calling `frame.insert` many times, which has poor performance.  Consider joining all columns at once using pd.concat(axis=1) instead. To get a de-fragmented frame, use `newframe = frame.copy()`\n",
      "  X_A4 [feature] = -9999\n",
      "C:\\Users\\25110\\AppData\\Local\\Temp/ipykernel_8032/3577163773.py:6: PerformanceWarning: DataFrame is highly fragmented.  This is usually the result of calling `frame.insert` many times, which has poor performance.  Consider joining all columns at once using pd.concat(axis=1) instead. To get a de-fragmented frame, use `newframe = frame.copy()`\n",
      "  X_A4 [feature] = -9999\n",
      "C:\\Users\\25110\\AppData\\Local\\Temp/ipykernel_8032/3577163773.py:6: PerformanceWarning: DataFrame is highly fragmented.  This is usually the result of calling `frame.insert` many times, which has poor performance.  Consider joining all columns at once using pd.concat(axis=1) instead. To get a de-fragmented frame, use `newframe = frame.copy()`\n",
      "  X_A4 [feature] = -9999\n",
      "C:\\Users\\25110\\AppData\\Local\\Temp/ipykernel_8032/3577163773.py:6: PerformanceWarning: DataFrame is highly fragmented.  This is usually the result of calling `frame.insert` many times, which has poor performance.  Consider joining all columns at once using pd.concat(axis=1) instead. To get a de-fragmented frame, use `newframe = frame.copy()`\n",
      "  X_A4 [feature] = -9999\n",
      "C:\\Users\\25110\\AppData\\Local\\Temp/ipykernel_8032/3577163773.py:6: PerformanceWarning: DataFrame is highly fragmented.  This is usually the result of calling `frame.insert` many times, which has poor performance.  Consider joining all columns at once using pd.concat(axis=1) instead. To get a de-fragmented frame, use `newframe = frame.copy()`\n",
      "  X_A4 [feature] = -9999\n",
      "C:\\Users\\25110\\AppData\\Local\\Temp/ipykernel_8032/3577163773.py:6: PerformanceWarning: DataFrame is highly fragmented.  This is usually the result of calling `frame.insert` many times, which has poor performance.  Consider joining all columns at once using pd.concat(axis=1) instead. To get a de-fragmented frame, use `newframe = frame.copy()`\n",
      "  X_A4 [feature] = -9999\n",
      "C:\\Users\\25110\\AppData\\Local\\Temp/ipykernel_8032/3577163773.py:6: PerformanceWarning: DataFrame is highly fragmented.  This is usually the result of calling `frame.insert` many times, which has poor performance.  Consider joining all columns at once using pd.concat(axis=1) instead. To get a de-fragmented frame, use `newframe = frame.copy()`\n",
      "  X_A4 [feature] = -9999\n",
      "C:\\Users\\25110\\AppData\\Local\\Temp/ipykernel_8032/3577163773.py:6: PerformanceWarning: DataFrame is highly fragmented.  This is usually the result of calling `frame.insert` many times, which has poor performance.  Consider joining all columns at once using pd.concat(axis=1) instead. To get a de-fragmented frame, use `newframe = frame.copy()`\n",
      "  X_A4 [feature] = -9999\n",
      "C:\\Users\\25110\\AppData\\Local\\Temp/ipykernel_8032/3577163773.py:6: PerformanceWarning: DataFrame is highly fragmented.  This is usually the result of calling `frame.insert` many times, which has poor performance.  Consider joining all columns at once using pd.concat(axis=1) instead. To get a de-fragmented frame, use `newframe = frame.copy()`\n",
      "  X_A4 [feature] = -9999\n",
      "C:\\Users\\25110\\AppData\\Local\\Temp/ipykernel_8032/3577163773.py:6: PerformanceWarning: DataFrame is highly fragmented.  This is usually the result of calling `frame.insert` many times, which has poor performance.  Consider joining all columns at once using pd.concat(axis=1) instead. To get a de-fragmented frame, use `newframe = frame.copy()`\n",
      "  X_A4 [feature] = -9999\n",
      "C:\\Users\\25110\\AppData\\Local\\Temp/ipykernel_8032/3577163773.py:6: PerformanceWarning: DataFrame is highly fragmented.  This is usually the result of calling `frame.insert` many times, which has poor performance.  Consider joining all columns at once using pd.concat(axis=1) instead. To get a de-fragmented frame, use `newframe = frame.copy()`\n",
      "  X_A4 [feature] = -9999\n",
      "C:\\Users\\25110\\AppData\\Local\\Temp/ipykernel_8032/3577163773.py:4: PerformanceWarning: DataFrame is highly fragmented.  This is usually the result of calling `frame.insert` many times, which has poor performance.  Consider joining all columns at once using pd.concat(axis=1) instead. To get a de-fragmented frame, use `newframe = frame.copy()`\n",
      "  X_A4 [feature] = \"unknown\"\n",
      "C:\\Users\\25110\\AppData\\Local\\Temp/ipykernel_8032/3577163773.py:6: PerformanceWarning: DataFrame is highly fragmented.  This is usually the result of calling `frame.insert` many times, which has poor performance.  Consider joining all columns at once using pd.concat(axis=1) instead. To get a de-fragmented frame, use `newframe = frame.copy()`\n",
      "  X_A4 [feature] = -9999\n",
      "C:\\Users\\25110\\AppData\\Local\\Temp/ipykernel_8032/3577163773.py:6: PerformanceWarning: DataFrame is highly fragmented.  This is usually the result of calling `frame.insert` many times, which has poor performance.  Consider joining all columns at once using pd.concat(axis=1) instead. To get a de-fragmented frame, use `newframe = frame.copy()`\n",
      "  X_A4 [feature] = -9999\n",
      "C:\\Users\\25110\\AppData\\Local\\Temp/ipykernel_8032/3577163773.py:6: PerformanceWarning: DataFrame is highly fragmented.  This is usually the result of calling `frame.insert` many times, which has poor performance.  Consider joining all columns at once using pd.concat(axis=1) instead. To get a de-fragmented frame, use `newframe = frame.copy()`\n",
      "  X_A4 [feature] = -9999\n",
      "C:\\Users\\25110\\AppData\\Local\\Temp/ipykernel_8032/3577163773.py:6: PerformanceWarning: DataFrame is highly fragmented.  This is usually the result of calling `frame.insert` many times, which has poor performance.  Consider joining all columns at once using pd.concat(axis=1) instead. To get a de-fragmented frame, use `newframe = frame.copy()`\n",
      "  X_A4 [feature] = -9999\n",
      "C:\\Users\\25110\\AppData\\Local\\Temp/ipykernel_8032/3577163773.py:6: PerformanceWarning: DataFrame is highly fragmented.  This is usually the result of calling `frame.insert` many times, which has poor performance.  Consider joining all columns at once using pd.concat(axis=1) instead. To get a de-fragmented frame, use `newframe = frame.copy()`\n",
      "  X_A4 [feature] = -9999\n",
      "C:\\Users\\25110\\AppData\\Local\\Temp/ipykernel_8032/3577163773.py:6: PerformanceWarning: DataFrame is highly fragmented.  This is usually the result of calling `frame.insert` many times, which has poor performance.  Consider joining all columns at once using pd.concat(axis=1) instead. To get a de-fragmented frame, use `newframe = frame.copy()`\n",
      "  X_A4 [feature] = -9999\n",
      "C:\\Users\\25110\\AppData\\Local\\Temp/ipykernel_8032/3577163773.py:6: PerformanceWarning: DataFrame is highly fragmented.  This is usually the result of calling `frame.insert` many times, which has poor performance.  Consider joining all columns at once using pd.concat(axis=1) instead. To get a de-fragmented frame, use `newframe = frame.copy()`\n",
      "  X_A4 [feature] = -9999\n",
      "C:\\Users\\25110\\AppData\\Local\\Temp/ipykernel_8032/3577163773.py:6: PerformanceWarning: DataFrame is highly fragmented.  This is usually the result of calling `frame.insert` many times, which has poor performance.  Consider joining all columns at once using pd.concat(axis=1) instead. To get a de-fragmented frame, use `newframe = frame.copy()`\n",
      "  X_A4 [feature] = -9999\n",
      "C:\\Users\\25110\\AppData\\Local\\Temp/ipykernel_8032/3577163773.py:4: PerformanceWarning: DataFrame is highly fragmented.  This is usually the result of calling `frame.insert` many times, which has poor performance.  Consider joining all columns at once using pd.concat(axis=1) instead. To get a de-fragmented frame, use `newframe = frame.copy()`\n",
      "  X_A4 [feature] = \"unknown\"\n",
      "C:\\Users\\25110\\AppData\\Local\\Temp/ipykernel_8032/3577163773.py:6: PerformanceWarning: DataFrame is highly fragmented.  This is usually the result of calling `frame.insert` many times, which has poor performance.  Consider joining all columns at once using pd.concat(axis=1) instead. To get a de-fragmented frame, use `newframe = frame.copy()`\n",
      "  X_A4 [feature] = -9999\n",
      "C:\\Users\\25110\\AppData\\Local\\Temp/ipykernel_8032/3577163773.py:6: PerformanceWarning: DataFrame is highly fragmented.  This is usually the result of calling `frame.insert` many times, which has poor performance.  Consider joining all columns at once using pd.concat(axis=1) instead. To get a de-fragmented frame, use `newframe = frame.copy()`\n",
      "  X_A4 [feature] = -9999\n",
      "C:\\Users\\25110\\AppData\\Local\\Temp/ipykernel_8032/3577163773.py:6: PerformanceWarning: DataFrame is highly fragmented.  This is usually the result of calling `frame.insert` many times, which has poor performance.  Consider joining all columns at once using pd.concat(axis=1) instead. To get a de-fragmented frame, use `newframe = frame.copy()`\n",
      "  X_A4 [feature] = -9999\n"
     ]
    }
   ],
   "source": [
    "model_features=X.columns\n",
    "for feature in model_features:\n",
    "    if (feature not in combined_df_A4 .columns) and (feature in categorical_columns) :\n",
    "        X_A4 [feature] = \"unknown\"\n",
    "    elif (feature not in  combined_df_A4 .columns) and (feature not in categorical_columns) :\n",
    "        X_A4 [feature] = -9999\n",
    "\n",
    "X_A4 = X_A4 [model_features ]\n",
    "predictions = model_tau.predict(X_A4 )\n",
    "predictions_probs = model_tau.predict_proba(X_A4 )\n"
   ]
  },
  {
   "cell_type": "code",
   "execution_count": 80,
   "id": "a4b70c40",
   "metadata": {},
   "outputs": [
    {
     "data": {
      "image/png": "[encoded data removed]",
      "text/plain": [
       "<Figure size 576x432 with 2 Axes>"
      ]
     },
     "metadata": {
      "needs_background": "light"
     },
     "output_type": "display_data"
    }
   ],
   "source": [
    "import numpy as np\n",
    "import matplotlib.pyplot as plt\n",
    "import seaborn as sns\n",
    "from sklearn.metrics import confusion_matrix, ConfusionMatrixDisplay\n",
    "\n",
    "# Example true labels and predictions\n",
    "y_true = y_A4\n",
    "y_pred =predictions\n",
    "\n",
    "\n",
    "\n",
    "desired_order = ['Very low', 'Low', 'High','Super high']\n",
    "# Filter out 'Unknown' class from both true and predicted labels\n",
    "\n",
    "\n",
    "# Compute the confusion matrix\n",
    "cm = confusion_matrix(y_true, y_pred, labels=desired_order)\n",
    "\n",
    "# Create a heatmap to visualize the confusion matrix\n",
    "plt.figure(figsize=(8, 6))\n",
    "sns.heatmap(cm, annot=True, fmt='d', cmap='Blues', xticklabels=desired_order, yticklabels=desired_order)\n",
    "plt.xlabel('Predicted Labels')\n",
    "plt.ylabel('True Labels')\n",
    "plt.title('Confusion Matrix')\n",
    "plt.show()"
   ]
  },
  {
   "cell_type": "code",
   "execution_count": 81,
   "id": "9ba1da01",
   "metadata": {},
   "outputs": [
    {
     "name": "stdout",
     "output_type": "stream",
     "text": [
      "Weighted Sensitivity: 0.2773\n",
      "Weighted Specificity: 0.7521\n"
     ]
    }
   ],
   "source": [
    "# 初始化敏感性和特异性的列表\n",
    "sensitivities = []\n",
    "specificities = []\n",
    "class_weights = []\n",
    "\n",
    "# 遍历每个类别计算敏感性和特异性\n",
    "for i in range(len(cm)):\n",
    "    TP = cm[i, i]\n",
    "    FN = np.sum(cm[i, :]) - TP\n",
    "    FP = np.sum(cm[:, i]) - TP\n",
    "    TN = np.sum(cm) - (TP + FN + FP)\n",
    "    \n",
    "    sensitivity = TP / (TP + FN) if (TP + FN) > 0 else 0\n",
    "    specificity = TN / (TN + FP) if (TN + FP) > 0 else 0\n",
    "    \n",
    "    sensitivities.append(sensitivity)\n",
    "    specificities.append(specificity)\n",
    "    \n",
    "    # 权重为该类别的真实样本数\n",
    "    class_weights.append(TP + FN)\n",
    "\n",
    "# 计算加权平均敏感性和特异性\n",
    "weighted_sensitivity = np.average(sensitivities, weights=class_weights)\n",
    "weighted_specificity = np.average(specificities, weights=class_weights)\n",
    "\n",
    "print(f\"Weighted Sensitivity: {weighted_sensitivity:.4f}\")\n",
    "print(f\"Weighted Specificity: {weighted_specificity:.4f}\")"
   ]
  },
  {
   "cell_type": "code",
   "execution_count": 82,
   "id": "aba168c2",
   "metadata": {},
   "outputs": [
    {
     "name": "stdout",
     "output_type": "stream",
     "text": [
      "One-vs-Rest AUC for each class:\n",
      "Class High vs Rest: 0.5386765002448792\n",
      "Class Low vs Rest: 0.56009942004971\n",
      "Class Super high vs Rest: 0.5904273504273505\n",
      "Class Very low vs Rest: 0.5241923309178744\n",
      "Overall One-vs-Rest AUC: 0.5533489004099535\n"
     ]
    }
   ],
   "source": [
    "from sklearn.preprocessing import LabelEncoder, OneHotEncoder\n",
    "from sklearn.metrics import roc_auc_score, precision_recall_fscore_support, roc_curve, auc\n",
    "from sklearn.preprocessing import label_binarize\n",
    "import numpy as np\n",
    "from sklearn.preprocessing import LabelEncoder, OneHotEncoder\n",
    "\n",
    "label_encoder = LabelEncoder()\n",
    "y_true_encoded = label_encoder.fit_transform(y_true)\n",
    "\n",
    "# Binarize the output\n",
    "one_hot_encoder = OneHotEncoder()\n",
    "y_true_binarized = one_hot_encoder.fit_transform(y_true_encoded.reshape(-1, 1)).toarray()\n",
    "class_weights = []\n",
    "auc_list=[]\n",
    "# Compute AUC for the one-vs-rest (ovr) method for all classes\n",
    "ovr_aucs = {}\n",
    "for i in range(y_true_binarized.shape[1]):\n",
    "    auc = roc_auc_score(list(np.array(y_true_binarized)[:, i]), list(np.array(predictions_probs)[:, i]))\n",
    "    ovr_aucs[f\"Class {label_encoder.classes_[i]} vs Rest\"] = auc\n",
    "    auc_list.append(auc)\n",
    "    class_weights.append(np.sum(y_true == label_encoder.classes_[i]))\n",
    "print(\"One-vs-Rest AUC for each class:\")\n",
    "for class_label, auc in ovr_aucs.items():\n",
    "    print(f\"{class_label}: {auc}\")\n",
    "\n",
    "# Overall One-vs-Rest AUC\n",
    "overall_ovr_auc = roc_auc_score(y_true_binarized,predictions_probs, multi_class='ovr')\n",
    "print(f\"Overall One-vs-Rest AUC: {overall_ovr_auc}\")"
   ]
  },
  {
   "cell_type": "code",
   "execution_count": 83,
   "id": "569a442b",
   "metadata": {},
   "outputs": [],
   "source": [
    "weighted_auc = np.average(auc_list, weights=class_weights)"
   ]
  },
  {
   "cell_type": "code",
   "execution_count": 84,
   "id": "492c1a27",
   "metadata": {},
   "outputs": [
    {
     "data": {
      "text/plain": [
       "0.56161568439195"
      ]
     },
     "execution_count": 84,
     "metadata": {},
     "output_type": "execute_result"
    }
   ],
   "source": [
    "weighted_auc"
   ]
  },
  {
   "cell_type": "code",
   "execution_count": 85,
   "id": "4be3f37f",
   "metadata": {},
   "outputs": [],
   "source": [
    "combined_df_A4.to_csv(\"D:\\\\Research\\\\AD\\\\ADLLM\\\\ADNI process 9\\\\A4\\\\GB\\\\A4_testing_final_meta_tau.csv\",index=False)\n",
    "a4_prediction=pd.DataFrame({\"Truth\":list(y_true),\"Prediction\":list(predictions),\"High\": list(np.array(predictions_probs)[:, 0]),\"Low\": list(np.array(predictions_probs)[:, 1]),\"Super high\": list(np.array(predictions_probs)[:, 2]),\"Very low\": list(np.array(predictions_probs)[:, 3])})\n",
    "a4_prediction.to_csv(\"D:\\\\Research\\\\AD\\\\ADLLM\\\\ADNI process 9\\\\A4\\\\GB\\\\A4_testing_result_meta_tau.csv\",index=False)"
   ]
  },
  {
   "cell_type": "markdown",
   "id": "18ce4889",
   "metadata": {},
   "source": [
    "## Incomplete"
   ]
  },
  {
   "cell_type": "code",
   "execution_count": 86,
   "id": "4c044410",
   "metadata": {},
   "outputs": [],
   "source": [
    "\n",
    "X_adni_subset=X_adni[(X_adni['Amyloid beta 40 in Cerebrospinal Fluid (pg/mL)']!=-9999) | (X_adni[\"Amyloid beta 42 in Cerebrospinal Fluid (pg/mL)\"]!=-9999) | (X_adni[\"Tau protein concentration in Cerebrospinal Fluid (pg/mL)\"]!=-9999) |(X_adni[\"Phosphorylated tau protein in Cerebrospinal Fluid (pg/mL)\"]!=-9999)]\n",
    "y_adni_subset=y_adni[X_adni_subset.index]\n"
   ]
  },
  {
   "cell_type": "code",
   "execution_count": 87,
   "id": "c2a0d7db",
   "metadata": {},
   "outputs": [],
   "source": [
    "predictions = model_tau.predict(X_adni_subset)\n",
    "predictions_probs = model_tau.predict_proba(X_adni_subset)\n"
   ]
  },
  {
   "cell_type": "code",
   "execution_count": 88,
   "id": "7788e842",
   "metadata": {},
   "outputs": [
    {
     "data": {
      "image/png": "[encoded data removed]",
      "text/plain": [
       "<Figure size 576x432 with 2 Axes>"
      ]
     },
     "metadata": {
      "needs_background": "light"
     },
     "output_type": "display_data"
    }
   ],
   "source": [
    "import numpy as np\n",
    "import matplotlib.pyplot as plt\n",
    "import seaborn as sns\n",
    "from sklearn.metrics import confusion_matrix, ConfusionMatrixDisplay\n",
    "\n",
    "# Example true labels and predictions\n",
    "y_true = y_adni_subset\n",
    "y_pred =predictions\n",
    "\n",
    "\n",
    "\n",
    "desired_order = ['Very low', 'Low', 'High','Super high']\n",
    "# Filter out 'Unknown' class from both true and predicted labels\n",
    "\n",
    "\n",
    "# Compute the confusion matrix\n",
    "cm = confusion_matrix(y_true, y_pred, labels=desired_order)\n",
    "\n",
    "# Create a heatmap to visualize the confusion matrix\n",
    "plt.figure(figsize=(8, 6))\n",
    "sns.heatmap(cm, annot=True, fmt='d', cmap='Blues', xticklabels=desired_order, yticklabels=desired_order)\n",
    "plt.xlabel('Predicted Labels')\n",
    "plt.ylabel('True Labels')\n",
    "plt.title('Confusion Matrix')\n",
    "plt.show()"
   ]
  },
  {
   "cell_type": "code",
   "execution_count": 89,
   "id": "16b045da",
   "metadata": {},
   "outputs": [
    {
     "name": "stdout",
     "output_type": "stream",
     "text": [
      "Weighted Sensitivity: 0.4019\n",
      "Weighted Specificity: 0.7871\n"
     ]
    }
   ],
   "source": [
    "# 初始化敏感性和特异性的列表\n",
    "sensitivities = []\n",
    "specificities = []\n",
    "class_weights = []\n",
    "\n",
    "# 遍历每个类别计算敏感性和特异性\n",
    "for i in range(len(cm)):\n",
    "    TP = cm[i, i]\n",
    "    FN = np.sum(cm[i, :]) - TP\n",
    "    FP = np.sum(cm[:, i]) - TP\n",
    "    TN = np.sum(cm) - (TP + FN + FP)\n",
    "    \n",
    "    sensitivity = TP / (TP + FN) if (TP + FN) > 0 else 0\n",
    "    specificity = TN / (TN + FP) if (TN + FP) > 0 else 0\n",
    "    \n",
    "    sensitivities.append(sensitivity)\n",
    "    specificities.append(specificity)\n",
    "    \n",
    "    # 权重为该类别的真实样本数\n",
    "    class_weights.append(TP + FN)\n",
    "\n",
    "# 计算加权平均敏感性和特异性\n",
    "weighted_sensitivity = np.average(sensitivities, weights=class_weights)\n",
    "weighted_specificity = np.average(specificities, weights=class_weights)\n",
    "\n",
    "print(f\"Weighted Sensitivity: {weighted_sensitivity:.4f}\")\n",
    "print(f\"Weighted Specificity: {weighted_specificity:.4f}\")"
   ]
  },
  {
   "cell_type": "code",
   "execution_count": 90,
   "id": "e356c833",
   "metadata": {},
   "outputs": [
    {
     "name": "stdout",
     "output_type": "stream",
     "text": [
      "One-vs-Rest AUC for each class:\n",
      "Class High vs Rest: 0.5695652173913043\n",
      "Class Low vs Rest: 0.5946524064171123\n",
      "Class Super high vs Rest: 0.7870639534883721\n",
      "Class Very low vs Rest: 0.6861111111111111\n",
      "Overall One-vs-Rest AUC: 0.6593481721019749\n"
     ]
    }
   ],
   "source": [
    "from sklearn.preprocessing import LabelEncoder, OneHotEncoder\n",
    "from sklearn.metrics import roc_auc_score, precision_recall_fscore_support, roc_curve, auc\n",
    "from sklearn.preprocessing import label_binarize\n",
    "import numpy as np\n",
    "from sklearn.preprocessing import LabelEncoder, OneHotEncoder\n",
    "\n",
    "label_encoder = LabelEncoder()\n",
    "y_true_encoded = label_encoder.fit_transform(y_true)\n",
    "\n",
    "# Binarize the output\n",
    "one_hot_encoder = OneHotEncoder()\n",
    "y_true_binarized = one_hot_encoder.fit_transform(y_true_encoded.reshape(-1, 1)).toarray()\n",
    "class_weights = []\n",
    "auc_list=[]\n",
    "# Compute AUC for the one-vs-rest (ovr) method for all classes\n",
    "ovr_aucs = {}\n",
    "for i in range(y_true_binarized.shape[1]):\n",
    "    auc = roc_auc_score(list(np.array(y_true_binarized)[:, i]), list(np.array(predictions_probs)[:, i]))\n",
    "    ovr_aucs[f\"Class {label_encoder.classes_[i]} vs Rest\"] = auc\n",
    "    auc_list.append(auc)\n",
    "    class_weights.append(np.sum(y_true == label_encoder.classes_[i]))\n",
    "print(\"One-vs-Rest AUC for each class:\")\n",
    "for class_label, auc in ovr_aucs.items():\n",
    "    print(f\"{class_label}: {auc}\")\n",
    "\n",
    "# Overall One-vs-Rest AUC\n",
    "overall_ovr_auc = roc_auc_score(y_true_binarized,predictions_probs, multi_class='ovr')\n",
    "print(f\"Overall One-vs-Rest AUC: {overall_ovr_auc}\")"
   ]
  },
  {
   "cell_type": "code",
   "execution_count": 91,
   "id": "a6a221ff",
   "metadata": {},
   "outputs": [],
   "source": [
    "weighted_auc = np.average(auc_list, weights=class_weights)"
   ]
  },
  {
   "cell_type": "code",
   "execution_count": 92,
   "id": "31378455",
   "metadata": {},
   "outputs": [
    {
     "data": {
      "text/plain": [
       "0.6915381420751966"
      ]
     },
     "execution_count": 92,
     "metadata": {},
     "output_type": "execute_result"
    }
   ],
   "source": [
    "weighted_auc"
   ]
  },
  {
   "cell_type": "code",
   "execution_count": 93,
   "id": "148708b7",
   "metadata": {},
   "outputs": [],
   "source": [
    "adni_prediction=pd.DataFrame({\"Truth\":list(y_true),\"Prediction\":list(predictions),\"Clearly positive\": list(np.array(predictions_probs)[:, 0]),\"Intermediate Negative\": list(np.array(predictions_probs)[:, 1]),\"Negative\": list(np.array(predictions_probs)[:, 2]),\"Weakly positive\": list(np.array(predictions_probs)[:, 3])})\n",
    "adni_prediction.to_csv(\"D:\\\\Research\\\\AD\\\\ADLLM\\\\ADNI process 9\\\\ADNI\\\\GB\\\\adni_testing_result_complete_meta_tau.csv\",index=False)"
   ]
  },
  {
   "cell_type": "code",
   "execution_count": 94,
   "id": "756b94c8",
   "metadata": {},
   "outputs": [
    {
     "name": "stderr",
     "output_type": "stream",
     "text": [
      "C:\\Users\\25110\\AppData\\Local\\Temp/ipykernel_8032/2873835460.py:1: SettingWithCopyWarning: \n",
      "A value is trying to be set on a copy of a slice from a DataFrame.\n",
      "Try using .loc[row_indexer,col_indexer] = value instead\n",
      "\n",
      "See the caveats in the documentation: https://pandas.pydata.org/pandas-docs/stable/user_guide/indexing.html#returning-a-view-versus-a-copy\n",
      "  X_adni_subset['Amyloid beta 40 in Cerebrospinal Fluid (pg/mL)']=-9999\n",
      "C:\\Users\\25110\\AppData\\Local\\Temp/ipykernel_8032/2873835460.py:2: SettingWithCopyWarning: \n",
      "A value is trying to be set on a copy of a slice from a DataFrame.\n",
      "Try using .loc[row_indexer,col_indexer] = value instead\n",
      "\n",
      "See the caveats in the documentation: https://pandas.pydata.org/pandas-docs/stable/user_guide/indexing.html#returning-a-view-versus-a-copy\n",
      "  X_adni_subset[\"Amyloid beta 42 in Cerebrospinal Fluid (pg/mL)\"]=-9999\n",
      "C:\\Users\\25110\\AppData\\Local\\Temp/ipykernel_8032/2873835460.py:3: SettingWithCopyWarning: \n",
      "A value is trying to be set on a copy of a slice from a DataFrame.\n",
      "Try using .loc[row_indexer,col_indexer] = value instead\n",
      "\n",
      "See the caveats in the documentation: https://pandas.pydata.org/pandas-docs/stable/user_guide/indexing.html#returning-a-view-versus-a-copy\n",
      "  X_adni_subset[\"Tau protein concentration in Cerebrospinal Fluid (pg/mL)\"]=-9999\n",
      "C:\\Users\\25110\\AppData\\Local\\Temp/ipykernel_8032/2873835460.py:4: SettingWithCopyWarning: \n",
      "A value is trying to be set on a copy of a slice from a DataFrame.\n",
      "Try using .loc[row_indexer,col_indexer] = value instead\n",
      "\n",
      "See the caveats in the documentation: https://pandas.pydata.org/pandas-docs/stable/user_guide/indexing.html#returning-a-view-versus-a-copy\n",
      "  X_adni_subset[\"Phosphorylated tau protein in Cerebrospinal Fluid (pg/mL)\"]=-9999\n"
     ]
    }
   ],
   "source": [
    "X_adni_subset['Amyloid beta 40 in Cerebrospinal Fluid (pg/mL)']=-9999\n",
    "X_adni_subset[\"Amyloid beta 42 in Cerebrospinal Fluid (pg/mL)\"]=-9999 \n",
    "X_adni_subset[\"Tau protein concentration in Cerebrospinal Fluid (pg/mL)\"]=-9999\n",
    "X_adni_subset[\"Phosphorylated tau protein in Cerebrospinal Fluid (pg/mL)\"]=-9999\n",
    "y_adni_subset=y_adni[X_adni_subset.index]"
   ]
  },
  {
   "cell_type": "code",
   "execution_count": 95,
   "id": "9aeb85e1",
   "metadata": {},
   "outputs": [],
   "source": [
    "predictions = model_tau.predict(X_adni_subset)\n",
    "predictions_probs = model_tau.predict_proba(X_adni_subset)\n"
   ]
  },
  {
   "cell_type": "code",
   "execution_count": 96,
   "id": "91f799c8",
   "metadata": {},
   "outputs": [
    {
     "data": {
      "image/png": "[encoded data removed]",
      "text/plain": [
       "<Figure size 576x432 with 2 Axes>"
      ]
     },
     "metadata": {
      "needs_background": "light"
     },
     "output_type": "display_data"
    }
   ],
   "source": [
    "import numpy as np\n",
    "import matplotlib.pyplot as plt\n",
    "import seaborn as sns\n",
    "from sklearn.metrics import confusion_matrix, ConfusionMatrixDisplay\n",
    "\n",
    "# Example true labels and predictions\n",
    "y_true = y_adni_subset\n",
    "y_pred =predictions\n",
    "\n",
    "\n",
    "\n",
    "desired_order = ['Very low', 'Low', 'High','Super high']\n",
    "# Filter out 'Unknown' class from both true and predicted labels\n",
    "\n",
    "\n",
    "# Compute the confusion matrix\n",
    "cm = confusion_matrix(y_true, y_pred, labels=desired_order)\n",
    "\n",
    "# Create a heatmap to visualize the confusion matrix\n",
    "plt.figure(figsize=(8, 6))\n",
    "sns.heatmap(cm, annot=True, fmt='d', cmap='Blues', xticklabels=desired_order, yticklabels=desired_order)\n",
    "plt.xlabel('Predicted Labels')\n",
    "plt.ylabel('True Labels')\n",
    "plt.title('Confusion Matrix')\n",
    "plt.show()"
   ]
  },
  {
   "cell_type": "code",
   "execution_count": 97,
   "id": "da6c6aa2",
   "metadata": {},
   "outputs": [
    {
     "name": "stdout",
     "output_type": "stream",
     "text": [
      "Weighted Sensitivity: 0.3645\n",
      "Weighted Specificity: 0.7889\n"
     ]
    }
   ],
   "source": [
    "# 初始化敏感性和特异性的列表\n",
    "sensitivities = []\n",
    "specificities = []\n",
    "class_weights = []\n",
    "\n",
    "# 遍历每个类别计算敏感性和特异性\n",
    "for i in range(len(cm)):\n",
    "    TP = cm[i, i]\n",
    "    FN = np.sum(cm[i, :]) - TP\n",
    "    FP = np.sum(cm[:, i]) - TP\n",
    "    TN = np.sum(cm) - (TP + FN + FP)\n",
    "    \n",
    "    sensitivity = TP / (TP + FN) if (TP + FN) > 0 else 0\n",
    "    specificity = TN / (TN + FP) if (TN + FP) > 0 else 0\n",
    "    \n",
    "    sensitivities.append(sensitivity)\n",
    "    specificities.append(specificity)\n",
    "    \n",
    "    # 权重为该类别的真实样本数\n",
    "    class_weights.append(TP + FN)\n",
    "\n",
    "# 计算加权平均敏感性和特异性\n",
    "weighted_sensitivity = np.average(sensitivities, weights=class_weights)\n",
    "weighted_specificity = np.average(specificities, weights=class_weights)\n",
    "\n",
    "print(f\"Weighted Sensitivity: {weighted_sensitivity:.4f}\")\n",
    "print(f\"Weighted Specificity: {weighted_specificity:.4f}\")"
   ]
  },
  {
   "cell_type": "code",
   "execution_count": 98,
   "id": "a1a42de0",
   "metadata": {},
   "outputs": [
    {
     "name": "stdout",
     "output_type": "stream",
     "text": [
      "One-vs-Rest AUC for each class:\n",
      "Class High vs Rest: 0.5384057971014493\n",
      "Class Low vs Rest: 0.5850267379679144\n",
      "Class Super high vs Rest: 0.747093023255814\n",
      "Class Very low vs Rest: 0.6638888888888889\n",
      "Overall One-vs-Rest AUC: 0.6336036118035167\n"
     ]
    }
   ],
   "source": [
    "from sklearn.preprocessing import LabelEncoder, OneHotEncoder\n",
    "from sklearn.metrics import roc_auc_score, precision_recall_fscore_support, roc_curve, auc\n",
    "from sklearn.preprocessing import label_binarize\n",
    "import numpy as np\n",
    "from sklearn.preprocessing import LabelEncoder, OneHotEncoder\n",
    "\n",
    "label_encoder = LabelEncoder()\n",
    "y_true_encoded = label_encoder.fit_transform(y_true)\n",
    "\n",
    "# Binarize the output\n",
    "one_hot_encoder = OneHotEncoder()\n",
    "y_true_binarized = one_hot_encoder.fit_transform(y_true_encoded.reshape(-1, 1)).toarray()\n",
    "class_weights = []\n",
    "auc_list=[]\n",
    "# Compute AUC for the one-vs-rest (ovr) method for all classes\n",
    "ovr_aucs = {}\n",
    "for i in range(y_true_binarized.shape[1]):\n",
    "    auc = roc_auc_score(list(np.array(y_true_binarized)[:, i]), list(np.array(predictions_probs)[:, i]))\n",
    "    ovr_aucs[f\"Class {label_encoder.classes_[i]} vs Rest\"] = auc\n",
    "    auc_list.append(auc)\n",
    "    class_weights.append(np.sum(y_true == label_encoder.classes_[i]))\n",
    "print(\"One-vs-Rest AUC for each class:\")\n",
    "for class_label, auc in ovr_aucs.items():\n",
    "    print(f\"{class_label}: {auc}\")\n",
    "\n",
    "# Overall One-vs-Rest AUC\n",
    "overall_ovr_auc = roc_auc_score(y_true_binarized,predictions_probs, multi_class='ovr')\n",
    "print(f\"Overall One-vs-Rest AUC: {overall_ovr_auc}\")"
   ]
  },
  {
   "cell_type": "code",
   "execution_count": 99,
   "id": "39335372",
   "metadata": {},
   "outputs": [],
   "source": [
    "weighted_auc = np.average(auc_list, weights=class_weights)"
   ]
  },
  {
   "cell_type": "code",
   "execution_count": 100,
   "id": "533473c9",
   "metadata": {},
   "outputs": [
    {
     "data": {
      "text/plain": [
       "0.6635203288954753"
      ]
     },
     "execution_count": 100,
     "metadata": {},
     "output_type": "execute_result"
    }
   ],
   "source": [
    "weighted_auc "
   ]
  },
  {
   "cell_type": "code",
   "execution_count": 101,
   "id": "3145038c",
   "metadata": {},
   "outputs": [],
   "source": [
    "adni_prediction=pd.DataFrame({\"Truth\":list(y_true),\"Prediction\":list(predictions),\"Clearly positive\": list(np.array(predictions_probs)[:, 0]),\"Intermediate Negative\": list(np.array(predictions_probs)[:, 1]),\"Negative\": list(np.array(predictions_probs)[:, 2]),\"Weakly positive\": list(np.array(predictions_probs)[:, 3])})\n",
    "adni_prediction.to_csv(\"D:\\\\Research\\\\AD\\\\ADLLM\\\\ADNI process 9\\\\ADNI\\\\GB\\\\adni_testing_result_incomplete_meta_tau.csv\",index=False)"
   ]
  },
  {
   "cell_type": "markdown",
   "id": "65067962",
   "metadata": {},
   "source": [
    "## Incomplete HABS-HD"
   ]
  },
  {
   "cell_type": "code",
   "execution_count": 102,
   "id": "34b88b57",
   "metadata": {},
   "outputs": [],
   "source": [
    "\n",
    "\n",
    "X_habs_subset=X_habs[(X_habs['Amyloid beta 40 peptide in the blood plasma(pg/mL)']>0) | (X_habs[\"Amyloid beta 42 peptide in the blood plasma(pg/mL)\"]>0) | (X_habs[\"Tau protein concentration in the blood plasma(pg/mL)\"]>0) |(X_habs[\"Phosphorylated tau protein in the blood plasma(pg/mL)\"]>0)]\n",
    "y_habs_subset=y_habs[X_habs_subset.index]\n"
   ]
  },
  {
   "cell_type": "code",
   "execution_count": 103,
   "id": "892d9fea",
   "metadata": {},
   "outputs": [
    {
     "data": {
      "text/plain": [
       "0      163.50\n",
       "1      161.96\n",
       "2      220.74\n",
       "3      171.67\n",
       "4      157.87\n",
       "        ...  \n",
       "135    108.92\n",
       "143    130.05\n",
       "145    173.13\n",
       "166    161.24\n",
       "206    168.08\n",
       "Name: Amyloid beta 40 peptide in the blood plasma(pg/mL), Length: 90, dtype: float64"
      ]
     },
     "execution_count": 103,
     "metadata": {},
     "output_type": "execute_result"
    }
   ],
   "source": [
    "X_habs_subset['Amyloid beta 40 peptide in the blood plasma(pg/mL)']"
   ]
  },
  {
   "cell_type": "code",
   "execution_count": 104,
   "id": "3f3f5165",
   "metadata": {},
   "outputs": [],
   "source": [
    "predictions = model_tau.predict(X_habs_subset)\n",
    "predictions_probs = model_tau.predict_proba(X_habs_subset)\n"
   ]
  },
  {
   "cell_type": "code",
   "execution_count": 105,
   "id": "7d57838f",
   "metadata": {},
   "outputs": [
    {
     "data": {
      "image/png": "[encoded data removed]",
      "text/plain": [
       "<Figure size 576x432 with 2 Axes>"
      ]
     },
     "metadata": {
      "needs_background": "light"
     },
     "output_type": "display_data"
    }
   ],
   "source": [
    "import numpy as np\n",
    "import matplotlib.pyplot as plt\n",
    "import seaborn as sns\n",
    "from sklearn.metrics import confusion_matrix, ConfusionMatrixDisplay\n",
    "\n",
    "# Example true labels and predictions\n",
    "y_true = y_habs_subset\n",
    "y_pred =predictions\n",
    "\n",
    "\n",
    "\n",
    "desired_order = ['Very low', 'Low', 'High','Super high']\n",
    "# Filter out 'Unknown' class from both true and predicted labels\n",
    "\n",
    "\n",
    "# Compute the confusion matrix\n",
    "cm = confusion_matrix(y_true, y_pred, labels=desired_order)\n",
    "\n",
    "# Create a heatmap to visualize the confusion matrix\n",
    "plt.figure(figsize=(8, 6))\n",
    "sns.heatmap(cm, annot=True, fmt='d', cmap='Blues', xticklabels=desired_order, yticklabels=desired_order)\n",
    "plt.xlabel('Predicted Labels')\n",
    "plt.ylabel('True Labels')\n",
    "plt.title('Confusion Matrix')\n",
    "plt.show()"
   ]
  },
  {
   "cell_type": "code",
   "execution_count": 106,
   "id": "4acc947c",
   "metadata": {},
   "outputs": [
    {
     "name": "stdout",
     "output_type": "stream",
     "text": [
      "Weighted Sensitivity: 0.4333\n",
      "Weighted Specificity: 0.7236\n"
     ]
    }
   ],
   "source": [
    "# 初始化敏感性和特异性的列表\n",
    "sensitivities = []\n",
    "specificities = []\n",
    "class_weights = []\n",
    "\n",
    "# 遍历每个类别计算敏感性和特异性\n",
    "for i in range(len(cm)):\n",
    "    TP = cm[i, i]\n",
    "    FN = np.sum(cm[i, :]) - TP\n",
    "    FP = np.sum(cm[:, i]) - TP\n",
    "    TN = np.sum(cm) - (TP + FN + FP)\n",
    "    \n",
    "    sensitivity = TP / (TP + FN) if (TP + FN) > 0 else 0\n",
    "    specificity = TN / (TN + FP) if (TN + FP) > 0 else 0\n",
    "    \n",
    "    sensitivities.append(sensitivity)\n",
    "    specificities.append(specificity)\n",
    "    \n",
    "    # 权重为该类别的真实样本数\n",
    "    class_weights.append(TP + FN)\n",
    "\n",
    "# 计算加权平均敏感性和特异性\n",
    "weighted_sensitivity = np.average(sensitivities, weights=class_weights)\n",
    "weighted_specificity = np.average(specificities, weights=class_weights)\n",
    "\n",
    "print(f\"Weighted Sensitivity: {weighted_sensitivity:.4f}\")\n",
    "print(f\"Weighted Specificity: {weighted_specificity:.4f}\")"
   ]
  },
  {
   "cell_type": "code",
   "execution_count": 108,
   "id": "89841c66",
   "metadata": {},
   "outputs": [
    {
     "name": "stdout",
     "output_type": "stream",
     "text": [
      "One-vs-Rest AUC for each class:\n",
      "Class High vs Rest: 0.6373456790123456\n",
      "Class Low vs Rest: 0.482154445165477\n",
      "Class Super high vs Rest: 0.6646959459459459\n",
      "Class Very low vs Rest: 0.7187666135034556\n",
      "Overall One-vs-Rest AUC: 0.6257406709068061\n"
     ]
    }
   ],
   "source": [
    "from sklearn.preprocessing import LabelEncoder, OneHotEncoder\n",
    "from sklearn.metrics import roc_auc_score, precision_recall_fscore_support, roc_curve, auc\n",
    "from sklearn.preprocessing import label_binarize\n",
    "import numpy as np\n",
    "from sklearn.preprocessing import LabelEncoder, OneHotEncoder\n",
    "\n",
    "label_encoder = LabelEncoder()\n",
    "y_true_encoded = label_encoder.fit_transform(y_true)\n",
    "\n",
    "# Binarize the output\n",
    "one_hot_encoder = OneHotEncoder()\n",
    "y_true_binarized = one_hot_encoder.fit_transform(y_true_encoded.reshape(-1, 1)).toarray()\n",
    "class_weights = []\n",
    "auc_list=[]\n",
    "# Compute AUC for the one-vs-rest (ovr) method for all classes\n",
    "ovr_aucs = {}\n",
    "for i in range(y_true_binarized.shape[1]):\n",
    "    auc = roc_auc_score(list(np.array(y_true_binarized)[:, i]), list(np.array(predictions_probs)[:, i]))\n",
    "    ovr_aucs[f\"Class {label_encoder.classes_[i]} vs Rest\"] = auc\n",
    "    auc_list.append(auc)\n",
    "    class_weights.append(np.sum(y_true == label_encoder.classes_[i]))\n",
    "print(\"One-vs-Rest AUC for each class:\")\n",
    "for class_label, auc in ovr_aucs.items():\n",
    "    print(f\"{class_label}: {auc}\")\n",
    "\n",
    "# Overall One-vs-Rest AUC\n",
    "overall_ovr_auc = roc_auc_score(y_true_binarized,predictions_probs, multi_class='ovr')\n",
    "print(f\"Overall One-vs-Rest AUC: {overall_ovr_auc}\")"
   ]
  },
  {
   "cell_type": "code",
   "execution_count": 109,
   "id": "41553268",
   "metadata": {},
   "outputs": [],
   "source": [
    "weighted_auc = np.average(auc_list, weights=class_weights)"
   ]
  },
  {
   "cell_type": "code",
   "execution_count": 110,
   "id": "55e8196c",
   "metadata": {},
   "outputs": [
    {
     "data": {
      "text/plain": [
       "0.6324023093530818"
      ]
     },
     "execution_count": 110,
     "metadata": {},
     "output_type": "execute_result"
    }
   ],
   "source": [
    "weighted_auc"
   ]
  },
  {
   "cell_type": "code",
   "execution_count": 111,
   "id": "99dd2c8f",
   "metadata": {},
   "outputs": [],
   "source": [
    "habs_prediction=pd.DataFrame({\"Truth\":list(y_true),\"Prediction\":list(predictions),\"Clearly positive\": list(np.array(predictions_probs)[:, 0]),\"Intermediate Negative\": list(np.array(predictions_probs)[:, 1]),\"Negative\": list(np.array(predictions_probs)[:, 2]),\"Weakly positive\": list(np.array(predictions_probs)[:, 3])})\n",
    "habs_prediction.to_csv(\"D:\\\\Research\\\\AD\\\\ADLLM\\\\ADNI process 9\\\\HABS-HD\\\\GB\\\\habs_testing_result_complete_meta_tau.csv\",index=False)"
   ]
  },
  {
   "cell_type": "code",
   "execution_count": null,
   "id": "8617ec9a",
   "metadata": {},
   "outputs": [],
   "source": []
  },
  {
   "cell_type": "code",
   "execution_count": 112,
   "id": "22ce3b95",
   "metadata": {},
   "outputs": [
    {
     "name": "stderr",
     "output_type": "stream",
     "text": [
      "C:\\Users\\25110\\AppData\\Local\\Temp/ipykernel_8032/3728062156.py:1: SettingWithCopyWarning: \n",
      "A value is trying to be set on a copy of a slice from a DataFrame.\n",
      "Try using .loc[row_indexer,col_indexer] = value instead\n",
      "\n",
      "See the caveats in the documentation: https://pandas.pydata.org/pandas-docs/stable/user_guide/indexing.html#returning-a-view-versus-a-copy\n",
      "  X_habs_subset['Amyloid beta 40 peptide in the blood plasma(pg/mL)']=-9999\n",
      "C:\\Users\\25110\\AppData\\Local\\Temp/ipykernel_8032/3728062156.py:2: SettingWithCopyWarning: \n",
      "A value is trying to be set on a copy of a slice from a DataFrame.\n",
      "Try using .loc[row_indexer,col_indexer] = value instead\n",
      "\n",
      "See the caveats in the documentation: https://pandas.pydata.org/pandas-docs/stable/user_guide/indexing.html#returning-a-view-versus-a-copy\n",
      "  X_habs_subset[\"Amyloid beta 42 peptide in the blood plasma(pg/mL)\"]=-9999\n",
      "C:\\Users\\25110\\AppData\\Local\\Temp/ipykernel_8032/3728062156.py:3: SettingWithCopyWarning: \n",
      "A value is trying to be set on a copy of a slice from a DataFrame.\n",
      "Try using .loc[row_indexer,col_indexer] = value instead\n",
      "\n",
      "See the caveats in the documentation: https://pandas.pydata.org/pandas-docs/stable/user_guide/indexing.html#returning-a-view-versus-a-copy\n",
      "  X_habs_subset[\"Tau protein concentration in the blood plasma(pg/mL)\"]=-9999\n",
      "C:\\Users\\25110\\AppData\\Local\\Temp/ipykernel_8032/3728062156.py:4: SettingWithCopyWarning: \n",
      "A value is trying to be set on a copy of a slice from a DataFrame.\n",
      "Try using .loc[row_indexer,col_indexer] = value instead\n",
      "\n",
      "See the caveats in the documentation: https://pandas.pydata.org/pandas-docs/stable/user_guide/indexing.html#returning-a-view-versus-a-copy\n",
      "  X_habs_subset[\"Phosphorylated tau protein in the blood plasma(pg/mL)\"]=-9999\n"
     ]
    }
   ],
   "source": [
    "X_habs_subset['Amyloid beta 40 peptide in the blood plasma(pg/mL)']=-9999\n",
    "X_habs_subset[\"Amyloid beta 42 peptide in the blood plasma(pg/mL)\"]=-9999 \n",
    "X_habs_subset[\"Tau protein concentration in the blood plasma(pg/mL)\"]=-9999\n",
    "X_habs_subset[\"Phosphorylated tau protein in the blood plasma(pg/mL)\"]=-9999\n"
   ]
  },
  {
   "cell_type": "code",
   "execution_count": 113,
   "id": "8f26f2ad",
   "metadata": {},
   "outputs": [
    {
     "data": {
      "text/plain": [
       "0     -9999\n",
       "1     -9999\n",
       "2     -9999\n",
       "3     -9999\n",
       "4     -9999\n",
       "       ... \n",
       "135   -9999\n",
       "143   -9999\n",
       "145   -9999\n",
       "166   -9999\n",
       "206   -9999\n",
       "Name: Phosphorylated tau protein in the blood plasma(pg/mL), Length: 90, dtype: int64"
      ]
     },
     "execution_count": 113,
     "metadata": {},
     "output_type": "execute_result"
    }
   ],
   "source": [
    "X_habs_subset[\"Phosphorylated tau protein in the blood plasma(pg/mL)\"]"
   ]
  },
  {
   "cell_type": "code",
   "execution_count": 114,
   "id": "51786366",
   "metadata": {},
   "outputs": [],
   "source": [
    "predictions = model_tau.predict(X_habs_subset)\n",
    "predictions_probs = model_tau.predict_proba(X_habs_subset)\n"
   ]
  },
  {
   "cell_type": "code",
   "execution_count": 115,
   "id": "59bb46ce",
   "metadata": {},
   "outputs": [
    {
     "data": {
      "image/png": "[encoded data removed]",
      "text/plain": [
       "<Figure size 576x432 with 2 Axes>"
      ]
     },
     "metadata": {
      "needs_background": "light"
     },
     "output_type": "display_data"
    }
   ],
   "source": [
    "import numpy as np\n",
    "import matplotlib.pyplot as plt\n",
    "import seaborn as sns\n",
    "from sklearn.metrics import confusion_matrix, ConfusionMatrixDisplay\n",
    "\n",
    "# Example true labels and predictions\n",
    "y_true = y_habs_subset\n",
    "y_pred =predictions\n",
    "\n",
    "\n",
    "\n",
    "desired_order = ['Very low', 'Low', 'High','Super high']\n",
    "# Filter out 'Unknown' class from both true and predicted labels\n",
    "\n",
    "\n",
    "# Compute the confusion matrix\n",
    "cm = confusion_matrix(y_true, y_pred, labels=desired_order)\n",
    "\n",
    "# Create a heatmap to visualize the confusion matrix\n",
    "plt.figure(figsize=(8, 6))\n",
    "sns.heatmap(cm, annot=True, fmt='d', cmap='Blues', xticklabels=desired_order, yticklabels=desired_order)\n",
    "plt.xlabel('Predicted Labels')\n",
    "plt.ylabel('True Labels')\n",
    "plt.title('Confusion Matrix')\n",
    "plt.show()"
   ]
  },
  {
   "cell_type": "code",
   "execution_count": 116,
   "id": "ab0d66b7",
   "metadata": {},
   "outputs": [
    {
     "name": "stdout",
     "output_type": "stream",
     "text": [
      "Weighted Sensitivity: 0.4333\n",
      "Weighted Specificity: 0.7236\n"
     ]
    }
   ],
   "source": [
    "# 初始化敏感性和特异性的列表\n",
    "sensitivities = []\n",
    "specificities = []\n",
    "class_weights = []\n",
    "\n",
    "# 遍历每个类别计算敏感性和特异性\n",
    "for i in range(len(cm)):\n",
    "    TP = cm[i, i]\n",
    "    FN = np.sum(cm[i, :]) - TP\n",
    "    FP = np.sum(cm[:, i]) - TP\n",
    "    TN = np.sum(cm) - (TP + FN + FP)\n",
    "    \n",
    "    sensitivity = TP / (TP + FN) if (TP + FN) > 0 else 0\n",
    "    specificity = TN / (TN + FP) if (TN + FP) > 0 else 0\n",
    "    \n",
    "    sensitivities.append(sensitivity)\n",
    "    specificities.append(specificity)\n",
    "    \n",
    "    # 权重为该类别的真实样本数\n",
    "    class_weights.append(TP + FN)\n",
    "\n",
    "# 计算加权平均敏感性和特异性\n",
    "weighted_sensitivity = np.average(sensitivities, weights=class_weights)\n",
    "weighted_specificity = np.average(specificities, weights=class_weights)\n",
    "\n",
    "print(f\"Weighted Sensitivity: {weighted_sensitivity:.4f}\")\n",
    "print(f\"Weighted Specificity: {weighted_specificity:.4f}\")"
   ]
  },
  {
   "cell_type": "code",
   "execution_count": 117,
   "id": "8c6b28e4",
   "metadata": {},
   "outputs": [
    {
     "name": "stdout",
     "output_type": "stream",
     "text": [
      "One-vs-Rest AUC for each class:\n",
      "Class High vs Rest: 0.6358024691358024\n",
      "Class Low vs Rest: 0.4808565866320571\n",
      "Class Super high vs Rest: 0.6646959459459459\n",
      "Class Very low vs Rest: 0.7198298777246146\n",
      "Overall One-vs-Rest AUC: 0.625296219859605\n"
     ]
    }
   ],
   "source": [
    "from sklearn.preprocessing import LabelEncoder, OneHotEncoder\n",
    "from sklearn.metrics import roc_auc_score, precision_recall_fscore_support, roc_curve, auc\n",
    "from sklearn.preprocessing import label_binarize\n",
    "import numpy as np\n",
    "from sklearn.preprocessing import LabelEncoder, OneHotEncoder\n",
    "\n",
    "label_encoder = LabelEncoder()\n",
    "y_true_encoded = label_encoder.fit_transform(y_true)\n",
    "\n",
    "# Binarize the output\n",
    "one_hot_encoder = OneHotEncoder()\n",
    "y_true_binarized = one_hot_encoder.fit_transform(y_true_encoded.reshape(-1, 1)).toarray()\n",
    "class_weights = []\n",
    "auc_list=[]\n",
    "# Compute AUC for the one-vs-rest (ovr) method for all classes\n",
    "ovr_aucs = {}\n",
    "for i in range(y_true_binarized.shape[1]):\n",
    "    auc = roc_auc_score(list(np.array(y_true_binarized)[:, i]), list(np.array(predictions_probs)[:, i]))\n",
    "    ovr_aucs[f\"Class {label_encoder.classes_[i]} vs Rest\"] = auc\n",
    "    auc_list.append(auc)\n",
    "    class_weights.append(np.sum(y_true == label_encoder.classes_[i]))\n",
    "print(\"One-vs-Rest AUC for each class:\")\n",
    "for class_label, auc in ovr_aucs.items():\n",
    "    print(f\"{class_label}: {auc}\")\n",
    "\n",
    "# Overall One-vs-Rest AUC\n",
    "overall_ovr_auc = roc_auc_score(y_true_binarized,predictions_probs, multi_class='ovr')\n",
    "print(f\"Overall One-vs-Rest AUC: {overall_ovr_auc}\")"
   ]
  },
  {
   "cell_type": "code",
   "execution_count": 118,
   "id": "1bb274e3",
   "metadata": {},
   "outputs": [],
   "source": [
    "weighted_auc = np.average(auc_list, weights=class_weights)"
   ]
  },
  {
   "cell_type": "code",
   "execution_count": 119,
   "id": "8e3a08f9",
   "metadata": {},
   "outputs": [
    {
     "data": {
      "text/plain": [
       "0.6321518559669909"
      ]
     },
     "execution_count": 119,
     "metadata": {},
     "output_type": "execute_result"
    }
   ],
   "source": [
    "weighted_auc"
   ]
  },
  {
   "cell_type": "code",
   "execution_count": 120,
   "id": "ce253fd2",
   "metadata": {},
   "outputs": [],
   "source": [
    "habs_prediction=pd.DataFrame({\"Truth\":list(y_true),\"Prediction\":list(predictions),\"Clearly positive\": list(np.array(predictions_probs)[:, 0]),\"Intermediate Negative\": list(np.array(predictions_probs)[:, 1]),\"Negative\": list(np.array(predictions_probs)[:, 2]),\"Weakly positive\": list(np.array(predictions_probs)[:, 3])})\n",
    "habs_prediction.to_csv(\"D:\\\\Research\\\\AD\\\\ADLLM\\\\ADNI process 9\\\\HABS-HD\\\\GB\\\\habs_testing_result_incomplete_meta_tau.csv\",index=False)"
   ]
  },
  {
   "cell_type": "code",
   "execution_count": null,
   "id": "e46a28ff",
   "metadata": {},
   "outputs": [],
   "source": []
  },
  {
   "cell_type": "code",
   "execution_count": null,
   "id": "e265afa3",
   "metadata": {},
   "outputs": [],
   "source": []
  }
 ],
 "metadata": {
  "kernelspec": {
   "display_name": "Python 3 (ipykernel)",
   "language": "python",
   "name": "python3"
  },
  "language_info": {
   "codemirror_mode": {
    "name": "ipython",
    "version": 3
   },
   "file_extension": ".py",
   "mimetype": "text/x-python",
   "name": "python",
   "nbconvert_exporter": "python",
   "pygments_lexer": "ipython3",
   "version": "3.9.7"
  }
 },
 "nbformat": 4,
 "nbformat_minor": 5
}
